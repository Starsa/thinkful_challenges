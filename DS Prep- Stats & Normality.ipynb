{
 "cells": [
  {
   "cell_type": "code",
   "execution_count": 1,
   "metadata": {
    "scrolled": true
   },
   "outputs": [
    {
     "data": {
      "image/png": "[encoded data removed]",
      "text/plain": [
       "<Figure size 432x288 with 1 Axes>"
      ]
     },
     "metadata": {
      "needs_background": "light"
     },
     "output_type": "display_data"
    },
    {
     "name": "stdout",
     "output_type": "stream",
     "text": [
      "mean:  4.97\n",
      "standard deviation:  2.061944752319073\n"
     ]
    }
   ],
   "source": [
    "import numpy as np\n",
    "import pandas as pd\n",
    "import matplotlib.pyplot as plt\n",
    "%matplotlib inline\n",
    "fishy_vars = np.random.poisson(5, 100)\n",
    "\n",
    "plt.hist(fishy_vars, bins=10, color = 'c')\n",
    "plt.axvline(fishy_vars.mean(), color='b', linestyle='solid', linewidth=2)\n",
    "plt.axvline(fishy_vars.mean() + fishy_vars.std(), color='b', linestyle='dashed', linewidth=2)\n",
    "plt.axvline(fishy_vars.mean() - fishy_vars.std(), color='b', linestyle='dashed', linewidth=2)\n",
    "plt.show()\n",
    "\n",
    "print(\"mean: \", fishy_vars.mean())\n",
    "print(\"standard deviation: \", fishy_vars.std(ddof=1))"
   ]
  },
  {
   "cell_type": "markdown",
   "metadata": {},
   "source": []
  },
  {
   "cell_type": "code",
   "execution_count": 8,
   "metadata": {},
   "outputs": [
    {
     "data": {
      "image/png": "[encoded data removed]",
      "text/plain": [
       "<Figure size 432x288 with 1 Axes>"
      ]
     },
     "metadata": {
      "needs_background": "light"
     },
     "output_type": "display_data"
    },
    {
     "name": "stdout",
     "output_type": "stream",
     "text": [
      "mean:  10.136296508545131\n",
      "median:  10.21299546924001\n",
      "standard deviation:  1.562577083093656\n"
     ]
    }
   ],
   "source": [
    "travel_vars = np.random.logistic(10, 1, 100)\n",
    "\n",
    "plt.hist(travel_vars, bins=10, color = 'c')\n",
    "plt.axvline(travel_vars.mean(), color='b', linestyle='solid', linewidth=2)\n",
    "plt.axvline(travel_vars.mean() + travel_vars.std(), color='b', linestyle='dashed', linewidth=2)\n",
    "plt.axvline(travel_vars.mean() - travel_vars.std(), color='b', linestyle='dashed', linewidth=2)\n",
    "plt.show()\n",
    "print(\"mean: \", travel_vars.mean())\n",
    "print(\"standard deviation: \", travel_vars.std(ddof=1))"
   ]
  },
  {
   "cell_type": "markdown",
   "metadata": {},
   "source": [
    "This is kind of skewed but "
   ]
  },
  {
   "cell_type": "code",
   "execution_count": 9,
   "metadata": {},
   "outputs": [
    {
     "data": {
      "image/png": "[encoded data removed]",
      "text/plain": [
       "<Figure size 432x288 with 1 Axes>"
      ]
     },
     "metadata": {
      "needs_background": "light"
     },
     "output_type": "display_data"
    },
    {
     "name": "stdout",
     "output_type": "stream",
     "text": [
      "mean:  14.888445303356058\n",
      "standard deviation:  1.0846438854975409\n"
     ]
    }
   ],
   "source": [
    "import numpy as np\n",
    "import pandas as pd\n",
    "import matplotlib.pyplot as plt\n",
    "%matplotlib inline\n",
    "erste = np.random.normal(5, .5, 100)\n",
    "zweite = np.random.normal(10,1, 100)\n",
    "dritte = erste + zweite\n",
    "\n",
    "\n",
    "plt.hist(dritte, color = 'c')\n",
    "plt.axvline(dritte.mean(), color='b', linestyle='solid', linewidth=2)\n",
    "plt.axvline(dritte.mean() + dritte.std(), color='b', linestyle='dashed', linewidth=2)\n",
    "plt.axvline(dritte.mean() - dritte.std(), color='b', linestyle='dashed', linewidth=2)\n",
    "plt.show()\n",
    "\n",
    "print(\"mean: \", dritte.mean())\n",
    "print(\"standard deviation: \", dritte.std(ddof=1))"
   ]
  },
  {
   "cell_type": "markdown",
   "metadata": {},
   "source": [
    "This is a little skewed"
   ]
  }
 ],
 "metadata": {
  "kernelspec": {
   "display_name": "Python 3",
   "language": "python",
   "name": "python3"
  },
  "language_info": {
   "codemirror_mode": {
    "name": "ipython",
    "version": 3
   },
   "file_extension": ".py",
   "mimetype": "text/x-python",
   "name": "python",
   "nbconvert_exporter": "python",
   "pygments_lexer": "ipython3",
   "version": "3.7.1"
  }
 },
 "nbformat": 4,
 "nbformat_minor": 2
}
