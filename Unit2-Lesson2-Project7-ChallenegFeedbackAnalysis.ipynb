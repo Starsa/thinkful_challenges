{
 "cells": [
  {
   "cell_type": "markdown",
   "metadata": {},
   "source": [
    " Unit 2- Lesson 2- Project 7\n",
    " "
   ]
  },
  {
   "cell_type": "markdown",
   "metadata": {},
   "source": [
    "### Challenge: Feedback Analysis\n",
    "\n",
    "Pick one of the company data files and build your own classifier. When you're satisfied with its performance (at this point just using the accuracy measure shown in the example), test it on one of the other datasets to see how well these kinds of classifiers translate from one context to another.\n",
    "\n",
    "Include your model and a brief writeup of your feature engineering and selection process to submit and review with your mentor."
   ]
  },
  {
   "cell_type": "code",
   "execution_count": 1,
   "metadata": {
    "ExecuteTime": {
     "end_time": "2019-03-17T03:02:18.489551Z",
     "start_time": "2019-03-17T03:02:17.290642Z"
    }
   },
   "outputs": [],
   "source": [
    "#import python packages\n",
    "%matplotlib inline\n",
    "import numpy as np\n",
    "import pandas as pd\n",
    "import scipy\n",
    "import sklearn\n",
    "import matplotlib.pyplot as plt\n",
    "import seaborn as sns"
   ]
  },
  {
   "cell_type": "code",
   "execution_count": 2,
   "metadata": {
    "ExecuteTime": {
     "end_time": "2019-03-17T03:02:18.510138Z",
     "start_time": "2019-03-17T03:02:18.493474Z"
    }
   },
   "outputs": [],
   "source": [
    "# import the data from amazon and label comlumns\n",
    "data_file = (\"amazon_cells_labelled.txt\")\n",
    "amz_snt = pd.read_csv(data_file, delimiter= '\\t', header=None)\n",
    "amz_snt.columns = ['message','sentiment']"
   ]
  },
  {
   "cell_type": "code",
   "execution_count": 4,
   "metadata": {
    "ExecuteTime": {
     "end_time": "2019-03-17T03:02:18.583418Z",
     "start_time": "2019-03-17T03:02:18.561570Z"
    }
   },
   "outputs": [],
   "source": [
    "#find keywords for sentiment\n",
    "keywords = [ 'love' , 'great', 'very', 'happy', 'excellent', 'highly' , 'amazing' , 'terrible' , 'awful' , 'never']\n",
    "\n",
    "for key in keywords:\n",
    "    amz_snt[str(key)] = amz_snt.message.str.contains(' ' + str(key) + ' ', case=False)"
   ]
  },
  {
   "cell_type": "code",
   "execution_count": 7,
   "metadata": {
    "ExecuteTime": {
     "end_time": "2019-03-17T03:02:18.636053Z",
     "start_time": "2019-03-17T03:02:18.631076Z"
    }
   },
   "outputs": [],
   "source": [
    "#consider 'allcaps' for sentiment\n",
    "amz_snt['allcaps'] = amz_snt.message.str.isupper()"
   ]
  },
  {
   "cell_type": "code",
   "execution_count": 8,
   "metadata": {
    "ExecuteTime": {
     "end_time": "2019-03-17T03:02:18.644563Z",
     "start_time": "2019-03-17T03:02:18.638426Z"
    }
   },
   "outputs": [],
   "source": [
    "#values for 'positive' and 'neative' were predefined set to boolean\n",
    "amz_snt['positive'] = (amz_snt['sentiment'] == 1)\n",
    "amz_snt['negative'] = (amz_snt['sentiment'] == 0)\n"
   ]
  },
  {
   "cell_type": "code",
   "execution_count": 9,
   "metadata": {
    "ExecuteTime": {
     "end_time": "2019-03-17T03:02:18.657727Z",
     "start_time": "2019-03-17T03:02:18.646882Z"
    }
   },
   "outputs": [
    {
     "name": "stdout",
     "output_type": "stream",
     "text": [
      "<class 'pandas.core.frame.DataFrame'>\n",
      "RangeIndex: 1000 entries, 0 to 999\n",
      "Data columns (total 15 columns):\n",
      "message      1000 non-null object\n",
      "sentiment    1000 non-null int64\n",
      "love         1000 non-null bool\n",
      "great        1000 non-null bool\n",
      "very         1000 non-null bool\n",
      "happy        1000 non-null bool\n",
      "excellent    1000 non-null bool\n",
      "highly       1000 non-null bool\n",
      "amazing      1000 non-null bool\n",
      "terrible     1000 non-null bool\n",
      "awful        1000 non-null bool\n",
      "never        1000 non-null bool\n",
      "allcaps      1000 non-null bool\n",
      "positive     1000 non-null bool\n",
      "negative     1000 non-null bool\n",
      "dtypes: bool(13), int64(1), object(1)\n",
      "memory usage: 28.4+ KB\n"
     ]
    }
   ],
   "source": [
    "amz_snt.info()"
   ]
  },
  {
   "cell_type": "code",
   "execution_count": 10,
   "metadata": {
    "ExecuteTime": {
     "end_time": "2019-03-17T03:02:19.091500Z",
     "start_time": "2019-03-17T03:02:18.660510Z"
    }
   },
   "outputs": [
    {
     "data": {
      "text/plain": [
       "<matplotlib.axes._subplots.AxesSubplot at 0x12549a518>"
      ]
     },
     "execution_count": 10,
     "metadata": {},
     "output_type": "execute_result"
    },
    {
     "data": {
      "image/png": "[encoded data removed]",
      "text/plain": [
       "<Figure size 432x288 with 2 Axes>"
      ]
     },
     "metadata": {
      "needs_background": "light"
     },
     "output_type": "display_data"
    }
   ],
   "source": [
    "#visualize the data\n",
    "sns.heatmap(amz_snt.corr())"
   ]
  },
  {
   "cell_type": "code",
   "execution_count": 11,
   "metadata": {
    "ExecuteTime": {
     "end_time": "2019-03-17T03:02:19.097951Z",
     "start_time": "2019-03-17T03:02:19.093874Z"
    }
   },
   "outputs": [],
   "source": [
    "#define target and data\n",
    "data_amz = amz_snt[keywords]\n",
    "target = amz_snt['sentiment']"
   ]
  },
  {
   "cell_type": "code",
   "execution_count": 12,
   "metadata": {
    "ExecuteTime": {
     "end_time": "2019-03-17T03:02:19.142615Z",
     "start_time": "2019-03-17T03:02:19.100583Z"
    }
   },
   "outputs": [
    {
     "name": "stdout",
     "output_type": "stream",
     "text": [
      "Number of mislabeled points out of a total 1000 points : 403\n"
     ]
    }
   ],
   "source": [
    "#accu\n",
    "\n",
    "from sklearn.naive_bayes import BernoulliNB\n",
    "\n",
    "# Instantiate  model and store it in a new variable.\n",
    "bnb = BernoulliNB()\n",
    "\n",
    "# Fit model to the data.\n",
    "bnb.fit(data_amz, target)\n",
    "\n",
    "# Classify, storing the result in a new variable.\n",
    "y_pred = bnb.predict(data_amz)\n",
    "\n",
    "# Display our results.\n",
    "print(\"Number of mislabeled points out of a total {} points : {}\".format(\n",
    "    data_amz.shape[0],\n",
    "    (target != y_pred).sum()\n",
    "))"
   ]
  },
  {
   "cell_type": "code",
   "execution_count": 13,
   "metadata": {
    "ExecuteTime": {
     "end_time": "2019-03-17T03:05:30.238079Z",
     "start_time": "2019-03-17T03:05:30.229392Z"
    }
   },
   "outputs": [],
   "source": [
    "data_file = (\"yelp_labelled.txt\")\n",
    "yp_snt = pd.read_csv(data_file, delimiter= '\\t', header=None)\n",
    "yp_snt.columns = ['message','sentiment']"
   ]
  },
  {
   "cell_type": "code",
   "execution_count": 15,
   "metadata": {
    "ExecuteTime": {
     "end_time": "2019-03-17T03:06:31.787949Z",
     "start_time": "2019-03-17T03:06:31.767716Z"
    }
   },
   "outputs": [],
   "source": [
    "for key in keywords:\n",
    "   yp_snt[str(key)] = yp_snt.message.str.contains(' ' + str(key) + ' ', case=False)"
   ]
  },
  {
   "cell_type": "code",
   "execution_count": 16,
   "metadata": {
    "ExecuteTime": {
     "end_time": "2019-03-17T03:07:10.962413Z",
     "start_time": "2019-03-17T03:07:10.957788Z"
    }
   },
   "outputs": [],
   "source": [
    "yp_snt['allcaps'] = yp_snt.message.str.isupper()"
   ]
  },
  {
   "cell_type": "code",
   "execution_count": 17,
   "metadata": {
    "ExecuteTime": {
     "end_time": "2019-03-17T03:07:53.954108Z",
     "start_time": "2019-03-17T03:07:53.948197Z"
    }
   },
   "outputs": [],
   "source": [
    "yp_snt['positive'] = (yp_snt['sentiment'] == 1)\n",
    "yp_snt['negative'] = (yp_snt['sentiment'] == 0)"
   ]
  },
  {
   "cell_type": "code",
   "execution_count": 19,
   "metadata": {
    "ExecuteTime": {
     "end_time": "2019-03-17T03:08:26.121615Z",
     "start_time": "2019-03-17T03:08:25.707051Z"
    }
   },
   "outputs": [
    {
     "data": {
      "text/plain": [
       "<matplotlib.axes._subplots.AxesSubplot at 0x1284684a8>"
      ]
     },
     "execution_count": 19,
     "metadata": {},
     "output_type": "execute_result"
    },
    {
     "data": {
      "image/png": "[encoded data removed]",
      "text/plain": [
       "<Figure size 432x288 with 2 Axes>"
      ]
     },
     "metadata": {
      "needs_background": "light"
     },
     "output_type": "display_data"
    }
   ],
   "source": [
    "sns.heatmap(yp_snt.corr())"
   ]
  },
  {
   "cell_type": "code",
   "execution_count": 21,
   "metadata": {
    "ExecuteTime": {
     "end_time": "2019-03-17T03:10:35.809411Z",
     "start_time": "2019-03-17T03:10:35.805760Z"
    }
   },
   "outputs": [],
   "source": [
    "data_yp = yp_snt[keywords]\n",
    "yp_target = yp_snt['sentiment']"
   ]
  },
  {
   "cell_type": "code",
   "execution_count": 22,
   "metadata": {
    "ExecuteTime": {
     "end_time": "2019-03-17T03:10:36.437959Z",
     "start_time": "2019-03-17T03:10:36.429135Z"
    }
   },
   "outputs": [
    {
     "name": "stdout",
     "output_type": "stream",
     "text": [
      "Number of mislabeled points out of a total 1000 points : 419\n"
     ]
    }
   ],
   "source": [
    "from sklearn.naive_bayes import BernoulliNB\n",
    "\n",
    "# Instantiate  model and store it in a new variable.\n",
    "yp_bnb = BernoulliNB()\n",
    "\n",
    "# Fit model to the data.\n",
    "yp_bnb.fit(data_yp, yp_target)\n",
    "\n",
    "# Classify, storing the result in a new variable.\n",
    "yp_y_pred = yp_bnb.predict(data_yp)\n",
    "\n",
    "# Display our results.\n",
    "print(\"Number of mislabeled points out of a total {} points : {}\".format(\n",
    "    data_yp.shape[0],\n",
    "    (yp_target != yp_y_pred).sum()\n",
    "))"
   ]
  },
  {
   "cell_type": "code",
   "execution_count": null,
   "metadata": {},
   "outputs": [],
   "source": []
  }
 ],
 "metadata": {
  "kernelspec": {
   "display_name": "Python 3",
   "language": "python",
   "name": "python3"
  },
  "language_info": {
   "codemirror_mode": {
    "name": "ipython",
    "version": 3
   },
   "file_extension": ".py",
   "mimetype": "text/x-python",
   "name": "python",
   "nbconvert_exporter": "python",
   "pygments_lexer": "ipython3",
   "version": "3.7.1"
  },
  "toc": {
   "base_numbering": 1,
   "nav_menu": {},
   "number_sections": true,
   "sideBar": true,
   "skip_h1_title": false,
   "title_cell": "Table of Contents",
   "title_sidebar": "Contents",
   "toc_cell": false,
   "toc_position": {},
   "toc_section_display": true,
   "toc_window_display": false
  }
 },
 "nbformat": 4,
 "nbformat_minor": 2
}
