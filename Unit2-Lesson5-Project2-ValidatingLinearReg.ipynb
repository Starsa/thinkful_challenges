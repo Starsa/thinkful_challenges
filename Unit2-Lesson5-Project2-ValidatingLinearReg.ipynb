{
 "cells": [
  {
   "cell_type": "markdown",
   "metadata": {},
   "source": [
    "Unit 2- Lesson 5- Project 2"
   ]
  },
  {
   "cell_type": "markdown",
   "metadata": {
    "heading_collapsed": true
   },
   "source": [
    "## Challenge: Validating a linear regression\n",
    "\n",
    "Validating regression models for prediction\n",
    "Statistical tests are useful for making sure a model is a good fit to the test data, and that all the features are useful to the model. However, to make sure a model has good predictive validity for new data, it is necessary to assess the performance of the model on new datasets.\n",
    "\n",
    "The procedure is the same as what you learned in the Naive Bayes lesson – the holdout method and cross-validation method are both available. You've already had experience writing code to run these kinds of validation models for Naive Bayes: now you can try it again with linear regression. In this case, your goal is to achieve a model with a consistent R2 and only statistically significant parameters across multiple samples.\n",
    "\n",
    "We'll use the property crime model you've been working on with, based on the FBI:UCR data. Since your model formulation to date has used the entire New York State 2013 dataset, you'll need to validate it using some of the other crime datasets available at the FBI:UCR website. Options include other states crime rates in 2013 or crime rates in New York State in other years or a combination of these.\n",
    "\n",
    "Iterate\n",
    "Based on the results of your validation test, create a revised model, and then test both old and new models on a new holdout or set of folds.\n",
    "\n",
    "Include your model(s) and a brief writeup of the reasoning behind the validation method you chose and the changes you made to submit and review with your mentor.\n",
    "\n"
   ]
  },
  {
   "cell_type": "markdown",
   "metadata": {},
   "source": [
    "## Import Data and clean"
   ]
  },
  {
   "cell_type": "code",
   "execution_count": 1,
   "metadata": {
    "ExecuteTime": {
     "end_time": "2019-04-07T13:58:12.827038Z",
     "start_time": "2019-04-07T13:58:11.906806Z"
    }
   },
   "outputs": [],
   "source": [
    "# Import necessary modules\n",
    "import pandas as pd\n",
    "import matplotlib.pyplot as plt\n",
    "import numpy as np\n",
    "import seaborn as sns\n",
    "from sklearn.linear_model import LinearRegression\n",
    "import statsmodels.formula.api as smf\n",
    "from statsmodels.sandbox.regression.predstd import wls_prediction_std\n",
    "from sklearn.metrics import mean_squared_error\n",
    "from sklearn.model_selection import train_test_split\n",
    "from sklearn.model_selection import cross_val_score\n",
    "\n",
    "\n",
    "%matplotlib inline\n",
    "sns.set_style('white')"
   ]
  },
  {
   "cell_type": "code",
   "execution_count": 2,
   "metadata": {
    "ExecuteTime": {
     "end_time": "2019-04-07T13:58:12.876568Z",
     "start_time": "2019-04-07T13:58:12.830708Z"
    }
   },
   "outputs": [],
   "source": [
    "#read in the excel file\n",
    "df = pd.read_excel ('table_8_offenses_known_to_law_enforcement_new_york_by_city_2013.xls')"
   ]
  },
  {
   "cell_type": "code",
   "execution_count": 3,
   "metadata": {
    "ExecuteTime": {
     "end_time": "2019-04-07T13:58:12.883499Z",
     "start_time": "2019-04-07T13:58:12.878644Z"
    }
   },
   "outputs": [],
   "source": [
    "#The top few rows of the data fram are blank, drop the blank rows and locate the column titles\n",
    "#Then reset the index\n",
    "df_nypd = df.drop([0,1,2, 3])\n",
    "df_nypd.columns = df.iloc[3]\n",
    "df_nypd= df_nypd.reset_index(drop=True)"
   ]
  },
  {
   "cell_type": "code",
   "execution_count": 4,
   "metadata": {
    "ExecuteTime": {
     "end_time": "2019-04-07T13:58:12.892576Z",
     "start_time": "2019-04-07T13:58:12.887110Z"
    }
   },
   "outputs": [],
   "source": [
    "#Clean up the column titles for quick acces and itteration\n",
    "df_nypd.columns = df_nypd.columns.str.strip().str.lower().str.replace(' ','_').str.replace('(', '').str.replace(')','').str.replace('\\n', '_')\n"
   ]
  },
  {
   "cell_type": "code",
   "execution_count": 5,
   "metadata": {
    "ExecuteTime": {
     "end_time": "2019-04-07T13:58:12.908866Z",
     "start_time": "2019-04-07T13:58:12.896540Z"
    }
   },
   "outputs": [],
   "source": [
    "#Replace missing values with 0's or mean from column\n",
    "df_nypd.loc[df_nypd['murder_and_nonnegligent_manslaughter'].isna(), 'murder_and_nonnegligent_manslaughter'] =0\n",
    "df_nypd.loc[df_nypd['robbery'].isna(), 'robbery'] =0\n",
    "df_nypd['population'] = df_nypd.population.fillna(df_nypd.population.mean())\n",
    "df_nypd['property_crime'] = df_nypd.property_crime.fillna(df_nypd.property_crime.mean())"
   ]
  },
  {
   "cell_type": "code",
   "execution_count": 6,
   "metadata": {
    "ExecuteTime": {
     "end_time": "2019-04-07T13:58:12.914076Z",
     "start_time": "2019-04-07T13:58:12.911044Z"
    }
   },
   "outputs": [],
   "source": [
    "#last three rows are blank/null remove them from data set\n",
    "df_nypd = df_nypd[:-3] "
   ]
  },
  {
   "cell_type": "code",
   "execution_count": 7,
   "metadata": {
    "ExecuteTime": {
     "end_time": "2019-04-07T13:58:12.954828Z",
     "start_time": "2019-04-07T13:58:12.916975Z"
    }
   },
   "outputs": [],
   "source": [
    "#read in second data set from 2014\n",
    "df2 = pd.read_excel('Table_8_Offenses_Known_to_Law_Enforcement_by_New_York_by_City_2014.xls')"
   ]
  },
  {
   "cell_type": "code",
   "execution_count": 8,
   "metadata": {
    "ExecuteTime": {
     "end_time": "2019-04-07T13:58:12.962379Z",
     "start_time": "2019-04-07T13:58:12.957013Z"
    }
   },
   "outputs": [],
   "source": [
    "#repeat the process- locate column title rows and drop blanks, then reset index\n",
    "df_14 = df2.drop([0,1,2,3])\n",
    "df_14.columns = df2.iloc[3]\n",
    "df_14 = df_14.reset_index(drop=True)"
   ]
  },
  {
   "cell_type": "code",
   "execution_count": 9,
   "metadata": {
    "ExecuteTime": {
     "end_time": "2019-04-07T13:58:12.967412Z",
     "start_time": "2019-04-07T13:58:12.964477Z"
    }
   },
   "outputs": [],
   "source": [
    "#drop blank rows from the end of the data set\n",
    "df_14 = df_14[:-7]"
   ]
  },
  {
   "cell_type": "code",
   "execution_count": 10,
   "metadata": {
    "ExecuteTime": {
     "end_time": "2019-04-07T13:58:12.975642Z",
     "start_time": "2019-04-07T13:58:12.970387Z"
    }
   },
   "outputs": [],
   "source": [
    "#clean the column titles for quick iterations\n",
    "df_14.columns = df_14.columns.str.strip().str.lower().str.replace(' ', '_').str.replace('(', '').str.replace(')', '').str.replace('\\n', '_')"
   ]
  },
  {
   "cell_type": "code",
   "execution_count": 47,
   "metadata": {
    "ExecuteTime": {
     "end_time": "2019-04-07T16:08:13.344319Z",
     "start_time": "2019-04-07T16:08:13.339764Z"
    }
   },
   "outputs": [],
   "source": [
    "#removed New York from data set as an outlier (even though it is where I live and I would like to be inclusive, it deserves its own model)\n",
    "df_nypd= df_nypd.loc[df_nypd['city'] != 'New York']\n",
    "\n"
   ]
  },
  {
   "cell_type": "code",
   "execution_count": 48,
   "metadata": {
    "ExecuteTime": {
     "end_time": "2019-04-07T16:08:14.206027Z",
     "start_time": "2019-04-07T16:08:14.174899Z"
    }
   },
   "outputs": [
    {
     "data": {
      "text/html": [
       "<div>\n",
       "<style scoped>\n",
       "    .dataframe tbody tr th:only-of-type {\n",
       "        vertical-align: middle;\n",
       "    }\n",
       "\n",
       "    .dataframe tbody tr th {\n",
       "        vertical-align: top;\n",
       "    }\n",
       "\n",
       "    .dataframe thead th {\n",
       "        text-align: right;\n",
       "    }\n",
       "</style>\n",
       "<table border=\"1\" class=\"dataframe\">\n",
       "  <thead>\n",
       "    <tr style=\"text-align: right;\">\n",
       "      <th>3</th>\n",
       "      <th>city</th>\n",
       "      <th>population</th>\n",
       "      <th>violent_crime</th>\n",
       "      <th>murder_and_nonnegligent_manslaughter</th>\n",
       "      <th>rape_revised_definition1</th>\n",
       "      <th>rape_legacy_definition2</th>\n",
       "      <th>robbery</th>\n",
       "      <th>aggravated_assault</th>\n",
       "      <th>property_crime</th>\n",
       "      <th>burglary</th>\n",
       "      <th>larceny-_theft</th>\n",
       "      <th>motor_vehicle_theft</th>\n",
       "      <th>arson3</th>\n",
       "    </tr>\n",
       "  </thead>\n",
       "  <tbody>\n",
       "    <tr>\n",
       "      <th>0</th>\n",
       "      <td>Adams Village</td>\n",
       "      <td>1861.0</td>\n",
       "      <td>0</td>\n",
       "      <td>0</td>\n",
       "      <td>NaN</td>\n",
       "      <td>0</td>\n",
       "      <td>0</td>\n",
       "      <td>0</td>\n",
       "      <td>12.0</td>\n",
       "      <td>2</td>\n",
       "      <td>10</td>\n",
       "      <td>0</td>\n",
       "      <td>0</td>\n",
       "    </tr>\n",
       "    <tr>\n",
       "      <th>1</th>\n",
       "      <td>Addison Town and Village</td>\n",
       "      <td>2577.0</td>\n",
       "      <td>3</td>\n",
       "      <td>0</td>\n",
       "      <td>NaN</td>\n",
       "      <td>0</td>\n",
       "      <td>0</td>\n",
       "      <td>3</td>\n",
       "      <td>24.0</td>\n",
       "      <td>3</td>\n",
       "      <td>20</td>\n",
       "      <td>1</td>\n",
       "      <td>0</td>\n",
       "    </tr>\n",
       "    <tr>\n",
       "      <th>2</th>\n",
       "      <td>Akron Village</td>\n",
       "      <td>2846.0</td>\n",
       "      <td>3</td>\n",
       "      <td>0</td>\n",
       "      <td>NaN</td>\n",
       "      <td>0</td>\n",
       "      <td>0</td>\n",
       "      <td>3</td>\n",
       "      <td>16.0</td>\n",
       "      <td>1</td>\n",
       "      <td>15</td>\n",
       "      <td>0</td>\n",
       "      <td>0</td>\n",
       "    </tr>\n",
       "    <tr>\n",
       "      <th>3</th>\n",
       "      <td>Albany</td>\n",
       "      <td>97956.0</td>\n",
       "      <td>791</td>\n",
       "      <td>8</td>\n",
       "      <td>NaN</td>\n",
       "      <td>30</td>\n",
       "      <td>227</td>\n",
       "      <td>526</td>\n",
       "      <td>4090.0</td>\n",
       "      <td>705</td>\n",
       "      <td>3243</td>\n",
       "      <td>142</td>\n",
       "      <td>NaN</td>\n",
       "    </tr>\n",
       "    <tr>\n",
       "      <th>4</th>\n",
       "      <td>Albion Village</td>\n",
       "      <td>6388.0</td>\n",
       "      <td>23</td>\n",
       "      <td>0</td>\n",
       "      <td>NaN</td>\n",
       "      <td>3</td>\n",
       "      <td>4</td>\n",
       "      <td>16</td>\n",
       "      <td>223.0</td>\n",
       "      <td>53</td>\n",
       "      <td>165</td>\n",
       "      <td>5</td>\n",
       "      <td>NaN</td>\n",
       "    </tr>\n",
       "    <tr>\n",
       "      <th>5</th>\n",
       "      <td>Alfred Village</td>\n",
       "      <td>4089.0</td>\n",
       "      <td>5</td>\n",
       "      <td>0</td>\n",
       "      <td>NaN</td>\n",
       "      <td>0</td>\n",
       "      <td>3</td>\n",
       "      <td>2</td>\n",
       "      <td>46.0</td>\n",
       "      <td>10</td>\n",
       "      <td>36</td>\n",
       "      <td>0</td>\n",
       "      <td>NaN</td>\n",
       "    </tr>\n",
       "    <tr>\n",
       "      <th>6</th>\n",
       "      <td>Allegany Village</td>\n",
       "      <td>1781.0</td>\n",
       "      <td>3</td>\n",
       "      <td>0</td>\n",
       "      <td>NaN</td>\n",
       "      <td>0</td>\n",
       "      <td>0</td>\n",
       "      <td>3</td>\n",
       "      <td>10.0</td>\n",
       "      <td>0</td>\n",
       "      <td>10</td>\n",
       "      <td>0</td>\n",
       "      <td>0</td>\n",
       "    </tr>\n",
       "    <tr>\n",
       "      <th>7</th>\n",
       "      <td>Amherst Town</td>\n",
       "      <td>118296.0</td>\n",
       "      <td>107</td>\n",
       "      <td>1</td>\n",
       "      <td>NaN</td>\n",
       "      <td>7</td>\n",
       "      <td>31</td>\n",
       "      <td>68</td>\n",
       "      <td>2118.0</td>\n",
       "      <td>204</td>\n",
       "      <td>1882</td>\n",
       "      <td>32</td>\n",
       "      <td>3</td>\n",
       "    </tr>\n",
       "    <tr>\n",
       "      <th>8</th>\n",
       "      <td>Amityville Village</td>\n",
       "      <td>9519.0</td>\n",
       "      <td>9</td>\n",
       "      <td>0</td>\n",
       "      <td>NaN</td>\n",
       "      <td>2</td>\n",
       "      <td>4</td>\n",
       "      <td>3</td>\n",
       "      <td>210.0</td>\n",
       "      <td>16</td>\n",
       "      <td>188</td>\n",
       "      <td>6</td>\n",
       "      <td>1</td>\n",
       "    </tr>\n",
       "    <tr>\n",
       "      <th>9</th>\n",
       "      <td>Amsterdam</td>\n",
       "      <td>18182.0</td>\n",
       "      <td>30</td>\n",
       "      <td>0</td>\n",
       "      <td>NaN</td>\n",
       "      <td>0</td>\n",
       "      <td>12</td>\n",
       "      <td>18</td>\n",
       "      <td>405.0</td>\n",
       "      <td>99</td>\n",
       "      <td>291</td>\n",
       "      <td>15</td>\n",
       "      <td>0</td>\n",
       "    </tr>\n",
       "    <tr>\n",
       "      <th>10</th>\n",
       "      <td>Arcade Village</td>\n",
       "      <td>2053.0</td>\n",
       "      <td>0</td>\n",
       "      <td>0</td>\n",
       "      <td>NaN</td>\n",
       "      <td>0</td>\n",
       "      <td>0</td>\n",
       "      <td>0</td>\n",
       "      <td>39.0</td>\n",
       "      <td>3</td>\n",
       "      <td>35</td>\n",
       "      <td>1</td>\n",
       "      <td>0</td>\n",
       "    </tr>\n",
       "    <tr>\n",
       "      <th>11</th>\n",
       "      <td>Ardsley Village</td>\n",
       "      <td>4523.0</td>\n",
       "      <td>5</td>\n",
       "      <td>0</td>\n",
       "      <td>NaN</td>\n",
       "      <td>0</td>\n",
       "      <td>3</td>\n",
       "      <td>2</td>\n",
       "      <td>33.0</td>\n",
       "      <td>4</td>\n",
       "      <td>28</td>\n",
       "      <td>1</td>\n",
       "      <td>0</td>\n",
       "    </tr>\n",
       "    <tr>\n",
       "      <th>12</th>\n",
       "      <td>Asharoken Village</td>\n",
       "      <td>658.0</td>\n",
       "      <td>0</td>\n",
       "      <td>0</td>\n",
       "      <td>NaN</td>\n",
       "      <td>0</td>\n",
       "      <td>0</td>\n",
       "      <td>0</td>\n",
       "      <td>2.0</td>\n",
       "      <td>0</td>\n",
       "      <td>2</td>\n",
       "      <td>0</td>\n",
       "      <td>0</td>\n",
       "    </tr>\n",
       "    <tr>\n",
       "      <th>13</th>\n",
       "      <td>Attica Village</td>\n",
       "      <td>2522.0</td>\n",
       "      <td>2</td>\n",
       "      <td>0</td>\n",
       "      <td>NaN</td>\n",
       "      <td>0</td>\n",
       "      <td>0</td>\n",
       "      <td>2</td>\n",
       "      <td>5.0</td>\n",
       "      <td>0</td>\n",
       "      <td>4</td>\n",
       "      <td>1</td>\n",
       "      <td>0</td>\n",
       "    </tr>\n",
       "    <tr>\n",
       "      <th>14</th>\n",
       "      <td>Auburn</td>\n",
       "      <td>27270.0</td>\n",
       "      <td>96</td>\n",
       "      <td>1</td>\n",
       "      <td>NaN</td>\n",
       "      <td>20</td>\n",
       "      <td>22</td>\n",
       "      <td>53</td>\n",
       "      <td>859.0</td>\n",
       "      <td>132</td>\n",
       "      <td>721</td>\n",
       "      <td>6</td>\n",
       "      <td>NaN</td>\n",
       "    </tr>\n",
       "    <tr>\n",
       "      <th>15</th>\n",
       "      <td>Avon Village</td>\n",
       "      <td>3333.0</td>\n",
       "      <td>1</td>\n",
       "      <td>0</td>\n",
       "      <td>NaN</td>\n",
       "      <td>0</td>\n",
       "      <td>1</td>\n",
       "      <td>0</td>\n",
       "      <td>25.0</td>\n",
       "      <td>3</td>\n",
       "      <td>20</td>\n",
       "      <td>2</td>\n",
       "      <td>NaN</td>\n",
       "    </tr>\n",
       "    <tr>\n",
       "      <th>16</th>\n",
       "      <td>Baldwinsville Village</td>\n",
       "      <td>7473.0</td>\n",
       "      <td>5</td>\n",
       "      <td>0</td>\n",
       "      <td>NaN</td>\n",
       "      <td>0</td>\n",
       "      <td>1</td>\n",
       "      <td>4</td>\n",
       "      <td>88.0</td>\n",
       "      <td>10</td>\n",
       "      <td>77</td>\n",
       "      <td>1</td>\n",
       "      <td>0</td>\n",
       "    </tr>\n",
       "    <tr>\n",
       "      <th>17</th>\n",
       "      <td>Ballston Spa Village</td>\n",
       "      <td>5418.0</td>\n",
       "      <td>8</td>\n",
       "      <td>0</td>\n",
       "      <td>NaN</td>\n",
       "      <td>0</td>\n",
       "      <td>3</td>\n",
       "      <td>5</td>\n",
       "      <td>94.0</td>\n",
       "      <td>16</td>\n",
       "      <td>78</td>\n",
       "      <td>0</td>\n",
       "      <td>1</td>\n",
       "    </tr>\n",
       "    <tr>\n",
       "      <th>18</th>\n",
       "      <td>Batavia</td>\n",
       "      <td>15374.0</td>\n",
       "      <td>57</td>\n",
       "      <td>0</td>\n",
       "      <td>NaN</td>\n",
       "      <td>7</td>\n",
       "      <td>13</td>\n",
       "      <td>37</td>\n",
       "      <td>559.0</td>\n",
       "      <td>103</td>\n",
       "      <td>454</td>\n",
       "      <td>2</td>\n",
       "      <td>NaN</td>\n",
       "    </tr>\n",
       "    <tr>\n",
       "      <th>19</th>\n",
       "      <td>Bath Village</td>\n",
       "      <td>5733.0</td>\n",
       "      <td>15</td>\n",
       "      <td>0</td>\n",
       "      <td>NaN</td>\n",
       "      <td>1</td>\n",
       "      <td>3</td>\n",
       "      <td>11</td>\n",
       "      <td>191.0</td>\n",
       "      <td>32</td>\n",
       "      <td>157</td>\n",
       "      <td>2</td>\n",
       "      <td>2</td>\n",
       "    </tr>\n",
       "  </tbody>\n",
       "</table>\n",
       "</div>"
      ],
      "text/plain": [
       "3                       city  population violent_crime  \\\n",
       "0              Adams Village      1861.0             0   \n",
       "1   Addison Town and Village      2577.0             3   \n",
       "2              Akron Village      2846.0             3   \n",
       "3                     Albany     97956.0           791   \n",
       "4             Albion Village      6388.0            23   \n",
       "5             Alfred Village      4089.0             5   \n",
       "6           Allegany Village      1781.0             3   \n",
       "7               Amherst Town    118296.0           107   \n",
       "8         Amityville Village      9519.0             9   \n",
       "9                  Amsterdam     18182.0            30   \n",
       "10            Arcade Village      2053.0             0   \n",
       "11           Ardsley Village      4523.0             5   \n",
       "12         Asharoken Village       658.0             0   \n",
       "13            Attica Village      2522.0             2   \n",
       "14                    Auburn     27270.0            96   \n",
       "15              Avon Village      3333.0             1   \n",
       "16     Baldwinsville Village      7473.0             5   \n",
       "17      Ballston Spa Village      5418.0             8   \n",
       "18                   Batavia     15374.0            57   \n",
       "19              Bath Village      5733.0            15   \n",
       "\n",
       "3  murder_and_nonnegligent_manslaughter rape_revised_definition1  \\\n",
       "0                                     0                      NaN   \n",
       "1                                     0                      NaN   \n",
       "2                                     0                      NaN   \n",
       "3                                     8                      NaN   \n",
       "4                                     0                      NaN   \n",
       "5                                     0                      NaN   \n",
       "6                                     0                      NaN   \n",
       "7                                     1                      NaN   \n",
       "8                                     0                      NaN   \n",
       "9                                     0                      NaN   \n",
       "10                                    0                      NaN   \n",
       "11                                    0                      NaN   \n",
       "12                                    0                      NaN   \n",
       "13                                    0                      NaN   \n",
       "14                                    1                      NaN   \n",
       "15                                    0                      NaN   \n",
       "16                                    0                      NaN   \n",
       "17                                    0                      NaN   \n",
       "18                                    0                      NaN   \n",
       "19                                    0                      NaN   \n",
       "\n",
       "3  rape_legacy_definition2 robbery aggravated_assault  property_crime  \\\n",
       "0                        0       0                  0            12.0   \n",
       "1                        0       0                  3            24.0   \n",
       "2                        0       0                  3            16.0   \n",
       "3                       30     227                526          4090.0   \n",
       "4                        3       4                 16           223.0   \n",
       "5                        0       3                  2            46.0   \n",
       "6                        0       0                  3            10.0   \n",
       "7                        7      31                 68          2118.0   \n",
       "8                        2       4                  3           210.0   \n",
       "9                        0      12                 18           405.0   \n",
       "10                       0       0                  0            39.0   \n",
       "11                       0       3                  2            33.0   \n",
       "12                       0       0                  0             2.0   \n",
       "13                       0       0                  2             5.0   \n",
       "14                      20      22                 53           859.0   \n",
       "15                       0       1                  0            25.0   \n",
       "16                       0       1                  4            88.0   \n",
       "17                       0       3                  5            94.0   \n",
       "18                       7      13                 37           559.0   \n",
       "19                       1       3                 11           191.0   \n",
       "\n",
       "3  burglary larceny-_theft motor_vehicle_theft arson3  \n",
       "0         2             10                   0      0  \n",
       "1         3             20                   1      0  \n",
       "2         1             15                   0      0  \n",
       "3       705           3243                 142    NaN  \n",
       "4        53            165                   5    NaN  \n",
       "5        10             36                   0    NaN  \n",
       "6         0             10                   0      0  \n",
       "7       204           1882                  32      3  \n",
       "8        16            188                   6      1  \n",
       "9        99            291                  15      0  \n",
       "10        3             35                   1      0  \n",
       "11        4             28                   1      0  \n",
       "12        0              2                   0      0  \n",
       "13        0              4                   1      0  \n",
       "14      132            721                   6    NaN  \n",
       "15        3             20                   2    NaN  \n",
       "16       10             77                   1      0  \n",
       "17       16             78                   0      1  \n",
       "18      103            454                   2    NaN  \n",
       "19       32            157                   2      2  "
      ]
     },
     "execution_count": 48,
     "metadata": {},
     "output_type": "execute_result"
    }
   ],
   "source": [
    "df_nypd.head(20)"
   ]
  },
  {
   "cell_type": "code",
   "execution_count": 49,
   "metadata": {
    "ExecuteTime": {
     "end_time": "2019-04-07T16:08:17.277628Z",
     "start_time": "2019-04-07T16:08:17.268317Z"
    }
   },
   "outputs": [
    {
     "name": "stdout",
     "output_type": "stream",
     "text": [
      "<class 'pandas.core.frame.DataFrame'>\n",
      "Int64Index: 347 entries, 0 to 347\n",
      "Data columns (total 13 columns):\n",
      "city                                    347 non-null object\n",
      "population                              347 non-null float64\n",
      "violent_crime                           347 non-null object\n",
      "murder_and_nonnegligent_manslaughter    347 non-null object\n",
      "rape_revised_definition1                0 non-null object\n",
      "rape_legacy_definition2                 347 non-null object\n",
      "robbery                                 347 non-null object\n",
      "aggravated_assault                      347 non-null object\n",
      "property_crime                          347 non-null float64\n",
      "burglary                                347 non-null object\n",
      "larceny-_theft                          347 non-null object\n",
      "motor_vehicle_theft                     347 non-null object\n",
      "arson3                                  187 non-null object\n",
      "dtypes: float64(2), object(11)\n",
      "memory usage: 38.0+ KB\n"
     ]
    }
   ],
   "source": [
    "df_nypd.info()"
   ]
  },
  {
   "cell_type": "markdown",
   "metadata": {},
   "source": [
    "## Select Features"
   ]
  },
  {
   "cell_type": "code",
   "execution_count": 110,
   "metadata": {
    "ExecuteTime": {
     "end_time": "2019-04-07T16:31:11.921143Z",
     "start_time": "2019-04-07T16:31:11.916092Z"
    }
   },
   "outputs": [],
   "source": [
    "features = pd.DataFrame(df_nypd['population'])"
   ]
  },
  {
   "cell_type": "code",
   "execution_count": 111,
   "metadata": {
    "ExecuteTime": {
     "end_time": "2019-04-07T16:31:12.671348Z",
     "start_time": "2019-04-07T16:31:12.668186Z"
    }
   },
   "outputs": [],
   "source": [
    "#features['population_sqd'] = df_nypd['population']*df_nypd['population']"
   ]
  },
  {
   "cell_type": "code",
   "execution_count": 112,
   "metadata": {
    "ExecuteTime": {
     "end_time": "2019-04-07T16:31:13.023076Z",
     "start_time": "2019-04-07T16:31:13.017825Z"
    }
   },
   "outputs": [],
   "source": [
    "#change murder and robbery to categorical features\n",
    "features['violent_crime'] = np.where(df_nypd['violent_crime']> 0, 1, 0)\n",
    "features['robbery']= np.where(df_nypd['robbery']>0, 1,0)\n",
    "#features['assault']=np.where(df_nypd['aggravated_assault']>0,1,0)"
   ]
  },
  {
   "cell_type": "code",
   "execution_count": 113,
   "metadata": {
    "ExecuteTime": {
     "end_time": "2019-04-07T16:31:13.718647Z",
     "start_time": "2019-04-07T16:31:13.702979Z"
    }
   },
   "outputs": [
    {
     "data": {
      "text/html": [
       "<div>\n",
       "<style scoped>\n",
       "    .dataframe tbody tr th:only-of-type {\n",
       "        vertical-align: middle;\n",
       "    }\n",
       "\n",
       "    .dataframe tbody tr th {\n",
       "        vertical-align: top;\n",
       "    }\n",
       "\n",
       "    .dataframe thead th {\n",
       "        text-align: right;\n",
       "    }\n",
       "</style>\n",
       "<table border=\"1\" class=\"dataframe\">\n",
       "  <thead>\n",
       "    <tr style=\"text-align: right;\">\n",
       "      <th></th>\n",
       "      <th>population</th>\n",
       "      <th>violent_crime</th>\n",
       "      <th>robbery</th>\n",
       "    </tr>\n",
       "  </thead>\n",
       "  <tbody>\n",
       "    <tr>\n",
       "      <th>0</th>\n",
       "      <td>1861.0</td>\n",
       "      <td>0</td>\n",
       "      <td>0</td>\n",
       "    </tr>\n",
       "    <tr>\n",
       "      <th>1</th>\n",
       "      <td>2577.0</td>\n",
       "      <td>1</td>\n",
       "      <td>0</td>\n",
       "    </tr>\n",
       "    <tr>\n",
       "      <th>2</th>\n",
       "      <td>2846.0</td>\n",
       "      <td>1</td>\n",
       "      <td>0</td>\n",
       "    </tr>\n",
       "    <tr>\n",
       "      <th>3</th>\n",
       "      <td>97956.0</td>\n",
       "      <td>1</td>\n",
       "      <td>1</td>\n",
       "    </tr>\n",
       "    <tr>\n",
       "      <th>4</th>\n",
       "      <td>6388.0</td>\n",
       "      <td>1</td>\n",
       "      <td>1</td>\n",
       "    </tr>\n",
       "    <tr>\n",
       "      <th>5</th>\n",
       "      <td>4089.0</td>\n",
       "      <td>1</td>\n",
       "      <td>1</td>\n",
       "    </tr>\n",
       "    <tr>\n",
       "      <th>6</th>\n",
       "      <td>1781.0</td>\n",
       "      <td>1</td>\n",
       "      <td>0</td>\n",
       "    </tr>\n",
       "    <tr>\n",
       "      <th>7</th>\n",
       "      <td>118296.0</td>\n",
       "      <td>1</td>\n",
       "      <td>1</td>\n",
       "    </tr>\n",
       "    <tr>\n",
       "      <th>8</th>\n",
       "      <td>9519.0</td>\n",
       "      <td>1</td>\n",
       "      <td>1</td>\n",
       "    </tr>\n",
       "    <tr>\n",
       "      <th>9</th>\n",
       "      <td>18182.0</td>\n",
       "      <td>1</td>\n",
       "      <td>1</td>\n",
       "    </tr>\n",
       "    <tr>\n",
       "      <th>10</th>\n",
       "      <td>2053.0</td>\n",
       "      <td>0</td>\n",
       "      <td>0</td>\n",
       "    </tr>\n",
       "    <tr>\n",
       "      <th>11</th>\n",
       "      <td>4523.0</td>\n",
       "      <td>1</td>\n",
       "      <td>1</td>\n",
       "    </tr>\n",
       "    <tr>\n",
       "      <th>12</th>\n",
       "      <td>658.0</td>\n",
       "      <td>0</td>\n",
       "      <td>0</td>\n",
       "    </tr>\n",
       "    <tr>\n",
       "      <th>13</th>\n",
       "      <td>2522.0</td>\n",
       "      <td>1</td>\n",
       "      <td>0</td>\n",
       "    </tr>\n",
       "    <tr>\n",
       "      <th>14</th>\n",
       "      <td>27270.0</td>\n",
       "      <td>1</td>\n",
       "      <td>1</td>\n",
       "    </tr>\n",
       "    <tr>\n",
       "      <th>15</th>\n",
       "      <td>3333.0</td>\n",
       "      <td>1</td>\n",
       "      <td>1</td>\n",
       "    </tr>\n",
       "    <tr>\n",
       "      <th>16</th>\n",
       "      <td>7473.0</td>\n",
       "      <td>1</td>\n",
       "      <td>1</td>\n",
       "    </tr>\n",
       "    <tr>\n",
       "      <th>17</th>\n",
       "      <td>5418.0</td>\n",
       "      <td>1</td>\n",
       "      <td>1</td>\n",
       "    </tr>\n",
       "    <tr>\n",
       "      <th>18</th>\n",
       "      <td>15374.0</td>\n",
       "      <td>1</td>\n",
       "      <td>1</td>\n",
       "    </tr>\n",
       "    <tr>\n",
       "      <th>19</th>\n",
       "      <td>5733.0</td>\n",
       "      <td>1</td>\n",
       "      <td>1</td>\n",
       "    </tr>\n",
       "  </tbody>\n",
       "</table>\n",
       "</div>"
      ],
      "text/plain": [
       "    population  violent_crime  robbery\n",
       "0       1861.0              0        0\n",
       "1       2577.0              1        0\n",
       "2       2846.0              1        0\n",
       "3      97956.0              1        1\n",
       "4       6388.0              1        1\n",
       "5       4089.0              1        1\n",
       "6       1781.0              1        0\n",
       "7     118296.0              1        1\n",
       "8       9519.0              1        1\n",
       "9      18182.0              1        1\n",
       "10      2053.0              0        0\n",
       "11      4523.0              1        1\n",
       "12       658.0              0        0\n",
       "13      2522.0              1        0\n",
       "14     27270.0              1        1\n",
       "15      3333.0              1        1\n",
       "16      7473.0              1        1\n",
       "17      5418.0              1        1\n",
       "18     15374.0              1        1\n",
       "19      5733.0              1        1"
      ]
     },
     "execution_count": 113,
     "metadata": {},
     "output_type": "execute_result"
    }
   ],
   "source": [
    "features.head(20)"
   ]
  },
  {
   "cell_type": "code",
   "execution_count": 114,
   "metadata": {
    "ExecuteTime": {
     "end_time": "2019-04-07T16:31:15.021494Z",
     "start_time": "2019-04-07T16:31:15.013138Z"
    }
   },
   "outputs": [
    {
     "name": "stdout",
     "output_type": "stream",
     "text": [
      "<class 'pandas.core.frame.DataFrame'>\n",
      "Int64Index: 347 entries, 0 to 347\n",
      "Data columns (total 3 columns):\n",
      "population       347 non-null float64\n",
      "violent_crime    347 non-null int64\n",
      "robbery          347 non-null int64\n",
      "dtypes: float64(1), int64(2)\n",
      "memory usage: 10.8 KB\n"
     ]
    }
   ],
   "source": [
    "features.info()"
   ]
  },
  {
   "cell_type": "code",
   "execution_count": 115,
   "metadata": {
    "ExecuteTime": {
     "end_time": "2019-04-07T16:31:15.585003Z",
     "start_time": "2019-04-07T16:31:15.581013Z"
    }
   },
   "outputs": [],
   "source": [
    "target = np.where(df_nypd['murder_and_nonnegligent_manslaughter']>0,1,0)"
   ]
  },
  {
   "cell_type": "code",
   "execution_count": 116,
   "metadata": {
    "ExecuteTime": {
     "end_time": "2019-04-07T16:31:16.530055Z",
     "start_time": "2019-04-07T16:31:16.524636Z"
    }
   },
   "outputs": [
    {
     "data": {
      "text/plain": [
       "array([0, 0, 0, 1, 0, 0, 0, 1, 0, 0, 0, 0, 0, 0, 1, 0, 0, 0, 0, 0, 0, 0,\n",
       "       1, 0, 0, 0, 0, 0, 0, 0, 0, 1, 1, 0, 0, 1, 0, 0, 0, 0, 0, 0, 0, 0,\n",
       "       0, 0, 0, 0, 0, 0, 0, 0, 0, 0, 0, 0, 0, 0, 0, 0, 0, 0, 0, 0, 0, 0,\n",
       "       0, 0, 0, 0, 0, 0, 0, 0, 0, 0, 0, 0, 0, 0, 0, 0, 0, 0, 1, 0, 0, 0,\n",
       "       1, 0, 0, 0, 0, 0, 0, 0, 0, 0, 0, 1, 0, 0, 0, 0, 0, 0, 0, 0, 0, 0,\n",
       "       0, 0, 0, 0, 0, 1, 0, 0, 0, 0, 0, 0, 0, 0, 0, 0, 0, 1, 0, 0, 0, 0,\n",
       "       0, 0, 1, 0, 0, 0, 0, 0, 1, 0, 0, 0, 0, 0, 0, 0, 0, 0, 0, 0, 1, 0,\n",
       "       0, 1, 0, 0, 1, 0, 0, 1, 0, 1, 0, 0, 0, 0, 0, 0, 0, 0, 0, 0, 0, 0,\n",
       "       0, 0, 0, 0, 0, 0, 0, 0, 0, 0, 0, 0, 0, 0, 0, 0, 0, 0, 0, 1, 0, 0,\n",
       "       0, 0, 0, 0, 0, 0, 0, 0, 1, 0, 0, 1, 0, 0, 0, 0, 0, 0, 0, 1, 0, 0,\n",
       "       0, 0, 0, 0, 0, 1, 0, 0, 0, 0, 0, 0, 0, 0, 0, 0, 0, 0, 0, 1, 0, 0,\n",
       "       0, 0, 0, 0, 0, 0, 0, 0, 0, 0, 0, 0, 0, 0, 0, 0, 1, 0, 0, 1, 1, 0,\n",
       "       0, 0, 1, 0, 0, 0, 0, 1, 1, 1, 0, 1, 0, 0, 0, 0, 1, 1, 0, 0, 1, 0,\n",
       "       0, 1, 0, 0, 0, 0, 0, 0, 0, 0, 0, 1, 0, 0, 0, 0, 0, 0, 1, 0, 0, 0,\n",
       "       0, 1, 0, 0, 0, 1, 1, 0, 0, 0, 0, 0, 1, 0, 1, 0, 0, 0, 0, 0, 0, 0,\n",
       "       1, 0, 0, 0, 0, 0, 0, 1, 0, 1, 0, 0, 0, 0, 0, 1, 0])"
      ]
     },
     "execution_count": 116,
     "metadata": {},
     "output_type": "execute_result"
    }
   ],
   "source": [
    "target"
   ]
  },
  {
   "cell_type": "code",
   "execution_count": 117,
   "metadata": {
    "ExecuteTime": {
     "end_time": "2019-04-07T16:31:17.081412Z",
     "start_time": "2019-04-07T16:31:17.078418Z"
    }
   },
   "outputs": [],
   "source": [
    "X = features\n",
    "y = target"
   ]
  },
  {
   "cell_type": "code",
   "execution_count": 118,
   "metadata": {
    "ExecuteTime": {
     "end_time": "2019-04-07T16:31:17.865377Z",
     "start_time": "2019-04-07T16:31:17.858186Z"
    }
   },
   "outputs": [],
   "source": [
    "# Create training and test sets\n",
    "X_train, X_test, y_train, y_test = train_test_split(X, y, test_size = 0.3, random_state=42)"
   ]
  },
  {
   "cell_type": "code",
   "execution_count": 119,
   "metadata": {
    "ExecuteTime": {
     "end_time": "2019-04-07T16:31:18.396534Z",
     "start_time": "2019-04-07T16:31:18.384123Z"
    }
   },
   "outputs": [
    {
     "name": "stdout",
     "output_type": "stream",
     "text": [
      "R^2: 0.2919541828622073\n",
      "0.2632280256478502\n"
     ]
    }
   ],
   "source": [
    "# Create a Linear regression and fit it to the training set\n",
    "regr = LinearRegression()\n",
    "\n",
    "regr.fit(X_train,y_train)\n",
    "\n",
    "# Predict on the test data: y_pred\n",
    "y_pred = regr.predict(X_test)\n",
    "\n",
    "# Compute and print R^2 \n",
    "print(\"R^2: {}\".format(regr.score(X_test, y_test)))\n",
    "print(regr.score(X_train, y_train))"
   ]
  },
  {
   "cell_type": "code",
   "execution_count": 120,
   "metadata": {
    "ExecuteTime": {
     "end_time": "2019-04-07T16:31:21.637633Z",
     "start_time": "2019-04-07T16:31:21.621340Z"
    }
   },
   "outputs": [
    {
     "name": "stdout",
     "output_type": "stream",
     "text": [
      "[0.12656389 0.19703314 0.27632312]\n",
      "0.19997338240717158\n"
     ]
    }
   ],
   "source": [
    "cv_results= cross_val_score(regr, X, y, cv=3)\n",
    "print(cv_results)\n",
    "print(np.mean(cv_results))"
   ]
  },
  {
   "cell_type": "code",
   "execution_count": 121,
   "metadata": {
    "ExecuteTime": {
     "end_time": "2019-04-07T16:31:25.028891Z",
     "start_time": "2019-04-07T16:31:25.003908Z"
    }
   },
   "outputs": [
    {
     "name": "stdout",
     "output_type": "stream",
     "text": [
      "[ 0.24790726 -0.03743031  0.25303272  0.27626224  0.29904558]\n",
      "0.20776349820454493\n"
     ]
    }
   ],
   "source": [
    "cv_results= cross_val_score(regr, X, y, cv=5)\n",
    "print(cv_results)\n",
    "print(np.mean(cv_results))"
   ]
  },
  {
   "cell_type": "code",
   "execution_count": 122,
   "metadata": {
    "ExecuteTime": {
     "end_time": "2019-04-07T16:31:27.446272Z",
     "start_time": "2019-04-07T16:31:27.403137Z"
    }
   },
   "outputs": [
    {
     "name": "stdout",
     "output_type": "stream",
     "text": [
      "[ 0.43490944 -1.59710032 -0.017451   -0.02377842  0.2336988   0.24711263\n",
      "  0.04159663  0.33188747  0.25559079  0.3635159 ]\n",
      "0.02699819205513615\n"
     ]
    }
   ],
   "source": [
    "cv_results= cross_val_score(regr, X, y, cv=10)\n",
    "print(cv_results)\n",
    "print(np.mean(cv_results))"
   ]
  },
  {
   "cell_type": "code",
   "execution_count": 123,
   "metadata": {
    "ExecuteTime": {
     "end_time": "2019-04-07T16:31:29.357805Z",
     "start_time": "2019-04-07T16:31:28.947551Z"
    }
   },
   "outputs": [
    {
     "name": "stdout",
     "output_type": "stream",
     "text": [
      "               population  violent_crime   robbery\n",
      "population       1.000000       0.200591  0.344347\n",
      "violent_crime    0.200591       1.000000  0.507766\n",
      "robbery          0.344347       0.507766  1.000000\n"
     ]
    },
    {
     "data": {
      "image/png": "[encoded data removed]",
      "text/plain": [
       "<Figure size 864x648 with 2 Axes>"
      ]
     },
     "metadata": {
      "needs_background": "light"
     },
     "output_type": "display_data"
    }
   ],
   "source": [
    "# Make the correlation matrix.\n",
    "corrmat = features.corr()\n",
    "print(corrmat)\n",
    "\n",
    "# Set up the figure.\n",
    "f, ax = plt.subplots(figsize=(12, 9))\n",
    "\n",
    "# Draw the heatmap\n",
    "sns.heatmap(corrmat, vmax=.8, square=True)\n",
    "plt.show()\n"
   ]
  },
  {
   "cell_type": "code",
   "execution_count": 124,
   "metadata": {
    "ExecuteTime": {
     "end_time": "2019-04-07T16:32:10.806695Z",
     "start_time": "2019-04-07T16:32:10.803697Z"
    }
   },
   "outputs": [],
   "source": [
    "data = pd.DataFrame(features)"
   ]
  },
  {
   "cell_type": "code",
   "execution_count": 125,
   "metadata": {
    "ExecuteTime": {
     "end_time": "2019-04-07T16:32:11.201391Z",
     "start_time": "2019-04-07T16:32:11.188765Z"
    }
   },
   "outputs": [
    {
     "name": "stdout",
     "output_type": "stream",
     "text": [
      "<class 'pandas.core.frame.DataFrame'>\n",
      "Int64Index: 347 entries, 0 to 347\n",
      "Data columns (total 3 columns):\n",
      "population       347 non-null float64\n",
      "violent_crime    347 non-null int64\n",
      "robbery          347 non-null int64\n",
      "dtypes: float64(1), int64(2)\n",
      "memory usage: 10.8 KB\n"
     ]
    }
   ],
   "source": [
    "data.info()"
   ]
  },
  {
   "cell_type": "code",
   "execution_count": 129,
   "metadata": {
    "ExecuteTime": {
     "end_time": "2019-04-07T19:53:16.997411Z",
     "start_time": "2019-04-07T19:53:16.987270Z"
    }
   },
   "outputs": [
    {
     "name": "stdout",
     "output_type": "stream",
     "text": [
      "\n",
      "Coefficients: \n",
      " [[ 5.73447352e-06  1.11201986e-01 -3.82726255e-03]]\n",
      "\n",
      "Intercept: \n",
      " [-0.01656701]\n",
      "\n",
      "R-squared:\n",
      "0.2741482606673049\n"
     ]
    }
   ],
   "source": [
    "# Instantiate and fit our model.\n",
    "reg = LinearRegression()\n",
    "Yy = y.reshape(-1, 1)\n",
    "Xx = data[['population','robbery','violent_crime']]\n",
    "reg.fit(Xx, Yy)\n",
    "\n",
    "# Inspect the results.\n",
    "print('\\nCoefficients: \\n', reg.coef_)\n",
    "print('\\nIntercept: \\n', reg.intercept_)\n",
    "print('\\nR-squared:')\n",
    "print(reg.score(Xx, Yy))"
   ]
  },
  {
   "cell_type": "code",
   "execution_count": 130,
   "metadata": {
    "ExecuteTime": {
     "end_time": "2019-04-07T19:53:20.153484Z",
     "start_time": "2019-04-07T19:53:20.138216Z"
    }
   },
   "outputs": [
    {
     "name": "stdout",
     "output_type": "stream",
     "text": [
      "[0.12656389 0.19703314 0.27632312]\n",
      "0.19997338240717158\n"
     ]
    }
   ],
   "source": [
    "cv_results= cross_val_score(reg, Xx, Yy, cv=3)\n",
    "print(cv_results)\n",
    "print(np.mean(cv_results))"
   ]
  },
  {
   "cell_type": "code",
   "execution_count": 131,
   "metadata": {
    "ExecuteTime": {
     "end_time": "2019-04-07T19:53:22.508716Z",
     "start_time": "2019-04-07T19:53:22.505775Z"
    }
   },
   "outputs": [],
   "source": [
    "data= pd.DataFrame(features)"
   ]
  },
  {
   "cell_type": "code",
   "execution_count": 132,
   "metadata": {
    "ExecuteTime": {
     "end_time": "2019-04-07T19:54:10.265936Z",
     "start_time": "2019-04-07T19:54:10.261998Z"
    }
   },
   "outputs": [],
   "source": [
    "data['property_crime']= np.where(df_nypd['property_crime'] > 0, 1,0)"
   ]
  },
  {
   "cell_type": "code",
   "execution_count": 133,
   "metadata": {
    "ExecuteTime": {
     "end_time": "2019-04-07T19:54:10.968321Z",
     "start_time": "2019-04-07T19:54:10.924437Z"
    }
   },
   "outputs": [
    {
     "ename": "PatsyError",
     "evalue": "Error evaluating factor: NameError: name 'assault' is not defined\n    property_crime ~ population+robbery+murder+assault\n                                               ^^^^^^^",
     "output_type": "error",
     "traceback": [
      "\u001b[0;31m---------------------------------------------------------------------------\u001b[0m",
      "\u001b[0;31mNameError\u001b[0m                                 Traceback (most recent call last)",
      "\u001b[0;32m/Library/Frameworks/Python.framework/Versions/3.7/lib/python3.7/site-packages/patsy/compat.py\u001b[0m in \u001b[0;36mcall_and_wrap_exc\u001b[0;34m(msg, origin, f, *args, **kwargs)\u001b[0m\n\u001b[1;32m     35\u001b[0m     \u001b[0;32mtry\u001b[0m\u001b[0;34m:\u001b[0m\u001b[0;34m\u001b[0m\u001b[0;34m\u001b[0m\u001b[0m\n\u001b[0;32m---> 36\u001b[0;31m         \u001b[0;32mreturn\u001b[0m \u001b[0mf\u001b[0m\u001b[0;34m(\u001b[0m\u001b[0;34m*\u001b[0m\u001b[0margs\u001b[0m\u001b[0;34m,\u001b[0m \u001b[0;34m**\u001b[0m\u001b[0mkwargs\u001b[0m\u001b[0;34m)\u001b[0m\u001b[0;34m\u001b[0m\u001b[0;34m\u001b[0m\u001b[0m\n\u001b[0m\u001b[1;32m     37\u001b[0m     \u001b[0;32mexcept\u001b[0m \u001b[0mException\u001b[0m \u001b[0;32mas\u001b[0m \u001b[0me\u001b[0m\u001b[0;34m:\u001b[0m\u001b[0;34m\u001b[0m\u001b[0;34m\u001b[0m\u001b[0m\n",
      "\u001b[0;32m/Library/Frameworks/Python.framework/Versions/3.7/lib/python3.7/site-packages/patsy/eval.py\u001b[0m in \u001b[0;36meval\u001b[0;34m(self, expr, source_name, inner_namespace)\u001b[0m\n\u001b[1;32m    165\u001b[0m         return eval(code, {}, VarLookupDict([inner_namespace]\n\u001b[0;32m--> 166\u001b[0;31m                                             + self._namespaces))\n\u001b[0m\u001b[1;32m    167\u001b[0m \u001b[0;34m\u001b[0m\u001b[0m\n",
      "\u001b[0;32m<string>\u001b[0m in \u001b[0;36m<module>\u001b[0;34m\u001b[0m\n",
      "\u001b[0;31mNameError\u001b[0m: name 'assault' is not defined",
      "\nThe above exception was the direct cause of the following exception:\n",
      "\u001b[0;31mPatsyError\u001b[0m                                Traceback (most recent call last)",
      "\u001b[0;32m<ipython-input-133-598af6c34584>\u001b[0m in \u001b[0;36m<module>\u001b[0;34m\u001b[0m\n\u001b[1;32m      2\u001b[0m \u001b[0;34m\u001b[0m\u001b[0m\n\u001b[1;32m      3\u001b[0m \u001b[0;31m# Fit the model to our data using the formula.\u001b[0m\u001b[0;34m\u001b[0m\u001b[0;34m\u001b[0m\u001b[0;34m\u001b[0m\u001b[0m\n\u001b[0;32m----> 4\u001b[0;31m \u001b[0mlm\u001b[0m \u001b[0;34m=\u001b[0m \u001b[0msmf\u001b[0m\u001b[0;34m.\u001b[0m\u001b[0mols\u001b[0m\u001b[0;34m(\u001b[0m\u001b[0mformula\u001b[0m\u001b[0;34m=\u001b[0m\u001b[0mlinear_formula\u001b[0m\u001b[0;34m,\u001b[0m \u001b[0mdata\u001b[0m\u001b[0;34m=\u001b[0m\u001b[0mdata\u001b[0m\u001b[0;34m)\u001b[0m\u001b[0;34m.\u001b[0m\u001b[0mfit\u001b[0m\u001b[0;34m(\u001b[0m\u001b[0;34m)\u001b[0m\u001b[0;34m\u001b[0m\u001b[0;34m\u001b[0m\u001b[0m\n\u001b[0m",
      "\u001b[0;32m/Library/Frameworks/Python.framework/Versions/3.7/lib/python3.7/site-packages/statsmodels/base/model.py\u001b[0m in \u001b[0;36mfrom_formula\u001b[0;34m(cls, formula, data, subset, drop_cols, *args, **kwargs)\u001b[0m\n\u001b[1;32m    153\u001b[0m \u001b[0;34m\u001b[0m\u001b[0m\n\u001b[1;32m    154\u001b[0m         tmp = handle_formula_data(data, None, formula, depth=eval_env,\n\u001b[0;32m--> 155\u001b[0;31m                                   missing=missing)\n\u001b[0m\u001b[1;32m    156\u001b[0m         \u001b[0;34m(\u001b[0m\u001b[0;34m(\u001b[0m\u001b[0mendog\u001b[0m\u001b[0;34m,\u001b[0m \u001b[0mexog\u001b[0m\u001b[0;34m)\u001b[0m\u001b[0;34m,\u001b[0m \u001b[0mmissing_idx\u001b[0m\u001b[0;34m,\u001b[0m \u001b[0mdesign_info\u001b[0m\u001b[0;34m)\u001b[0m \u001b[0;34m=\u001b[0m \u001b[0mtmp\u001b[0m\u001b[0;34m\u001b[0m\u001b[0;34m\u001b[0m\u001b[0m\n\u001b[1;32m    157\u001b[0m \u001b[0;34m\u001b[0m\u001b[0m\n",
      "\u001b[0;32m/Library/Frameworks/Python.framework/Versions/3.7/lib/python3.7/site-packages/statsmodels/formula/formulatools.py\u001b[0m in \u001b[0;36mhandle_formula_data\u001b[0;34m(Y, X, formula, depth, missing)\u001b[0m\n\u001b[1;32m     63\u001b[0m         \u001b[0;32mif\u001b[0m \u001b[0mdata_util\u001b[0m\u001b[0;34m.\u001b[0m\u001b[0m_is_using_pandas\u001b[0m\u001b[0;34m(\u001b[0m\u001b[0mY\u001b[0m\u001b[0;34m,\u001b[0m \u001b[0;32mNone\u001b[0m\u001b[0;34m)\u001b[0m\u001b[0;34m:\u001b[0m\u001b[0;34m\u001b[0m\u001b[0;34m\u001b[0m\u001b[0m\n\u001b[1;32m     64\u001b[0m             result = dmatrices(formula, Y, depth, return_type='dataframe',\n\u001b[0;32m---> 65\u001b[0;31m                                NA_action=na_action)\n\u001b[0m\u001b[1;32m     66\u001b[0m         \u001b[0;32melse\u001b[0m\u001b[0;34m:\u001b[0m\u001b[0;34m\u001b[0m\u001b[0;34m\u001b[0m\u001b[0m\n\u001b[1;32m     67\u001b[0m             result = dmatrices(formula, Y, depth, return_type='dataframe',\n",
      "\u001b[0;32m/Library/Frameworks/Python.framework/Versions/3.7/lib/python3.7/site-packages/patsy/highlevel.py\u001b[0m in \u001b[0;36mdmatrices\u001b[0;34m(formula_like, data, eval_env, NA_action, return_type)\u001b[0m\n\u001b[1;32m    308\u001b[0m     \u001b[0meval_env\u001b[0m \u001b[0;34m=\u001b[0m \u001b[0mEvalEnvironment\u001b[0m\u001b[0;34m.\u001b[0m\u001b[0mcapture\u001b[0m\u001b[0;34m(\u001b[0m\u001b[0meval_env\u001b[0m\u001b[0;34m,\u001b[0m \u001b[0mreference\u001b[0m\u001b[0;34m=\u001b[0m\u001b[0;36m1\u001b[0m\u001b[0;34m)\u001b[0m\u001b[0;34m\u001b[0m\u001b[0;34m\u001b[0m\u001b[0m\n\u001b[1;32m    309\u001b[0m     (lhs, rhs) = _do_highlevel_design(formula_like, data, eval_env,\n\u001b[0;32m--> 310\u001b[0;31m                                       NA_action, return_type)\n\u001b[0m\u001b[1;32m    311\u001b[0m     \u001b[0;32mif\u001b[0m \u001b[0mlhs\u001b[0m\u001b[0;34m.\u001b[0m\u001b[0mshape\u001b[0m\u001b[0;34m[\u001b[0m\u001b[0;36m1\u001b[0m\u001b[0;34m]\u001b[0m \u001b[0;34m==\u001b[0m \u001b[0;36m0\u001b[0m\u001b[0;34m:\u001b[0m\u001b[0;34m\u001b[0m\u001b[0;34m\u001b[0m\u001b[0m\n\u001b[1;32m    312\u001b[0m         \u001b[0;32mraise\u001b[0m \u001b[0mPatsyError\u001b[0m\u001b[0;34m(\u001b[0m\u001b[0;34m\"model is missing required outcome variables\"\u001b[0m\u001b[0;34m)\u001b[0m\u001b[0;34m\u001b[0m\u001b[0;34m\u001b[0m\u001b[0m\n",
      "\u001b[0;32m/Library/Frameworks/Python.framework/Versions/3.7/lib/python3.7/site-packages/patsy/highlevel.py\u001b[0m in \u001b[0;36m_do_highlevel_design\u001b[0;34m(formula_like, data, eval_env, NA_action, return_type)\u001b[0m\n\u001b[1;32m    163\u001b[0m         \u001b[0;32mreturn\u001b[0m \u001b[0miter\u001b[0m\u001b[0;34m(\u001b[0m\u001b[0;34m[\u001b[0m\u001b[0mdata\u001b[0m\u001b[0;34m]\u001b[0m\u001b[0;34m)\u001b[0m\u001b[0;34m\u001b[0m\u001b[0;34m\u001b[0m\u001b[0m\n\u001b[1;32m    164\u001b[0m     design_infos = _try_incr_builders(formula_like, data_iter_maker, eval_env,\n\u001b[0;32m--> 165\u001b[0;31m                                       NA_action)\n\u001b[0m\u001b[1;32m    166\u001b[0m     \u001b[0;32mif\u001b[0m \u001b[0mdesign_infos\u001b[0m \u001b[0;32mis\u001b[0m \u001b[0;32mnot\u001b[0m \u001b[0;32mNone\u001b[0m\u001b[0;34m:\u001b[0m\u001b[0;34m\u001b[0m\u001b[0;34m\u001b[0m\u001b[0m\n\u001b[1;32m    167\u001b[0m         return build_design_matrices(design_infos, data,\n",
      "\u001b[0;32m/Library/Frameworks/Python.framework/Versions/3.7/lib/python3.7/site-packages/patsy/highlevel.py\u001b[0m in \u001b[0;36m_try_incr_builders\u001b[0;34m(formula_like, data_iter_maker, eval_env, NA_action)\u001b[0m\n\u001b[1;32m     68\u001b[0m                                       \u001b[0mdata_iter_maker\u001b[0m\u001b[0;34m,\u001b[0m\u001b[0;34m\u001b[0m\u001b[0;34m\u001b[0m\u001b[0m\n\u001b[1;32m     69\u001b[0m                                       \u001b[0meval_env\u001b[0m\u001b[0;34m,\u001b[0m\u001b[0;34m\u001b[0m\u001b[0;34m\u001b[0m\u001b[0m\n\u001b[0;32m---> 70\u001b[0;31m                                       NA_action)\n\u001b[0m\u001b[1;32m     71\u001b[0m     \u001b[0;32melse\u001b[0m\u001b[0;34m:\u001b[0m\u001b[0;34m\u001b[0m\u001b[0;34m\u001b[0m\u001b[0m\n\u001b[1;32m     72\u001b[0m         \u001b[0;32mreturn\u001b[0m \u001b[0;32mNone\u001b[0m\u001b[0;34m\u001b[0m\u001b[0;34m\u001b[0m\u001b[0m\n",
      "\u001b[0;32m/Library/Frameworks/Python.framework/Versions/3.7/lib/python3.7/site-packages/patsy/build.py\u001b[0m in \u001b[0;36mdesign_matrix_builders\u001b[0;34m(termlists, data_iter_maker, eval_env, NA_action)\u001b[0m\n\u001b[1;32m    694\u001b[0m                                                    \u001b[0mfactor_states\u001b[0m\u001b[0;34m,\u001b[0m\u001b[0;34m\u001b[0m\u001b[0;34m\u001b[0m\u001b[0m\n\u001b[1;32m    695\u001b[0m                                                    \u001b[0mdata_iter_maker\u001b[0m\u001b[0;34m,\u001b[0m\u001b[0;34m\u001b[0m\u001b[0;34m\u001b[0m\u001b[0m\n\u001b[0;32m--> 696\u001b[0;31m                                                    NA_action)\n\u001b[0m\u001b[1;32m    697\u001b[0m     \u001b[0;31m# Now we need the factor infos, which encapsulate the knowledge of\u001b[0m\u001b[0;34m\u001b[0m\u001b[0;34m\u001b[0m\u001b[0;34m\u001b[0m\u001b[0m\n\u001b[1;32m    698\u001b[0m     \u001b[0;31m# how to turn any given factor into a chunk of data:\u001b[0m\u001b[0;34m\u001b[0m\u001b[0;34m\u001b[0m\u001b[0;34m\u001b[0m\u001b[0m\n",
      "\u001b[0;32m/Library/Frameworks/Python.framework/Versions/3.7/lib/python3.7/site-packages/patsy/build.py\u001b[0m in \u001b[0;36m_examine_factor_types\u001b[0;34m(factors, factor_states, data_iter_maker, NA_action)\u001b[0m\n\u001b[1;32m    441\u001b[0m     \u001b[0;32mfor\u001b[0m \u001b[0mdata\u001b[0m \u001b[0;32min\u001b[0m \u001b[0mdata_iter_maker\u001b[0m\u001b[0;34m(\u001b[0m\u001b[0;34m)\u001b[0m\u001b[0;34m:\u001b[0m\u001b[0;34m\u001b[0m\u001b[0;34m\u001b[0m\u001b[0m\n\u001b[1;32m    442\u001b[0m         \u001b[0;32mfor\u001b[0m \u001b[0mfactor\u001b[0m \u001b[0;32min\u001b[0m \u001b[0mlist\u001b[0m\u001b[0;34m(\u001b[0m\u001b[0mexamine_needed\u001b[0m\u001b[0;34m)\u001b[0m\u001b[0;34m:\u001b[0m\u001b[0;34m\u001b[0m\u001b[0;34m\u001b[0m\u001b[0m\n\u001b[0;32m--> 443\u001b[0;31m             \u001b[0mvalue\u001b[0m \u001b[0;34m=\u001b[0m \u001b[0mfactor\u001b[0m\u001b[0;34m.\u001b[0m\u001b[0meval\u001b[0m\u001b[0;34m(\u001b[0m\u001b[0mfactor_states\u001b[0m\u001b[0;34m[\u001b[0m\u001b[0mfactor\u001b[0m\u001b[0;34m]\u001b[0m\u001b[0;34m,\u001b[0m \u001b[0mdata\u001b[0m\u001b[0;34m)\u001b[0m\u001b[0;34m\u001b[0m\u001b[0;34m\u001b[0m\u001b[0m\n\u001b[0m\u001b[1;32m    444\u001b[0m             \u001b[0;32mif\u001b[0m \u001b[0mfactor\u001b[0m \u001b[0;32min\u001b[0m \u001b[0mcat_sniffers\u001b[0m \u001b[0;32mor\u001b[0m \u001b[0mguess_categorical\u001b[0m\u001b[0;34m(\u001b[0m\u001b[0mvalue\u001b[0m\u001b[0;34m)\u001b[0m\u001b[0;34m:\u001b[0m\u001b[0;34m\u001b[0m\u001b[0;34m\u001b[0m\u001b[0m\n\u001b[1;32m    445\u001b[0m                 \u001b[0;32mif\u001b[0m \u001b[0mfactor\u001b[0m \u001b[0;32mnot\u001b[0m \u001b[0;32min\u001b[0m \u001b[0mcat_sniffers\u001b[0m\u001b[0;34m:\u001b[0m\u001b[0;34m\u001b[0m\u001b[0;34m\u001b[0m\u001b[0m\n",
      "\u001b[0;32m/Library/Frameworks/Python.framework/Versions/3.7/lib/python3.7/site-packages/patsy/eval.py\u001b[0m in \u001b[0;36meval\u001b[0;34m(self, memorize_state, data)\u001b[0m\n\u001b[1;32m    564\u001b[0m         return self._eval(memorize_state[\"eval_code\"],\n\u001b[1;32m    565\u001b[0m                           \u001b[0mmemorize_state\u001b[0m\u001b[0;34m,\u001b[0m\u001b[0;34m\u001b[0m\u001b[0;34m\u001b[0m\u001b[0m\n\u001b[0;32m--> 566\u001b[0;31m                           data)\n\u001b[0m\u001b[1;32m    567\u001b[0m \u001b[0;34m\u001b[0m\u001b[0m\n\u001b[1;32m    568\u001b[0m     \u001b[0m__getstate__\u001b[0m \u001b[0;34m=\u001b[0m \u001b[0mno_pickling\u001b[0m\u001b[0;34m\u001b[0m\u001b[0;34m\u001b[0m\u001b[0m\n",
      "\u001b[0;32m/Library/Frameworks/Python.framework/Versions/3.7/lib/python3.7/site-packages/patsy/eval.py\u001b[0m in \u001b[0;36m_eval\u001b[0;34m(self, code, memorize_state, data)\u001b[0m\n\u001b[1;32m    549\u001b[0m                                  \u001b[0mmemorize_state\u001b[0m\u001b[0;34m[\u001b[0m\u001b[0;34m\"eval_env\"\u001b[0m\u001b[0;34m]\u001b[0m\u001b[0;34m.\u001b[0m\u001b[0meval\u001b[0m\u001b[0;34m,\u001b[0m\u001b[0;34m\u001b[0m\u001b[0;34m\u001b[0m\u001b[0m\n\u001b[1;32m    550\u001b[0m                                  \u001b[0mcode\u001b[0m\u001b[0;34m,\u001b[0m\u001b[0;34m\u001b[0m\u001b[0;34m\u001b[0m\u001b[0m\n\u001b[0;32m--> 551\u001b[0;31m                                  inner_namespace=inner_namespace)\n\u001b[0m\u001b[1;32m    552\u001b[0m \u001b[0;34m\u001b[0m\u001b[0m\n\u001b[1;32m    553\u001b[0m     \u001b[0;32mdef\u001b[0m \u001b[0mmemorize_chunk\u001b[0m\u001b[0;34m(\u001b[0m\u001b[0mself\u001b[0m\u001b[0;34m,\u001b[0m \u001b[0mstate\u001b[0m\u001b[0;34m,\u001b[0m \u001b[0mwhich_pass\u001b[0m\u001b[0;34m,\u001b[0m \u001b[0mdata\u001b[0m\u001b[0;34m)\u001b[0m\u001b[0;34m:\u001b[0m\u001b[0;34m\u001b[0m\u001b[0;34m\u001b[0m\u001b[0m\n",
      "\u001b[0;32m/Library/Frameworks/Python.framework/Versions/3.7/lib/python3.7/site-packages/patsy/compat.py\u001b[0m in \u001b[0;36mcall_and_wrap_exc\u001b[0;34m(msg, origin, f, *args, **kwargs)\u001b[0m\n\u001b[1;32m     41\u001b[0m                                  origin)\n\u001b[1;32m     42\u001b[0m             \u001b[0;31m# Use 'exec' to hide this syntax from the Python 2 parser:\u001b[0m\u001b[0;34m\u001b[0m\u001b[0;34m\u001b[0m\u001b[0;34m\u001b[0m\u001b[0m\n\u001b[0;32m---> 43\u001b[0;31m             \u001b[0mexec\u001b[0m\u001b[0;34m(\u001b[0m\u001b[0;34m\"raise new_exc from e\"\u001b[0m\u001b[0;34m)\u001b[0m\u001b[0;34m\u001b[0m\u001b[0;34m\u001b[0m\u001b[0m\n\u001b[0m\u001b[1;32m     44\u001b[0m         \u001b[0;32melse\u001b[0m\u001b[0;34m:\u001b[0m\u001b[0;34m\u001b[0m\u001b[0;34m\u001b[0m\u001b[0m\n\u001b[1;32m     45\u001b[0m             \u001b[0;31m# In python 2, we just let the original exception escape -- better\u001b[0m\u001b[0;34m\u001b[0m\u001b[0;34m\u001b[0m\u001b[0;34m\u001b[0m\u001b[0m\n",
      "\u001b[0;32m/Library/Frameworks/Python.framework/Versions/3.7/lib/python3.7/site-packages/patsy/compat.py\u001b[0m in \u001b[0;36m<module>\u001b[0;34m\u001b[0m\n",
      "\u001b[0;31mPatsyError\u001b[0m: Error evaluating factor: NameError: name 'assault' is not defined\n    property_crime ~ population+robbery+murder+assault\n                                               ^^^^^^^"
     ]
    }
   ],
   "source": [
    "linear_formula = 'property_crime ~ population+robbery+murder+assault'\n",
    "\n",
    "# Fit the model to our data using the formula.\n",
    "lm = smf.ols(formula=linear_formula, data=data).fit()"
   ]
  },
  {
   "cell_type": "code",
   "execution_count": 134,
   "metadata": {
    "ExecuteTime": {
     "end_time": "2019-04-07T19:54:11.683946Z",
     "start_time": "2019-04-07T19:54:11.675693Z"
    }
   },
   "outputs": [
    {
     "data": {
      "text/plain": [
       "Intercept               2.833331\n",
       "robbery[T.1]           33.358263\n",
       "robbery[T.2]           97.395205\n",
       "robbery[T.3]           86.545855\n",
       "robbery[T.4]          119.671849\n",
       "robbery[T.5]          171.465105\n",
       "robbery[T.6]          107.479231\n",
       "robbery[T.7]          120.823985\n",
       "robbery[T.8]           57.070481\n",
       "robbery[T.9]           93.162343\n",
       "robbery[T.10]         339.025051\n",
       "robbery[T.11]          56.533761\n",
       "robbery[T.12]         280.729436\n",
       "robbery[T.13]         103.492988\n",
       "robbery[T.15]         933.899234\n",
       "robbery[T.16]         450.622283\n",
       "robbery[T.17]         283.128816\n",
       "robbery[T.19]         400.390669\n",
       "robbery[T.20]         425.107381\n",
       "robbery[T.21]         -28.752733\n",
       "robbery[T.22]         335.449725\n",
       "robbery[T.23]         141.579764\n",
       "robbery[T.24]        -152.272797\n",
       "robbery[T.25]         262.428661\n",
       "robbery[T.26]         262.596467\n",
       "robbery[T.28]         412.901427\n",
       "robbery[T.29]         407.960193\n",
       "robbery[T.31]        1205.131721\n",
       "robbery[T.34]         140.209403\n",
       "robbery[T.39]         458.206541\n",
       "                        ...     \n",
       "assault[T.46]         412.901427\n",
       "assault[T.50]         407.960193\n",
       "assault[T.53]         335.449725\n",
       "assault[T.60]         330.009184\n",
       "assault[T.64]         355.366541\n",
       "assault[T.68]          69.333061\n",
       "assault[T.74]         309.501667\n",
       "assault[T.81]         508.640890\n",
       "assault[T.82]         802.056929\n",
       "assault[T.86]         426.440515\n",
       "assault[T.87]         140.209410\n",
       "assault[T.89]         410.382788\n",
       "assault[T.99]        1060.963302\n",
       "assault[T.110]        458.206541\n",
       "assault[T.161]        448.881644\n",
       "assault[T.163]        -49.168531\n",
       "assault[T.211]        816.983025\n",
       "assault[T.216]        185.904095\n",
       "assault[T.225]        710.054610\n",
       "assault[T.259]        277.146856\n",
       "assault[T.317]        527.381276\n",
       "assault[T.365]        447.884838\n",
       "assault[T.403]        666.108791\n",
       "assault[T.526]        977.982516\n",
       "assault[T.615]        310.432674\n",
       "assault[T.696]       1811.495620\n",
       "assault[T.1055]      2844.003487\n",
       "assault[T.1735]      3541.583637\n",
       "assault[T.31767]    27170.560305\n",
       "population              0.007201\n",
       "Length: 133, dtype: float64"
      ]
     },
     "execution_count": 134,
     "metadata": {},
     "output_type": "execute_result"
    }
   ],
   "source": [
    "lm.params"
   ]
  },
  {
   "cell_type": "code",
   "execution_count": 135,
   "metadata": {
    "ExecuteTime": {
     "end_time": "2019-04-07T19:54:12.900644Z",
     "start_time": "2019-04-07T19:54:12.892337Z"
    }
   },
   "outputs": [
    {
     "data": {
      "text/plain": [
       "Intercept           8.049025e-01\n",
       "robbery[T.1]        2.694990e-02\n",
       "robbery[T.2]        1.470000e-05\n",
       "robbery[T.3]        2.506000e-04\n",
       "robbery[T.4]        1.292000e-04\n",
       "robbery[T.5]        1.000000e-06\n",
       "robbery[T.6]        1.180130e-02\n",
       "robbery[T.7]        3.477260e-02\n",
       "robbery[T.8]        3.490967e-01\n",
       "robbery[T.9]        2.147422e-01\n",
       "robbery[T.10]       4.000000e-07\n",
       "robbery[T.11]       2.679281e-01\n",
       "robbery[T.12]       1.745000e-04\n",
       "robbery[T.13]       1.301439e-01\n",
       "robbery[T.15]       0.000000e+00\n",
       "robbery[T.16]       0.000000e+00\n",
       "robbery[T.17]       1.416290e-02\n",
       "robbery[T.19]       0.000000e+00\n",
       "robbery[T.20]       0.000000e+00\n",
       "robbery[T.21]       7.954523e-01\n",
       "robbery[T.22]       0.000000e+00\n",
       "robbery[T.23]       7.200000e-06\n",
       "robbery[T.24]       3.764382e-01\n",
       "robbery[T.25]       1.000000e-07\n",
       "robbery[T.26]       5.200000e-06\n",
       "robbery[T.28]       0.000000e+00\n",
       "robbery[T.29]       0.000000e+00\n",
       "robbery[T.31]       0.000000e+00\n",
       "robbery[T.34]       3.078320e-02\n",
       "robbery[T.39]       0.000000e+00\n",
       "                        ...     \n",
       "assault[T.46]       0.000000e+00\n",
       "assault[T.50]       0.000000e+00\n",
       "assault[T.53]       0.000000e+00\n",
       "assault[T.60]       0.000000e+00\n",
       "assault[T.64]       6.823000e-04\n",
       "assault[T.68]       6.742731e-01\n",
       "assault[T.74]       0.000000e+00\n",
       "assault[T.81]       6.500000e-06\n",
       "assault[T.82]       0.000000e+00\n",
       "assault[T.86]       6.300000e-06\n",
       "assault[T.87]       3.078320e-02\n",
       "assault[T.89]       0.000000e+00\n",
       "assault[T.99]       0.000000e+00\n",
       "assault[T.110]      0.000000e+00\n",
       "assault[T.161]      0.000000e+00\n",
       "assault[T.163]      1.652671e-01\n",
       "assault[T.211]      0.000000e+00\n",
       "assault[T.216]      0.000000e+00\n",
       "assault[T.225]      0.000000e+00\n",
       "assault[T.259]      0.000000e+00\n",
       "assault[T.317]      0.000000e+00\n",
       "assault[T.365]      0.000000e+00\n",
       "assault[T.403]      0.000000e+00\n",
       "assault[T.526]      0.000000e+00\n",
       "assault[T.615]      6.000000e-07\n",
       "assault[T.696]      0.000000e+00\n",
       "assault[T.1055]     0.000000e+00\n",
       "assault[T.1735]     0.000000e+00\n",
       "assault[T.31767]    0.000000e+00\n",
       "population          0.000000e+00\n",
       "Length: 133, dtype: float64"
      ]
     },
     "execution_count": 135,
     "metadata": {},
     "output_type": "execute_result"
    }
   ],
   "source": [
    "round(lm.pvalues, 7)"
   ]
  },
  {
   "cell_type": "code",
   "execution_count": 136,
   "metadata": {
    "ExecuteTime": {
     "end_time": "2019-04-07T19:54:13.471358Z",
     "start_time": "2019-04-07T19:54:13.467244Z"
    }
   },
   "outputs": [
    {
     "data": {
      "text/plain": [
       "0.9999006431735566"
      ]
     },
     "execution_count": 136,
     "metadata": {},
     "output_type": "execute_result"
    }
   ],
   "source": [
    "lm.rsquared"
   ]
  },
  {
   "cell_type": "code",
   "execution_count": 137,
   "metadata": {
    "ExecuteTime": {
     "end_time": "2019-04-07T19:54:14.034380Z",
     "start_time": "2019-04-07T19:54:14.015696Z"
    }
   },
   "outputs": [
    {
     "data": {
      "text/html": [
       "<div>\n",
       "<style scoped>\n",
       "    .dataframe tbody tr th:only-of-type {\n",
       "        vertical-align: middle;\n",
       "    }\n",
       "\n",
       "    .dataframe tbody tr th {\n",
       "        vertical-align: top;\n",
       "    }\n",
       "\n",
       "    .dataframe thead th {\n",
       "        text-align: right;\n",
       "    }\n",
       "</style>\n",
       "<table border=\"1\" class=\"dataframe\">\n",
       "  <thead>\n",
       "    <tr style=\"text-align: right;\">\n",
       "      <th></th>\n",
       "      <th>0</th>\n",
       "      <th>1</th>\n",
       "    </tr>\n",
       "  </thead>\n",
       "  <tbody>\n",
       "    <tr>\n",
       "      <th>Intercept</th>\n",
       "      <td>-19.732084</td>\n",
       "      <td>25.398745</td>\n",
       "    </tr>\n",
       "    <tr>\n",
       "      <th>robbery[T.1]</th>\n",
       "      <td>3.834595</td>\n",
       "      <td>62.881931</td>\n",
       "    </tr>\n",
       "    <tr>\n",
       "      <th>robbery[T.2]</th>\n",
       "      <td>53.989211</td>\n",
       "      <td>140.801199</td>\n",
       "    </tr>\n",
       "    <tr>\n",
       "      <th>robbery[T.3]</th>\n",
       "      <td>40.654789</td>\n",
       "      <td>132.436921</td>\n",
       "    </tr>\n",
       "    <tr>\n",
       "      <th>robbery[T.4]</th>\n",
       "      <td>59.047390</td>\n",
       "      <td>180.296308</td>\n",
       "    </tr>\n",
       "    <tr>\n",
       "      <th>robbery[T.5]</th>\n",
       "      <td>104.232354</td>\n",
       "      <td>238.697856</td>\n",
       "    </tr>\n",
       "    <tr>\n",
       "      <th>robbery[T.6]</th>\n",
       "      <td>24.025344</td>\n",
       "      <td>190.933118</td>\n",
       "    </tr>\n",
       "    <tr>\n",
       "      <th>robbery[T.7]</th>\n",
       "      <td>8.712040</td>\n",
       "      <td>232.935930</td>\n",
       "    </tr>\n",
       "    <tr>\n",
       "      <th>robbery[T.8]</th>\n",
       "      <td>-62.737590</td>\n",
       "      <td>176.878551</td>\n",
       "    </tr>\n",
       "    <tr>\n",
       "      <th>robbery[T.9]</th>\n",
       "      <td>-54.349100</td>\n",
       "      <td>240.673787</td>\n",
       "    </tr>\n",
       "    <tr>\n",
       "      <th>robbery[T.10]</th>\n",
       "      <td>211.363135</td>\n",
       "      <td>466.686968</td>\n",
       "    </tr>\n",
       "    <tr>\n",
       "      <th>robbery[T.11]</th>\n",
       "      <td>-43.740316</td>\n",
       "      <td>156.807838</td>\n",
       "    </tr>\n",
       "    <tr>\n",
       "      <th>robbery[T.12]</th>\n",
       "      <td>135.605017</td>\n",
       "      <td>425.853856</td>\n",
       "    </tr>\n",
       "    <tr>\n",
       "      <th>robbery[T.13]</th>\n",
       "      <td>-30.729952</td>\n",
       "      <td>237.715928</td>\n",
       "    </tr>\n",
       "    <tr>\n",
       "      <th>robbery[T.15]</th>\n",
       "      <td>726.403840</td>\n",
       "      <td>1141.394627</td>\n",
       "    </tr>\n",
       "    <tr>\n",
       "      <th>robbery[T.16]</th>\n",
       "      <td>323.324866</td>\n",
       "      <td>577.919699</td>\n",
       "    </tr>\n",
       "    <tr>\n",
       "      <th>robbery[T.17]</th>\n",
       "      <td>57.399146</td>\n",
       "      <td>508.858485</td>\n",
       "    </tr>\n",
       "    <tr>\n",
       "      <th>robbery[T.19]</th>\n",
       "      <td>312.239551</td>\n",
       "      <td>488.541788</td>\n",
       "    </tr>\n",
       "    <tr>\n",
       "      <th>robbery[T.20]</th>\n",
       "      <td>332.546881</td>\n",
       "      <td>517.667881</td>\n",
       "    </tr>\n",
       "    <tr>\n",
       "      <th>robbery[T.21]</th>\n",
       "      <td>-246.942999</td>\n",
       "      <td>189.437532</td>\n",
       "    </tr>\n",
       "    <tr>\n",
       "      <th>robbery[T.22]</th>\n",
       "      <td>241.505153</td>\n",
       "      <td>429.394297</td>\n",
       "    </tr>\n",
       "    <tr>\n",
       "      <th>robbery[T.23]</th>\n",
       "      <td>80.737349</td>\n",
       "      <td>202.422178</td>\n",
       "    </tr>\n",
       "    <tr>\n",
       "      <th>robbery[T.24]</th>\n",
       "      <td>-490.715254</td>\n",
       "      <td>186.169661</td>\n",
       "    </tr>\n",
       "    <tr>\n",
       "      <th>robbery[T.25]</th>\n",
       "      <td>168.991625</td>\n",
       "      <td>355.865697</td>\n",
       "    </tr>\n",
       "    <tr>\n",
       "      <th>robbery[T.26]</th>\n",
       "      <td>151.508273</td>\n",
       "      <td>373.684662</td>\n",
       "    </tr>\n",
       "    <tr>\n",
       "      <th>robbery[T.28]</th>\n",
       "      <td>311.538127</td>\n",
       "      <td>514.264727</td>\n",
       "    </tr>\n",
       "    <tr>\n",
       "      <th>robbery[T.29]</th>\n",
       "      <td>317.395021</td>\n",
       "      <td>498.525364</td>\n",
       "    </tr>\n",
       "    <tr>\n",
       "      <th>robbery[T.31]</th>\n",
       "      <td>930.153827</td>\n",
       "      <td>1480.109615</td>\n",
       "    </tr>\n",
       "    <tr>\n",
       "      <th>robbery[T.34]</th>\n",
       "      <td>13.079414</td>\n",
       "      <td>267.339391</td>\n",
       "    </tr>\n",
       "    <tr>\n",
       "      <th>robbery[T.39]</th>\n",
       "      <td>367.318521</td>\n",
       "      <td>549.094560</td>\n",
       "    </tr>\n",
       "    <tr>\n",
       "      <th>...</th>\n",
       "      <td>...</td>\n",
       "      <td>...</td>\n",
       "    </tr>\n",
       "    <tr>\n",
       "      <th>assault[T.46]</th>\n",
       "      <td>311.538128</td>\n",
       "      <td>514.264727</td>\n",
       "    </tr>\n",
       "    <tr>\n",
       "      <th>assault[T.50]</th>\n",
       "      <td>317.395022</td>\n",
       "      <td>498.525365</td>\n",
       "    </tr>\n",
       "    <tr>\n",
       "      <th>assault[T.53]</th>\n",
       "      <td>241.505153</td>\n",
       "      <td>429.394298</td>\n",
       "    </tr>\n",
       "    <tr>\n",
       "      <th>assault[T.60]</th>\n",
       "      <td>235.981444</td>\n",
       "      <td>424.036924</td>\n",
       "    </tr>\n",
       "    <tr>\n",
       "      <th>assault[T.64]</th>\n",
       "      <td>151.851252</td>\n",
       "      <td>558.881830</td>\n",
       "    </tr>\n",
       "    <tr>\n",
       "      <th>assault[T.68]</th>\n",
       "      <td>-255.154115</td>\n",
       "      <td>393.820237</td>\n",
       "    </tr>\n",
       "    <tr>\n",
       "      <th>assault[T.74]</th>\n",
       "      <td>215.705604</td>\n",
       "      <td>403.297729</td>\n",
       "    </tr>\n",
       "    <tr>\n",
       "      <th>assault[T.81]</th>\n",
       "      <td>291.055757</td>\n",
       "      <td>726.226023</td>\n",
       "    </tr>\n",
       "    <tr>\n",
       "      <th>assault[T.82]</th>\n",
       "      <td>686.654622</td>\n",
       "      <td>917.459236</td>\n",
       "    </tr>\n",
       "    <tr>\n",
       "      <th>assault[T.86]</th>\n",
       "      <td>244.355536</td>\n",
       "      <td>608.525494</td>\n",
       "    </tr>\n",
       "    <tr>\n",
       "      <th>assault[T.87]</th>\n",
       "      <td>13.079422</td>\n",
       "      <td>267.339399</td>\n",
       "    </tr>\n",
       "    <tr>\n",
       "      <th>assault[T.89]</th>\n",
       "      <td>303.591579</td>\n",
       "      <td>517.173996</td>\n",
       "    </tr>\n",
       "    <tr>\n",
       "      <th>assault[T.99]</th>\n",
       "      <td>954.368564</td>\n",
       "      <td>1167.558040</td>\n",
       "    </tr>\n",
       "    <tr>\n",
       "      <th>assault[T.110]</th>\n",
       "      <td>367.318521</td>\n",
       "      <td>549.094560</td>\n",
       "    </tr>\n",
       "    <tr>\n",
       "      <th>assault[T.161]</th>\n",
       "      <td>377.530711</td>\n",
       "      <td>520.232576</td>\n",
       "    </tr>\n",
       "    <tr>\n",
       "      <th>assault[T.163]</th>\n",
       "      <td>-118.750218</td>\n",
       "      <td>20.413157</td>\n",
       "    </tr>\n",
       "    <tr>\n",
       "      <th>assault[T.211]</th>\n",
       "      <td>717.996662</td>\n",
       "      <td>915.969387</td>\n",
       "    </tr>\n",
       "    <tr>\n",
       "      <th>assault[T.216]</th>\n",
       "      <td>120.937531</td>\n",
       "      <td>250.870658</td>\n",
       "    </tr>\n",
       "    <tr>\n",
       "      <th>assault[T.225]</th>\n",
       "      <td>634.658827</td>\n",
       "      <td>785.450394</td>\n",
       "    </tr>\n",
       "    <tr>\n",
       "      <th>assault[T.259]</th>\n",
       "      <td>216.811834</td>\n",
       "      <td>337.481879</td>\n",
       "    </tr>\n",
       "    <tr>\n",
       "      <th>assault[T.317]</th>\n",
       "      <td>397.103462</td>\n",
       "      <td>657.659090</td>\n",
       "    </tr>\n",
       "    <tr>\n",
       "      <th>assault[T.365]</th>\n",
       "      <td>376.004744</td>\n",
       "      <td>519.764931</td>\n",
       "    </tr>\n",
       "    <tr>\n",
       "      <th>assault[T.403]</th>\n",
       "      <td>594.111100</td>\n",
       "      <td>738.106482</td>\n",
       "    </tr>\n",
       "    <tr>\n",
       "      <th>assault[T.526]</th>\n",
       "      <td>895.764949</td>\n",
       "      <td>1060.200083</td>\n",
       "    </tr>\n",
       "    <tr>\n",
       "      <th>assault[T.615]</th>\n",
       "      <td>190.996706</td>\n",
       "      <td>429.868642</td>\n",
       "    </tr>\n",
       "    <tr>\n",
       "      <th>assault[T.696]</th>\n",
       "      <td>1716.485678</td>\n",
       "      <td>1906.505562</td>\n",
       "    </tr>\n",
       "    <tr>\n",
       "      <th>assault[T.1055]</th>\n",
       "      <td>2719.255868</td>\n",
       "      <td>2968.751106</td>\n",
       "    </tr>\n",
       "    <tr>\n",
       "      <th>assault[T.1735]</th>\n",
       "      <td>3393.783370</td>\n",
       "      <td>3689.383904</td>\n",
       "    </tr>\n",
       "    <tr>\n",
       "      <th>assault[T.31767]</th>\n",
       "      <td>22718.332726</td>\n",
       "      <td>31622.787885</td>\n",
       "    </tr>\n",
       "    <tr>\n",
       "      <th>population</th>\n",
       "      <td>0.005609</td>\n",
       "      <td>0.008792</td>\n",
       "    </tr>\n",
       "  </tbody>\n",
       "</table>\n",
       "<p>133 rows × 2 columns</p>\n",
       "</div>"
      ],
      "text/plain": [
       "                             0             1\n",
       "Intercept           -19.732084     25.398745\n",
       "robbery[T.1]          3.834595     62.881931\n",
       "robbery[T.2]         53.989211    140.801199\n",
       "robbery[T.3]         40.654789    132.436921\n",
       "robbery[T.4]         59.047390    180.296308\n",
       "robbery[T.5]        104.232354    238.697856\n",
       "robbery[T.6]         24.025344    190.933118\n",
       "robbery[T.7]          8.712040    232.935930\n",
       "robbery[T.8]        -62.737590    176.878551\n",
       "robbery[T.9]        -54.349100    240.673787\n",
       "robbery[T.10]       211.363135    466.686968\n",
       "robbery[T.11]       -43.740316    156.807838\n",
       "robbery[T.12]       135.605017    425.853856\n",
       "robbery[T.13]       -30.729952    237.715928\n",
       "robbery[T.15]       726.403840   1141.394627\n",
       "robbery[T.16]       323.324866    577.919699\n",
       "robbery[T.17]        57.399146    508.858485\n",
       "robbery[T.19]       312.239551    488.541788\n",
       "robbery[T.20]       332.546881    517.667881\n",
       "robbery[T.21]      -246.942999    189.437532\n",
       "robbery[T.22]       241.505153    429.394297\n",
       "robbery[T.23]        80.737349    202.422178\n",
       "robbery[T.24]      -490.715254    186.169661\n",
       "robbery[T.25]       168.991625    355.865697\n",
       "robbery[T.26]       151.508273    373.684662\n",
       "robbery[T.28]       311.538127    514.264727\n",
       "robbery[T.29]       317.395021    498.525364\n",
       "robbery[T.31]       930.153827   1480.109615\n",
       "robbery[T.34]        13.079414    267.339391\n",
       "robbery[T.39]       367.318521    549.094560\n",
       "...                        ...           ...\n",
       "assault[T.46]       311.538128    514.264727\n",
       "assault[T.50]       317.395022    498.525365\n",
       "assault[T.53]       241.505153    429.394298\n",
       "assault[T.60]       235.981444    424.036924\n",
       "assault[T.64]       151.851252    558.881830\n",
       "assault[T.68]      -255.154115    393.820237\n",
       "assault[T.74]       215.705604    403.297729\n",
       "assault[T.81]       291.055757    726.226023\n",
       "assault[T.82]       686.654622    917.459236\n",
       "assault[T.86]       244.355536    608.525494\n",
       "assault[T.87]        13.079422    267.339399\n",
       "assault[T.89]       303.591579    517.173996\n",
       "assault[T.99]       954.368564   1167.558040\n",
       "assault[T.110]      367.318521    549.094560\n",
       "assault[T.161]      377.530711    520.232576\n",
       "assault[T.163]     -118.750218     20.413157\n",
       "assault[T.211]      717.996662    915.969387\n",
       "assault[T.216]      120.937531    250.870658\n",
       "assault[T.225]      634.658827    785.450394\n",
       "assault[T.259]      216.811834    337.481879\n",
       "assault[T.317]      397.103462    657.659090\n",
       "assault[T.365]      376.004744    519.764931\n",
       "assault[T.403]      594.111100    738.106482\n",
       "assault[T.526]      895.764949   1060.200083\n",
       "assault[T.615]      190.996706    429.868642\n",
       "assault[T.696]     1716.485678   1906.505562\n",
       "assault[T.1055]    2719.255868   2968.751106\n",
       "assault[T.1735]    3393.783370   3689.383904\n",
       "assault[T.31767]  22718.332726  31622.787885\n",
       "population            0.005609      0.008792\n",
       "\n",
       "[133 rows x 2 columns]"
      ]
     },
     "execution_count": 137,
     "metadata": {},
     "output_type": "execute_result"
    }
   ],
   "source": [
    "round(lm.conf_int(),7)"
   ]
  },
  {
   "cell_type": "code",
   "execution_count": null,
   "metadata": {},
   "outputs": [],
   "source": []
  },
  {
   "cell_type": "code",
   "execution_count": null,
   "metadata": {},
   "outputs": [],
   "source": []
  }
 ],
 "metadata": {
  "kernelspec": {
   "display_name": "Python 3",
   "language": "python",
   "name": "python3"
  },
  "language_info": {
   "codemirror_mode": {
    "name": "ipython",
    "version": 3
   },
   "file_extension": ".py",
   "mimetype": "text/x-python",
   "name": "python",
   "nbconvert_exporter": "python",
   "pygments_lexer": "ipython3",
   "version": "3.7.1"
  },
  "toc": {
   "base_numbering": 1,
   "nav_menu": {},
   "number_sections": true,
   "sideBar": true,
   "skip_h1_title": false,
   "title_cell": "Table of Contents",
   "title_sidebar": "Contents",
   "toc_cell": false,
   "toc_position": {},
   "toc_section_display": true,
   "toc_window_display": false
  }
 },
 "nbformat": 4,
 "nbformat_minor": 2
}
