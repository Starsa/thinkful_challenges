{
 "cells": [
  {
   "cell_type": "markdown",
   "metadata": {},
   "source": [
    "Unit 2- Lesson 5- Project 2"
   ]
  },
  {
   "cell_type": "markdown",
   "metadata": {
    "heading_collapsed": true
   },
   "source": [
    "## Challenge: Validating a linear regression\n",
    "\n",
    "Validating regression models for prediction\n",
    "Statistical tests are useful for making sure a model is a good fit to the test data, and that all the features are useful to the model. However, to make sure a model has good predictive validity for new data, it is necessary to assess the performance of the model on new datasets.\n",
    "\n",
    "The procedure is the same as what you learned in the Naive Bayes lesson – the holdout method and cross-validation method are both available. You've already had experience writing code to run these kinds of validation models for Naive Bayes: now you can try it again with linear regression. In this case, your goal is to achieve a model with a consistent R2 and only statistically significant parameters across multiple samples.\n",
    "\n",
    "We'll use the property crime model you've been working on with, based on the FBI:UCR data. Since your model formulation to date has used the entire New York State 2013 dataset, you'll need to validate it using some of the other crime datasets available at the FBI:UCR website. Options include other states crime rates in 2013 or crime rates in New York State in other years or a combination of these.\n",
    "\n",
    "Iterate\n",
    "Based on the results of your validation test, create a revised model, and then test both old and new models on a new holdout or set of folds.\n",
    "\n",
    "Include your model(s) and a brief writeup of the reasoning behind the validation method you chose and the changes you made to submit and review with your mentor.\n",
    "\n"
   ]
  },
  {
   "cell_type": "markdown",
   "metadata": {},
   "source": [
    "## Import Data and clean"
   ]
  },
  {
   "cell_type": "code",
   "execution_count": 1,
   "metadata": {
    "ExecuteTime": {
     "end_time": "2019-04-13T18:22:17.661479Z",
     "start_time": "2019-04-13T18:22:16.616236Z"
    }
   },
   "outputs": [],
   "source": [
    "# Import necessary modules\n",
    "import pandas as pd\n",
    "import matplotlib.pyplot as plt\n",
    "import numpy as np\n",
    "import seaborn as sns\n",
    "from sklearn.linear_model import LinearRegression\n",
    "import statsmodels.formula.api as smf\n",
    "from statsmodels.sandbox.regression.predstd import wls_prediction_std\n",
    "from sklearn.metrics import mean_squared_error\n",
    "from sklearn.model_selection import train_test_split\n",
    "from sklearn.model_selection import cross_val_score\n",
    "\n",
    "\n",
    "%matplotlib inline\n",
    "sns.set_style('white')"
   ]
  },
  {
   "cell_type": "code",
   "execution_count": 2,
   "metadata": {
    "ExecuteTime": {
     "end_time": "2019-04-13T18:22:17.715870Z",
     "start_time": "2019-04-13T18:22:17.664616Z"
    }
   },
   "outputs": [],
   "source": [
    "#read in the excel file\n",
    "df = pd.read_excel ('table_8_offenses_known_to_law_enforcement_new_york_by_city_2013.xls')"
   ]
  },
  {
   "cell_type": "code",
   "execution_count": 3,
   "metadata": {
    "ExecuteTime": {
     "end_time": "2019-04-13T18:22:17.723129Z",
     "start_time": "2019-04-13T18:22:17.717911Z"
    }
   },
   "outputs": [],
   "source": [
    "#The top few rows of the data fram are blank, drop the blank rows and locate the column titles\n",
    "#Then reset the index\n",
    "df_nypd = df.drop([0,1,2, 3])\n",
    "df_nypd.columns = df.iloc[3]\n",
    "df_nypd= df_nypd.reset_index(drop=True)"
   ]
  },
  {
   "cell_type": "code",
   "execution_count": 4,
   "metadata": {
    "ExecuteTime": {
     "end_time": "2019-04-13T18:22:17.732440Z",
     "start_time": "2019-04-13T18:22:17.727150Z"
    }
   },
   "outputs": [],
   "source": [
    "#Clean up the column titles for quick acces and itteration\n",
    "df_nypd.columns = df_nypd.columns.str.strip().str.lower().str.replace(' ','_').str.replace('(', '').str.replace(')','').str.replace('\\n', '_')\n"
   ]
  },
  {
   "cell_type": "code",
   "execution_count": 5,
   "metadata": {
    "ExecuteTime": {
     "end_time": "2019-04-13T18:22:17.739119Z",
     "start_time": "2019-04-13T18:22:17.736154Z"
    }
   },
   "outputs": [],
   "source": [
    "#last three rows are blank/null remove them from data set\n",
    "df_nypd = df_nypd[:-3] "
   ]
  },
  {
   "cell_type": "code",
   "execution_count": 6,
   "metadata": {
    "ExecuteTime": {
     "end_time": "2019-04-13T18:22:17.778682Z",
     "start_time": "2019-04-13T18:22:17.741325Z"
    }
   },
   "outputs": [],
   "source": [
    "#read in second data set from 2014\n",
    "df2 = pd.read_excel('Table_8_Offenses_Known_to_Law_Enforcement_by_New_York_by_City_2014.xls')"
   ]
  },
  {
   "cell_type": "code",
   "execution_count": 7,
   "metadata": {
    "ExecuteTime": {
     "end_time": "2019-04-13T18:22:17.786147Z",
     "start_time": "2019-04-13T18:22:17.780824Z"
    }
   },
   "outputs": [],
   "source": [
    "#repeat the process- locate column title rows and drop blanks, then reset index\n",
    "df_14 = df2.drop([0,1,2,3])\n",
    "df_14.columns = df2.iloc[3]\n",
    "df_14 = df_14.reset_index(drop=True)"
   ]
  },
  {
   "cell_type": "code",
   "execution_count": 8,
   "metadata": {
    "ExecuteTime": {
     "end_time": "2019-04-13T18:22:17.793150Z",
     "start_time": "2019-04-13T18:22:17.788373Z"
    }
   },
   "outputs": [],
   "source": [
    "#clean the column titles for quick iterations\n",
    "df_14.columns = df_14.columns.str.strip().str.lower().str.replace(' ', '_').str.replace('(', '').str.replace(')', '').str.replace('\\n', '_')"
   ]
  },
  {
   "cell_type": "code",
   "execution_count": 9,
   "metadata": {
    "ExecuteTime": {
     "end_time": "2019-04-13T18:22:17.799364Z",
     "start_time": "2019-04-13T18:22:17.795687Z"
    }
   },
   "outputs": [],
   "source": [
    "#drop blank rows from the end of the data set\n",
    "df_14 = df_14[:-7]"
   ]
  },
  {
   "cell_type": "code",
   "execution_count": 10,
   "metadata": {
    "ExecuteTime": {
     "end_time": "2019-04-13T18:22:17.806102Z",
     "start_time": "2019-04-13T18:22:17.801417Z"
    }
   },
   "outputs": [],
   "source": [
    "#removed New York from data set as an outlier (even though it is where I live and I would like to be inclusive, it deserves its own model)\n",
    "df_nypd= df_nypd.loc[df_nypd['city'] != 'New York']\n",
    "df_14= df_14.loc[df_14['city'] != 'New York']\n"
   ]
  },
  {
   "cell_type": "code",
   "execution_count": 11,
   "metadata": {
    "ExecuteTime": {
     "end_time": "2019-04-13T18:22:17.816941Z",
     "start_time": "2019-04-13T18:22:17.808314Z"
    }
   },
   "outputs": [
    {
     "name": "stdout",
     "output_type": "stream",
     "text": [
      "<class 'pandas.core.frame.DataFrame'>\n",
      "Int64Index: 369 entries, 0 to 368\n",
      "Data columns (total 13 columns):\n",
      "city                                    369 non-null object\n",
      "population                              369 non-null object\n",
      "violent_crime                           369 non-null object\n",
      "murder_and_nonnegligent_manslaughter    369 non-null object\n",
      "rape_revised_definition1                227 non-null object\n",
      "rape_legacy_definition2                 142 non-null object\n",
      "robbery                                 369 non-null object\n",
      "aggravated_assault                      369 non-null object\n",
      "property_crime                          368 non-null object\n",
      "burglary                                369 non-null object\n",
      "larceny-_theft                          368 non-null object\n",
      "motor_vehicle_theft                     369 non-null object\n",
      "arson3                                  365 non-null object\n",
      "dtypes: object(13)\n",
      "memory usage: 40.4+ KB\n"
     ]
    }
   ],
   "source": [
    "df_14.info()"
   ]
  },
  {
   "cell_type": "code",
   "execution_count": 12,
   "metadata": {
    "ExecuteTime": {
     "end_time": "2019-04-13T18:22:17.826601Z",
     "start_time": "2019-04-13T18:22:17.818806Z"
    },
    "scrolled": false
   },
   "outputs": [
    {
     "name": "stdout",
     "output_type": "stream",
     "text": [
      "<class 'pandas.core.frame.DataFrame'>\n",
      "Int64Index: 347 entries, 0 to 347\n",
      "Data columns (total 13 columns):\n",
      "city                                    347 non-null object\n",
      "population                              347 non-null object\n",
      "violent_crime                           347 non-null object\n",
      "murder_and_nonnegligent_manslaughter    347 non-null object\n",
      "rape_revised_definition1                0 non-null object\n",
      "rape_legacy_definition2                 347 non-null object\n",
      "robbery                                 347 non-null object\n",
      "aggravated_assault                      347 non-null object\n",
      "property_crime                          347 non-null object\n",
      "burglary                                347 non-null object\n",
      "larceny-_theft                          347 non-null object\n",
      "motor_vehicle_theft                     347 non-null object\n",
      "arson3                                  187 non-null object\n",
      "dtypes: object(13)\n",
      "memory usage: 38.0+ KB\n"
     ]
    }
   ],
   "source": [
    "df_nypd.info()"
   ]
  },
  {
   "cell_type": "markdown",
   "metadata": {},
   "source": [
    "## Select Features"
   ]
  },
  {
   "cell_type": "code",
   "execution_count": 13,
   "metadata": {
    "ExecuteTime": {
     "end_time": "2019-04-13T18:22:17.832065Z",
     "start_time": "2019-04-13T18:22:17.828560Z"
    }
   },
   "outputs": [],
   "source": [
    "features = pd.DataFrame(df_nypd['population'])"
   ]
  },
  {
   "cell_type": "code",
   "execution_count": 14,
   "metadata": {
    "ExecuteTime": {
     "end_time": "2019-04-13T18:22:17.836681Z",
     "start_time": "2019-04-13T18:22:17.833939Z"
    }
   },
   "outputs": [],
   "source": [
    "#features['population_sqd'] = df_nypd['population']*df_nypd['population']"
   ]
  },
  {
   "cell_type": "code",
   "execution_count": 15,
   "metadata": {
    "ExecuteTime": {
     "end_time": "2019-04-13T18:22:17.848450Z",
     "start_time": "2019-04-13T18:22:17.839501Z"
    }
   },
   "outputs": [],
   "source": [
    "features['violent_crime'] = df_nypd['violent_crime'].dropna()\n",
    "features['theft']= df_nypd['larceny-_theft'].dropna()\n",
    "features['robbery']= df_nypd['robbery'].dropna()\n",
    "features['assault']=df_nypd['aggravated_assault'].dropna()"
   ]
  },
  {
   "cell_type": "code",
   "execution_count": 16,
   "metadata": {
    "ExecuteTime": {
     "end_time": "2019-04-13T18:22:17.869308Z",
     "start_time": "2019-04-13T18:22:17.850560Z"
    }
   },
   "outputs": [
    {
     "data": {
      "text/html": [
       "<div>\n",
       "<style scoped>\n",
       "    .dataframe tbody tr th:only-of-type {\n",
       "        vertical-align: middle;\n",
       "    }\n",
       "\n",
       "    .dataframe tbody tr th {\n",
       "        vertical-align: top;\n",
       "    }\n",
       "\n",
       "    .dataframe thead th {\n",
       "        text-align: right;\n",
       "    }\n",
       "</style>\n",
       "<table border=\"1\" class=\"dataframe\">\n",
       "  <thead>\n",
       "    <tr style=\"text-align: right;\">\n",
       "      <th></th>\n",
       "      <th>population</th>\n",
       "      <th>violent_crime</th>\n",
       "      <th>theft</th>\n",
       "      <th>robbery</th>\n",
       "      <th>assault</th>\n",
       "    </tr>\n",
       "  </thead>\n",
       "  <tbody>\n",
       "    <tr>\n",
       "      <th>0</th>\n",
       "      <td>1861</td>\n",
       "      <td>0</td>\n",
       "      <td>10</td>\n",
       "      <td>0</td>\n",
       "      <td>0</td>\n",
       "    </tr>\n",
       "    <tr>\n",
       "      <th>1</th>\n",
       "      <td>2577</td>\n",
       "      <td>3</td>\n",
       "      <td>20</td>\n",
       "      <td>0</td>\n",
       "      <td>3</td>\n",
       "    </tr>\n",
       "    <tr>\n",
       "      <th>2</th>\n",
       "      <td>2846</td>\n",
       "      <td>3</td>\n",
       "      <td>15</td>\n",
       "      <td>0</td>\n",
       "      <td>3</td>\n",
       "    </tr>\n",
       "    <tr>\n",
       "      <th>3</th>\n",
       "      <td>97956</td>\n",
       "      <td>791</td>\n",
       "      <td>3243</td>\n",
       "      <td>227</td>\n",
       "      <td>526</td>\n",
       "    </tr>\n",
       "    <tr>\n",
       "      <th>4</th>\n",
       "      <td>6388</td>\n",
       "      <td>23</td>\n",
       "      <td>165</td>\n",
       "      <td>4</td>\n",
       "      <td>16</td>\n",
       "    </tr>\n",
       "    <tr>\n",
       "      <th>5</th>\n",
       "      <td>4089</td>\n",
       "      <td>5</td>\n",
       "      <td>36</td>\n",
       "      <td>3</td>\n",
       "      <td>2</td>\n",
       "    </tr>\n",
       "    <tr>\n",
       "      <th>6</th>\n",
       "      <td>1781</td>\n",
       "      <td>3</td>\n",
       "      <td>10</td>\n",
       "      <td>0</td>\n",
       "      <td>3</td>\n",
       "    </tr>\n",
       "    <tr>\n",
       "      <th>7</th>\n",
       "      <td>118296</td>\n",
       "      <td>107</td>\n",
       "      <td>1882</td>\n",
       "      <td>31</td>\n",
       "      <td>68</td>\n",
       "    </tr>\n",
       "    <tr>\n",
       "      <th>8</th>\n",
       "      <td>9519</td>\n",
       "      <td>9</td>\n",
       "      <td>188</td>\n",
       "      <td>4</td>\n",
       "      <td>3</td>\n",
       "    </tr>\n",
       "    <tr>\n",
       "      <th>9</th>\n",
       "      <td>18182</td>\n",
       "      <td>30</td>\n",
       "      <td>291</td>\n",
       "      <td>12</td>\n",
       "      <td>18</td>\n",
       "    </tr>\n",
       "    <tr>\n",
       "      <th>10</th>\n",
       "      <td>2053</td>\n",
       "      <td>0</td>\n",
       "      <td>35</td>\n",
       "      <td>0</td>\n",
       "      <td>0</td>\n",
       "    </tr>\n",
       "    <tr>\n",
       "      <th>11</th>\n",
       "      <td>4523</td>\n",
       "      <td>5</td>\n",
       "      <td>28</td>\n",
       "      <td>3</td>\n",
       "      <td>2</td>\n",
       "    </tr>\n",
       "    <tr>\n",
       "      <th>12</th>\n",
       "      <td>658</td>\n",
       "      <td>0</td>\n",
       "      <td>2</td>\n",
       "      <td>0</td>\n",
       "      <td>0</td>\n",
       "    </tr>\n",
       "    <tr>\n",
       "      <th>13</th>\n",
       "      <td>2522</td>\n",
       "      <td>2</td>\n",
       "      <td>4</td>\n",
       "      <td>0</td>\n",
       "      <td>2</td>\n",
       "    </tr>\n",
       "    <tr>\n",
       "      <th>14</th>\n",
       "      <td>27270</td>\n",
       "      <td>96</td>\n",
       "      <td>721</td>\n",
       "      <td>22</td>\n",
       "      <td>53</td>\n",
       "    </tr>\n",
       "    <tr>\n",
       "      <th>15</th>\n",
       "      <td>3333</td>\n",
       "      <td>1</td>\n",
       "      <td>20</td>\n",
       "      <td>1</td>\n",
       "      <td>0</td>\n",
       "    </tr>\n",
       "    <tr>\n",
       "      <th>16</th>\n",
       "      <td>7473</td>\n",
       "      <td>5</td>\n",
       "      <td>77</td>\n",
       "      <td>1</td>\n",
       "      <td>4</td>\n",
       "    </tr>\n",
       "    <tr>\n",
       "      <th>17</th>\n",
       "      <td>5418</td>\n",
       "      <td>8</td>\n",
       "      <td>78</td>\n",
       "      <td>3</td>\n",
       "      <td>5</td>\n",
       "    </tr>\n",
       "    <tr>\n",
       "      <th>18</th>\n",
       "      <td>15374</td>\n",
       "      <td>57</td>\n",
       "      <td>454</td>\n",
       "      <td>13</td>\n",
       "      <td>37</td>\n",
       "    </tr>\n",
       "    <tr>\n",
       "      <th>19</th>\n",
       "      <td>5733</td>\n",
       "      <td>15</td>\n",
       "      <td>157</td>\n",
       "      <td>3</td>\n",
       "      <td>11</td>\n",
       "    </tr>\n",
       "  </tbody>\n",
       "</table>\n",
       "</div>"
      ],
      "text/plain": [
       "   population violent_crime theft robbery assault\n",
       "0        1861             0    10       0       0\n",
       "1        2577             3    20       0       3\n",
       "2        2846             3    15       0       3\n",
       "3       97956           791  3243     227     526\n",
       "4        6388            23   165       4      16\n",
       "5        4089             5    36       3       2\n",
       "6        1781             3    10       0       3\n",
       "7      118296           107  1882      31      68\n",
       "8        9519             9   188       4       3\n",
       "9       18182            30   291      12      18\n",
       "10       2053             0    35       0       0\n",
       "11       4523             5    28       3       2\n",
       "12        658             0     2       0       0\n",
       "13       2522             2     4       0       2\n",
       "14      27270            96   721      22      53\n",
       "15       3333             1    20       1       0\n",
       "16       7473             5    77       1       4\n",
       "17       5418             8    78       3       5\n",
       "18      15374            57   454      13      37\n",
       "19       5733            15   157       3      11"
      ]
     },
     "execution_count": 16,
     "metadata": {},
     "output_type": "execute_result"
    }
   ],
   "source": [
    "features.head(20)"
   ]
  },
  {
   "cell_type": "code",
   "execution_count": 17,
   "metadata": {
    "ExecuteTime": {
     "end_time": "2019-04-13T18:22:17.878696Z",
     "start_time": "2019-04-13T18:22:17.871722Z"
    }
   },
   "outputs": [
    {
     "name": "stdout",
     "output_type": "stream",
     "text": [
      "<class 'pandas.core.frame.DataFrame'>\n",
      "Int64Index: 347 entries, 0 to 347\n",
      "Data columns (total 5 columns):\n",
      "population       347 non-null object\n",
      "violent_crime    347 non-null object\n",
      "theft            347 non-null object\n",
      "robbery          347 non-null object\n",
      "assault          347 non-null object\n",
      "dtypes: object(5)\n",
      "memory usage: 16.3+ KB\n"
     ]
    }
   ],
   "source": [
    "features.info()"
   ]
  },
  {
   "cell_type": "code",
   "execution_count": 18,
   "metadata": {
    "ExecuteTime": {
     "end_time": "2019-04-13T18:22:17.887507Z",
     "start_time": "2019-04-13T18:22:17.884244Z"
    }
   },
   "outputs": [],
   "source": [
    "target = df_nypd['property_crime']"
   ]
  },
  {
   "cell_type": "code",
   "execution_count": 19,
   "metadata": {
    "ExecuteTime": {
     "end_time": "2019-04-13T18:22:17.893697Z",
     "start_time": "2019-04-13T18:22:17.890892Z"
    }
   },
   "outputs": [],
   "source": [
    "X = features.values\n",
    "y = target.values"
   ]
  },
  {
   "cell_type": "code",
   "execution_count": 20,
   "metadata": {
    "ExecuteTime": {
     "end_time": "2019-04-13T18:22:17.900360Z",
     "start_time": "2019-04-13T18:22:17.896027Z"
    }
   },
   "outputs": [],
   "source": [
    "# Create training and test sets\n",
    "X_train, X_test, y_train, y_test = train_test_split(X, y, test_size = 0.3, random_state=42)"
   ]
  },
  {
   "cell_type": "code",
   "execution_count": 21,
   "metadata": {
    "ExecuteTime": {
     "end_time": "2019-04-13T18:22:17.909804Z",
     "start_time": "2019-04-13T18:22:17.902684Z"
    }
   },
   "outputs": [
    {
     "name": "stdout",
     "output_type": "stream",
     "text": [
      "R^2: 0.994386616143785\n",
      "0.9988698267326669\n"
     ]
    }
   ],
   "source": [
    "# Create a Linear regression and fit it to the training set\n",
    "regr = LinearRegression()\n",
    "\n",
    "regr.fit(X_train,y_train)\n",
    "\n",
    "# Predict on the test data: y_pred\n",
    "y_pred = regr.predict(X_test)\n",
    "\n",
    "# Compute and print R^2 \n",
    "print(\"R^2: {}\".format(regr.score(X_test, y_test)))\n",
    "print(regr.score(X_train, y_train))"
   ]
  },
  {
   "cell_type": "code",
   "execution_count": 22,
   "metadata": {
    "ExecuteTime": {
     "end_time": "2019-04-13T18:22:17.920782Z",
     "start_time": "2019-04-13T18:22:17.911735Z"
    }
   },
   "outputs": [
    {
     "name": "stdout",
     "output_type": "stream",
     "text": [
      "[0.99880899 0.99171982 0.9972956 ]\n",
      "0.9959414717008689\n"
     ]
    }
   ],
   "source": [
    "cv_results= cross_val_score(regr, X, y, cv=3)\n",
    "print(cv_results)\n",
    "print(np.mean(cv_results))"
   ]
  },
  {
   "cell_type": "code",
   "execution_count": 23,
   "metadata": {
    "ExecuteTime": {
     "end_time": "2019-04-13T18:22:17.924988Z",
     "start_time": "2019-04-13T18:22:17.922403Z"
    }
   },
   "outputs": [],
   "source": [
    "data = pd.DataFrame(features)"
   ]
  },
  {
   "cell_type": "code",
   "execution_count": 24,
   "metadata": {
    "ExecuteTime": {
     "end_time": "2019-04-13T18:22:17.934460Z",
     "start_time": "2019-04-13T18:22:17.927350Z"
    }
   },
   "outputs": [
    {
     "name": "stdout",
     "output_type": "stream",
     "text": [
      "<class 'pandas.core.frame.DataFrame'>\n",
      "Int64Index: 347 entries, 0 to 347\n",
      "Data columns (total 5 columns):\n",
      "population       347 non-null object\n",
      "violent_crime    347 non-null object\n",
      "theft            347 non-null object\n",
      "robbery          347 non-null object\n",
      "assault          347 non-null object\n",
      "dtypes: object(5)\n",
      "memory usage: 16.3+ KB\n"
     ]
    }
   ],
   "source": [
    "data.info()"
   ]
  },
  {
   "cell_type": "code",
   "execution_count": 25,
   "metadata": {
    "ExecuteTime": {
     "end_time": "2019-04-13T18:22:17.948004Z",
     "start_time": "2019-04-13T18:22:17.937074Z"
    }
   },
   "outputs": [
    {
     "name": "stdout",
     "output_type": "stream",
     "text": [
      "\n",
      "Coefficients: \n",
      " [[ 0.01242641 -2.9106039   4.10925889]]\n",
      "\n",
      "Intercept: \n",
      " [29.02435237]\n",
      "\n",
      "R-squared:\n",
      "0.9272347381948852\n"
     ]
    }
   ],
   "source": [
    "# Instantiate and fit our model.\n",
    "reg = LinearRegression()\n",
    "Yy = y.reshape(-1, 1)\n",
    "Xx = data[['population','robbery','violent_crime']]\n",
    "reg.fit(Xx, Yy)\n",
    "\n",
    "# Inspect the results.\n",
    "print('\\nCoefficients: \\n', reg.coef_)\n",
    "print('\\nIntercept: \\n', reg.intercept_)\n",
    "print('\\nR-squared:')\n",
    "print(reg.score(Xx, Yy))"
   ]
  },
  {
   "cell_type": "code",
   "execution_count": 26,
   "metadata": {
    "ExecuteTime": {
     "end_time": "2019-04-13T18:22:17.963547Z",
     "start_time": "2019-04-13T18:22:17.950082Z"
    }
   },
   "outputs": [
    {
     "name": "stdout",
     "output_type": "stream",
     "text": [
      "Cross Validation Score [0.96095093 0.73770297 0.86115825]\n",
      "0.8532707154782332\n"
     ]
    }
   ],
   "source": [
    "cv_results= cross_val_score(reg, Xx, Yy, cv=3)\n",
    "print(\"Cross Validation Score\",cv_results)\n",
    "print(np.mean(cv_results))"
   ]
  },
  {
   "cell_type": "markdown",
   "metadata": {},
   "source": [
    "## Test on a new dataset"
   ]
  },
  {
   "cell_type": "code",
   "execution_count": 27,
   "metadata": {
    "ExecuteTime": {
     "end_time": "2019-04-13T18:22:17.968432Z",
     "start_time": "2019-04-13T18:22:17.965330Z"
    }
   },
   "outputs": [],
   "source": [
    "pd.options.display.max_rows = 3000"
   ]
  },
  {
   "cell_type": "code",
   "execution_count": 28,
   "metadata": {
    "ExecuteTime": {
     "end_time": "2019-04-13T18:22:17.974003Z",
     "start_time": "2019-04-13T18:22:17.970207Z"
    }
   },
   "outputs": [],
   "source": [
    "features2 = pd.DataFrame(df_14['population'])"
   ]
  },
  {
   "cell_type": "code",
   "execution_count": 29,
   "metadata": {
    "ExecuteTime": {
     "end_time": "2019-04-13T18:22:17.987865Z",
     "start_time": "2019-04-13T18:22:17.976587Z"
    }
   },
   "outputs": [],
   "source": [
    "#change murder and robbery to categorical features2\n",
    "features2['violent_crime'] = df_nypd['violent_crime'].dropna()\n",
    "features2['theft']= df_nypd['larceny-_theft'].dropna()\n",
    "features2['robbery']= df_nypd['robbery'].dropna()\n",
    "features2['assault']=df_nypd['aggravated_assault'].dropna()"
   ]
  },
  {
   "cell_type": "code",
   "execution_count": 30,
   "metadata": {
    "ExecuteTime": {
     "end_time": "2019-04-13T18:22:17.992457Z",
     "start_time": "2019-04-13T18:22:17.989915Z"
    }
   },
   "outputs": [],
   "source": [
    "#features2 = features2[:-20]"
   ]
  },
  {
   "cell_type": "code",
   "execution_count": 31,
   "metadata": {
    "ExecuteTime": {
     "end_time": "2019-04-13T18:22:17.999651Z",
     "start_time": "2019-04-13T18:22:17.994537Z"
    }
   },
   "outputs": [],
   "source": [
    "features2 = features2.dropna(axis=0, how='any')"
   ]
  },
  {
   "cell_type": "code",
   "execution_count": 32,
   "metadata": {
    "ExecuteTime": {
     "end_time": "2019-04-13T18:22:18.008395Z",
     "start_time": "2019-04-13T18:22:18.001545Z"
    }
   },
   "outputs": [
    {
     "name": "stdout",
     "output_type": "stream",
     "text": [
      "<class 'pandas.core.frame.DataFrame'>\n",
      "Int64Index: 347 entries, 0 to 347\n",
      "Data columns (total 5 columns):\n",
      "population       347 non-null object\n",
      "violent_crime    347 non-null object\n",
      "theft            347 non-null object\n",
      "robbery          347 non-null object\n",
      "assault          347 non-null object\n",
      "dtypes: object(5)\n",
      "memory usage: 16.3+ KB\n"
     ]
    }
   ],
   "source": [
    "features2.info()"
   ]
  },
  {
   "cell_type": "code",
   "execution_count": 33,
   "metadata": {
    "ExecuteTime": {
     "end_time": "2019-04-13T18:22:18.014715Z",
     "start_time": "2019-04-13T18:22:18.010958Z"
    }
   },
   "outputs": [],
   "source": [
    "#drop property crime lower than 3 to get same number of targets and features\n",
    "target2 = df_14.loc[df_14['property_crime'] > 3, 'property_crime']"
   ]
  },
  {
   "cell_type": "code",
   "execution_count": 34,
   "metadata": {
    "ExecuteTime": {
     "end_time": "2019-04-13T18:22:18.020564Z",
     "start_time": "2019-04-13T18:22:18.016718Z"
    }
   },
   "outputs": [],
   "source": [
    "target2= target2.dropna()"
   ]
  },
  {
   "cell_type": "code",
   "execution_count": 35,
   "metadata": {
    "ExecuteTime": {
     "end_time": "2019-04-13T18:22:18.029623Z",
     "start_time": "2019-04-13T18:22:18.022617Z"
    }
   },
   "outputs": [
    {
     "data": {
      "text/plain": [
       "count     347\n",
       "unique    225\n",
       "top         9\n",
       "freq        9\n",
       "Name: property_crime, dtype: int64"
      ]
     },
     "execution_count": 35,
     "metadata": {},
     "output_type": "execute_result"
    }
   ],
   "source": [
    "target2.describe()"
   ]
  },
  {
   "cell_type": "code",
   "execution_count": 36,
   "metadata": {
    "ExecuteTime": {
     "end_time": "2019-04-13T18:22:18.034385Z",
     "start_time": "2019-04-13T18:22:18.031608Z"
    }
   },
   "outputs": [],
   "source": [
    "X2 = features2.values\n",
    "y2 = target2.values"
   ]
  },
  {
   "cell_type": "code",
   "execution_count": 37,
   "metadata": {
    "ExecuteTime": {
     "end_time": "2019-04-13T18:22:18.039924Z",
     "start_time": "2019-04-13T18:22:18.036423Z"
    }
   },
   "outputs": [],
   "source": [
    "# Create training and test sets\n",
    "X2_train, X2_test, y2_train, y2_test = train_test_split(X2, y2, test_size = 0.3, random_state=42)"
   ]
  },
  {
   "cell_type": "code",
   "execution_count": 38,
   "metadata": {
    "ExecuteTime": {
     "end_time": "2019-04-13T18:22:18.048268Z",
     "start_time": "2019-04-13T18:22:18.041820Z"
    }
   },
   "outputs": [
    {
     "name": "stdout",
     "output_type": "stream",
     "text": [
      "R^2: -1.8022997535196148\n",
      "0.00405185940750219\n"
     ]
    }
   ],
   "source": [
    "# Create a Linear regression and fit it to the training set\n",
    "regr2 = LinearRegression()\n",
    "\n",
    "regr2.fit(X2_train,y2_train)\n",
    "\n",
    "# Predict on the test data: y_pred\n",
    "y2_pred = regr2.predict(X2_test)\n",
    "\n",
    "# Compute and print R^2 \n",
    "print(\"R^2: {}\".format(regr2.score(X2_test, y2_test)))\n",
    "print(regr2.score(X2_train, y2_train))"
   ]
  },
  {
   "cell_type": "code",
   "execution_count": 39,
   "metadata": {
    "ExecuteTime": {
     "end_time": "2019-04-13T18:22:18.059327Z",
     "start_time": "2019-04-13T18:22:18.050111Z"
    }
   },
   "outputs": [
    {
     "name": "stdout",
     "output_type": "stream",
     "text": [
      "[-0.55444713 -0.0113326  -0.30386105]\n",
      "-0.2898802614718677\n"
     ]
    }
   ],
   "source": [
    "cv_results2= cross_val_score(regr2, X2, y2, cv=3)\n",
    "print(cv_results2)\n",
    "print(np.mean(cv_results2))"
   ]
  },
  {
   "cell_type": "code",
   "execution_count": 40,
   "metadata": {
    "ExecuteTime": {
     "end_time": "2019-04-13T18:22:18.063965Z",
     "start_time": "2019-04-13T18:22:18.061326Z"
    }
   },
   "outputs": [],
   "source": [
    "data2 = pd.DataFrame(features2)"
   ]
  },
  {
   "cell_type": "code",
   "execution_count": 41,
   "metadata": {
    "ExecuteTime": {
     "end_time": "2019-04-13T18:22:18.072696Z",
     "start_time": "2019-04-13T18:22:18.065939Z"
    }
   },
   "outputs": [
    {
     "name": "stdout",
     "output_type": "stream",
     "text": [
      "<class 'pandas.core.frame.DataFrame'>\n",
      "Int64Index: 347 entries, 0 to 347\n",
      "Data columns (total 5 columns):\n",
      "population       347 non-null object\n",
      "violent_crime    347 non-null object\n",
      "theft            347 non-null object\n",
      "robbery          347 non-null object\n",
      "assault          347 non-null object\n",
      "dtypes: object(5)\n",
      "memory usage: 16.3+ KB\n"
     ]
    }
   ],
   "source": [
    "data2.info()"
   ]
  },
  {
   "cell_type": "code",
   "execution_count": 42,
   "metadata": {
    "ExecuteTime": {
     "end_time": "2019-04-13T18:22:18.084898Z",
     "start_time": "2019-04-13T18:22:18.075149Z"
    }
   },
   "outputs": [
    {
     "name": "stdout",
     "output_type": "stream",
     "text": [
      "\n",
      "Coefficients: \n",
      " [[-4.83243646e-05 -2.38852727e+01  9.78650691e+00]]\n",
      "\n",
      "Intercept: \n",
      " [667.98771714]\n",
      "\n",
      "R-squared:\n",
      "0.0011754072490490763\n"
     ]
    }
   ],
   "source": [
    "# Instantiate and fit our model.\n",
    "reg2 = LinearRegression()\n",
    "Yy2 = y2.reshape(-1, 1)\n",
    "Xx2 = data2[['population','robbery','violent_crime']]\n",
    "reg2.fit(Xx2, Yy2)\n",
    "\n",
    "# Inspect the results.\n",
    "print('\\nCoefficients: \\n', reg2.coef_)\n",
    "print('\\nIntercept: \\n', reg2.intercept_)\n",
    "print('\\nR-squared:')\n",
    "print(reg2.score(Xx2, Yy2))"
   ]
  },
  {
   "cell_type": "code",
   "execution_count": 43,
   "metadata": {
    "ExecuteTime": {
     "end_time": "2019-04-13T18:22:18.100307Z",
     "start_time": "2019-04-13T18:22:18.086706Z"
    }
   },
   "outputs": [
    {
     "name": "stdout",
     "output_type": "stream",
     "text": [
      "Cross Validation Score [-0.14163744 -0.01361468 -0.43842376]\n",
      "-0.19789195837334125\n"
     ]
    }
   ],
   "source": [
    "cv_results2= cross_val_score(reg2, Xx2, Yy2, cv=3)\n",
    "print(\"Cross Validation Score\",cv_results2)\n",
    "print(np.mean(cv_results2))"
   ]
  },
  {
   "cell_type": "markdown",
   "metadata": {},
   "source": [
    "This was a bit tricky, and after some review, the models doesn't seem to work or have a consistent R-squared."
   ]
  },
  {
   "cell_type": "code",
   "execution_count": null,
   "metadata": {},
   "outputs": [],
   "source": []
  }
 ],
 "metadata": {
  "kernelspec": {
   "display_name": "Python 3",
   "language": "python",
   "name": "python3"
  },
  "language_info": {
   "codemirror_mode": {
    "name": "ipython",
    "version": 3
   },
   "file_extension": ".py",
   "mimetype": "text/x-python",
   "name": "python",
   "nbconvert_exporter": "python",
   "pygments_lexer": "ipython3",
   "version": "3.7.1"
  },
  "toc": {
   "base_numbering": 1,
   "nav_menu": {},
   "number_sections": true,
   "sideBar": true,
   "skip_h1_title": false,
   "title_cell": "Table of Contents",
   "title_sidebar": "Contents",
   "toc_cell": false,
   "toc_position": {},
   "toc_section_display": true,
   "toc_window_display": false
  }
 },
 "nbformat": 4,
 "nbformat_minor": 2
}
