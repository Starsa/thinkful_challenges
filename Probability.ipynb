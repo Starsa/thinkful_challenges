{
 "cells": [
  {
   "cell_type": "markdown",
   "metadata": {},
   "source": [
    "Question 1:\n",
    "\n",
    "Calculate probability of flipping coin 4 times and getting each pattern\n",
    "HTTH = \n",
    "P(H) * P(T | H) * P(T | T) * P(H | T)= 1/2 * 1/2 * 1/2 * 1/2 = 1/16\n",
    "\n",
    "HHHH = \n",
    "P(H) * P(H | H) * P(H| H) * P(H | H)= 1/2 * 1/2 * 1/2 * 1/2 = 1/16\n",
    "\n",
    "TTHH =\n",
    "P(T) * P(T | T) * P(H | T) * P(H | H)= 1/2 * 1/2 * 1/2 * 1/2 = 1/16\n"
   ]
  },
  {
   "cell_type": "markdown",
   "metadata": {},
   "source": [
    "Question 2:\n",
    "\n",
    "A list with 24 women and 21 men. What is probablity of not chosing a man from the list?\n",
    "\n",
    "24/45"
   ]
  },
  {
   "cell_type": "markdown",
   "metadata": {},
   "source": [
    "Question 3:\n",
    "\n",
    "Probability that Bernice will travel by plane in next year is 10%. Probability of a plane crash is .005%. What is the probability that Bernice will be in a plane crash next year?\n",
    "\n",
    "P(flying)* P(crash | flying) = 0.1 * 0.00005 = 0.000005 = 0.0005%"
   ]
  },
  {
   "cell_type": "markdown",
   "metadata": {},
   "source": [
    "Question 4:\n",
    "\n",
    "Study of company website. Each time a user clicks a link on the website there is a 5% chance the user will be asked to complete a short survey. They conclude that, on average, users spend 15 minutes surfing the website before moving on to other things. What is wrong with this conclusion?\n",
    "\n",
    "Answer: I think there are acouple of things wrong with this. \n",
    "\n",
    "First, you are not asking the right people, these people have already been on the website clicking links. \n",
    "\n",
    "Second, it's a 5% chance they will be asked to complete the survey, that means in reality, less than 5% of visitors that spend enough time on the website to recieve the survey are actually completeing the survey. "
   ]
  }
 ],
 "metadata": {
  "kernelspec": {
   "display_name": "Python 3",
   "language": "python",
   "name": "python3"
  },
  "language_info": {
   "codemirror_mode": {
    "name": "ipython",
    "version": 3
   },
   "file_extension": ".py",
   "mimetype": "text/x-python",
   "name": "python",
   "nbconvert_exporter": "python",
   "pygments_lexer": "ipython3",
   "version": "3.7.1"
  }
 },
 "nbformat": 4,
 "nbformat_minor": 2
}
