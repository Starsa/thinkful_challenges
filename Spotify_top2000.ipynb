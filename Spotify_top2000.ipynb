{
  "nbformat": 4,
  "nbformat_minor": 0,
  "metadata": {
    "kernelspec": {
      "display_name": "Python 3",
      "language": "python",
      "name": "python3"
    },
    "language_info": {
      "codemirror_mode": {
        "name": "ipython",
        "version": 3
      },
      "file_extension": ".py",
      "mimetype": "text/x-python",
      "name": "python",
      "nbconvert_exporter": "python",
      "pygments_lexer": "ipython3",
      "version": "3.7.3"
    },
    "toc": {
      "base_numbering": 1,
      "nav_menu": {},
      "number_sections": true,
      "sideBar": true,
      "skip_h1_title": false,
      "title_cell": "Table of Contents",
      "title_sidebar": "Contents",
      "toc_cell": false,
      "toc_position": {
        "height": "calc(100% - 180px)",
        "left": "10px",
        "top": "150px",
        "width": "165px"
      },
      "toc_section_display": true,
      "toc_window_display": true
    },
    "colab": {
      "name": "Spotify-top2000.ipynb",
      "provenance": [],
      "collapsed_sections": []
    }
  },
  "cells": [
    {
      "cell_type": "markdown",
      "metadata": {
        "id": "l9aI1t_Hw2Ka",
        "colab_type": "text"
      },
      "source": [
        "# Spotify's Top 2000 songs\n"
      ]
    },
    {
      "cell_type": "markdown",
      "metadata": {
        "id": "PmEmVS1aw2Kb",
        "colab_type": "text"
      },
      "source": [
        "## Introduction\n",
        "\n",
        "Artists have been making hit songs for as long as music has been around. With several platforms to reach ever changing audiences, music has a potential for the largest audience exposure. \n",
        "\n",
        "If we look at popular songs over the past 70 years and compare them with a songs popularity today, we may be able to gain some insight into what makes songs popular. Potentially, we will be able to make recommendations to producers, and musicians alike to some formula for a successful song. We can answer interesting questions like \"What makes a hit song?\" and \"What genre is the most popular?\" or \"Does danceability in a song make it more popular than acoustic songs?\".\n",
        "\n",
        "We will focus on one music platform with a lot of music data, Spotify. This platform is an informative tool for new and emerging artist, listeners and artists from all genres. It allows listeners to generate playlists, find favorite songs and discover new artists. We will review the current statistics of popular songs to see what trends have staying power. \n",
        "\n",
        "__*Do popular songs from the last twenty years have more danceability than songs before 2000?*__"
      ]
    },
    {
      "cell_type": "markdown",
      "metadata": {
        "id": "11jq0mWmw2Kc",
        "colab_type": "text"
      },
      "source": [
        "## Hypothesis\n",
        "\n",
        "Ho: There is no significant difference between a songs dancability 20 years ago and a songs current average popularity.\n",
        "\n",
        "Ha: There is a significant difference between a songs dancability 20 years ago and  a songs current average popularity."
      ]
    },
    {
      "cell_type": "markdown",
      "metadata": {
        "id": "Zv6rbQDww2Kd",
        "colab_type": "text"
      },
      "source": [
        "## Data\n",
        "This dataset (found on Kaggle [here](https://www.kaggle.com/iamsumat/spotify-top-2000s-mega-dataset#Spotify-2000.csv)) contains audio statistics of the top 2000 tracks on Spotify with release dates between 1956 to 2019. The data has 15 columns and 1994 columns describing a track and it's audio features like Danceability, Liveness, Length and Popularity.\n",
        "\n",
        "\n",
        "* Index: ID\n",
        "* Title: Name of the Track\n",
        "* Artist: Name of the Artist\n",
        "* Top Genre: Genre of the track\n",
        "* Year: Release Year of the track\n",
        "* Beats per Minute(BPM): The tempo of the song\n",
        "* Energy: The energy of a song - the higher the value, the more energtic. song\n",
        "* Danceability: The higher the value, the easier it is to dance to this song.\n",
        "* Loudness: The higher the value, the louder the song.\n",
        "* Valence: The higher the value, the more positive mood for the song.\n",
        "* Length: The duration of the song.\n",
        "* Acoustic: The higher the value the more acoustic the song is.\n",
        "* Speechiness: The higher the value the more spoken words the song contains\n",
        "* Popularity: The higher the value the more popular the song is."
      ]
    },
    {
      "cell_type": "code",
      "metadata": {
        "id": "JF2wGcidw4WA",
        "colab_type": "code",
        "outputId": "d72ebdfa-0481-4048-daa4-1ffd6ca9e010",
        "colab": {
          "base_uri": "https://localhost:8080/",
          "height": 34
        }
      },
      "source": [
        "from google.colab import drive \n",
        "drive.mount('/content/drive')"
      ],
      "execution_count": 0,
      "outputs": [
        {
          "output_type": "stream",
          "text": [
            "Drive already mounted at /content/drive; to attempt to forcibly remount, call drive.mount(\"/content/drive\", force_remount=True).\n"
          ],
          "name": "stdout"
        }
      ]
    },
    {
      "cell_type": "code",
      "metadata": {
        "ExecuteTime": {
          "end_time": "2020-04-23T17:30:47.907974Z",
          "start_time": "2020-04-23T17:30:46.330235Z"
        },
        "id": "nJfR0Sbpw2Kd",
        "colab_type": "code",
        "colab": {}
      },
      "source": [
        "import pandas as pd \n",
        "import numpy as np\n",
        "import matplotlib.pyplot as plt\n",
        "import seaborn as sns\n",
        "%matplotlib inline\n",
        "from scipy import stats\n",
        "import math"
      ],
      "execution_count": 0,
      "outputs": []
    },
    {
      "cell_type": "code",
      "metadata": {
        "ExecuteTime": {
          "end_time": "2020-04-23T17:30:47.944729Z",
          "start_time": "2020-04-23T17:30:47.910711Z"
        },
        "id": "J-p4ENNVw2Kh",
        "colab_type": "code",
        "outputId": "3894f2a8-3645-4f3f-d40d-6517511eaa64",
        "colab": {
          "base_uri": "https://localhost:8080/",
          "height": 654
        }
      },
      "source": [
        "spotify2000= pd.read_csv('/content/drive/My Drive/Thinkful/CapstoneProjects/Spotify-2000.csv', index_col=0)\n",
        "\n",
        "spotify2000.info()\n",
        "spotify2000.head()\n",
        "spotify2000.describe()"
      ],
      "execution_count": 0,
      "outputs": [
        {
          "output_type": "stream",
          "text": [
            "<class 'pandas.core.frame.DataFrame'>\n",
            "Int64Index: 1994 entries, 1 to 1994\n",
            "Data columns (total 14 columns):\n",
            " #   Column                  Non-Null Count  Dtype \n",
            "---  ------                  --------------  ----- \n",
            " 0   Title                   1994 non-null   object\n",
            " 1   Artist                  1994 non-null   object\n",
            " 2   Top Genre               1994 non-null   object\n",
            " 3   Year                    1994 non-null   int64 \n",
            " 4   Beats Per Minute (BPM)  1994 non-null   int64 \n",
            " 5   Energy                  1994 non-null   int64 \n",
            " 6   Danceability            1994 non-null   int64 \n",
            " 7   Loudness (dB)           1994 non-null   int64 \n",
            " 8   Liveness                1994 non-null   int64 \n",
            " 9   Valence                 1994 non-null   int64 \n",
            " 10  Length (Duration)       1994 non-null   object\n",
            " 11  Acousticness            1994 non-null   int64 \n",
            " 12  Speechiness             1994 non-null   int64 \n",
            " 13  Popularity              1994 non-null   int64 \n",
            "dtypes: int64(10), object(4)\n",
            "memory usage: 233.7+ KB\n"
          ],
          "name": "stdout"
        },
        {
          "output_type": "execute_result",
          "data": {
            "text/html": [
              "<div>\n",
              "<style scoped>\n",
              "    .dataframe tbody tr th:only-of-type {\n",
              "        vertical-align: middle;\n",
              "    }\n",
              "\n",
              "    .dataframe tbody tr th {\n",
              "        vertical-align: top;\n",
              "    }\n",
              "\n",
              "    .dataframe thead th {\n",
              "        text-align: right;\n",
              "    }\n",
              "</style>\n",
              "<table border=\"1\" class=\"dataframe\">\n",
              "  <thead>\n",
              "    <tr style=\"text-align: right;\">\n",
              "      <th></th>\n",
              "      <th>Year</th>\n",
              "      <th>Beats Per Minute (BPM)</th>\n",
              "      <th>Energy</th>\n",
              "      <th>Danceability</th>\n",
              "      <th>Loudness (dB)</th>\n",
              "      <th>Liveness</th>\n",
              "      <th>Valence</th>\n",
              "      <th>Acousticness</th>\n",
              "      <th>Speechiness</th>\n",
              "      <th>Popularity</th>\n",
              "    </tr>\n",
              "  </thead>\n",
              "  <tbody>\n",
              "    <tr>\n",
              "      <th>count</th>\n",
              "      <td>1994.000000</td>\n",
              "      <td>1994.000000</td>\n",
              "      <td>1994.000000</td>\n",
              "      <td>1994.000000</td>\n",
              "      <td>1994.000000</td>\n",
              "      <td>1994.000000</td>\n",
              "      <td>1994.000000</td>\n",
              "      <td>1994.000000</td>\n",
              "      <td>1994.000000</td>\n",
              "      <td>1994.00000</td>\n",
              "    </tr>\n",
              "    <tr>\n",
              "      <th>mean</th>\n",
              "      <td>1992.992979</td>\n",
              "      <td>120.215647</td>\n",
              "      <td>59.679539</td>\n",
              "      <td>53.238215</td>\n",
              "      <td>-9.008526</td>\n",
              "      <td>19.012036</td>\n",
              "      <td>49.408726</td>\n",
              "      <td>28.858074</td>\n",
              "      <td>4.994985</td>\n",
              "      <td>59.52658</td>\n",
              "    </tr>\n",
              "    <tr>\n",
              "      <th>std</th>\n",
              "      <td>16.116048</td>\n",
              "      <td>28.028096</td>\n",
              "      <td>22.154322</td>\n",
              "      <td>15.351507</td>\n",
              "      <td>3.647876</td>\n",
              "      <td>16.727378</td>\n",
              "      <td>24.858212</td>\n",
              "      <td>29.011986</td>\n",
              "      <td>4.401566</td>\n",
              "      <td>14.35160</td>\n",
              "    </tr>\n",
              "    <tr>\n",
              "      <th>min</th>\n",
              "      <td>1956.000000</td>\n",
              "      <td>37.000000</td>\n",
              "      <td>3.000000</td>\n",
              "      <td>10.000000</td>\n",
              "      <td>-27.000000</td>\n",
              "      <td>2.000000</td>\n",
              "      <td>3.000000</td>\n",
              "      <td>0.000000</td>\n",
              "      <td>2.000000</td>\n",
              "      <td>11.00000</td>\n",
              "    </tr>\n",
              "    <tr>\n",
              "      <th>25%</th>\n",
              "      <td>1979.000000</td>\n",
              "      <td>99.000000</td>\n",
              "      <td>42.000000</td>\n",
              "      <td>43.000000</td>\n",
              "      <td>-11.000000</td>\n",
              "      <td>9.000000</td>\n",
              "      <td>29.000000</td>\n",
              "      <td>3.000000</td>\n",
              "      <td>3.000000</td>\n",
              "      <td>49.25000</td>\n",
              "    </tr>\n",
              "    <tr>\n",
              "      <th>50%</th>\n",
              "      <td>1993.000000</td>\n",
              "      <td>119.000000</td>\n",
              "      <td>61.000000</td>\n",
              "      <td>53.000000</td>\n",
              "      <td>-8.000000</td>\n",
              "      <td>12.000000</td>\n",
              "      <td>47.000000</td>\n",
              "      <td>18.000000</td>\n",
              "      <td>4.000000</td>\n",
              "      <td>62.00000</td>\n",
              "    </tr>\n",
              "    <tr>\n",
              "      <th>75%</th>\n",
              "      <td>2007.000000</td>\n",
              "      <td>136.000000</td>\n",
              "      <td>78.000000</td>\n",
              "      <td>64.000000</td>\n",
              "      <td>-6.000000</td>\n",
              "      <td>23.000000</td>\n",
              "      <td>69.750000</td>\n",
              "      <td>50.000000</td>\n",
              "      <td>5.000000</td>\n",
              "      <td>71.00000</td>\n",
              "    </tr>\n",
              "    <tr>\n",
              "      <th>max</th>\n",
              "      <td>2019.000000</td>\n",
              "      <td>206.000000</td>\n",
              "      <td>100.000000</td>\n",
              "      <td>96.000000</td>\n",
              "      <td>-2.000000</td>\n",
              "      <td>99.000000</td>\n",
              "      <td>99.000000</td>\n",
              "      <td>99.000000</td>\n",
              "      <td>55.000000</td>\n",
              "      <td>100.00000</td>\n",
              "    </tr>\n",
              "  </tbody>\n",
              "</table>\n",
              "</div>"
            ],
            "text/plain": [
              "              Year  Beats Per Minute (BPM)  ...  Speechiness  Popularity\n",
              "count  1994.000000             1994.000000  ...  1994.000000  1994.00000\n",
              "mean   1992.992979              120.215647  ...     4.994985    59.52658\n",
              "std      16.116048               28.028096  ...     4.401566    14.35160\n",
              "min    1956.000000               37.000000  ...     2.000000    11.00000\n",
              "25%    1979.000000               99.000000  ...     3.000000    49.25000\n",
              "50%    1993.000000              119.000000  ...     4.000000    62.00000\n",
              "75%    2007.000000              136.000000  ...     5.000000    71.00000\n",
              "max    2019.000000              206.000000  ...    55.000000   100.00000\n",
              "\n",
              "[8 rows x 10 columns]"
            ]
          },
          "metadata": {
            "tags": []
          },
          "execution_count": 8
        }
      ]
    },
    {
      "cell_type": "code",
      "metadata": {
        "ExecuteTime": {
          "end_time": "2020-04-23T17:30:47.952106Z",
          "start_time": "2020-04-23T17:30:47.947447Z"
        },
        "id": "m1ttuTDFw2Kk",
        "colab_type": "code",
        "outputId": "8d6b877b-dfcf-4726-ad01-a989840cc3ca",
        "colab": {
          "base_uri": "https://localhost:8080/",
          "height": 34
        }
      },
      "source": [
        "spotify2000.shape"
      ],
      "execution_count": 0,
      "outputs": [
        {
          "output_type": "execute_result",
          "data": {
            "text/plain": [
              "(1994, 14)"
            ]
          },
          "metadata": {
            "tags": []
          },
          "execution_count": 9
        }
      ]
    },
    {
      "cell_type": "markdown",
      "metadata": {
        "id": "fRMgxL1iy4kP",
        "colab_type": "text"
      },
      "source": [
        "## 4. Methods\n",
        "\n",
        "For this analysis I will create two DataFrames, one containing all for songs from before 2000 and the second will include all songs post 2000. Comparing these two groupd we will test the danceability and compare the average of two distibutions to see if we songs are more danceable now or 20+ years ago.\n",
        "\n",
        "If the distributions of sales appear to be close to normally distributed based on their histograms, skewness and kurtosis, I wil conduct an independent samples t-test between the groups at the two-tail, 95% confidence interval. "
      ]
    },
    {
      "cell_type": "code",
      "metadata": {
        "id": "z9IEV0TFw2Kn",
        "colab_type": "code",
        "colab": {}
      },
      "source": [
        "songs_before_2000 = spotify2000[spotify2000['Year'] < 2000]\n",
        "\n",
        "songs_after_2000 = spotify2000[spotify2000['Year'] >= 2000]"
      ],
      "execution_count": 0,
      "outputs": []
    },
    {
      "cell_type": "code",
      "metadata": {
        "id": "KnmZL2lz0VJ8",
        "colab_type": "code",
        "outputId": "69cf3ffc-601b-43ec-b000-774f86368b78",
        "colab": {
          "base_uri": "https://localhost:8080/",
          "height": 337
        }
      },
      "source": [
        "songs_after_2000.head()"
      ],
      "execution_count": 0,
      "outputs": [
        {
          "output_type": "execute_result",
          "data": {
            "text/html": [
              "<div>\n",
              "<style scoped>\n",
              "    .dataframe tbody tr th:only-of-type {\n",
              "        vertical-align: middle;\n",
              "    }\n",
              "\n",
              "    .dataframe tbody tr th {\n",
              "        vertical-align: top;\n",
              "    }\n",
              "\n",
              "    .dataframe thead th {\n",
              "        text-align: right;\n",
              "    }\n",
              "</style>\n",
              "<table border=\"1\" class=\"dataframe\">\n",
              "  <thead>\n",
              "    <tr style=\"text-align: right;\">\n",
              "      <th></th>\n",
              "      <th>Title</th>\n",
              "      <th>Artist</th>\n",
              "      <th>Top Genre</th>\n",
              "      <th>Year</th>\n",
              "      <th>Beats Per Minute (BPM)</th>\n",
              "      <th>Energy</th>\n",
              "      <th>Danceability</th>\n",
              "      <th>Loudness (dB)</th>\n",
              "      <th>Liveness</th>\n",
              "      <th>Valence</th>\n",
              "      <th>Length (Duration)</th>\n",
              "      <th>Acousticness</th>\n",
              "      <th>Speechiness</th>\n",
              "      <th>Popularity</th>\n",
              "    </tr>\n",
              "    <tr>\n",
              "      <th>Index</th>\n",
              "      <th></th>\n",
              "      <th></th>\n",
              "      <th></th>\n",
              "      <th></th>\n",
              "      <th></th>\n",
              "      <th></th>\n",
              "      <th></th>\n",
              "      <th></th>\n",
              "      <th></th>\n",
              "      <th></th>\n",
              "      <th></th>\n",
              "      <th></th>\n",
              "      <th></th>\n",
              "      <th></th>\n",
              "    </tr>\n",
              "  </thead>\n",
              "  <tbody>\n",
              "    <tr>\n",
              "      <th>1</th>\n",
              "      <td>Sunrise</td>\n",
              "      <td>Norah Jones</td>\n",
              "      <td>adult standards</td>\n",
              "      <td>2004</td>\n",
              "      <td>157</td>\n",
              "      <td>30</td>\n",
              "      <td>53</td>\n",
              "      <td>-14</td>\n",
              "      <td>11</td>\n",
              "      <td>68</td>\n",
              "      <td>201</td>\n",
              "      <td>94</td>\n",
              "      <td>3</td>\n",
              "      <td>71</td>\n",
              "    </tr>\n",
              "    <tr>\n",
              "      <th>2</th>\n",
              "      <td>Black Night</td>\n",
              "      <td>Deep Purple</td>\n",
              "      <td>album rock</td>\n",
              "      <td>2000</td>\n",
              "      <td>135</td>\n",
              "      <td>79</td>\n",
              "      <td>50</td>\n",
              "      <td>-11</td>\n",
              "      <td>17</td>\n",
              "      <td>81</td>\n",
              "      <td>207</td>\n",
              "      <td>17</td>\n",
              "      <td>7</td>\n",
              "      <td>39</td>\n",
              "    </tr>\n",
              "    <tr>\n",
              "      <th>3</th>\n",
              "      <td>Clint Eastwood</td>\n",
              "      <td>Gorillaz</td>\n",
              "      <td>alternative hip hop</td>\n",
              "      <td>2001</td>\n",
              "      <td>168</td>\n",
              "      <td>69</td>\n",
              "      <td>66</td>\n",
              "      <td>-9</td>\n",
              "      <td>7</td>\n",
              "      <td>52</td>\n",
              "      <td>341</td>\n",
              "      <td>2</td>\n",
              "      <td>17</td>\n",
              "      <td>69</td>\n",
              "    </tr>\n",
              "    <tr>\n",
              "      <th>4</th>\n",
              "      <td>The Pretender</td>\n",
              "      <td>Foo Fighters</td>\n",
              "      <td>alternative metal</td>\n",
              "      <td>2007</td>\n",
              "      <td>173</td>\n",
              "      <td>96</td>\n",
              "      <td>43</td>\n",
              "      <td>-4</td>\n",
              "      <td>3</td>\n",
              "      <td>37</td>\n",
              "      <td>269</td>\n",
              "      <td>0</td>\n",
              "      <td>4</td>\n",
              "      <td>76</td>\n",
              "    </tr>\n",
              "    <tr>\n",
              "      <th>5</th>\n",
              "      <td>Waitin' On A Sunny Day</td>\n",
              "      <td>Bruce Springsteen</td>\n",
              "      <td>classic rock</td>\n",
              "      <td>2002</td>\n",
              "      <td>106</td>\n",
              "      <td>82</td>\n",
              "      <td>58</td>\n",
              "      <td>-5</td>\n",
              "      <td>10</td>\n",
              "      <td>87</td>\n",
              "      <td>256</td>\n",
              "      <td>1</td>\n",
              "      <td>3</td>\n",
              "      <td>59</td>\n",
              "    </tr>\n",
              "  </tbody>\n",
              "</table>\n",
              "</div>"
            ],
            "text/plain": [
              "                        Title             Artist  ... Speechiness  Popularity\n",
              "Index                                             ...                        \n",
              "1                     Sunrise        Norah Jones  ...           3          71\n",
              "2                 Black Night        Deep Purple  ...           7          39\n",
              "3              Clint Eastwood           Gorillaz  ...          17          69\n",
              "4               The Pretender       Foo Fighters  ...           4          76\n",
              "5      Waitin' On A Sunny Day  Bruce Springsteen  ...           3          59\n",
              "\n",
              "[5 rows x 14 columns]"
            ]
          },
          "metadata": {
            "tags": []
          },
          "execution_count": 11
        }
      ]
    },
    {
      "cell_type": "code",
      "metadata": {
        "id": "C4AKdABh0fST",
        "colab_type": "code",
        "outputId": "9d504da2-3cef-4cf2-b8ef-71a1a3aa2027",
        "colab": {
          "base_uri": "https://localhost:8080/",
          "height": 422
        }
      },
      "source": [
        "songs_before_2000.head()"
      ],
      "execution_count": 0,
      "outputs": [
        {
          "output_type": "execute_result",
          "data": {
            "text/html": [
              "<div>\n",
              "<style scoped>\n",
              "    .dataframe tbody tr th:only-of-type {\n",
              "        vertical-align: middle;\n",
              "    }\n",
              "\n",
              "    .dataframe tbody tr th {\n",
              "        vertical-align: top;\n",
              "    }\n",
              "\n",
              "    .dataframe thead th {\n",
              "        text-align: right;\n",
              "    }\n",
              "</style>\n",
              "<table border=\"1\" class=\"dataframe\">\n",
              "  <thead>\n",
              "    <tr style=\"text-align: right;\">\n",
              "      <th></th>\n",
              "      <th>Title</th>\n",
              "      <th>Artist</th>\n",
              "      <th>Top Genre</th>\n",
              "      <th>Year</th>\n",
              "      <th>Beats Per Minute (BPM)</th>\n",
              "      <th>Energy</th>\n",
              "      <th>Danceability</th>\n",
              "      <th>Loudness (dB)</th>\n",
              "      <th>Liveness</th>\n",
              "      <th>Valence</th>\n",
              "      <th>Length (Duration)</th>\n",
              "      <th>Acousticness</th>\n",
              "      <th>Speechiness</th>\n",
              "      <th>Popularity</th>\n",
              "    </tr>\n",
              "    <tr>\n",
              "      <th>Index</th>\n",
              "      <th></th>\n",
              "      <th></th>\n",
              "      <th></th>\n",
              "      <th></th>\n",
              "      <th></th>\n",
              "      <th></th>\n",
              "      <th></th>\n",
              "      <th></th>\n",
              "      <th></th>\n",
              "      <th></th>\n",
              "      <th></th>\n",
              "      <th></th>\n",
              "      <th></th>\n",
              "      <th></th>\n",
              "    </tr>\n",
              "  </thead>\n",
              "  <tbody>\n",
              "    <tr>\n",
              "      <th>800</th>\n",
              "      <td>Child in Time</td>\n",
              "      <td>Deep Purple</td>\n",
              "      <td>album rock</td>\n",
              "      <td>1970</td>\n",
              "      <td>127</td>\n",
              "      <td>46</td>\n",
              "      <td>34</td>\n",
              "      <td>-11</td>\n",
              "      <td>9</td>\n",
              "      <td>35</td>\n",
              "      <td>620</td>\n",
              "      <td>17</td>\n",
              "      <td>4</td>\n",
              "      <td>45</td>\n",
              "    </tr>\n",
              "    <tr>\n",
              "      <th>801</th>\n",
              "      <td>Let It Be - Remastered 2009</td>\n",
              "      <td>The Beatles</td>\n",
              "      <td>british invasion</td>\n",
              "      <td>1970</td>\n",
              "      <td>143</td>\n",
              "      <td>40</td>\n",
              "      <td>44</td>\n",
              "      <td>-8</td>\n",
              "      <td>11</td>\n",
              "      <td>41</td>\n",
              "      <td>243</td>\n",
              "      <td>63</td>\n",
              "      <td>3</td>\n",
              "      <td>79</td>\n",
              "    </tr>\n",
              "    <tr>\n",
              "      <th>802</th>\n",
              "      <td>Bridge Over Troubled Water</td>\n",
              "      <td>Simon &amp; Garfunkel</td>\n",
              "      <td>classic rock</td>\n",
              "      <td>1970</td>\n",
              "      <td>80</td>\n",
              "      <td>21</td>\n",
              "      <td>15</td>\n",
              "      <td>-14</td>\n",
              "      <td>12</td>\n",
              "      <td>26</td>\n",
              "      <td>293</td>\n",
              "      <td>82</td>\n",
              "      <td>3</td>\n",
              "      <td>71</td>\n",
              "    </tr>\n",
              "    <tr>\n",
              "      <th>803</th>\n",
              "      <td>Paranoid - 2016 Remaster</td>\n",
              "      <td>Black Sabbath</td>\n",
              "      <td>album rock</td>\n",
              "      <td>1970</td>\n",
              "      <td>163</td>\n",
              "      <td>66</td>\n",
              "      <td>42</td>\n",
              "      <td>-12</td>\n",
              "      <td>18</td>\n",
              "      <td>45</td>\n",
              "      <td>168</td>\n",
              "      <td>0</td>\n",
              "      <td>7</td>\n",
              "      <td>68</td>\n",
              "    </tr>\n",
              "    <tr>\n",
              "      <th>804</th>\n",
              "      <td>Have You Ever Seen The Rain</td>\n",
              "      <td>Creedence Clearwater Revival</td>\n",
              "      <td>album rock</td>\n",
              "      <td>1970</td>\n",
              "      <td>116</td>\n",
              "      <td>47</td>\n",
              "      <td>74</td>\n",
              "      <td>-13</td>\n",
              "      <td>19</td>\n",
              "      <td>89</td>\n",
              "      <td>160</td>\n",
              "      <td>9</td>\n",
              "      <td>3</td>\n",
              "      <td>71</td>\n",
              "    </tr>\n",
              "  </tbody>\n",
              "</table>\n",
              "</div>"
            ],
            "text/plain": [
              "                             Title  ... Popularity\n",
              "Index                               ...           \n",
              "800                  Child in Time  ...         45\n",
              "801    Let It Be - Remastered 2009  ...         79\n",
              "802     Bridge Over Troubled Water  ...         71\n",
              "803       Paranoid - 2016 Remaster  ...         68\n",
              "804    Have You Ever Seen The Rain  ...         71\n",
              "\n",
              "[5 rows x 14 columns]"
            ]
          },
          "metadata": {
            "tags": []
          },
          "execution_count": 12
        }
      ]
    },
    {
      "cell_type": "code",
      "metadata": {
        "id": "_V5XwEFbjaZi",
        "colab_type": "code",
        "outputId": "f168939b-ae4d-4247-acc6-26e5b36dfdf2",
        "colab": {
          "base_uri": "https://localhost:8080/",
          "height": 51
        }
      },
      "source": [
        "print(songs_before_2000.shape)\n",
        "print(songs_after_2000.shape)"
      ],
      "execution_count": 0,
      "outputs": [
        {
          "output_type": "stream",
          "text": [
            "(1195, 14)\n",
            "(799, 14)\n"
          ],
          "name": "stdout"
        }
      ]
    },
    {
      "cell_type": "markdown",
      "metadata": {
        "id": "eXaqV4yXjw1M",
        "colab_type": "text"
      },
      "source": [
        "*These data sets seem to have a pretty good split with enough data in each to evaluate more thoroughly.*"
      ]
    },
    {
      "cell_type": "code",
      "metadata": {
        "id": "Tyc0-wQ00kiS",
        "colab_type": "code",
        "outputId": "621d1fac-3d8e-421f-a10e-ba32938963c9",
        "colab": {
          "base_uri": "https://localhost:8080/",
          "height": 279
        }
      },
      "source": [
        "sns.distplot(songs_before_2000['Danceability'], kde=False, color='blue', label = \"Before 2000\")\n",
        "sns.distplot(songs_after_2000['Danceability'], kde=False, color= 'red', label= \"After 2000\")\n",
        "plt.ylabel('Songs')\n",
        "plt.xlabel('Danceability')\n",
        "plt.legend()\n",
        "plt.savefig('Danceability.png')\n",
        "plt.show()"
      ],
      "execution_count": 0,
      "outputs": [
        {
          "output_type": "display_data",
          "data": {
            "image/png": "[encoded data removed]",
            "text/plain": [
              "<Figure size 432x288 with 1 Axes>"
            ]
          },
          "metadata": {
            "tags": [],
            "needs_background": "light"
          }
        }
      ]
    },
    {
      "cell_type": "code",
      "metadata": {
        "id": "10igOh2CK9VF",
        "colab_type": "code",
        "outputId": "31b7ddc9-2076-4006-9dd0-8c480f9014aa",
        "colab": {
          "base_uri": "https://localhost:8080/",
          "height": 51
        }
      },
      "source": [
        "print(stats.describe(songs_before_2000['Danceability']))\n",
        "print(stats.describe(songs_after_2000['Danceability']))"
      ],
      "execution_count": 0,
      "outputs": [
        {
          "output_type": "stream",
          "text": [
            "DescribeResult(nobs=1195, minmax=(10, 96), mean=52.67196652719665, variance=242.7449002333845, skewness=0.05913775120055088, kurtosis=-0.39310951518338033)\n",
            "DescribeResult(nobs=799, minmax=(12, 95), mean=54.08510638297872, variance=224.17821148616216, skewness=-0.044049693500138376, kurtosis=-0.250223869744187)\n"
          ],
          "name": "stdout"
        }
      ]
    },
    {
      "cell_type": "markdown",
      "metadata": {
        "id": "HZrpBm5-kX1T",
        "colab_type": "text"
      },
      "source": [
        "*Both sets seem to be normally distributed, let's see what else we can pull from the data.*"
      ]
    },
    {
      "cell_type": "code",
      "metadata": {
        "id": "L1onARam1m-C",
        "colab_type": "code",
        "outputId": "16203828-fa1c-4907-ae6e-634ad243a899",
        "colab": {
          "base_uri": "https://localhost:8080/",
          "height": 34
        }
      },
      "source": [
        "stats.ttest_ind(songs_before_2000['Danceability'], songs_after_2000['Danceability'])"
      ],
      "execution_count": 0,
      "outputs": [
        {
          "output_type": "execute_result",
          "data": {
            "text/plain": [
              "Ttest_indResult(statistic=-2.015869667949944, pvalue=0.04394763785745334)"
            ]
          },
          "metadata": {
            "tags": []
          },
          "execution_count": 16
        }
      ]
    },
    {
      "cell_type": "code",
      "metadata": {
        "id": "rsLLkaVadiJj",
        "colab_type": "code",
        "outputId": "ff997f28-4a00-4530-c7ba-dc0253cc4c44",
        "colab": {
          "base_uri": "https://localhost:8080/",
          "height": 34
        }
      },
      "source": [
        "stats.f_oneway(songs_before_2000['Danceability'], songs_after_2000['Danceability'])"
      ],
      "execution_count": 0,
      "outputs": [
        {
          "output_type": "execute_result",
          "data": {
            "text/plain": [
              "F_onewayResult(statistic=4.063730518160619, pvalue=0.043947637857453065)"
            ]
          },
          "metadata": {
            "tags": []
          },
          "execution_count": 17
        }
      ]
    },
    {
      "cell_type": "code",
      "metadata": {
        "id": "S6ZePGdJfnjR",
        "colab_type": "code",
        "outputId": "18662512-c17a-4e45-c88a-af873ebc8da4",
        "colab": {
          "base_uri": "https://localhost:8080/",
          "height": 51
        }
      },
      "source": [
        "# Confidence interval\n",
        "def get_95_ci(array_1, array_2):\n",
        "    sample_1_n = array_1.shape[0]\n",
        "    sample_2_n = array_2.shape[0]\n",
        "    sample_1_mean = array_1.mean()\n",
        "    sample_2_mean = array_2.mean()\n",
        "    sample_1_var = array_1.var()\n",
        "    sample_2_var = array_2.var()\n",
        "    mean_difference = sample_2_mean - sample_1_mean\n",
        "    std_err_difference = math.sqrt((sample_1_var/sample_1_n)+(sample_2_var/sample_2_n))\n",
        "    margin_of_error = 1.96 * std_err_difference\n",
        "    ci_lower = mean_difference - margin_of_error\n",
        "    ci_upper = mean_difference + margin_of_error\n",
        "    return(\"The difference in means at the 95% confidence interval (two-tail) is between \"+str(ci_lower)+\" and \"+str(ci_upper)+\".\")\n",
        "\n",
        "print(get_95_ci(songs_before_2000['Danceability'], songs_after_2000['Danceability']))\n",
        "print(songs_before_2000['Danceability'].mean())"
      ],
      "execution_count": 0,
      "outputs": [
        {
          "output_type": "stream",
          "text": [
            "The difference in means at the 95% confidence interval (two-tail) is between 0.04997811879847247 and 2.776301592765668.\n",
            "52.67196652719665\n"
          ],
          "name": "stdout"
        }
      ]
    },
    {
      "cell_type": "markdown",
      "metadata": {
        "id": "OQzuoiLBhHaD",
        "colab_type": "text"
      },
      "source": [
        "## 5. Results\n",
        "\n",
        "Based on a visual inspection, the danceability for both groups was considerably normally distributed so I proceeded with the t-test. Based on a p-value of .043, I reject the null that there is no significant difference in means. \n"
      ]
    },
    {
      "cell_type": "markdown",
      "metadata": {
        "id": "609s6609ktXe",
        "colab_type": "text"
      },
      "source": [
        "## 6. Discusion & Recommendation\n",
        "Danceability on average was higher before the year 2000, however a hit song may not be dance worthy any longer. However, it at first glance, older songs with high danceability have staying power and continue to be in the most popular songs. As a next step we should so some additional exploritory analysis on the data to see if older songs that are still popular have higher values in other areas like energy, or bpm. Before we can design an algorithm for a successful song, we need to know why some songs maintain their popularity. Perhaps we can evaluate if these songs make us feel nostalgia, happy, or pensive. Linking a song to it's emotive state may be a new key to a song with staying power."
      ]
    },
    {
      "cell_type": "code",
      "metadata": {
        "id": "rawH965WJc1b",
        "colab_type": "code",
        "outputId": "bbaf32c7-47ee-4c4c-fc00-1db2e040e6a4",
        "colab": {
          "base_uri": "https://localhost:8080/",
          "height": 359
        }
      },
      "source": [
        "songs_after_2000.corr()"
      ],
      "execution_count": 0,
      "outputs": [
        {
          "output_type": "execute_result",
          "data": {
            "text/html": [
              "<div>\n",
              "<style scoped>\n",
              "    .dataframe tbody tr th:only-of-type {\n",
              "        vertical-align: middle;\n",
              "    }\n",
              "\n",
              "    .dataframe tbody tr th {\n",
              "        vertical-align: top;\n",
              "    }\n",
              "\n",
              "    .dataframe thead th {\n",
              "        text-align: right;\n",
              "    }\n",
              "</style>\n",
              "<table border=\"1\" class=\"dataframe\">\n",
              "  <thead>\n",
              "    <tr style=\"text-align: right;\">\n",
              "      <th></th>\n",
              "      <th>Year</th>\n",
              "      <th>Beats Per Minute (BPM)</th>\n",
              "      <th>Energy</th>\n",
              "      <th>Danceability</th>\n",
              "      <th>Loudness (dB)</th>\n",
              "      <th>Liveness</th>\n",
              "      <th>Valence</th>\n",
              "      <th>Acousticness</th>\n",
              "      <th>Speechiness</th>\n",
              "      <th>Popularity</th>\n",
              "    </tr>\n",
              "  </thead>\n",
              "  <tbody>\n",
              "    <tr>\n",
              "      <th>Year</th>\n",
              "      <td>1.000000</td>\n",
              "      <td>-0.023680</td>\n",
              "      <td>-0.065945</td>\n",
              "      <td>0.052403</td>\n",
              "      <td>-0.021536</td>\n",
              "      <td>-0.029269</td>\n",
              "      <td>-0.000245</td>\n",
              "      <td>0.034711</td>\n",
              "      <td>0.033513</td>\n",
              "      <td>-0.039250</td>\n",
              "    </tr>\n",
              "    <tr>\n",
              "      <th>Beats Per Minute (BPM)</th>\n",
              "      <td>-0.023680</td>\n",
              "      <td>1.000000</td>\n",
              "      <td>0.155330</td>\n",
              "      <td>-0.148481</td>\n",
              "      <td>0.094070</td>\n",
              "      <td>0.049984</td>\n",
              "      <td>-0.015301</td>\n",
              "      <td>-0.178712</td>\n",
              "      <td>0.124936</td>\n",
              "      <td>0.000913</td>\n",
              "    </tr>\n",
              "    <tr>\n",
              "      <th>Energy</th>\n",
              "      <td>-0.065945</td>\n",
              "      <td>0.155330</td>\n",
              "      <td>1.000000</td>\n",
              "      <td>0.147345</td>\n",
              "      <td>0.722387</td>\n",
              "      <td>0.166525</td>\n",
              "      <td>0.389045</td>\n",
              "      <td>-0.722674</td>\n",
              "      <td>0.212471</td>\n",
              "      <td>0.119782</td>\n",
              "    </tr>\n",
              "    <tr>\n",
              "      <th>Danceability</th>\n",
              "      <td>0.052403</td>\n",
              "      <td>-0.148481</td>\n",
              "      <td>0.147345</td>\n",
              "      <td>1.000000</td>\n",
              "      <td>0.048831</td>\n",
              "      <td>-0.090156</td>\n",
              "      <td>0.505520</td>\n",
              "      <td>-0.121657</td>\n",
              "      <td>0.166519</td>\n",
              "      <td>0.216115</td>\n",
              "    </tr>\n",
              "    <tr>\n",
              "      <th>Loudness (dB)</th>\n",
              "      <td>-0.021536</td>\n",
              "      <td>0.094070</td>\n",
              "      <td>0.722387</td>\n",
              "      <td>0.048831</td>\n",
              "      <td>1.000000</td>\n",
              "      <td>0.056887</td>\n",
              "      <td>0.151242</td>\n",
              "      <td>-0.516029</td>\n",
              "      <td>0.117476</td>\n",
              "      <td>0.299710</td>\n",
              "    </tr>\n",
              "    <tr>\n",
              "      <th>Liveness</th>\n",
              "      <td>-0.029269</td>\n",
              "      <td>0.049984</td>\n",
              "      <td>0.166525</td>\n",
              "      <td>-0.090156</td>\n",
              "      <td>0.056887</td>\n",
              "      <td>1.000000</td>\n",
              "      <td>0.066738</td>\n",
              "      <td>-0.037294</td>\n",
              "      <td>0.131152</td>\n",
              "      <td>-0.113456</td>\n",
              "    </tr>\n",
              "    <tr>\n",
              "      <th>Valence</th>\n",
              "      <td>-0.000245</td>\n",
              "      <td>-0.015301</td>\n",
              "      <td>0.389045</td>\n",
              "      <td>0.505520</td>\n",
              "      <td>0.151242</td>\n",
              "      <td>0.066738</td>\n",
              "      <td>1.000000</td>\n",
              "      <td>-0.231584</td>\n",
              "      <td>0.152413</td>\n",
              "      <td>-0.005892</td>\n",
              "    </tr>\n",
              "    <tr>\n",
              "      <th>Acousticness</th>\n",
              "      <td>0.034711</td>\n",
              "      <td>-0.178712</td>\n",
              "      <td>-0.722674</td>\n",
              "      <td>-0.121657</td>\n",
              "      <td>-0.516029</td>\n",
              "      <td>-0.037294</td>\n",
              "      <td>-0.231584</td>\n",
              "      <td>1.000000</td>\n",
              "      <td>-0.097804</td>\n",
              "      <td>-0.112639</td>\n",
              "    </tr>\n",
              "    <tr>\n",
              "      <th>Speechiness</th>\n",
              "      <td>0.033513</td>\n",
              "      <td>0.124936</td>\n",
              "      <td>0.212471</td>\n",
              "      <td>0.166519</td>\n",
              "      <td>0.117476</td>\n",
              "      <td>0.131152</td>\n",
              "      <td>0.152413</td>\n",
              "      <td>-0.097804</td>\n",
              "      <td>1.000000</td>\n",
              "      <td>0.177402</td>\n",
              "    </tr>\n",
              "    <tr>\n",
              "      <th>Popularity</th>\n",
              "      <td>-0.039250</td>\n",
              "      <td>0.000913</td>\n",
              "      <td>0.119782</td>\n",
              "      <td>0.216115</td>\n",
              "      <td>0.299710</td>\n",
              "      <td>-0.113456</td>\n",
              "      <td>-0.005892</td>\n",
              "      <td>-0.112639</td>\n",
              "      <td>0.177402</td>\n",
              "      <td>1.000000</td>\n",
              "    </tr>\n",
              "  </tbody>\n",
              "</table>\n",
              "</div>"
            ],
            "text/plain": [
              "                            Year  ...  Popularity\n",
              "Year                    1.000000  ...   -0.039250\n",
              "Beats Per Minute (BPM) -0.023680  ...    0.000913\n",
              "Energy                 -0.065945  ...    0.119782\n",
              "Danceability            0.052403  ...    0.216115\n",
              "Loudness (dB)          -0.021536  ...    0.299710\n",
              "Liveness               -0.029269  ...   -0.113456\n",
              "Valence                -0.000245  ...   -0.005892\n",
              "Acousticness            0.034711  ...   -0.112639\n",
              "Speechiness             0.033513  ...    0.177402\n",
              "Popularity             -0.039250  ...    1.000000\n",
              "\n",
              "[10 rows x 10 columns]"
            ]
          },
          "metadata": {
            "tags": []
          },
          "execution_count": 19
        }
      ]
    },
    {
      "cell_type": "code",
      "metadata": {
        "id": "oS8l1nrwXzwI",
        "colab_type": "code",
        "outputId": "d534880a-0d1c-46ec-abf2-bb38441cfc80",
        "colab": {
          "base_uri": "https://localhost:8080/",
          "height": 359
        }
      },
      "source": [
        "songs_before_2000.corr()"
      ],
      "execution_count": 0,
      "outputs": [
        {
          "output_type": "execute_result",
          "data": {
            "text/html": [
              "<div>\n",
              "<style scoped>\n",
              "    .dataframe tbody tr th:only-of-type {\n",
              "        vertical-align: middle;\n",
              "    }\n",
              "\n",
              "    .dataframe tbody tr th {\n",
              "        vertical-align: top;\n",
              "    }\n",
              "\n",
              "    .dataframe thead th {\n",
              "        text-align: right;\n",
              "    }\n",
              "</style>\n",
              "<table border=\"1\" class=\"dataframe\">\n",
              "  <thead>\n",
              "    <tr style=\"text-align: right;\">\n",
              "      <th></th>\n",
              "      <th>Year</th>\n",
              "      <th>Beats Per Minute (BPM)</th>\n",
              "      <th>Energy</th>\n",
              "      <th>Danceability</th>\n",
              "      <th>Loudness (dB)</th>\n",
              "      <th>Liveness</th>\n",
              "      <th>Valence</th>\n",
              "      <th>Acousticness</th>\n",
              "      <th>Speechiness</th>\n",
              "      <th>Popularity</th>\n",
              "    </tr>\n",
              "  </thead>\n",
              "  <tbody>\n",
              "    <tr>\n",
              "      <th>Year</th>\n",
              "      <td>1.000000</td>\n",
              "      <td>-0.023311</td>\n",
              "      <td>0.156426</td>\n",
              "      <td>0.083869</td>\n",
              "      <td>0.163735</td>\n",
              "      <td>0.013533</td>\n",
              "      <td>-0.160315</td>\n",
              "      <td>-0.215786</td>\n",
              "      <td>-0.004445</td>\n",
              "      <td>-0.161324</td>\n",
              "    </tr>\n",
              "    <tr>\n",
              "      <th>Beats Per Minute (BPM)</th>\n",
              "      <td>-0.023311</td>\n",
              "      <td>1.000000</td>\n",
              "      <td>0.154160</td>\n",
              "      <td>-0.138061</td>\n",
              "      <td>0.086430</td>\n",
              "      <td>-0.010229</td>\n",
              "      <td>0.116179</td>\n",
              "      <td>-0.079194</td>\n",
              "      <td>0.050697</td>\n",
              "      <td>-0.000284</td>\n",
              "    </tr>\n",
              "    <tr>\n",
              "      <th>Energy</th>\n",
              "      <td>0.156426</td>\n",
              "      <td>0.154160</td>\n",
              "      <td>1.000000</td>\n",
              "      <td>0.128485</td>\n",
              "      <td>0.760511</td>\n",
              "      <td>0.177858</td>\n",
              "      <td>0.446511</td>\n",
              "      <td>-0.626455</td>\n",
              "      <td>0.194549</td>\n",
              "      <td>0.121333</td>\n",
              "    </tr>\n",
              "    <tr>\n",
              "      <th>Danceability</th>\n",
              "      <td>0.083869</td>\n",
              "      <td>-0.138061</td>\n",
              "      <td>0.128485</td>\n",
              "      <td>1.000000</td>\n",
              "      <td>0.022241</td>\n",
              "      <td>-0.114237</td>\n",
              "      <td>0.536465</td>\n",
              "      <td>-0.140946</td>\n",
              "      <td>0.090829</td>\n",
              "      <td>0.097973</td>\n",
              "    </tr>\n",
              "    <tr>\n",
              "      <th>Loudness (dB)</th>\n",
              "      <td>0.163735</td>\n",
              "      <td>0.086430</td>\n",
              "      <td>0.760511</td>\n",
              "      <td>0.022241</td>\n",
              "      <td>1.000000</td>\n",
              "      <td>0.120883</td>\n",
              "      <td>0.227845</td>\n",
              "      <td>-0.430655</td>\n",
              "      <td>0.111804</td>\n",
              "      <td>0.176985</td>\n",
              "    </tr>\n",
              "    <tr>\n",
              "      <th>Liveness</th>\n",
              "      <td>0.013533</td>\n",
              "      <td>-0.010229</td>\n",
              "      <td>0.177858</td>\n",
              "      <td>-0.114237</td>\n",
              "      <td>0.120883</td>\n",
              "      <td>1.000000</td>\n",
              "      <td>0.045036</td>\n",
              "      <td>-0.050537</td>\n",
              "      <td>0.057621</td>\n",
              "      <td>-0.108512</td>\n",
              "    </tr>\n",
              "    <tr>\n",
              "      <th>Valence</th>\n",
              "      <td>-0.160315</td>\n",
              "      <td>0.116179</td>\n",
              "      <td>0.446511</td>\n",
              "      <td>0.536465</td>\n",
              "      <td>0.227845</td>\n",
              "      <td>0.045036</td>\n",
              "      <td>1.000000</td>\n",
              "      <td>-0.263479</td>\n",
              "      <td>0.089127</td>\n",
              "      <td>0.162046</td>\n",
              "    </tr>\n",
              "    <tr>\n",
              "      <th>Acousticness</th>\n",
              "      <td>-0.215786</td>\n",
              "      <td>-0.079194</td>\n",
              "      <td>-0.626455</td>\n",
              "      <td>-0.140946</td>\n",
              "      <td>-0.430655</td>\n",
              "      <td>-0.050537</td>\n",
              "      <td>-0.263479</td>\n",
              "      <td>1.000000</td>\n",
              "      <td>-0.092331</td>\n",
              "      <td>-0.083158</td>\n",
              "    </tr>\n",
              "    <tr>\n",
              "      <th>Speechiness</th>\n",
              "      <td>-0.004445</td>\n",
              "      <td>0.050697</td>\n",
              "      <td>0.194549</td>\n",
              "      <td>0.090829</td>\n",
              "      <td>0.111804</td>\n",
              "      <td>0.057621</td>\n",
              "      <td>0.089127</td>\n",
              "      <td>-0.092331</td>\n",
              "      <td>1.000000</td>\n",
              "      <td>0.058094</td>\n",
              "    </tr>\n",
              "    <tr>\n",
              "      <th>Popularity</th>\n",
              "      <td>-0.161324</td>\n",
              "      <td>-0.000284</td>\n",
              "      <td>0.121333</td>\n",
              "      <td>0.097973</td>\n",
              "      <td>0.176985</td>\n",
              "      <td>-0.108512</td>\n",
              "      <td>0.162046</td>\n",
              "      <td>-0.083158</td>\n",
              "      <td>0.058094</td>\n",
              "      <td>1.000000</td>\n",
              "    </tr>\n",
              "  </tbody>\n",
              "</table>\n",
              "</div>"
            ],
            "text/plain": [
              "                            Year  ...  Popularity\n",
              "Year                    1.000000  ...   -0.161324\n",
              "Beats Per Minute (BPM) -0.023311  ...   -0.000284\n",
              "Energy                  0.156426  ...    0.121333\n",
              "Danceability            0.083869  ...    0.097973\n",
              "Loudness (dB)           0.163735  ...    0.176985\n",
              "Liveness                0.013533  ...   -0.108512\n",
              "Valence                -0.160315  ...    0.162046\n",
              "Acousticness           -0.215786  ...   -0.083158\n",
              "Speechiness            -0.004445  ...    0.058094\n",
              "Popularity             -0.161324  ...    1.000000\n",
              "\n",
              "[10 rows x 10 columns]"
            ]
          },
          "metadata": {
            "tags": []
          },
          "execution_count": 20
        }
      ]
    },
    {
      "cell_type": "code",
      "metadata": {
        "id": "HRxd8bCKX7xn",
        "colab_type": "code",
        "outputId": "8568ab66-43b3-430d-d19c-54722c839ec9",
        "colab": {
          "base_uri": "https://localhost:8080/",
          "height": 393
        }
      },
      "source": [
        "sns.heatmap(songs_after_2000.corr())"
      ],
      "execution_count": 0,
      "outputs": [
        {
          "output_type": "execute_result",
          "data": {
            "text/plain": [
              "<matplotlib.axes._subplots.AxesSubplot at 0x7fa9def321d0>"
            ]
          },
          "metadata": {
            "tags": []
          },
          "execution_count": 21
        },
        {
          "output_type": "display_data",
          "data": {
            "image/png": "[encoded data removed]",
            "text/plain": [
              "<Figure size 432x288 with 2 Axes>"
            ]
          },
          "metadata": {
            "tags": [],
            "needs_background": "light"
          }
        }
      ]
    },
    {
      "cell_type": "code",
      "metadata": {
        "id": "Yv-yTNPtYHAc",
        "colab_type": "code",
        "outputId": "32ad35af-2d9d-4615-ae35-c4d032bb4315",
        "colab": {
          "base_uri": "https://localhost:8080/",
          "height": 393
        }
      },
      "source": [
        "sns.heatmap(songs_before_2000.corr())"
      ],
      "execution_count": 0,
      "outputs": [
        {
          "output_type": "execute_result",
          "data": {
            "text/plain": [
              "<matplotlib.axes._subplots.AxesSubplot at 0x7fa9db3949e8>"
            ]
          },
          "metadata": {
            "tags": []
          },
          "execution_count": 22
        },
        {
          "output_type": "display_data",
          "data": {
            "image/png": "[encoded data removed]",
            "text/plain": [
              "<Figure size 432x288 with 2 Axes>"
            ]
          },
          "metadata": {
            "tags": [],
            "needs_background": "light"
          }
        }
      ]
    },
    {
      "cell_type": "code",
      "metadata": {
        "id": "0fql7Mi9fH2c",
        "colab_type": "code",
        "outputId": "3c8bc93c-325b-42d0-a6fa-698149cd1ecb",
        "colab": {
          "base_uri": "https://localhost:8080/",
          "height": 279
        }
      },
      "source": [
        "sns.distplot(songs_before_2000['Danceability'].std(), kde=False, color='blue', label = \"Before 2000\")\n",
        "sns.distplot(songs_after_2000['Danceability'].std(), kde=False, color= 'red', label= \"After 2000\")\n",
        "plt.xlabel('Danceability')\n",
        "plt.legend()\n",
        "plt.savefig('Danceability.png')\n",
        "plt.show()"
      ],
      "execution_count": 0,
      "outputs": [
        {
          "output_type": "display_data",
          "data": {
            "image/png": "[encoded data removed]",
            "text/plain": [
              "<Figure size 432x288 with 1 Axes>"
            ]
          },
          "metadata": {
            "tags": [],
            "needs_background": "light"
          }
        }
      ]
    },
    {
      "cell_type": "code",
      "metadata": {
        "id": "rWeFdkW-9Zi2",
        "colab_type": "code",
        "outputId": "08bd178d-bf26-4980-9256-3f378fae6885",
        "colab": {
          "base_uri": "https://localhost:8080/",
          "height": 350
        }
      },
      "source": [
        "plt.hist(songs_before_2000['Danceability'].mean(), color='Black')\n",
        "plt.hist(songs_after_2000['Danceability'].mean(), color=\"green\")"
      ],
      "execution_count": 0,
      "outputs": [
        {
          "output_type": "execute_result",
          "data": {
            "text/plain": [
              "(array([0., 0., 0., 0., 0., 1., 0., 0., 0., 0.]),\n",
              " array([53.58510638, 53.68510638, 53.78510638, 53.88510638, 53.98510638,\n",
              "        54.08510638, 54.18510638, 54.28510638, 54.38510638, 54.48510638,\n",
              "        54.58510638]),\n",
              " <a list of 10 Patch objects>)"
            ]
          },
          "metadata": {
            "tags": []
          },
          "execution_count": 24
        },
        {
          "output_type": "display_data",
          "data": {
            "image/png": "[encoded data removed]",
            "text/plain": [
              "<Figure size 432x288 with 1 Axes>"
            ]
          },
          "metadata": {
            "tags": [],
            "needs_background": "light"
          }
        }
      ]
    },
    {
      "cell_type": "code",
      "metadata": {
        "id": "WavpJnIhNDCI",
        "colab_type": "code",
        "outputId": "0e55abf6-4f6b-44ff-8652-0842d1f571c2",
        "colab": {
          "base_uri": "https://localhost:8080/",
          "height": 297
        }
      },
      "source": [
        "songs_after_2000.describe()"
      ],
      "execution_count": 0,
      "outputs": [
        {
          "output_type": "execute_result",
          "data": {
            "text/html": [
              "<div>\n",
              "<style scoped>\n",
              "    .dataframe tbody tr th:only-of-type {\n",
              "        vertical-align: middle;\n",
              "    }\n",
              "\n",
              "    .dataframe tbody tr th {\n",
              "        vertical-align: top;\n",
              "    }\n",
              "\n",
              "    .dataframe thead th {\n",
              "        text-align: right;\n",
              "    }\n",
              "</style>\n",
              "<table border=\"1\" class=\"dataframe\">\n",
              "  <thead>\n",
              "    <tr style=\"text-align: right;\">\n",
              "      <th></th>\n",
              "      <th>Year</th>\n",
              "      <th>Beats Per Minute (BPM)</th>\n",
              "      <th>Energy</th>\n",
              "      <th>Danceability</th>\n",
              "      <th>Loudness (dB)</th>\n",
              "      <th>Liveness</th>\n",
              "      <th>Valence</th>\n",
              "      <th>Acousticness</th>\n",
              "      <th>Speechiness</th>\n",
              "      <th>Popularity</th>\n",
              "    </tr>\n",
              "  </thead>\n",
              "  <tbody>\n",
              "    <tr>\n",
              "      <th>count</th>\n",
              "      <td>799.000000</td>\n",
              "      <td>799.000000</td>\n",
              "      <td>799.000000</td>\n",
              "      <td>799.000000</td>\n",
              "      <td>799.000000</td>\n",
              "      <td>799.000000</td>\n",
              "      <td>799.000000</td>\n",
              "      <td>799.000000</td>\n",
              "      <td>799.000000</td>\n",
              "      <td>799.000000</td>\n",
              "    </tr>\n",
              "    <tr>\n",
              "      <th>mean</th>\n",
              "      <td>2009.602003</td>\n",
              "      <td>121.217772</td>\n",
              "      <td>62.735920</td>\n",
              "      <td>54.085106</td>\n",
              "      <td>-7.515645</td>\n",
              "      <td>19.455569</td>\n",
              "      <td>45.644556</td>\n",
              "      <td>26.458073</td>\n",
              "      <td>5.317897</td>\n",
              "      <td>57.440551</td>\n",
              "    </tr>\n",
              "    <tr>\n",
              "      <th>std</th>\n",
              "      <td>5.567701</td>\n",
              "      <td>28.673473</td>\n",
              "      <td>21.071821</td>\n",
              "      <td>14.972582</td>\n",
              "      <td>2.915595</td>\n",
              "      <td>17.526141</td>\n",
              "      <td>23.932577</td>\n",
              "      <td>29.545902</td>\n",
              "      <td>4.829324</td>\n",
              "      <td>16.812281</td>\n",
              "    </tr>\n",
              "    <tr>\n",
              "      <th>min</th>\n",
              "      <td>2000.000000</td>\n",
              "      <td>49.000000</td>\n",
              "      <td>5.000000</td>\n",
              "      <td>12.000000</td>\n",
              "      <td>-21.000000</td>\n",
              "      <td>2.000000</td>\n",
              "      <td>4.000000</td>\n",
              "      <td>0.000000</td>\n",
              "      <td>2.000000</td>\n",
              "      <td>12.000000</td>\n",
              "    </tr>\n",
              "    <tr>\n",
              "      <th>25%</th>\n",
              "      <td>2005.000000</td>\n",
              "      <td>100.000000</td>\n",
              "      <td>47.000000</td>\n",
              "      <td>44.000000</td>\n",
              "      <td>-9.000000</td>\n",
              "      <td>10.000000</td>\n",
              "      <td>26.000000</td>\n",
              "      <td>2.000000</td>\n",
              "      <td>3.000000</td>\n",
              "      <td>45.000000</td>\n",
              "    </tr>\n",
              "    <tr>\n",
              "      <th>50%</th>\n",
              "      <td>2009.000000</td>\n",
              "      <td>120.000000</td>\n",
              "      <td>66.000000</td>\n",
              "      <td>54.000000</td>\n",
              "      <td>-7.000000</td>\n",
              "      <td>12.000000</td>\n",
              "      <td>42.000000</td>\n",
              "      <td>12.000000</td>\n",
              "      <td>4.000000</td>\n",
              "      <td>59.000000</td>\n",
              "    </tr>\n",
              "    <tr>\n",
              "      <th>75%</th>\n",
              "      <td>2014.000000</td>\n",
              "      <td>138.000000</td>\n",
              "      <td>79.000000</td>\n",
              "      <td>64.500000</td>\n",
              "      <td>-5.000000</td>\n",
              "      <td>22.000000</td>\n",
              "      <td>64.000000</td>\n",
              "      <td>48.000000</td>\n",
              "      <td>5.000000</td>\n",
              "      <td>71.000000</td>\n",
              "    </tr>\n",
              "    <tr>\n",
              "      <th>max</th>\n",
              "      <td>2019.000000</td>\n",
              "      <td>205.000000</td>\n",
              "      <td>99.000000</td>\n",
              "      <td>95.000000</td>\n",
              "      <td>-2.000000</td>\n",
              "      <td>99.000000</td>\n",
              "      <td>98.000000</td>\n",
              "      <td>99.000000</td>\n",
              "      <td>46.000000</td>\n",
              "      <td>100.000000</td>\n",
              "    </tr>\n",
              "  </tbody>\n",
              "</table>\n",
              "</div>"
            ],
            "text/plain": [
              "              Year  Beats Per Minute (BPM)  ...  Speechiness  Popularity\n",
              "count   799.000000              799.000000  ...   799.000000  799.000000\n",
              "mean   2009.602003              121.217772  ...     5.317897   57.440551\n",
              "std       5.567701               28.673473  ...     4.829324   16.812281\n",
              "min    2000.000000               49.000000  ...     2.000000   12.000000\n",
              "25%    2005.000000              100.000000  ...     3.000000   45.000000\n",
              "50%    2009.000000              120.000000  ...     4.000000   59.000000\n",
              "75%    2014.000000              138.000000  ...     5.000000   71.000000\n",
              "max    2019.000000              205.000000  ...    46.000000  100.000000\n",
              "\n",
              "[8 rows x 10 columns]"
            ]
          },
          "metadata": {
            "tags": []
          },
          "execution_count": 25
        }
      ]
    },
    {
      "cell_type": "code",
      "metadata": {
        "id": "dECYT4GPNfv7",
        "colab_type": "code",
        "outputId": "1450757b-7f35-4b61-d55f-3332093f1eb9",
        "colab": {
          "base_uri": "https://localhost:8080/",
          "height": 297
        }
      },
      "source": [
        "songs_before_2000.describe()"
      ],
      "execution_count": 0,
      "outputs": [
        {
          "output_type": "execute_result",
          "data": {
            "text/html": [
              "<div>\n",
              "<style scoped>\n",
              "    .dataframe tbody tr th:only-of-type {\n",
              "        vertical-align: middle;\n",
              "    }\n",
              "\n",
              "    .dataframe tbody tr th {\n",
              "        vertical-align: top;\n",
              "    }\n",
              "\n",
              "    .dataframe thead th {\n",
              "        text-align: right;\n",
              "    }\n",
              "</style>\n",
              "<table border=\"1\" class=\"dataframe\">\n",
              "  <thead>\n",
              "    <tr style=\"text-align: right;\">\n",
              "      <th></th>\n",
              "      <th>Year</th>\n",
              "      <th>Beats Per Minute (BPM)</th>\n",
              "      <th>Energy</th>\n",
              "      <th>Danceability</th>\n",
              "      <th>Loudness (dB)</th>\n",
              "      <th>Liveness</th>\n",
              "      <th>Valence</th>\n",
              "      <th>Acousticness</th>\n",
              "      <th>Speechiness</th>\n",
              "      <th>Popularity</th>\n",
              "    </tr>\n",
              "  </thead>\n",
              "  <tbody>\n",
              "    <tr>\n",
              "      <th>count</th>\n",
              "      <td>1195.000000</td>\n",
              "      <td>1195.000000</td>\n",
              "      <td>1195.000000</td>\n",
              "      <td>1195.000000</td>\n",
              "      <td>1195.000000</td>\n",
              "      <td>1195.000000</td>\n",
              "      <td>1195.000000</td>\n",
              "      <td>1195.000000</td>\n",
              "      <td>1195.000000</td>\n",
              "      <td>1195.000000</td>\n",
              "    </tr>\n",
              "    <tr>\n",
              "      <th>mean</th>\n",
              "      <td>1981.887866</td>\n",
              "      <td>119.545607</td>\n",
              "      <td>57.635983</td>\n",
              "      <td>52.671967</td>\n",
              "      <td>-10.006695</td>\n",
              "      <td>18.715481</td>\n",
              "      <td>51.925523</td>\n",
              "      <td>30.462762</td>\n",
              "      <td>4.779079</td>\n",
              "      <td>60.921339</td>\n",
              "    </tr>\n",
              "    <tr>\n",
              "      <th>std</th>\n",
              "      <td>10.236523</td>\n",
              "      <td>27.579947</td>\n",
              "      <td>22.628910</td>\n",
              "      <td>15.580273</td>\n",
              "      <td>3.747243</td>\n",
              "      <td>16.172004</td>\n",
              "      <td>25.155736</td>\n",
              "      <td>28.549482</td>\n",
              "      <td>4.078550</td>\n",
              "      <td>12.248700</td>\n",
              "    </tr>\n",
              "    <tr>\n",
              "      <th>min</th>\n",
              "      <td>1956.000000</td>\n",
              "      <td>37.000000</td>\n",
              "      <td>3.000000</td>\n",
              "      <td>10.000000</td>\n",
              "      <td>-27.000000</td>\n",
              "      <td>2.000000</td>\n",
              "      <td>3.000000</td>\n",
              "      <td>0.000000</td>\n",
              "      <td>2.000000</td>\n",
              "      <td>11.000000</td>\n",
              "    </tr>\n",
              "    <tr>\n",
              "      <th>25%</th>\n",
              "      <td>1973.000000</td>\n",
              "      <td>99.000000</td>\n",
              "      <td>40.000000</td>\n",
              "      <td>41.000000</td>\n",
              "      <td>-12.000000</td>\n",
              "      <td>9.000000</td>\n",
              "      <td>31.000000</td>\n",
              "      <td>5.000000</td>\n",
              "      <td>3.000000</td>\n",
              "      <td>53.000000</td>\n",
              "    </tr>\n",
              "    <tr>\n",
              "      <th>50%</th>\n",
              "      <td>1982.000000</td>\n",
              "      <td>119.000000</td>\n",
              "      <td>58.000000</td>\n",
              "      <td>53.000000</td>\n",
              "      <td>-10.000000</td>\n",
              "      <td>13.000000</td>\n",
              "      <td>51.000000</td>\n",
              "      <td>21.000000</td>\n",
              "      <td>4.000000</td>\n",
              "      <td>63.000000</td>\n",
              "    </tr>\n",
              "    <tr>\n",
              "      <th>75%</th>\n",
              "      <td>1991.000000</td>\n",
              "      <td>135.000000</td>\n",
              "      <td>76.000000</td>\n",
              "      <td>64.000000</td>\n",
              "      <td>-7.000000</td>\n",
              "      <td>23.000000</td>\n",
              "      <td>73.000000</td>\n",
              "      <td>51.000000</td>\n",
              "      <td>5.000000</td>\n",
              "      <td>70.000000</td>\n",
              "    </tr>\n",
              "    <tr>\n",
              "      <th>max</th>\n",
              "      <td>1999.000000</td>\n",
              "      <td>206.000000</td>\n",
              "      <td>100.000000</td>\n",
              "      <td>96.000000</td>\n",
              "      <td>-2.000000</td>\n",
              "      <td>99.000000</td>\n",
              "      <td>99.000000</td>\n",
              "      <td>98.000000</td>\n",
              "      <td>55.000000</td>\n",
              "      <td>95.000000</td>\n",
              "    </tr>\n",
              "  </tbody>\n",
              "</table>\n",
              "</div>"
            ],
            "text/plain": [
              "              Year  Beats Per Minute (BPM)  ...  Speechiness   Popularity\n",
              "count  1195.000000             1195.000000  ...  1195.000000  1195.000000\n",
              "mean   1981.887866              119.545607  ...     4.779079    60.921339\n",
              "std      10.236523               27.579947  ...     4.078550    12.248700\n",
              "min    1956.000000               37.000000  ...     2.000000    11.000000\n",
              "25%    1973.000000               99.000000  ...     3.000000    53.000000\n",
              "50%    1982.000000              119.000000  ...     4.000000    63.000000\n",
              "75%    1991.000000              135.000000  ...     5.000000    70.000000\n",
              "max    1999.000000              206.000000  ...    55.000000    95.000000\n",
              "\n",
              "[8 rows x 10 columns]"
            ]
          },
          "metadata": {
            "tags": []
          },
          "execution_count": 26
        }
      ]
    },
    {
      "cell_type": "code",
      "metadata": {
        "id": "sCxHMV2MNrZK",
        "colab_type": "code",
        "outputId": "6ebe0fc9-de60-4556-b6c6-9aa0044b8be7",
        "colab": {
          "base_uri": "https://localhost:8080/",
          "height": 170
        }
      },
      "source": [
        "spotify2000['Danceability'].describe()"
      ],
      "execution_count": 0,
      "outputs": [
        {
          "output_type": "execute_result",
          "data": {
            "text/plain": [
              "count    1994.000000\n",
              "mean       53.238215\n",
              "std        15.351507\n",
              "min        10.000000\n",
              "25%        43.000000\n",
              "50%        53.000000\n",
              "75%        64.000000\n",
              "max        96.000000\n",
              "Name: Danceability, dtype: float64"
            ]
          },
          "metadata": {
            "tags": []
          },
          "execution_count": 27
        }
      ]
    },
    {
      "cell_type": "code",
      "metadata": {
        "id": "JMRiXbEkN6Xk",
        "colab_type": "code",
        "outputId": "5a6b947f-c8bb-4cf8-d22d-63c805608eab",
        "colab": {
          "base_uri": "https://localhost:8080/",
          "height": 170
        }
      },
      "source": [
        "songs_after_2000['Danceability'].describe()"
      ],
      "execution_count": 0,
      "outputs": [
        {
          "output_type": "execute_result",
          "data": {
            "text/plain": [
              "count    799.000000\n",
              "mean      54.085106\n",
              "std       14.972582\n",
              "min       12.000000\n",
              "25%       44.000000\n",
              "50%       54.000000\n",
              "75%       64.500000\n",
              "max       95.000000\n",
              "Name: Danceability, dtype: float64"
            ]
          },
          "metadata": {
            "tags": []
          },
          "execution_count": 28
        }
      ]
    },
    {
      "cell_type": "code",
      "metadata": {
        "id": "4eRgvWMsOFop",
        "colab_type": "code",
        "outputId": "bb9447bd-1148-4372-ba0f-6d71efae4909",
        "colab": {
          "base_uri": "https://localhost:8080/",
          "height": 170
        }
      },
      "source": [
        "songs_before_2000['Danceability'].describe()"
      ],
      "execution_count": 0,
      "outputs": [
        {
          "output_type": "execute_result",
          "data": {
            "text/plain": [
              "count    1195.000000\n",
              "mean       52.671967\n",
              "std        15.580273\n",
              "min        10.000000\n",
              "25%        41.000000\n",
              "50%        53.000000\n",
              "75%        64.000000\n",
              "max        96.000000\n",
              "Name: Danceability, dtype: float64"
            ]
          },
          "metadata": {
            "tags": []
          },
          "execution_count": 29
        }
      ]
    },
    {
      "cell_type": "code",
      "metadata": {
        "id": "U7fZHtckYXfS",
        "colab_type": "code",
        "outputId": "415d87f5-f42e-4cd3-a689-760e780c3cf2",
        "colab": {
          "base_uri": "https://localhost:8080/",
          "height": 296
        }
      },
      "source": [
        "sns.scatterplot(x='Danceability', y= 'Popularity', data= songs_before_2000)"
      ],
      "execution_count": 0,
      "outputs": [
        {
          "output_type": "execute_result",
          "data": {
            "text/plain": [
              "<matplotlib.axes._subplots.AxesSubplot at 0x7fa9db1e15c0>"
            ]
          },
          "metadata": {
            "tags": []
          },
          "execution_count": 30
        },
        {
          "output_type": "display_data",
          "data": {
            "image/png": "[encoded data removed]",
            "text/plain": [
              "<Figure size 432x288 with 1 Axes>"
            ]
          },
          "metadata": {
            "tags": [],
            "needs_background": "light"
          }
        }
      ]
    },
    {
      "cell_type": "code",
      "metadata": {
        "id": "0clOc6A-OPl0",
        "colab_type": "code",
        "outputId": "52d78f56-658c-4f06-9dc3-322029136d36",
        "colab": {
          "base_uri": "https://localhost:8080/",
          "height": 296
        }
      },
      "source": [
        "sns.boxenplot(x=\"Danceability\", y='Popularity', data= songs_after_2000)"
      ],
      "execution_count": 0,
      "outputs": [
        {
          "output_type": "execute_result",
          "data": {
            "text/plain": [
              "<matplotlib.axes._subplots.AxesSubplot at 0x7fa9db1cceb8>"
            ]
          },
          "metadata": {
            "tags": []
          },
          "execution_count": 31
        },
        {
          "output_type": "display_data",
          "data": {
            "image/png": "[encoded data removed]",
            "text/plain": [
              "<Figure size 432x288 with 1 Axes>"
            ]
          },
          "metadata": {
            "tags": [],
            "needs_background": "light"
          }
        }
      ]
    },
    {
      "cell_type": "code",
      "metadata": {
        "id": "5AU5bIlnZz-g",
        "colab_type": "code",
        "outputId": "90a4f23b-628b-4fa6-dc57-3c83d9ca4ab7",
        "colab": {
          "base_uri": "https://localhost:8080/",
          "height": 305
        }
      },
      "source": [
        "sns.set_style('white')\n",
        "sns.set_context('notebook')\n",
        "\n",
        "songs2 = spotify2000.copy()\n",
        "\n",
        "songs2['Before_2000'] = np.where(spotify2000['Year']< 2000, 'Yes', 'No')\n",
        "sns.scatterplot(y='Danceability', x='Popularity', hue='Before_2000', data= songs2)\n",
        "plt.legend(bbox_to_anchor=(1.05, 1), loc=2, borderaxespad=0.)"
      ],
      "execution_count": 0,
      "outputs": [
        {
          "output_type": "execute_result",
          "data": {
            "text/plain": [
              "<matplotlib.legend.Legend at 0x7fa9df44da58>"
            ]
          },
          "metadata": {
            "tags": []
          },
          "execution_count": 32
        },
        {
          "output_type": "display_data",
          "data": {
            "image/png": "[encoded data removed]",
            "text/plain": [
              "<Figure size 432x288 with 1 Axes>"
            ]
          },
          "metadata": {
            "tags": []
          }
        }
      ]
    },
    {
      "cell_type": "code",
      "metadata": {
        "id": "64DkH-xegg2a",
        "colab_type": "code",
        "outputId": "c8893442-cfb2-4017-9a27-4df01d5da5e8",
        "colab": {
          "base_uri": "https://localhost:8080/",
          "height": 302
        }
      },
      "source": [
        "sns.boxenplot(x='Danceability', data= songs_before_2000)"
      ],
      "execution_count": 0,
      "outputs": [
        {
          "output_type": "execute_result",
          "data": {
            "text/plain": [
              "<matplotlib.axes._subplots.AxesSubplot at 0x7fa9db3e3f98>"
            ]
          },
          "metadata": {
            "tags": []
          },
          "execution_count": 33
        },
        {
          "output_type": "display_data",
          "data": {
            "image/png": "[encoded data removed]",
            "text/plain": [
              "<Figure size 432x288 with 1 Axes>"
            ]
          },
          "metadata": {
            "tags": []
          }
        }
      ]
    },
    {
      "cell_type": "code",
      "metadata": {
        "id": "LQo7ahq_iWe2",
        "colab_type": "code",
        "outputId": "8b37121e-b679-43b4-cd38-3e1e621e200a",
        "colab": {
          "base_uri": "https://localhost:8080/",
          "height": 302
        }
      },
      "source": [
        "sns.boxenplot(x='Danceability', y=\"Before_2000\", data= songs2, )"
      ],
      "execution_count": 0,
      "outputs": [
        {
          "output_type": "execute_result",
          "data": {
            "text/plain": [
              "<matplotlib.axes._subplots.AxesSubplot at 0x7fa9d95e6320>"
            ]
          },
          "metadata": {
            "tags": []
          },
          "execution_count": 34
        },
        {
          "output_type": "display_data",
          "data": {
            "image/png": "[encoded data removed]",
            "text/plain": [
              "<Figure size 432x288 with 1 Axes>"
            ]
          },
          "metadata": {
            "tags": []
          }
        }
      ]
    },
    {
      "cell_type": "markdown",
      "metadata": {
        "id": "uzGHwBIKZztH",
        "colab_type": "text"
      },
      "source": [
        ""
      ]
    }
  ]
}