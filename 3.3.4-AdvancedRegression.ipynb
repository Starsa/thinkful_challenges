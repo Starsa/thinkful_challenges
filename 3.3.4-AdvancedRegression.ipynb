{
 "cells": [
  {
   "cell_type": "markdown",
   "metadata": {
    "ExecuteTime": {
     "end_time": "2019-04-28T13:21:21.952508Z",
     "start_time": "2019-04-28T13:21:21.946332Z"
    }
   },
   "source": [
    "3.3.4 Challenge- Advanced Regression"
   ]
  },
  {
   "cell_type": "markdown",
   "metadata": {},
   "source": [
    "## Thinkful Challenge- Advanced Regression"
   ]
  },
  {
   "cell_type": "markdown",
   "metadata": {},
   "source": [
    "Now that you have two new regression methods at your fingertips, it's time to give them a spin. In fact, for this challenge, let's put them together! Pick a dataset of your choice with a binary outcome and the potential for at least 15 features. If you're drawing a blank, the crime rates in 2013 dataset has a lot of variables that could be made into a modelable binary outcome.\n",
    "\n",
    "Engineer your features, then create three models. Each model will be run on a training set and a test-set (or multiple test-sets, if you take a folds approach). The models should be:\n",
    "\n",
    "- Vanilla logistic regression\n",
    "- Ridge logistic regression\n",
    "- Lasso logistic regression\n",
    "\n",
    "If you're stuck on how to begin combining your two new modeling skills, here's a hint: the SKlearn LogisticRegression method has a \"penalty\" argument that takes either 'l1' or 'l2' as a value.\n",
    "\n",
    "In your report, evaluate all three models and decide on your best. Be clear about the decisions you made that led to these models (feature selection, regularization parameter selection, model evaluation criteria) and why you think that particular model is the best of the three. Also reflect on the strengths and limitations of regression as a modeling approach. Were there things you couldn't do but you wish you could have done?\n",
    "\n",
    "Record your work and reflections in a notebook to discuss with your mentor."
   ]
  },
  {
   "cell_type": "markdown",
   "metadata": {},
   "source": [
    "## Import libraries and dataset"
   ]
  },
  {
   "cell_type": "code",
   "execution_count": null,
   "metadata": {
    "ExecuteTime": {
     "start_time": "2019-05-11T13:52:04.328Z"
    }
   },
   "outputs": [],
   "source": [
    "import numpy as np\n",
    "import pandas as pd\n",
    "import matplotlib.pyplot as plt\n",
    "import seaborn as sns\n",
    "import math\n",
    "import sklearn\n",
    "from sklearn.linear_model import Ridge, Lasso, LogisticRegression\n",
    "from sklearn import preprocessing\n",
    "from sklearn.model_selection import train_test_split\n",
    "%matplotlib inline\n",
    "sns.set_style('white')"
   ]
  },
  {
   "cell_type": "code",
   "execution_count": null,
   "metadata": {
    "ExecuteTime": {
     "start_time": "2019-05-11T13:52:04.331Z"
    }
   },
   "outputs": [],
   "source": [
    "df = pd.read_csv('cardio_train.csv', sep=';')\n",
    "df.shape"
   ]
  },
  {
   "cell_type": "code",
   "execution_count": null,
   "metadata": {
    "ExecuteTime": {
     "start_time": "2019-05-11T13:52:04.334Z"
    }
   },
   "outputs": [],
   "source": [
    "df.head()"
   ]
  },
  {
   "cell_type": "markdown",
   "metadata": {
    "heading_collapsed": true
   },
   "source": [
    "### Dataset details"
   ]
  },
  {
   "cell_type": "markdown",
   "metadata": {
    "hidden": true
   },
   "source": [
    "Details from Kaggle about the dataset\n",
    "- Age | Objective Feature | age | int (days)\n",
    "- Height | Objective Feature | height | int (cm) |\n",
    "- Weight | Objective Feature | weight | float (kg) |\n",
    "- Gender | Objective Feature | gender | categorical code |\n",
    "- Systolic blood pressure | Examination Feature | ap_hi | int |\n",
    "- Diastolic blood pressure | Examination Feature | ap_lo | int |\n",
    "- Cholesterol | Examination Feature | cholesterol | 1: normal, 2: above normal, 3: well above normal |\n",
    "- Glucose | Examination Feature | gluc | 1: normal, 2: above normal, 3: well above normal |\n",
    "- Smoking | Subjective Feature | smoke | binary |\n",
    "- Alcohol intake | Subjective Feature | alco | binary |\n",
    "- Physical activity | Subjective Feature | active | binary |\n",
    "- Presence or absence of cardiovascular disease | Target Variable | cardio | binary |"
   ]
  },
  {
   "cell_type": "markdown",
   "metadata": {},
   "source": [
    "## Clean dataset, add features and split training and test sets"
   ]
  },
  {
   "cell_type": "code",
   "execution_count": null,
   "metadata": {
    "ExecuteTime": {
     "start_time": "2019-05-11T13:52:04.337Z"
    }
   },
   "outputs": [],
   "source": [
    "#Engineer features from dataframe and drop NaN's\n",
    "heart = df.dropna(axis=0, how='any')"
   ]
  },
  {
   "cell_type": "code",
   "execution_count": null,
   "metadata": {
    "ExecuteTime": {
     "start_time": "2019-05-11T13:52:04.340Z"
    }
   },
   "outputs": [],
   "source": [
    "#Evaluate changes to the shape after dropping NaN's\n",
    "heart.shape"
   ]
  },
  {
   "cell_type": "code",
   "execution_count": null,
   "metadata": {
    "ExecuteTime": {
     "start_time": "2019-05-11T13:52:04.342Z"
    }
   },
   "outputs": [],
   "source": [
    "#We don't need id in the features or as a target, we will drop this\n",
    "heart = heart.drop('id', axis=1)\n",
    "\n",
    "#Create new features bmi, and age in years\n",
    "heart['bmi'] = (df.weight / (df.height**2))* 10000\n",
    "heart['age_yrs'] = round(df.age/365)\n",
    "\n",
    "#make gender a 0 or 1 instead of 1 or 2\n",
    "heart['gender'] = np.where(df['gender'] == 1, 1, 0)"
   ]
  },
  {
   "cell_type": "code",
   "execution_count": null,
   "metadata": {
    "ExecuteTime": {
     "start_time": "2019-05-11T13:52:04.345Z"
    },
    "scrolled": true
   },
   "outputs": [],
   "source": [
    "#Create additional features that may help predict cardio disease\n",
    "heart['adult_50plus'] = np.where(heart['age_yrs']>=45, 1, 0)\n",
    "heart['overweight'] = np.where((heart['bmi']>=25) & (heart['bmi'] <=29) ,1, 0)\n",
    "heart['obese'] = np.where(heart['bmi']>=30,1, 0)"
   ]
  },
  {
   "cell_type": "code",
   "execution_count": null,
   "metadata": {
    "ExecuteTime": {
     "start_time": "2019-05-11T13:52:04.347Z"
    }
   },
   "outputs": [],
   "source": [
    "#drop highly correlated and recalculated fields\n",
    "heart = heart.drop('age', axis=1)\n",
    "heart = heart.drop('age_yrs', axis=1)"
   ]
  },
  {
   "cell_type": "code",
   "execution_count": null,
   "metadata": {
    "ExecuteTime": {
     "start_time": "2019-05-11T13:52:04.350Z"
    }
   },
   "outputs": [],
   "source": [
    "#evaluate the new dataset\n",
    "heart.info()"
   ]
  },
  {
   "cell_type": "code",
   "execution_count": null,
   "metadata": {
    "ExecuteTime": {
     "start_time": "2019-05-11T13:52:04.352Z"
    }
   },
   "outputs": [],
   "source": [
    "#establish target variable \"cardio\"\n",
    "y = heart.cardio.values"
   ]
  },
  {
   "cell_type": "code",
   "execution_count": null,
   "metadata": {
    "ExecuteTime": {
     "start_time": "2019-05-11T13:52:04.354Z"
    }
   },
   "outputs": [],
   "source": [
    "#drop target from feature set for scaling\n",
    "heart2 = heart.drop('cardio', axis=1)"
   ]
  },
  {
   "cell_type": "code",
   "execution_count": null,
   "metadata": {
    "ExecuteTime": {
     "start_time": "2019-05-11T13:52:04.357Z"
    },
    "scrolled": false
   },
   "outputs": [],
   "source": [
    "#scale data\n",
    "names = heart2.columns\n",
    "heart2 = pd.DataFrame(preprocessing.scale(heart2), columns=names)"
   ]
  },
  {
   "cell_type": "code",
   "execution_count": null,
   "metadata": {
    "ExecuteTime": {
     "start_time": "2019-05-11T13:52:04.359Z"
    }
   },
   "outputs": [],
   "source": [
    "#evaluate dataset\n",
    "#heart.head(30)"
   ]
  },
  {
   "cell_type": "code",
   "execution_count": null,
   "metadata": {
    "ExecuteTime": {
     "start_time": "2019-05-11T13:52:04.361Z"
    },
    "scrolled": true
   },
   "outputs": [],
   "source": [
    "#Evaluate new dataset to create features\n",
    "#heart2.head()"
   ]
  },
  {
   "cell_type": "code",
   "execution_count": null,
   "metadata": {
    "ExecuteTime": {
     "start_time": "2019-05-11T13:52:04.363Z"
    }
   },
   "outputs": [],
   "source": [
    "#Define features as \"X\"\n",
    "X = heart2.values\n",
    "X.shape"
   ]
  },
  {
   "cell_type": "code",
   "execution_count": null,
   "metadata": {
    "ExecuteTime": {
     "start_time": "2019-05-11T13:52:04.366Z"
    }
   },
   "outputs": [],
   "source": [
    "#Reshape target variable\n",
    "y = y.reshape(-1, 1)\n",
    "y.shape"
   ]
  },
  {
   "cell_type": "code",
   "execution_count": null,
   "metadata": {
    "ExecuteTime": {
     "start_time": "2019-05-11T13:52:04.369Z"
    }
   },
   "outputs": [],
   "source": [
    "#Split data into training and test set\n",
    "X_train, X_test, y_train, y_test = train_test_split(X, y, test_size = 0.3, random_state=42)"
   ]
  },
  {
   "cell_type": "code",
   "execution_count": null,
   "metadata": {
    "ExecuteTime": {
     "start_time": "2019-05-11T13:52:04.372Z"
    }
   },
   "outputs": [],
   "source": [
    "#Make a correlation matrix to evaluate features collinearity\n",
    "corrmat = heart.corr()\n",
    "f, ax = plt.subplots(figsize=(12, 9))\n",
    "sns.heatmap(corrmat, vmax=.8, square=True)\n",
    "plt.show()\n"
   ]
  },
  {
   "cell_type": "markdown",
   "metadata": {},
   "source": [
    "## Create Models"
   ]
  },
  {
   "cell_type": "markdown",
   "metadata": {},
   "source": [
    "### Logistic Regression Model"
   ]
  },
  {
   "cell_type": "code",
   "execution_count": null,
   "metadata": {
    "ExecuteTime": {
     "start_time": "2019-05-11T13:52:04.375Z"
    }
   },
   "outputs": [],
   "source": [
    "#Create the regression\n",
    "log_reg = LogisticRegression(random_state=42)\n",
    "\n",
    "#Fit the regressor to the training set\n",
    "log_reg.fit(X_train, y_train)\n",
    "\n",
    "#predict based on test features\n",
    "log_pred = log_reg.predict(X_test)\n",
    "\n",
    "LogisticRegression()\n",
    "\n",
    "print(\"R2: \",log_reg.score(X_train, y_train))\n",
    "print(\"Prediction: \",log_pred)\n",
    "print(\"Probabiliy: \", log_reg.predict_proba(X_test))\n"
   ]
  },
  {
   "cell_type": "code",
   "execution_count": null,
   "metadata": {
    "ExecuteTime": {
     "start_time": "2019-05-11T13:52:04.377Z"
    }
   },
   "outputs": [],
   "source": [
    "#Create the regression\n",
    "ridge = LogisticRegression(random_state=42, penalty='l2')\n",
    "\n",
    "#Fit the regressor to the training set\n",
    "ridge.fit(X_train, y_train)\n",
    "\n",
    "#predict based on test features\n",
    "ridge_pred = ridge.predict(X_test)\n",
    "\n",
    "\n",
    "print(\"R2: \",ridge.score(X_train, y_train))\n",
    "print(\"Prediction: \",ridge_pred)\n",
    "print(\"Probabiliy: \", ridge.predict_proba(X_test))\n"
   ]
  },
  {
   "cell_type": "code",
   "execution_count": null,
   "metadata": {
    "ExecuteTime": {
     "start_time": "2019-05-11T13:52:04.380Z"
    }
   },
   "outputs": [],
   "source": [
    "#Create the regression\n",
    "lasso = LogisticRegression(C= .2, random_state=42, penalty='l1')\n",
    "\n",
    "#Fit the regressor to the training set\n",
    "lasso.fit(X_train, y_train)\n",
    "\n",
    "#predict based on test features\n",
    "lasso_pred = lasso.predict(X_test)\n",
    "\n",
    "print(\"R2: \",lasso.score(X_train, y_train))\n",
    "print(\"Prediction: \",lasso_pred)\n",
    "print(\"Probabiliy: \", lasso.predict_proba(X_test))"
   ]
  },
  {
   "cell_type": "markdown",
   "metadata": {},
   "source": [
    "## Conclusion"
   ]
  },
  {
   "cell_type": "markdown",
   "metadata": {},
   "source": [
    "After evaluating all three models, I believe for this set the L1 (lasso) penalty gives us a stronger confidence level. \n",
    "\n",
    "Initially I added various \"C\" values to evaluate any differences in the models. The outcome was that l2 (Ridge) penalty gives us similar outcomes to the plain logistic regression. \n",
    "\n",
    "Conclusion is that using the Lasso model we can see a better probabilty outcome and R2."
   ]
  },
  {
   "cell_type": "code",
   "execution_count": null,
   "metadata": {},
   "outputs": [],
   "source": []
  }
 ],
 "metadata": {
  "kernelspec": {
   "display_name": "Python 3",
   "language": "python",
   "name": "python3"
  },
  "language_info": {
   "codemirror_mode": {
    "name": "ipython",
    "version": 3
   },
   "file_extension": ".py",
   "mimetype": "text/x-python",
   "name": "python",
   "nbconvert_exporter": "python",
   "pygments_lexer": "ipython3",
   "version": "3.7.1"
  },
  "toc": {
   "base_numbering": 1,
   "nav_menu": {},
   "number_sections": true,
   "sideBar": true,
   "skip_h1_title": false,
   "title_cell": "Table of Contents",
   "title_sidebar": "Contents",
   "toc_cell": false,
   "toc_position": {},
   "toc_section_display": true,
   "toc_window_display": false
  }
 },
 "nbformat": 4,
 "nbformat_minor": 2
}
