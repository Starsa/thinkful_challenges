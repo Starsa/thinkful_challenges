{
 "cells": [
  {
   "cell_type": "markdown",
   "metadata": {},
   "source": [
    "<h1>DOB ECB Fines- a brief Analysis</h1>\n",
    "<h3>Are DOB Violations precautionary or just a headache?</h3>\n",
    "<p>The Department of Buildings (DOB) in New York City regulates City Construction Codes, Zoning, and  Dwelling Laws for over one million construction sites and buildings in New York City. Their aim is to enforce compliance to promote safety for workers and the public.<p> \n",
    "\n",
    "<p>With their annual reviews and site inspections Violations are issued across the city for a range of differnt infractions.</p>\n",
    "<p>The dataset I reviewed is from the New York City Open Data source pertaining specifically to the DOB ECB (Enviornmental Control Board) violations. With 46 columns and data dating back to 19 \n",
    "<h3>How many violations annualy are respondents recieving?</h3>\n",
    "<h4>Below you can visualize the DOB Violation data (violations that are adjudicated by OATH/ECB)and approximately how many violations are issued each year\n",
    "</h4>\n"
   ]
  },
  {
   "cell_type": "code",
   "execution_count": 1,
   "metadata": {},
   "outputs": [],
   "source": [
    "import pandas as pd\n",
    "import numpy as np\n",
    "import matplotlib.pyplot as plt\n",
    "import statistics\n",
    "%matplotlib inline\n",
    "\n",
    "from IPython.core.interactiveshell import InteractiveShell \n",
    "InteractiveShell.ast_node_interactivity = \"all\""
   ]
  },
  {
   "cell_type": "code",
   "execution_count": 2,
   "metadata": {},
   "outputs": [
    {
     "name": "stderr",
     "output_type": "stream",
     "text": [
      "/Library/Frameworks/Python.framework/Versions/3.7/lib/python3.7/site-packages/IPython/core/interactiveshell.py:3020: DtypeWarning: Columns (4,6,27,29,30,31,32,33,34,35,36,37,38,39,40,41,42) have mixed types. Specify dtype option on import or set low_memory=False.\n",
      "  interactivity=interactivity, compiler=compiler, result=result)\n"
     ]
    },
    {
     "data": {
      "text/plain": [
       "(1334976, 46)"
      ]
     },
     "execution_count": 2,
     "metadata": {},
     "output_type": "execute_result"
    }
   ],
   "source": [
    "dob = pd.read_csv('DOB_ECB_Violations.csv');\n",
    "dob.shape"
   ]
  },
  {
   "cell_type": "code",
   "execution_count": 3,
   "metadata": {},
   "outputs": [
    {
     "data": {
      "text/plain": [
       "['ISN_DOB_BIS_EXTRACT',\n",
       " 'ECB_VIOLATION_NUMBER',\n",
       " 'ECB_VIOLATION_STATUS',\n",
       " 'DOB_VIOLATION_NUMBER',\n",
       " 'BIN',\n",
       " 'BORO',\n",
       " 'BLOCK',\n",
       " 'LOT',\n",
       " 'HEARING_DATE',\n",
       " 'HEARING_TIME',\n",
       " 'SERVED_DATE',\n",
       " 'ISSUE_DATE',\n",
       " 'SEVERITY',\n",
       " 'VIOLATION_TYPE',\n",
       " 'RESPONDENT_NAME',\n",
       " 'RESPONDENT_HOUSE_NUMBER',\n",
       " 'RESPONDENT_STREET',\n",
       " 'RESPONDENT_CITY',\n",
       " 'RESPONDENT_ZIP',\n",
       " 'VIOLATION_DESCRIPTION',\n",
       " 'PENALITY_IMPOSED',\n",
       " 'AMOUNT_PAID',\n",
       " 'BALANCE_DUE',\n",
       " 'INFRACTION_CODE1',\n",
       " 'SECTION_LAW_DESCRIPTION1',\n",
       " 'INFRACTION_CODE2',\n",
       " 'SECTION_LAW_DESCRIPTION2',\n",
       " 'INFRACTION_CODE3',\n",
       " 'SECTION_LAW_DESCRIPTION3',\n",
       " 'INFRACTION_CODE4',\n",
       " 'SECTION_LAW_DESCRIPTION4',\n",
       " 'INFRACTION_CODE5',\n",
       " 'SECTION_LAW_DESCRIPTION5',\n",
       " 'INFRACTION_CODE6',\n",
       " 'SECTION_LAW_DESCRIPTION6',\n",
       " 'INFRACTION_CODE7',\n",
       " 'SECTION_LAW_DESCRIPTION7',\n",
       " 'INFRACTION_CODE8',\n",
       " 'SECTION_LAW_DESCRIPTION8',\n",
       " 'INFRACTION_CODE9',\n",
       " 'SECTION_LAW_DESCRIPTION9',\n",
       " 'INFRACTION_CODE10',\n",
       " 'SECTION_LAW_DESCRIPTION10',\n",
       " 'AGGRAVATED_LEVEL',\n",
       " 'HEARING_STATUS',\n",
       " 'CERTIFICATION_STATUS']"
      ]
     },
     "execution_count": 3,
     "metadata": {},
     "output_type": "execute_result"
    }
   ],
   "source": [
    "list(dob)"
   ]
  },
  {
   "cell_type": "code",
   "execution_count": 4,
   "metadata": {},
   "outputs": [],
   "source": [
    "#The date was not in a useable format\n",
    "#dob.ISSUE_DATE[0:20]\n",
    "#dob.ISSUE_DATE.value_counts()\n",
    "dob = dob.loc[dob['ISSUE_DATE'] > 0]"
   ]
  },
  {
   "cell_type": "code",
   "execution_count": 5,
   "metadata": {},
   "outputs": [],
   "source": [
    "dob['new_issue_date'] = pd.to_datetime(dob['ISSUE_DATE'], format='%Y%m%d')"
   ]
  },
  {
   "cell_type": "code",
   "execution_count": 6,
   "metadata": {},
   "outputs": [
    {
     "data": {
      "text/plain": [
       "[<matplotlib.lines.Line2D at 0x13ebd1748>]"
      ]
     },
     "execution_count": 6,
     "metadata": {},
     "output_type": "execute_result"
    },
    {
     "data": {
      "text/plain": [
       "Text(0, 0.5, 'DOB Imposed Penalties')"
      ]
     },
     "execution_count": 6,
     "metadata": {},
     "output_type": "execute_result"
    },
    {
     "data": {
      "text/plain": [
       "Text(0.5, 0, 'Date Issued')"
      ]
     },
     "execution_count": 6,
     "metadata": {},
     "output_type": "execute_result"
    },
    {
     "data": {
      "text/plain": [
       "Text(0.5, 1.0, 'Yearly Violations Issued')"
      ]
     },
     "execution_count": 6,
     "metadata": {},
     "output_type": "execute_result"
    },
    {
     "data": {
      "image/png": "[encoded data removed]",
      "text/plain": [
       "<Figure size 432x288 with 1 Axes>"
      ]
     },
     "metadata": {
      "needs_background": "light"
     },
     "output_type": "display_data"
    },
    {
     "name": "stdout",
     "output_type": "stream",
     "text": [
      "Aprox. Annual Vioaltions:  1473.416\n"
     ]
    }
   ],
   "source": [
    "penalty = dob['PENALITY_IMPOSED']\n",
    "issued = dob['new_issue_date']\n",
    "plt.plot_date(x= issued, y= penalty)\n",
    "plt.ylabel('DOB Imposed Penalties')\n",
    "plt.xlabel('Date Issued')\n",
    "plt.title('Yearly Violations Issued')\n",
    "plt.show()\n",
    "print(\"Aprox. Annual Vioaltions: \", round(dob.PENALITY_IMPOSED.mean(),3))"
   ]
  },
  {
   "cell_type": "markdown",
   "metadata": {},
   "source": [
    "<h4>Take a better look below at the total imposed penalties.</h4>"
   ]
  },
  {
   "cell_type": "markdown",
   "metadata": {},
   "source": [
    "<p>As you can see there was a significant increase in Violations in the 90’s moving into the 2000’s. You can also say that the DOB has collected substantially more (at least seven times more) in ECB fines over the last 20 years.</p>\n",
    "<p>Now that we can see the increase in violations over time, let’s look closer at the imposed penalties.</p> \n",
    "<h3>What are these violations costing the Respondents (Building Owners, Landlords or Tenants)?</h3>"
   ]
  },
  {
   "cell_type": "code",
   "execution_count": 7,
   "metadata": {},
   "outputs": [
    {
     "name": "stderr",
     "output_type": "stream",
     "text": [
      "/Library/Frameworks/Python.framework/Versions/3.7/lib/python3.7/site-packages/numpy/lib/histograms.py:754: RuntimeWarning: invalid value encountered in greater_equal\n",
      "  keep = (tmp_a >= first_edge)\n",
      "/Library/Frameworks/Python.framework/Versions/3.7/lib/python3.7/site-packages/numpy/lib/histograms.py:755: RuntimeWarning: invalid value encountered in less_equal\n",
      "  keep &= (tmp_a <= last_edge)\n"
     ]
    },
    {
     "data": {
      "image/png": "[encoded data removed]",
      "text/plain": [
       "<Figure size 432x288 with 1 Axes>"
      ]
     },
     "metadata": {
      "needs_background": "light"
     },
     "output_type": "display_data"
    },
    {
     "name": "stdout",
     "output_type": "stream",
     "text": [
      "Total Imposed Penalties:  1966873016.44\n",
      "Penalties Mean:  1473.42\n",
      "Penalties Median:  400.0\n",
      "Penalties Standard Deviation:  3584.34\n",
      "Minimum Penalties:  0.0\n",
      "Maximum Penalties:  70550.0\n"
     ]
    }
   ],
   "source": [
    "plt.hist(dob.PENALITY_IMPOSED ,bins = 10, color= 'c')\n",
    "\n",
    "plt.axvline(dob.PENALITY_IMPOSED.mean(), color='b', linestyle='solid', linewidth=2)\n",
    "plt.axvline(dob.PENALITY_IMPOSED.mean() + dob.PENALITY_IMPOSED.std(), color='b', linestyle='dashed', linewidth=2)\n",
    "plt.axvline(dob.PENALITY_IMPOSED.mean() - dob.PENALITY_IMPOSED.std(), color='b', linestyle='dashed', linewidth=2)\n",
    "\n",
    "plt.title('DOB ECB Imposed Penalties')\n",
    "plt.xlabel('Penalty Amount')\n",
    "plt.show();\n",
    "\n",
    "print(\"Total Imposed Penalties: \", round(dob.PENALITY_IMPOSED.sum(),2))\n",
    "print(\"Penalties Mean: \",round(dob.PENALITY_IMPOSED.mean(),2))\n",
    "print(\"Penalties Median: \", round(dob.PENALITY_IMPOSED.median(), 2))\n",
    "#print(\"Penalty Variance: \", round(np.var(dob.PENALITY_IMPOSED),2)) \n",
    "print(\"Penalties Standard Deviation: \", round(dob.PENALITY_IMPOSED.std(),2))\n",
    "#print(\"Standard Error: \", round(np.std((dob.PENALITY_IMPOSED) / np.sqrt(len(dob.PENALITY_IMPOSED))), 2)) \n",
    "print(\"Minimum Penalties: \", dob.PENALITY_IMPOSED.min())\n",
    "print(\"Maximum Penalties: \", dob.PENALITY_IMPOSED.max());\n",
    "#print(\"Penalty Mode: \", dob.PENALITY_IMPOSED.mode()) ;"
   ]
  },
  {
   "cell_type": "markdown",
   "metadata": {},
   "source": [
    "<p>When we analyze the data there are several things to consider here. The first ting that stands out to me is that the imposed penalty amounts standard deviation is considerably larger than the mean. What does that tell us about the data?</p>"
   ]
  },
  {
   "cell_type": "markdown",
   "metadata": {},
   "source": [
    "<p>The chart shows us that several of the violations are below 10000. As we saw earlier, the fines were predominately in this same range before the 90's.</p>"
   ]
  },
  {
   "cell_type": "markdown",
   "metadata": {},
   "source": [
    "<h3>How many imposed penalties have zero balances in this data set and why?</h3>"
   ]
  },
  {
   "cell_type": "code",
   "execution_count": 8,
   "metadata": {},
   "outputs": [
    {
     "data": {
      "text/plain": [
       "<matplotlib.axes._subplots.AxesSubplot at 0x121b776a0>"
      ]
     },
     "execution_count": 8,
     "metadata": {},
     "output_type": "execute_result"
    },
    {
     "data": {
      "text/plain": [
       "Text(0.5, 1.0, 'Zero Balance Imposed Penalty')"
      ]
     },
     "execution_count": 8,
     "metadata": {},
     "output_type": "execute_result"
    },
    {
     "data": {
      "image/png": "[encoded data removed]",
      "text/plain": [
       "<Figure size 432x288 with 1 Axes>"
      ]
     },
     "metadata": {
      "needs_background": "light"
     },
     "output_type": "display_data"
    },
    {
     "name": "stdout",
     "output_type": "stream",
     "text": [
      "Zero Balance Imposed Penalties:  481431\n",
      "Amount of Penalties greater than Zero:  853476\n"
     ]
    }
   ],
   "source": [
    "zero_pen= dob.loc[lambda df: dob['PENALITY_IMPOSED'] < 1, :]\n",
    "penalties = dob.loc[lambda df: dob['PENALITY_IMPOSED'] >= 1, :]\n",
    "\n",
    "amt_due = pd.DataFrame(dob.PENALITY_IMPOSED == 0)\n",
    "amt_due = pd.DataFrame(amt_due.PENALITY_IMPOSED.value_counts())\n",
    "amt_due.plot(kind='bar', legend=False)\n",
    "plt.title('Zero Balance Imposed Penalty')\n",
    "plt.show()\n",
    "print(\"Zero Balance Imposed Penalties: \", len(zero_pen))\n",
    "print(\"Amount of Penalties greater than Zero: \", len(penalties))"
   ]
  },
  {
   "cell_type": "markdown",
   "metadata": {},
   "source": [
    "As we can see above over half of the violations given by the DOB result in a zero balance imposed penalty."
   ]
  },
  {
   "cell_type": "markdown",
   "metadata": {},
   "source": [
    "<p>We have already observed above that before the 2000's the imposed penalties were relativley low.</p>\n"
   ]
  },
  {
   "cell_type": "markdown",
   "metadata": {},
   "source": [
    "<h3>What other variables are causing these low or zero balances?</h3>"
   ]
  },
  {
   "cell_type": "code",
   "execution_count": 51,
   "metadata": {},
   "outputs": [
    {
     "data": {
      "text/plain": [
       "<matplotlib.axes._subplots.AxesSubplot at 0x12e2890f0>"
      ]
     },
     "execution_count": 51,
     "metadata": {},
     "output_type": "execute_result"
    },
    {
     "data": {
      "text/plain": [
       "Text(0, 0.5, 'ECB Violation Status')"
      ]
     },
     "execution_count": 51,
     "metadata": {},
     "output_type": "execute_result"
    },
    {
     "data": {
      "image/png": "[encoded data removed]",
      "text/plain": [
       "<Figure size 432x288 with 1 Axes>"
      ]
     },
     "metadata": {
      "needs_background": "light"
     },
     "output_type": "display_data"
    },
    {
     "name": "stdout",
     "output_type": "stream",
     "text": [
      "RESOLVE    1052875\n",
      "ACTIVE      282037\n",
      "Name: ECB_VIOLATION_STATUS, dtype: int64\n",
      "RESOLVED VIOLATIONS WITH ZERO BALANCE:  452766\n",
      "ACTIVE VIOLATIONS WITH ZERO BALANCE:  28665\n"
     ]
    }
   ],
   "source": [
    "active_vos = dob.loc[lambda df: dob['ECB_VIOLATION_STATUS'] == \"ACTIVE\", :]\n",
    "resolved_vos = dob.loc[lambda df: dob['ECB_VIOLATION_STATUS'] =='RESOLVE', :]\n",
    "active_vos_zero = active_vos.loc[lambda df: active_vos['PENALITY_IMPOSED'] == 0, :]\n",
    "resolved_vos_zero= resolved_vos.loc[lambda df: resolved_vos['PENALITY_IMPOSED'] ==0, :]\n",
    "\n",
    "\n",
    "\n",
    "dob.ECB_VIOLATION_STATUS.value_counts().plot(kind='bar',legend=False)\n",
    "plt.ylabel('ECB Violation Status')\n",
    "plt.show()\n",
    "\n",
    "print(dob.ECB_VIOLATION_STATUS.value_counts())\n",
    "print(\"RESOLVED VIOLATIONS WITH ZERO BALANCE: \", len(resolved_vos_zero))\n",
    "print(\"ACTIVE VIOLATIONS WITH ZERO BALANCE: \", len(active_vos_zero))"
   ]
  },
  {
   "cell_type": "markdown",
   "metadata": {},
   "source": [
    "<p>As we can see the data tells us a lot about the violations. We can see that The Active violations seem to have a higher balance. The Resolved Violtions makeup for most of the zero balance imposed penalties.</p>"
   ]
  },
  {
   "cell_type": "markdown",
   "metadata": {},
   "source": [
    "<p>To summarize, I would conclude that since most of the DOB violations result in no penalties, and that more violations are resolved than active the DOB does have the saftey of the public in it's best interest.</p>\n",
    "<h3>Although there has been a significant increase in violations, and potentially court appearances, I think that NYC's DOB is on the right track for making the city a safer more compliant city.</h3>"
   ]
  },
  {
   "cell_type": "markdown",
   "metadata": {},
   "source": [
    "I think we barley scratched the surface here with this dataset. There are so many additional questions we could ask. Below are a few questions worth exploring in the near future:"
   ]
  },
  {
   "cell_type": "markdown",
   "metadata": {},
   "source": [
    "What is the frequency of violations (inspections) based on the time of year?\n",
    "\n",
    "Do inspectors, or the DOB target specific areas, Boros, blocks?\n",
    "\n",
    "Are certain inspectors repeating or trageting citations or infractions?\n",
    "\n",
    "Is the respondent an NYC resident?\n",
    "\n",
    "Does the severity of the violation have any weight on the violation?\n",
    "\n",
    "What is the average amount of infractions per violation?\n",
    "\n",
    "What is the averge amount of violations per respondent?\n",
    "\n",
    "What is the average amount of violations per BIN, Boro, or Block?\n"
   ]
  },
  {
   "cell_type": "code",
   "execution_count": null,
   "metadata": {},
   "outputs": [],
   "source": []
  }
 ],
 "metadata": {
  "kernelspec": {
   "display_name": "Python 3",
   "language": "python",
   "name": "python3"
  },
  "language_info": {
   "codemirror_mode": {
    "name": "ipython",
    "version": 3
   },
   "file_extension": ".py",
   "mimetype": "text/x-python",
   "name": "python",
   "nbconvert_exporter": "python",
   "pygments_lexer": "ipython3",
   "version": "3.7.1"
  }
 },
 "nbformat": 4,
 "nbformat_minor": 2
}
