{
 "cells": [
  {
   "cell_type": "markdown",
   "metadata": {},
   "source": [
    "Question 1, (part 1 first do the drills by hand):\n",
    "\n",
    "Notes:\n",
    "\n",
    "Brady kids:\n",
    "\n",
    "\n",
    "Mean=\n",
    "(14 + 12+ 11+ 10+ 8+ 6 + 8)/7= \n",
    "\n",
    "10 \n",
    "(9.857)\n",
    "\n",
    "Median= 10\n",
    "\n",
    "Mode= 8\n",
    "\n",
    "Varience:\n",
    "v=sum((x-mean)** 2)/(n))\n",
    "    x1=16\n",
    "    x2=4\n",
    "    x3=1\n",
    "    x4=0\n",
    "    x5=4\n",
    "    x6=16\n",
    "    x7=4\n",
    "    v= (16+4+1+0+4+16+4) /7 \n",
    "\n",
    "v= 6.43\n",
    "\n",
    "Standard Deviation:\n",
    "s= v ** 0.5\n",
    "    s= 6.43 ** 0.5\n",
    "\n",
    "s= 2.54\n",
    "    \n",
    "Standard error:\n",
    "se = s/(n ** 0.5)\n",
    "    se = 2.54/(6** 0.5)\n",
    "    se=2.54/2.45\n",
    "\n",
    "se=1.04"
   ]
  },
  {
   "cell_type": "code",
   "execution_count": 1,
   "metadata": {},
   "outputs": [],
   "source": [
    "#Second part of Question 1\n",
    "\n",
    "import numpy as np\n",
    "import pandas as pd\n",
    "import statistics\n",
    "import matplotlib.pyplot as plt\n",
    "%matplotlib inline"
   ]
  },
  {
   "cell_type": "code",
   "execution_count": 31,
   "metadata": {},
   "outputs": [
    {
     "name": "stdout",
     "output_type": "stream",
     "text": [
      "     Name  Age\n",
      "0    Greg   14\n",
      "1  Marcia   12\n",
      "2   Peter   11\n",
      "3     Jan   10\n",
      "4   Bobby    8\n",
      "5   Cindy    6\n",
      "6  Oliver    8\n",
      "mean:  9.857142857142858\n",
      "median:  10.0\n",
      "mode:  8\n",
      "variance:  6.408163265306122\n",
      "standard variation:  2.734262327610589\n",
      "standard error:  1.0334540197243192\n"
     ]
    }
   ],
   "source": [
    "BradyBunch =pd.DataFrame()\n",
    "BradyBunch['Name']= ['Greg', 'Marcia', 'Peter', 'Jan', 'Bobby', 'Cindy', 'Oliver']\n",
    "BradyBunch['Age']= [14, 12, 11, 10, 8, 6, 8]\n",
    "print(BradyBunch)\n",
    "print('mean: ', np.mean(BradyBunch['Age']))\n",
    "print('median: ', np.median(BradyBunch['Age']))\n",
    "print('mode: ', statistics.mode(BradyBunch['Age']))\n",
    "print('variance: ', np.var(BradyBunch.Age))\n",
    "print('standard variation: ', np.std(BradyBunch['Age'], ddof=1))\n",
    "print('standard error: ', np.std(BradyBunch['Age'], ddof=1)/np.sqrt(len(BradyBunch['Age'])))\n"
   ]
  },
  {
   "cell_type": "code",
   "execution_count": 9,
   "metadata": {},
   "outputs": [
    {
     "data": {
      "image/png": "[encoded data removed]",
      "text/plain": [
       "<Figure size 432x288 with 1 Axes>"
      ]
     },
     "metadata": {
      "needs_background": "light"
     },
     "output_type": "display_data"
    },
    {
     "data": {
      "text/plain": [
       "Age    2.734262\n",
       "dtype: float64"
      ]
     },
     "execution_count": 9,
     "metadata": {},
     "output_type": "execute_result"
    }
   ],
   "source": [
    "#Quetsion 2: \n",
    "#plot the data to understand which central tendancy \n",
    "#and which varience are most helpful\n",
    "df = BradyBunch\n",
    "\n",
    "plt.plot(df['Age'], color='green')\n",
    "plt.ylabel('Ages')\n",
    "plt.title('Brady Bunch Kids Ages')\n",
    "plt.show()\n",
    "\n",
    "df.mean()\n",
    "df.std(ddof=1)\n"
   ]
  },
  {
   "cell_type": "markdown",
   "metadata": {},
   "source": [
    "Question 2:\n",
    "\n",
    "    I think the best estimate of central tendancy would be the the mean. Since the estimate is not categorical and some values repeat themselves and the data isn't skewed. \n",
    "    I also believe it would be standard deviation"
   ]
  },
  {
   "cell_type": "code",
   "execution_count": 32,
   "metadata": {},
   "outputs": [
    {
     "name": "stdout",
     "output_type": "stream",
     "text": [
      "     Name  Age\n",
      "0    Greg   14\n",
      "1  Marcia   12\n",
      "2   Peter   11\n",
      "3     Jan   10\n",
      "4   Bobby    8\n",
      "5   Cindy    7\n",
      "6  Oliver    8\n",
      "mean:  10.0\n",
      "median:  10.0\n",
      "mode:  8\n",
      "variance:  5.428571428571429\n",
      "standard variation:  2.516611478423583\n",
      "standard error:  0.9511897312113418\n"
     ]
    }
   ],
   "source": [
    "#Question 3:\n",
    "#Cindy has a birthday, what changed, what did not.\n",
    "\n",
    "BradyBunch.iloc[5, 1] = 7\n",
    "\n",
    "print(BradyBunch)\n",
    "print('mean: ', np.mean(BradyBunch['Age']))\n",
    "print('median: ', np.median(BradyBunch['Age']))\n",
    "print('mode: ', statistics.mode(BradyBunch['Age']))\n",
    "print('variance: ', np.var(BradyBunch.Age))\n",
    "print('standard variation: ', np.std(BradyBunch['Age'], ddof=1))\n",
    "print('standard error: ', np.std(BradyBunch['Age'], ddof=1)/np.sqrt(len(BradyBunch['Age'])))"
   ]
  },
  {
   "cell_type": "code",
   "execution_count": 34,
   "metadata": {},
   "outputs": [
    {
     "data": {
      "image/png": "[encoded data removed]",
      "text/plain": [
       "<Figure size 432x288 with 1 Axes>"
      ]
     },
     "metadata": {
      "needs_background": "light"
     },
     "output_type": "display_data"
    },
    {
     "data": {
      "text/plain": [
       "Age    2.516611\n",
       "dtype: float64"
      ]
     },
     "execution_count": 34,
     "metadata": {},
     "output_type": "execute_result"
    }
   ],
   "source": [
    "#plot the with the new data to see differences:\n",
    "\n",
    "df = BradyBunch\n",
    "\n",
    "plt.plot(df['Age'], color='green')\n",
    "plt.ylabel('Ages')\n",
    "plt.title('Brady Bunch Kids Ages')\n",
    "plt.show()\n",
    "\n",
    "df.mean()\n",
    "df.std(ddof=1)"
   ]
  },
  {
   "cell_type": "markdown",
   "metadata": {},
   "source": [
    "Question 3:\n",
    "The varience changed more than the central tendancy"
   ]
  },
  {
   "cell_type": "code",
   "execution_count": 38,
   "metadata": {},
   "outputs": [
    {
     "data": {
      "text/html": [
       "<div>\n",
       "<style scoped>\n",
       "    .dataframe tbody tr th:only-of-type {\n",
       "        vertical-align: middle;\n",
       "    }\n",
       "\n",
       "    .dataframe tbody tr th {\n",
       "        vertical-align: top;\n",
       "    }\n",
       "\n",
       "    .dataframe thead th {\n",
       "        text-align: right;\n",
       "    }\n",
       "</style>\n",
       "<table border=\"1\" class=\"dataframe\">\n",
       "  <thead>\n",
       "    <tr style=\"text-align: right;\">\n",
       "      <th></th>\n",
       "      <th>Name</th>\n",
       "      <th>Age</th>\n",
       "    </tr>\n",
       "  </thead>\n",
       "  <tbody>\n",
       "    <tr>\n",
       "      <th>0</th>\n",
       "      <td>Greg</td>\n",
       "      <td>14</td>\n",
       "    </tr>\n",
       "    <tr>\n",
       "      <th>1</th>\n",
       "      <td>Marcia</td>\n",
       "      <td>12</td>\n",
       "    </tr>\n",
       "    <tr>\n",
       "      <th>2</th>\n",
       "      <td>Peter</td>\n",
       "      <td>11</td>\n",
       "    </tr>\n",
       "    <tr>\n",
       "      <th>3</th>\n",
       "      <td>Jan</td>\n",
       "      <td>10</td>\n",
       "    </tr>\n",
       "    <tr>\n",
       "      <th>4</th>\n",
       "      <td>Bobby</td>\n",
       "      <td>8</td>\n",
       "    </tr>\n",
       "    <tr>\n",
       "      <th>5</th>\n",
       "      <td>Cindy</td>\n",
       "      <td>7</td>\n",
       "    </tr>\n",
       "    <tr>\n",
       "      <th>6</th>\n",
       "      <td>Jessica</td>\n",
       "      <td>1</td>\n",
       "    </tr>\n",
       "  </tbody>\n",
       "</table>\n",
       "</div>"
      ],
      "text/plain": [
       "      Name  Age\n",
       "0     Greg   14\n",
       "1   Marcia   12\n",
       "2    Peter   11\n",
       "3      Jan   10\n",
       "4    Bobby    8\n",
       "5    Cindy    7\n",
       "6  Jessica    1"
      ]
     },
     "execution_count": 38,
     "metadata": {},
     "output_type": "execute_result"
    }
   ],
   "source": [
    "#Question 4 Change Oliver to Jessica and update new age:\n",
    "BradyBunch.loc[BradyBunch['Name'] == 'Oliver'] = ['Jessica', 1]\n",
    "BradyBunch"
   ]
  },
  {
   "cell_type": "code",
   "execution_count": 40,
   "metadata": {},
   "outputs": [
    {
     "name": "stdout",
     "output_type": "stream",
     "text": [
      "mean:  9.0\n",
      "median:  10.0\n",
      "mode: NO UNIQUE MODE\n",
      "variance:  15.428571428571429\n",
      "standard variation:  4.242640687119285\n",
      "standard error:  1.6035674514745462\n"
     ]
    }
   ],
   "source": [
    "print('mean: ', np.mean(BradyBunch['Age']))\n",
    "print('median: ', np.median(BradyBunch['Age']))\n",
    "print('mode: NO UNIQUE MODE')\n",
    "print('variance: ', np.var(BradyBunch.Age))\n",
    "print('standard variation: ', np.std(BradyBunch['Age'], ddof=1))\n",
    "print('standard error: ', np.std(BradyBunch['Age'], ddof=1)/np.sqrt(len(BradyBunch['Age'])))"
   ]
  },
  {
   "cell_type": "code",
   "execution_count": 24,
   "metadata": {},
   "outputs": [
    {
     "data": {
      "image/png": "[encoded data removed]",
      "text/plain": [
       "<Figure size 432x288 with 1 Axes>"
      ]
     },
     "metadata": {
      "needs_background": "light"
     },
     "output_type": "display_data"
    },
    {
     "data": {
      "text/plain": [
       "Age    4.242641\n",
       "dtype: float64"
      ]
     },
     "execution_count": 24,
     "metadata": {},
     "output_type": "execute_result"
    }
   ],
   "source": [
    "#plot with the updated data:\n",
    "df = BradyBunch\n",
    "\n",
    "plt.plot(df['Age'], color='green')\n",
    "plt.ylabel('Ages')\n",
    "plt.title('Brady Bunch Kids Ages')\n",
    "plt.show()\n",
    "\n",
    "df.mean()\n",
    "df.std(ddof=1)"
   ]
  },
  {
   "cell_type": "markdown",
   "metadata": {},
   "source": [
    "Question 4:\n",
    "This changes the bell curve so I would opt for using the median instead of the mean here. The varience also jumped because of the one data point."
   ]
  },
  {
   "cell_type": "markdown",
   "metadata": {},
   "source": [
    "Question 5:\n",
    "Poling magazines wether they were fans. I don't know how to calculate the precentage of the population from the percentage of reader."
   ]
  },
  {
   "cell_type": "code",
   "execution_count": null,
   "metadata": {},
   "outputs": [],
   "source": []
  }
 ],
 "metadata": {
  "kernelspec": {
   "display_name": "Python 3",
   "language": "python",
   "name": "python3"
  },
  "language_info": {
   "codemirror_mode": {
    "name": "ipython",
    "version": 3
   },
   "file_extension": ".py",
   "mimetype": "text/x-python",
   "name": "python",
   "nbconvert_exporter": "python",
   "pygments_lexer": "ipython3",
   "version": "3.7.1"
  }
 },
 "nbformat": 4,
 "nbformat_minor": 2
}
