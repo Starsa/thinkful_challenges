{
 "cells": [
  {
   "cell_type": "markdown",
   "metadata": {},
   "source": [
    " Unit 2- Lesson 2- Project 7\n",
    " "
   ]
  },
  {
   "cell_type": "markdown",
   "metadata": {},
   "source": [
    "### Challenge: Iterate and Evaluate your classifiers\n",
    "\n",
    "It's time to revisit your classifier from the previous assignment. Using the evaluation techniques we've covered here, look at your classifier's performance in more detail. Then go back and iterate by engineering new features, removing poor features, or tuning parameters. Repeat this process until you have five different versions of your classifier. Once you've iterated, answer these questions to compare the performance of each:\n",
    "\n",
    "Do any of your classifiers seem to overfit?\n",
    "Which seem to perform the best? Why?\n",
    "Which features seemed to be most impactful to performance?\n",
    "Write up your iterations and answers to the above questions in a few pages. Submit a link below and go over it with your mentor to see if they have any other ideas on how you could improve your classifier's performance."
   ]
  },
  {
   "cell_type": "code",
   "execution_count": 1,
   "metadata": {
    "ExecuteTime": {
     "end_time": "2019-03-18T11:46:20.681569Z",
     "start_time": "2019-03-18T11:46:19.281201Z"
    }
   },
   "outputs": [],
   "source": [
    "#import python packages\n",
    "%matplotlib inline\n",
    "import numpy as np\n",
    "import pandas as pd\n",
    "import scipy\n",
    "import sklearn\n",
    "import matplotlib.pyplot as plt\n",
    "import seaborn as sns"
   ]
  },
  {
   "cell_type": "code",
   "execution_count": 2,
   "metadata": {
    "ExecuteTime": {
     "end_time": "2019-03-18T11:46:20.697783Z",
     "start_time": "2019-03-18T11:46:20.685233Z"
    }
   },
   "outputs": [],
   "source": [
    "# import the data from amazon and label comlumns\n",
    "data_file = (\"amazon_cells_labelled.txt\")\n",
    "amz_snt = pd.read_csv(data_file, delimiter= '\\t', header=None)\n",
    "amz_snt.columns = ['message','sentiment']"
   ]
  },
  {
   "cell_type": "code",
   "execution_count": 3,
   "metadata": {
    "ExecuteTime": {
     "end_time": "2019-03-18T11:46:20.774955Z",
     "start_time": "2019-03-18T11:46:20.701300Z"
    }
   },
   "outputs": [],
   "source": [
    "#updated keywords for sentiment and removed spaces before key\n",
    "keywords = [ 'love' , 'loved' , 'disappointed', 'very', 'happy', 'excellent', 'highly' , 'amazing' , 'terrible' , 'awful' , 'never' , '!' , 'best' , 'worst']\n",
    "\n",
    "for key in keywords:\n",
    "    amz_snt[str(key)] = amz_snt.message.str.contains(str(key), case=False)\n",
    "    "
   ]
  },
  {
   "cell_type": "code",
   "execution_count": 4,
   "metadata": {
    "ExecuteTime": {
     "end_time": "2019-03-18T11:46:20.782090Z",
     "start_time": "2019-03-18T11:46:20.778020Z"
    }
   },
   "outputs": [],
   "source": [
    "#consider 'allcaps' for sentiment\n",
    "amz_snt['allcaps'] = amz_snt.message.str.isupper()"
   ]
  },
  {
   "cell_type": "code",
   "execution_count": 5,
   "metadata": {
    "ExecuteTime": {
     "end_time": "2019-03-18T11:46:20.790734Z",
     "start_time": "2019-03-18T11:46:20.786137Z"
    }
   },
   "outputs": [],
   "source": [
    "#values for 'positive' and 'neative' were predefined set to boolean\n",
    "amz_snt['positive'] = (amz_snt['sentiment'] == 1)\n",
    "amz_snt['negative'] = (amz_snt['sentiment'] == 0)\n"
   ]
  },
  {
   "cell_type": "code",
   "execution_count": 6,
   "metadata": {
    "ExecuteTime": {
     "end_time": "2019-03-18T11:46:20.803630Z",
     "start_time": "2019-03-18T11:46:20.792614Z"
    }
   },
   "outputs": [
    {
     "name": "stdout",
     "output_type": "stream",
     "text": [
      "<class 'pandas.core.frame.DataFrame'>\n",
      "RangeIndex: 1000 entries, 0 to 999\n",
      "Data columns (total 19 columns):\n",
      "message         1000 non-null object\n",
      "sentiment       1000 non-null int64\n",
      "love            1000 non-null bool\n",
      "loved           1000 non-null bool\n",
      "disappointed    1000 non-null bool\n",
      "very            1000 non-null bool\n",
      "happy           1000 non-null bool\n",
      "excellent       1000 non-null bool\n",
      "highly          1000 non-null bool\n",
      "amazing         1000 non-null bool\n",
      "terrible        1000 non-null bool\n",
      "awful           1000 non-null bool\n",
      "never           1000 non-null bool\n",
      "!               1000 non-null bool\n",
      "best            1000 non-null bool\n",
      "worst           1000 non-null bool\n",
      "allcaps         1000 non-null bool\n",
      "positive        1000 non-null bool\n",
      "negative        1000 non-null bool\n",
      "dtypes: bool(17), int64(1), object(1)\n",
      "memory usage: 32.3+ KB\n"
     ]
    }
   ],
   "source": [
    "amz_snt.info()"
   ]
  },
  {
   "cell_type": "code",
   "execution_count": 7,
   "metadata": {
    "ExecuteTime": {
     "end_time": "2019-03-18T11:46:21.275924Z",
     "start_time": "2019-03-18T11:46:20.805543Z"
    }
   },
   "outputs": [
    {
     "data": {
      "text/plain": [
       "<matplotlib.axes._subplots.AxesSubplot at 0x1217f3d68>"
      ]
     },
     "execution_count": 7,
     "metadata": {},
     "output_type": "execute_result"
    },
    {
     "data": {
      "image/png": "[encoded data removed]",
      "text/plain": [
       "<Figure size 432x288 with 2 Axes>"
      ]
     },
     "metadata": {
      "needs_background": "light"
     },
     "output_type": "display_data"
    }
   ],
   "source": [
    "#visualize the data\n",
    "sns.heatmap(amz_snt.corr())"
   ]
  },
  {
   "cell_type": "code",
   "execution_count": 8,
   "metadata": {
    "ExecuteTime": {
     "end_time": "2019-03-18T11:46:21.284044Z",
     "start_time": "2019-03-18T11:46:21.277969Z"
    }
   },
   "outputs": [
    {
     "data": {
      "text/plain": [
       "1"
      ]
     },
     "execution_count": 8,
     "metadata": {},
     "output_type": "execute_result"
    }
   ],
   "source": [
    "amz_snt.amazing.sum()"
   ]
  },
  {
   "cell_type": "code",
   "execution_count": 9,
   "metadata": {
    "ExecuteTime": {
     "end_time": "2019-03-18T11:46:21.292093Z",
     "start_time": "2019-03-18T11:46:21.286851Z"
    }
   },
   "outputs": [],
   "source": [
    "#define target and data\n",
    "data_amz = amz_snt[keywords]\n",
    "target = amz_snt['sentiment']"
   ]
  },
  {
   "cell_type": "code",
   "execution_count": 10,
   "metadata": {
    "ExecuteTime": {
     "end_time": "2019-03-18T11:46:21.345829Z",
     "start_time": "2019-03-18T11:46:21.294625Z"
    }
   },
   "outputs": [
    {
     "name": "stdout",
     "output_type": "stream",
     "text": [
      "Number of mislabeled points out of a total 1000 points : 350\n"
     ]
    }
   ],
   "source": [
    "#accuracy measure\n",
    "\n",
    "from sklearn.naive_bayes import BernoulliNB\n",
    "\n",
    "# Instantiate  model and store it in a new variable.\n",
    "bnb = BernoulliNB()\n",
    "\n",
    "# Fit model to the data.\n",
    "bnb.fit(data_amz, target)\n",
    "\n",
    "# Classify, storing the result in a new variable.\n",
    "y_pred = bnb.predict(data_amz)\n",
    "\n",
    "# Display our results.\n",
    "print(\"Number of mislabeled points out of a total {} points : {}\".format(\n",
    "    data_amz.shape[0],\n",
    "    (target != y_pred).sum()\n",
    "))"
   ]
  },
  {
   "cell_type": "code",
   "execution_count": 11,
   "metadata": {
    "ExecuteTime": {
     "end_time": "2019-03-18T11:46:21.375092Z",
     "start_time": "2019-03-18T11:46:21.348278Z"
    }
   },
   "outputs": [
    {
     "data": {
      "text/plain": [
       "array([[435,  65],\n",
       "       [285, 215]])"
      ]
     },
     "execution_count": 11,
     "metadata": {},
     "output_type": "execute_result"
    }
   ],
   "source": [
    "from sklearn.metrics import confusion_matrix\n",
    "confusion_matrix(target, y_pred)"
   ]
  },
  {
   "cell_type": "code",
   "execution_count": 12,
   "metadata": {
    "ExecuteTime": {
     "end_time": "2019-03-18T11:46:21.406072Z",
     "start_time": "2019-03-18T11:46:21.378019Z"
    }
   },
   "outputs": [
    {
     "name": "stdout",
     "output_type": "stream",
     "text": [
      "With 20% Holdout: 0.63\n",
      "Testing on Sample: 0.65\n"
     ]
    }
   ],
   "source": [
    "from sklearn.model_selection import train_test_split\n",
    "X_train, X_test, y_train, y_test = train_test_split(data_amz, target, test_size=0.3, random_state=20)\n",
    "print('With 20% Holdout: ' + str(bnb.fit(X_train, y_train).score(X_test, y_test)))\n",
    "print('Testing on Sample: ' + str(bnb.fit(data_amz, target).score(data_amz, target)))"
   ]
  },
  {
   "cell_type": "code",
   "execution_count": 13,
   "metadata": {
    "ExecuteTime": {
     "end_time": "2019-03-18T11:46:21.436094Z",
     "start_time": "2019-03-18T11:46:21.408982Z"
    }
   },
   "outputs": [
    {
     "data": {
      "text/plain": [
       "array([0.66 , 0.66 , 0.695, 0.61 , 0.6  ])"
      ]
     },
     "execution_count": 13,
     "metadata": {},
     "output_type": "execute_result"
    }
   ],
   "source": [
    "from sklearn.model_selection import cross_val_score\n",
    "cross_val_score(bnb, data_amz, target, cv=5)"
   ]
  },
  {
   "cell_type": "markdown",
   "metadata": {},
   "source": [
    "### Plug in a new data set"
   ]
  },
  {
   "cell_type": "code",
   "execution_count": 14,
   "metadata": {
    "ExecuteTime": {
     "end_time": "2019-03-18T11:46:21.450012Z",
     "start_time": "2019-03-18T11:46:21.439595Z"
    }
   },
   "outputs": [],
   "source": [
    "data_file = (\"yelp_labelled.txt\")\n",
    "yp_snt = pd.read_csv(data_file, delimiter= '\\t', header=None)\n",
    "yp_snt.columns = ['message','sentiment']"
   ]
  },
  {
   "cell_type": "code",
   "execution_count": 15,
   "metadata": {
    "ExecuteTime": {
     "end_time": "2019-03-18T11:46:21.489029Z",
     "start_time": "2019-03-18T11:46:21.452856Z"
    }
   },
   "outputs": [],
   "source": [
    "for key in keywords:\n",
    "   yp_snt[str(key)] = yp_snt.message.str.contains(str(key), case=False)"
   ]
  },
  {
   "cell_type": "code",
   "execution_count": 16,
   "metadata": {
    "ExecuteTime": {
     "end_time": "2019-03-18T11:46:21.495769Z",
     "start_time": "2019-03-18T11:46:21.491453Z"
    }
   },
   "outputs": [],
   "source": [
    "yp_snt['allcaps'] = yp_snt.message.str.isupper()"
   ]
  },
  {
   "cell_type": "code",
   "execution_count": 17,
   "metadata": {
    "ExecuteTime": {
     "end_time": "2019-03-18T11:46:21.502522Z",
     "start_time": "2019-03-18T11:46:21.497866Z"
    }
   },
   "outputs": [],
   "source": [
    "yp_snt['positive'] = (yp_snt['sentiment'] == 1)\n",
    "yp_snt['negative'] = (yp_snt['sentiment'] == 0)"
   ]
  },
  {
   "cell_type": "code",
   "execution_count": 18,
   "metadata": {
    "ExecuteTime": {
     "end_time": "2019-03-18T11:46:21.956862Z",
     "start_time": "2019-03-18T11:46:21.508241Z"
    }
   },
   "outputs": [
    {
     "data": {
      "text/plain": [
       "<matplotlib.axes._subplots.AxesSubplot at 0x123c629e8>"
      ]
     },
     "execution_count": 18,
     "metadata": {},
     "output_type": "execute_result"
    },
    {
     "data": {
      "image/png": "[encoded data removed]",
      "text/plain": [
       "<Figure size 432x288 with 2 Axes>"
      ]
     },
     "metadata": {
      "needs_background": "light"
     },
     "output_type": "display_data"
    }
   ],
   "source": [
    "sns.heatmap(yp_snt.corr())"
   ]
  },
  {
   "cell_type": "code",
   "execution_count": 19,
   "metadata": {
    "ExecuteTime": {
     "end_time": "2019-03-18T11:46:21.963689Z",
     "start_time": "2019-03-18T11:46:21.959452Z"
    }
   },
   "outputs": [],
   "source": [
    "data_yp = yp_snt[keywords]\n",
    "yp_target = yp_snt['sentiment']"
   ]
  },
  {
   "cell_type": "code",
   "execution_count": 20,
   "metadata": {
    "ExecuteTime": {
     "end_time": "2019-03-18T11:46:21.975663Z",
     "start_time": "2019-03-18T11:46:21.966075Z"
    }
   },
   "outputs": [
    {
     "name": "stdout",
     "output_type": "stream",
     "text": [
      "Number of mislabeled points out of a total 1000 points : 358\n"
     ]
    }
   ],
   "source": [
    "from sklearn.naive_bayes import BernoulliNB\n",
    "\n",
    "# Instantiate  model and store it in a new variable.\n",
    "yp_bnb = BernoulliNB()\n",
    "\n",
    "# Fit model to the data.\n",
    "yp_bnb.fit(data_yp, yp_target)\n",
    "\n",
    "# Classify, storing the result in a new variable.\n",
    "yp_y_pred = yp_bnb.predict(data_yp)\n",
    "\n",
    "# Display our results.\n",
    "print(\"Number of mislabeled points out of a total {} points : {}\".format(\n",
    "    data_yp.shape[0],\n",
    "    (yp_target != yp_y_pred).sum()\n",
    "))"
   ]
  },
  {
   "cell_type": "code",
   "execution_count": 21,
   "metadata": {
    "ExecuteTime": {
     "end_time": "2019-03-18T11:46:21.985091Z",
     "start_time": "2019-03-18T11:46:21.977833Z"
    }
   },
   "outputs": [
    {
     "data": {
      "text/plain": [
       "array([[435,  65],\n",
       "       [285, 215]])"
      ]
     },
     "execution_count": 21,
     "metadata": {},
     "output_type": "execute_result"
    }
   ],
   "source": [
    "from sklearn.metrics import confusion_matrix\n",
    "confusion_matrix(target, y_pred)"
   ]
  },
  {
   "cell_type": "code",
   "execution_count": null,
   "metadata": {},
   "outputs": [],
   "source": [
    "\n"
   ]
  }
 ],
 "metadata": {
  "kernelspec": {
   "display_name": "Python 3",
   "language": "python",
   "name": "python3"
  },
  "language_info": {
   "codemirror_mode": {
    "name": "ipython",
    "version": 3
   },
   "file_extension": ".py",
   "mimetype": "text/x-python",
   "name": "python",
   "nbconvert_exporter": "python",
   "pygments_lexer": "ipython3",
   "version": "3.7.1"
  },
  "toc": {
   "base_numbering": 1,
   "nav_menu": {},
   "number_sections": true,
   "sideBar": true,
   "skip_h1_title": false,
   "title_cell": "Table of Contents",
   "title_sidebar": "Contents",
   "toc_cell": false,
   "toc_position": {},
   "toc_section_display": true,
   "toc_window_display": false
  }
 },
 "nbformat": 4,
 "nbformat_minor": 2
}
