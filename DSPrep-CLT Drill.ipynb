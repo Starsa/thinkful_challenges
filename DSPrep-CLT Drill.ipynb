{
 "cells": [
  {
   "cell_type": "code",
   "execution_count": 1,
   "metadata": {},
   "outputs": [],
   "source": [
    "import numpy as np\n",
    "import pandas as pd\n",
    "import scipy\n",
    "import matplotlib.pyplot as plt\n",
    "%matplotlib inline"
   ]
  },
  {
   "cell_type": "code",
   "execution_count": 2,
   "metadata": {},
   "outputs": [
    {
     "name": "stdout",
     "output_type": "stream",
     "text": [
      "2.049\n",
      "4.944\n",
      "1.2792962909349812\n",
      "1.6046382769957845\n",
      "2.895\n"
     ]
    },
    {
     "data": {
      "image/png": "[encoded data removed]",
      "text/plain": [
       "<Figure size 432x288 with 1 Axes>"
      ]
     },
     "metadata": {
      "needs_background": "light"
     },
     "output_type": "display_data"
    }
   ],
   "source": [
    "pop1= np.random.binomial(10, 0.2, 10000)\n",
    "pop2= np.random.binomial(10, 0.5, 10000)\n",
    "\n",
    "#1. Change the sample from 100 to 1000\n",
    "# Calculate the mean and standard deviation and create histograms for each.\n",
    "sample1 = np.random.choice(pop1, 1000, replace=True)\n",
    "sample2 = np.random.choice(pop2, 1000, replace=True)\n",
    "\n",
    "print(sample1.mean())\n",
    "print(sample2.mean())\n",
    "print(sample1.std())\n",
    "print(sample2.std())\n",
    "\n",
    "diff=sample2.mean()-sample1.mean()\n",
    "print(diff)\n",
    "\n",
    "plt.hist(sample1, alpha=0.5, label='sample 1')\n",
    "plt.hist(sample2, alpha=0.5, label='sample 2')\n",
    "plt.legend(loc='upper right')\n",
    "plt.show()"
   ]
  },
  {
   "cell_type": "code",
   "execution_count": 3,
   "metadata": {},
   "outputs": [
    {
     "name": "stdout",
     "output_type": "stream",
     "text": [
      "2.1\n",
      "5.35\n",
      "1.1789826122551597\n",
      "1.525614630239236\n",
      "3.2499999999999996\n"
     ]
    },
    {
     "data": {
      "image/png": "[encoded data removed]",
      "text/plain": [
       "<Figure size 432x288 with 1 Axes>"
      ]
     },
     "metadata": {
      "needs_background": "light"
     },
     "output_type": "display_data"
    }
   ],
   "source": [
    "#change the sample size again to 20. What values changed?\n",
    "sample3 = np.random.choice(pop1, 20, replace=True)\n",
    "sample4 = np.random.choice(pop2, 20, replace=True)\n",
    "\n",
    "print(sample3.mean())\n",
    "print(sample4.mean())\n",
    "print(sample3.std())\n",
    "print(sample4.std())\n",
    "\n",
    "diff=sample4.mean()-sample3.mean()\n",
    "print(diff)\n",
    "\n",
    "plt.hist(sample3, alpha=0.5, label='sample 3')\n",
    "plt.hist(sample4, alpha=0.5, label='sample 4')\n",
    "plt.legend(loc='upper right')\n",
    "plt.show()"
   ]
  },
  {
   "cell_type": "markdown",
   "metadata": {},
   "source": [
    "Both the mean and standard deviation changed"
   ]
  },
  {
   "cell_type": "code",
   "execution_count": 4,
   "metadata": {},
   "outputs": [
    {
     "name": "stdout",
     "output_type": "stream",
     "text": [
      "Ttest_indResult(statistic=11.481331651505524, pvalue=1.0415479943616681e-23)\n"
     ]
    }
   ],
   "source": [
    "#2. Change the pop value p for group 1 to 0.3 \n",
    "#then take new samples and compute the t-statistics and p-value.\n",
    "pop1= np.random.binomial(10, 0.3, 10000)\n",
    "pop2= np.random.binomial(10, 0.5, 10000)\n",
    "\n",
    "sample1 = np.random.choice(pop1, 100, replace=True)\n",
    "sample2 = np.random.choice(pop2, 100, replace=True)\n",
    "\n",
    "from scipy.stats import ttest_ind\n",
    "print(ttest_ind(sample2, sample1, equal_var=False))"
   ]
  },
  {
   "cell_type": "code",
   "execution_count": 5,
   "metadata": {},
   "outputs": [
    {
     "name": "stdout",
     "output_type": "stream",
     "text": [
      "Ttest_indResult(statistic=4.594794387746116, pvalue=7.705681406017464e-06)\n"
     ]
    }
   ],
   "source": [
    "#2 cont'd then canhe the population value p from group 1 to 0.4\n",
    "#run samples again and note changes\n",
    "pop1= np.random.binomial(10, 0.4, 10000)\n",
    "pop2= np.random.binomial(10, 0.5, 10000)\n",
    "\n",
    "sample1 = np.random.choice(pop1, 100, replace=True)\n",
    "sample2 = np.random.choice(pop2, 100, replace=True)\n",
    "\n",
    "from scipy.stats import ttest_ind\n",
    "print(ttest_ind(sample2, sample1, equal_var=False))"
   ]
  },
  {
   "cell_type": "markdown",
   "metadata": {},
   "source": [
    "The t-value decreased and the p-value increased"
   ]
  },
  {
   "cell_type": "code",
   "execution_count": 7,
   "metadata": {},
   "outputs": [
    {
     "name": "stdout",
     "output_type": "stream",
     "text": [
      "1.988516782564619\n",
      "4.963853275273652\n",
      "0.6188541833979403\n",
      "1.619894512254234\n",
      "2.975336492709033\n"
     ]
    }
   ],
   "source": [
    "#3. Change the distribution from binomial to your choice\n",
    "#do the sample mean values still rep pop values?\n",
    "pop1= np.random.gamma(10, 0.2, 10000)\n",
    "pop2= np.random.gamma(10, 0.5, 10000)\n",
    "\n",
    "#1. Change the sample from 100 to 1000\n",
    "# Calculate the mean and standard deviation and create histograms for each.\n",
    "sample1 = np.random.choice(pop1, 1000, replace=True)\n",
    "sample2 = np.random.choice(pop2, 1000, replace=True)\n",
    "\n",
    "print(sample1.mean())\n",
    "print(sample2.mean())\n",
    "print(sample1.std())\n",
    "print(sample2.std())\n",
    "\n",
    "diff=sample2.mean()-sample1.mean()\n",
    "print(diff)"
   ]
  },
  {
   "cell_type": "markdown",
   "metadata": {},
   "source": [
    "The values look relativley similar"
   ]
  },
  {
   "cell_type": "code",
   "execution_count": null,
   "metadata": {},
   "outputs": [],
   "source": []
  }
 ],
 "metadata": {
  "kernelspec": {
   "display_name": "Python 3",
   "language": "python",
   "name": "python3"
  },
  "language_info": {
   "codemirror_mode": {
    "name": "ipython",
    "version": 3
   },
   "file_extension": ".py",
   "mimetype": "text/x-python",
   "name": "python",
   "nbconvert_exporter": "python",
   "pygments_lexer": "ipython3",
   "version": "3.7.1"
  }
 },
 "nbformat": 4,
 "nbformat_minor": 2
}
