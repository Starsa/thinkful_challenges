{
  "nbformat": 4,
  "nbformat_minor": 0,
  "metadata": {
    "colab": {
      "name": "SQL Foundations-Checkpoint5 ASSIGNMENT.ipynb",
      "provenance": []
    },
    "kernelspec": {
      "name": "python3",
      "display_name": "Python 3"
    }
  },
  "cells": [
    {
      "cell_type": "markdown",
      "metadata": {
        "id": "Lvze4qJm5OR1",
        "colab_type": "text"
      },
      "source": [
        "# ASSIGNMENT\n",
        "\n",
        "Using connection credentials provided below, create a Jupyter notebook that uses SQL ALchemy to access a SQL database containing data about movies. Use Python to answer some basic questions about the data. \n",
        "\n",
        "***For each question, you should have a seperate cell in your Notebook that prints out the answer***"
      ]
    },
    {
      "cell_type": "markdown",
      "metadata": {
        "id": "hgLoX9Ui57TN",
        "colab_type": "text"
      },
      "source": [
        "Credentials\n",
        "\n",
        "*  postgres_user = 'dsbc_student'\n",
        "*  postgres_pw = '7*.8G9QH21'\n",
        "*  postgres_host = '142.93.121.174'\n",
        "*  postgres_port = '5432'\n",
        "*  postgres_db = 'dvdrentals'\n",
        "\n"
      ]
    },
    {
      "cell_type": "code",
      "metadata": {
        "id": "sMJGQjYJ6cmA",
        "colab_type": "code",
        "outputId": "00682e9c-c19a-413a-9ad8-e57dc11e4b4b",
        "colab": {
          "base_uri": "https://localhost:8080/",
          "height": 68
        }
      },
      "source": [
        "#make sure sqlalchemy is installed\n",
        "!pip install sqlalchemy\n",
        "!pip install psycopg2\n",
        "!pip install psycopg2-binary"
      ],
      "execution_count": 0,
      "outputs": [
        {
          "output_type": "stream",
          "text": [
            "Requirement already satisfied: sqlalchemy in /usr/local/lib/python3.6/dist-packages (1.3.16)\n",
            "Requirement already satisfied: psycopg2 in /usr/local/lib/python3.6/dist-packages (2.7.6.1)\n",
            "Requirement already satisfied: psycopg2-binary in /usr/local/lib/python3.6/dist-packages (2.8.5)\n"
          ],
          "name": "stdout"
        }
      ]
    },
    {
      "cell_type": "code",
      "metadata": {
        "id": "pf1lKr4S5NWa",
        "colab_type": "code",
        "colab": {}
      },
      "source": [
        "# import libraries\n",
        "from sqlalchemy import create_engine"
      ],
      "execution_count": 0,
      "outputs": []
    },
    {
      "cell_type": "code",
      "metadata": {
        "id": "5hd-whar6xhn",
        "colab_type": "code",
        "colab": {}
      },
      "source": [
        "#create variables for credentials and create egine\n",
        "postgres_user = 'dsbc_student'\n",
        "postgres_pw = '7*.8G9QH21'\n",
        "postgres_host = '142.93.121.174'\n",
        "postgres_port = '5432'\n",
        "postgres_db = 'dvdrentals'\n",
        "\n",
        "#start a connection to the database\n",
        "engine = create_engine('postgresql://{}:{}@{}:{}/{}'.format(postgres_user, postgres_pw, postgres_host, postgres_port, postgres_db))"
      ],
      "execution_count": 0,
      "outputs": []
    },
    {
      "cell_type": "markdown",
      "metadata": {
        "id": "fujbXvjW6Ixu",
        "colab_type": "text"
      },
      "source": [
        "1.  How many movies are released for each rating?\n"
      ]
    },
    {
      "cell_type": "code",
      "metadata": {
        "id": "Jz-okzwhC_18",
        "colab_type": "code",
        "outputId": "925e7e2b-54cc-422b-9e4f-6473ca45e5e7",
        "colab": {
          "base_uri": "https://localhost:8080/",
          "height": 102
        }
      },
      "source": [
        "sql = '''\n",
        "SELECT rating, COUNT(*)\n",
        "FROM film\n",
        "GROUP BY rating;\n",
        "'''\n",
        "\n",
        "films = engine.execute(sql)\n",
        "\n",
        "engine.dispose\n",
        "\n",
        "for row in films:\n",
        "  print(row)\n",
        "\n"
      ],
      "execution_count": 0,
      "outputs": [
        {
          "output_type": "stream",
          "text": [
            "('R', 195)\n",
            "('NC-17', 210)\n",
            "('PG', 194)\n",
            "('PG-13', 223)\n",
            "('G', 178)\n"
          ],
          "name": "stdout"
        }
      ]
    },
    {
      "cell_type": "markdown",
      "metadata": {
        "id": "OkBArRhH6KxN",
        "colab_type": "text"
      },
      "source": [
        "2.  What is the average rental duration for each rating?\n"
      ]
    },
    {
      "cell_type": "code",
      "metadata": {
        "id": "GnuNn45PDN61",
        "colab_type": "code",
        "outputId": "215710a9-1454-4d50-db6c-ef6b8c9d8e82",
        "colab": {
          "base_uri": "https://localhost:8080/",
          "height": 102
        }
      },
      "source": [
        "sql2 = '''\n",
        "SELECT rating, ROUND(AVG(rental_duration),2)\n",
        "FROM film\n",
        "GROUP BY rating;\n",
        "'''\n",
        "rental_duration = engine.execute(sql2)\n",
        "\n",
        "for row in rental_duration:\n",
        "  print(\"The average rental durations for each rating are:\", row)"
      ],
      "execution_count": 0,
      "outputs": [
        {
          "output_type": "stream",
          "text": [
            "The average rental durations for each rating are: ('R', Decimal('4.77'))\n",
            "The average rental durations for each rating are: ('NC-17', Decimal('5.14'))\n",
            "The average rental durations for each rating are: ('PG', Decimal('5.08'))\n",
            "The average rental durations for each rating are: ('PG-13', Decimal('5.05'))\n",
            "The average rental durations for each rating are: ('G', Decimal('4.84'))\n"
          ],
          "name": "stdout"
        }
      ]
    },
    {
      "cell_type": "markdown",
      "metadata": {
        "id": "p4yZgZz_6Mi4",
        "colab_type": "text"
      },
      "source": [
        "3.  What is the mean movie length? Calculate this by defining a function.\n"
      ]
    },
    {
      "cell_type": "code",
      "metadata": {
        "id": "f_h871fCFk0I",
        "colab_type": "code",
        "colab": {}
      },
      "source": [
        "sql3 = '''\n",
        "SELECT \n",
        "  length\n",
        "FROM\n",
        "  film;\n",
        "'''\n",
        "\n",
        "length = engine.execute(sql3)\n",
        "\n",
        "engine.dispose()\n",
        "\n",
        "rows = length.fetchall()\n",
        "\n",
        "lengths = [x['length'] for x in rows]"
      ],
      "execution_count": 0,
      "outputs": []
    },
    {
      "cell_type": "code",
      "metadata": {
        "id": "r66LsJurHO40",
        "colab_type": "code",
        "outputId": "85889ee2-ac02-4c0b-e038-78ca61e5515b",
        "colab": {
          "base_uri": "https://localhost:8080/",
          "height": 34
        }
      },
      "source": [
        "def mean(nums):\n",
        "  total_sum = 0;  \n",
        "  for n in nums:\n",
        "    total_sum += n \n",
        "  count = len(nums)\n",
        "  avg = total_sum / count\n",
        "  return avg \n",
        "\n",
        "print(\"The mean of film lengths is: \",(mean(lengths)))"
      ],
      "execution_count": 0,
      "outputs": [
        {
          "output_type": "stream",
          "text": [
            "The mean of film lengths is:  115.272\n"
          ],
          "name": "stdout"
        }
      ]
    },
    {
      "cell_type": "markdown",
      "metadata": {
        "id": "YQvdUw1T6Prf",
        "colab_type": "text"
      },
      "source": [
        "4.  What is the median movie length? Calculate this by defining a function.\n"
      ]
    },
    {
      "cell_type": "code",
      "metadata": {
        "id": "tKqeib-mHkVy",
        "colab_type": "code",
        "outputId": "c370ba70-f0cb-4829-c04d-9d1f5a2d9c36",
        "colab": {
          "base_uri": "https://localhost:8080/",
          "height": 34
        }
      },
      "source": [
        "import math\n",
        "\n",
        "def median(nums):\n",
        "  nums.sort()\n",
        "  count = len(nums)\n",
        "  isEven = count % 2 == 0\n",
        "  \n",
        "  if (isEven):\n",
        "    # find the middle of the array\n",
        "    mid = math.floor( count / 2 )\n",
        "    a = nums[mid - 1]\n",
        "    b = nums[mid]\n",
        "    # find the average of these two numbers\n",
        "    ans = (a + b) / 2\n",
        "  else:\n",
        "    ans = nums[math.floor( count / 2 )]\n",
        " \n",
        "  return ans\n",
        "\n",
        "print(\"The median of film lengths is: \",(median(lengths)))"
      ],
      "execution_count": 0,
      "outputs": [
        {
          "output_type": "stream",
          "text": [
            "The median of film lengths is:  114.0\n"
          ],
          "name": "stdout"
        }
      ]
    },
    {
      "cell_type": "markdown",
      "metadata": {
        "id": "ajRIO3qW6UlN",
        "colab_type": "text"
      },
      "source": [
        "5.  Calculate the standard deviation of the movie lengths. Calculate this by defining a function."
      ]
    },
    {
      "cell_type": "code",
      "metadata": {
        "id": "ikOW2L9y6VMO",
        "colab_type": "code",
        "outputId": "ba1d49a3-e5c8-4cf8-d599-872c59ab76c3",
        "colab": {
          "base_uri": "https://localhost:8080/",
          "height": 34
        }
      },
      "source": [
        "def standard_deviation(nums):\n",
        "  X_bar = mean(nums)\n",
        "  N = len(nums)\n",
        "  total_sum = 0\n",
        "  for X in nums:\n",
        "    diff = X - X_bar\n",
        "    squared = math.pow(diff, 2)\n",
        "    total_sum += squared\n",
        "  sigma = math.sqrt(total_sum / (N - 1))  \n",
        "  return sigma\n",
        "\n",
        "print('The standard deviation of the film lengths is: ',(standard_deviation(lengths)))"
      ],
      "execution_count": 0,
      "outputs": [
        {
          "output_type": "stream",
          "text": [
            "The standard deviation of the film lengths is:  40.42633181855988\n"
          ],
          "name": "stdout"
        }
      ]
    }
  ]
}