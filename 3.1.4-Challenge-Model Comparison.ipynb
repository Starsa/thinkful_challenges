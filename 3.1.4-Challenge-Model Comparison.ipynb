{
 "cells": [
  {
   "cell_type": "markdown",
   "metadata": {},
   "source": [
    "3.1.4-Challenge-Model Comparison"
   ]
  },
  {
   "cell_type": "markdown",
   "metadata": {},
   "source": [
    "## Challenge: Model Comparison\n",
    "You now know two kinds of regression and two kinds of classifier. So let's use that to compare models!\n",
    "\n",
    "Comparing models is something data scientists do all the time. There's very rarely just one model that would be possible to run for a given situation, so learning to choose the best one is very important.\n",
    "\n",
    "Here let's work on regression. Find a data set and build a KNN Regression and an OLS regression. Compare the two. How similar are they? Do they miss in different ways?\n",
    "\n",
    "Create a Jupyter notebook with your models. At the end in a markdown cell write a few paragraphs to describe the models' behaviors and why you favor one model or the other. Try to determine whether there is a situation where you would change your mind, or whether one is unambiguously better than the other. Lastly, try to note what it is about the data that causes the better model to outperform the weaker model. Submit a link to your notebook below."
   ]
  },
  {
   "cell_type": "markdown",
   "metadata": {},
   "source": [
    "## Import, eval and clean data"
   ]
  },
  {
   "cell_type": "code",
   "execution_count": 1,
   "metadata": {
    "ExecuteTime": {
     "end_time": "2019-04-14T00:14:01.012202Z",
     "start_time": "2019-04-14T00:14:00.153334Z"
    }
   },
   "outputs": [],
   "source": [
    "import numpy as np\n",
    "import pandas as pd\n",
    "import matplotlib.pyplot as plt\n",
    "import scipy\n",
    "import math\n",
    "from sklearn.neighbors import KNeighborsRegressor\n",
    "from sklearn.linear_model import LinearRegression\n",
    "from sklearn.model_selection import train_test_split\n",
    "import seaborn as sns\n",
    "%matplotlib inline\n"
   ]
  },
  {
   "cell_type": "code",
   "execution_count": 2,
   "metadata": {
    "ExecuteTime": {
     "end_time": "2019-04-14T00:14:01.028479Z",
     "start_time": "2019-04-14T00:14:01.015267Z"
    }
   },
   "outputs": [
    {
     "data": {
      "text/plain": [
       "(227, 20)"
      ]
     },
     "execution_count": 2,
     "metadata": {},
     "output_type": "execute_result"
    }
   ],
   "source": [
    "df = pd.read_csv('countries of the world.csv')\n",
    "df.shape"
   ]
  },
  {
   "cell_type": "code",
   "execution_count": 3,
   "metadata": {
    "ExecuteTime": {
     "end_time": "2019-04-14T00:14:01.036271Z",
     "start_time": "2019-04-14T00:14:01.030559Z"
    }
   },
   "outputs": [],
   "source": [
    "countries = df.dropna(axis=0, how='any')"
   ]
  },
  {
   "cell_type": "code",
   "execution_count": 4,
   "metadata": {
    "ExecuteTime": {
     "end_time": "2019-04-14T00:14:01.044446Z",
     "start_time": "2019-04-14T00:14:01.040321Z"
    }
   },
   "outputs": [],
   "source": [
    "#change the ',' in the numbers to a '.' for use\n",
    "countries = countries.drop(['Country', 'Region'], axis=1, )"
   ]
  },
  {
   "cell_type": "code",
   "execution_count": 5,
   "metadata": {
    "ExecuteTime": {
     "end_time": "2019-04-14T00:14:01.065212Z",
     "start_time": "2019-04-14T00:14:01.047456Z"
    }
   },
   "outputs": [],
   "source": [
    "countries = countries.apply(lambda x: pd.to_numeric(x.astype(str).str.replace(',','.'), errors='coerce'))"
   ]
  },
  {
   "cell_type": "code",
   "execution_count": 6,
   "metadata": {
    "ExecuteTime": {
     "end_time": "2019-04-14T00:14:01.071913Z",
     "start_time": "2019-04-14T00:14:01.067214Z"
    }
   },
   "outputs": [],
   "source": [
    "countries['Country'] = df['Country']\n",
    "countries['Region']= df['Region']"
   ]
  },
  {
   "cell_type": "code",
   "execution_count": 7,
   "metadata": {
    "ExecuteTime": {
     "end_time": "2019-04-14T00:14:01.109499Z",
     "start_time": "2019-04-14T00:14:01.074661Z"
    },
    "scrolled": true
   },
   "outputs": [
    {
     "data": {
      "text/html": [
       "<div>\n",
       "<style scoped>\n",
       "    .dataframe tbody tr th:only-of-type {\n",
       "        vertical-align: middle;\n",
       "    }\n",
       "\n",
       "    .dataframe tbody tr th {\n",
       "        vertical-align: top;\n",
       "    }\n",
       "\n",
       "    .dataframe thead th {\n",
       "        text-align: right;\n",
       "    }\n",
       "</style>\n",
       "<table border=\"1\" class=\"dataframe\">\n",
       "  <thead>\n",
       "    <tr style=\"text-align: right;\">\n",
       "      <th></th>\n",
       "      <th>Population</th>\n",
       "      <th>Area (sq. mi.)</th>\n",
       "      <th>Pop. Density (per sq. mi.)</th>\n",
       "      <th>Coastline (coast/area ratio)</th>\n",
       "      <th>Net migration</th>\n",
       "      <th>Infant mortality (per 1000 births)</th>\n",
       "      <th>GDP ($ per capita)</th>\n",
       "      <th>Literacy (%)</th>\n",
       "      <th>Phones (per 1000)</th>\n",
       "      <th>Arable (%)</th>\n",
       "      <th>Crops (%)</th>\n",
       "      <th>Other (%)</th>\n",
       "      <th>Climate</th>\n",
       "      <th>Birthrate</th>\n",
       "      <th>Deathrate</th>\n",
       "      <th>Agriculture</th>\n",
       "      <th>Industry</th>\n",
       "      <th>Service</th>\n",
       "      <th>Country</th>\n",
       "      <th>Region</th>\n",
       "    </tr>\n",
       "  </thead>\n",
       "  <tbody>\n",
       "    <tr>\n",
       "      <th>201</th>\n",
       "      <td>64631595</td>\n",
       "      <td>514000</td>\n",
       "      <td>125.7</td>\n",
       "      <td>0.63</td>\n",
       "      <td>0.00</td>\n",
       "      <td>20.48</td>\n",
       "      <td>7400.0</td>\n",
       "      <td>92.6</td>\n",
       "      <td>108.9</td>\n",
       "      <td>29.36</td>\n",
       "      <td>6.46</td>\n",
       "      <td>64.18</td>\n",
       "      <td>2.0</td>\n",
       "      <td>13.87</td>\n",
       "      <td>7.04</td>\n",
       "      <td>0.099</td>\n",
       "      <td>0.441</td>\n",
       "      <td>0.460</td>\n",
       "      <td>Thailand</td>\n",
       "      <td>ASIA (EX. NEAR EAST)</td>\n",
       "    </tr>\n",
       "    <tr>\n",
       "      <th>202</th>\n",
       "      <td>5548702</td>\n",
       "      <td>56785</td>\n",
       "      <td>97.7</td>\n",
       "      <td>0.10</td>\n",
       "      <td>0.00</td>\n",
       "      <td>66.61</td>\n",
       "      <td>1500.0</td>\n",
       "      <td>60.9</td>\n",
       "      <td>10.6</td>\n",
       "      <td>46.15</td>\n",
       "      <td>2.21</td>\n",
       "      <td>51.64</td>\n",
       "      <td>2.0</td>\n",
       "      <td>37.01</td>\n",
       "      <td>9.83</td>\n",
       "      <td>0.395</td>\n",
       "      <td>0.204</td>\n",
       "      <td>0.401</td>\n",
       "      <td>Togo</td>\n",
       "      <td>SUB-SAHARAN AFRICA</td>\n",
       "    </tr>\n",
       "    <tr>\n",
       "      <th>203</th>\n",
       "      <td>114689</td>\n",
       "      <td>748</td>\n",
       "      <td>153.3</td>\n",
       "      <td>56.02</td>\n",
       "      <td>0.00</td>\n",
       "      <td>12.62</td>\n",
       "      <td>2200.0</td>\n",
       "      <td>98.5</td>\n",
       "      <td>97.7</td>\n",
       "      <td>23.61</td>\n",
       "      <td>43.06</td>\n",
       "      <td>33.33</td>\n",
       "      <td>2.0</td>\n",
       "      <td>25.37</td>\n",
       "      <td>5.28</td>\n",
       "      <td>0.230</td>\n",
       "      <td>0.270</td>\n",
       "      <td>0.500</td>\n",
       "      <td>Tonga</td>\n",
       "      <td>OCEANIA</td>\n",
       "    </tr>\n",
       "    <tr>\n",
       "      <th>204</th>\n",
       "      <td>1065842</td>\n",
       "      <td>5128</td>\n",
       "      <td>207.9</td>\n",
       "      <td>7.06</td>\n",
       "      <td>-10.83</td>\n",
       "      <td>24.31</td>\n",
       "      <td>9500.0</td>\n",
       "      <td>98.6</td>\n",
       "      <td>303.5</td>\n",
       "      <td>14.62</td>\n",
       "      <td>9.16</td>\n",
       "      <td>76.22</td>\n",
       "      <td>2.0</td>\n",
       "      <td>12.90</td>\n",
       "      <td>10.57</td>\n",
       "      <td>0.007</td>\n",
       "      <td>0.570</td>\n",
       "      <td>0.423</td>\n",
       "      <td>Trinidad &amp; Tobago</td>\n",
       "      <td>LATIN AMER. &amp; CARIB</td>\n",
       "    </tr>\n",
       "    <tr>\n",
       "      <th>205</th>\n",
       "      <td>10175014</td>\n",
       "      <td>163610</td>\n",
       "      <td>62.2</td>\n",
       "      <td>0.70</td>\n",
       "      <td>-0.57</td>\n",
       "      <td>24.77</td>\n",
       "      <td>6900.0</td>\n",
       "      <td>74.2</td>\n",
       "      <td>123.6</td>\n",
       "      <td>17.86</td>\n",
       "      <td>13.74</td>\n",
       "      <td>68.40</td>\n",
       "      <td>3.0</td>\n",
       "      <td>15.52</td>\n",
       "      <td>5.13</td>\n",
       "      <td>0.132</td>\n",
       "      <td>0.318</td>\n",
       "      <td>0.550</td>\n",
       "      <td>Tunisia</td>\n",
       "      <td>NORTHERN AFRICA</td>\n",
       "    </tr>\n",
       "    <tr>\n",
       "      <th>206</th>\n",
       "      <td>70413958</td>\n",
       "      <td>780580</td>\n",
       "      <td>90.2</td>\n",
       "      <td>0.92</td>\n",
       "      <td>0.00</td>\n",
       "      <td>41.04</td>\n",
       "      <td>6700.0</td>\n",
       "      <td>86.5</td>\n",
       "      <td>269.5</td>\n",
       "      <td>30.93</td>\n",
       "      <td>3.31</td>\n",
       "      <td>65.76</td>\n",
       "      <td>3.0</td>\n",
       "      <td>16.62</td>\n",
       "      <td>5.97</td>\n",
       "      <td>0.117</td>\n",
       "      <td>0.298</td>\n",
       "      <td>0.585</td>\n",
       "      <td>Turkey</td>\n",
       "      <td>NEAR EAST</td>\n",
       "    </tr>\n",
       "    <tr>\n",
       "      <th>207</th>\n",
       "      <td>5042920</td>\n",
       "      <td>488100</td>\n",
       "      <td>10.3</td>\n",
       "      <td>0.00</td>\n",
       "      <td>-0.86</td>\n",
       "      <td>73.08</td>\n",
       "      <td>5800.0</td>\n",
       "      <td>98.0</td>\n",
       "      <td>74.6</td>\n",
       "      <td>3.72</td>\n",
       "      <td>0.14</td>\n",
       "      <td>96.14</td>\n",
       "      <td>1.0</td>\n",
       "      <td>27.61</td>\n",
       "      <td>8.60</td>\n",
       "      <td>0.209</td>\n",
       "      <td>0.380</td>\n",
       "      <td>0.411</td>\n",
       "      <td>Turkmenistan</td>\n",
       "      <td>C.W. OF IND. STATES</td>\n",
       "    </tr>\n",
       "    <tr>\n",
       "      <th>210</th>\n",
       "      <td>28195754</td>\n",
       "      <td>236040</td>\n",
       "      <td>119.5</td>\n",
       "      <td>0.00</td>\n",
       "      <td>0.00</td>\n",
       "      <td>67.83</td>\n",
       "      <td>1400.0</td>\n",
       "      <td>69.9</td>\n",
       "      <td>3.6</td>\n",
       "      <td>25.88</td>\n",
       "      <td>10.65</td>\n",
       "      <td>63.47</td>\n",
       "      <td>2.0</td>\n",
       "      <td>47.35</td>\n",
       "      <td>12.24</td>\n",
       "      <td>0.311</td>\n",
       "      <td>0.222</td>\n",
       "      <td>0.469</td>\n",
       "      <td>Uganda</td>\n",
       "      <td>SUB-SAHARAN AFRICA</td>\n",
       "    </tr>\n",
       "    <tr>\n",
       "      <th>211</th>\n",
       "      <td>46710816</td>\n",
       "      <td>603700</td>\n",
       "      <td>77.4</td>\n",
       "      <td>0.46</td>\n",
       "      <td>-0.39</td>\n",
       "      <td>20.34</td>\n",
       "      <td>5400.0</td>\n",
       "      <td>99.7</td>\n",
       "      <td>259.9</td>\n",
       "      <td>56.21</td>\n",
       "      <td>1.61</td>\n",
       "      <td>42.18</td>\n",
       "      <td>3.0</td>\n",
       "      <td>8.82</td>\n",
       "      <td>14.39</td>\n",
       "      <td>0.187</td>\n",
       "      <td>0.452</td>\n",
       "      <td>0.361</td>\n",
       "      <td>Ukraine</td>\n",
       "      <td>C.W. OF IND. STATES</td>\n",
       "    </tr>\n",
       "    <tr>\n",
       "      <th>212</th>\n",
       "      <td>2602713</td>\n",
       "      <td>82880</td>\n",
       "      <td>31.4</td>\n",
       "      <td>1.59</td>\n",
       "      <td>1.03</td>\n",
       "      <td>14.51</td>\n",
       "      <td>23200.0</td>\n",
       "      <td>77.9</td>\n",
       "      <td>475.3</td>\n",
       "      <td>0.60</td>\n",
       "      <td>2.25</td>\n",
       "      <td>97.15</td>\n",
       "      <td>1.0</td>\n",
       "      <td>18.96</td>\n",
       "      <td>4.40</td>\n",
       "      <td>0.040</td>\n",
       "      <td>0.585</td>\n",
       "      <td>0.375</td>\n",
       "      <td>United Arab Emirates</td>\n",
       "      <td>NEAR EAST</td>\n",
       "    </tr>\n",
       "    <tr>\n",
       "      <th>213</th>\n",
       "      <td>60609153</td>\n",
       "      <td>244820</td>\n",
       "      <td>247.6</td>\n",
       "      <td>5.08</td>\n",
       "      <td>2.19</td>\n",
       "      <td>5.16</td>\n",
       "      <td>27700.0</td>\n",
       "      <td>99.0</td>\n",
       "      <td>543.5</td>\n",
       "      <td>23.46</td>\n",
       "      <td>0.21</td>\n",
       "      <td>76.33</td>\n",
       "      <td>3.0</td>\n",
       "      <td>10.71</td>\n",
       "      <td>10.13</td>\n",
       "      <td>0.005</td>\n",
       "      <td>0.237</td>\n",
       "      <td>0.758</td>\n",
       "      <td>United Kingdom</td>\n",
       "      <td>WESTERN EUROPE</td>\n",
       "    </tr>\n",
       "    <tr>\n",
       "      <th>214</th>\n",
       "      <td>298444215</td>\n",
       "      <td>9631420</td>\n",
       "      <td>31.0</td>\n",
       "      <td>0.21</td>\n",
       "      <td>3.41</td>\n",
       "      <td>6.50</td>\n",
       "      <td>37800.0</td>\n",
       "      <td>97.0</td>\n",
       "      <td>898.0</td>\n",
       "      <td>19.13</td>\n",
       "      <td>0.22</td>\n",
       "      <td>80.65</td>\n",
       "      <td>3.0</td>\n",
       "      <td>14.14</td>\n",
       "      <td>8.26</td>\n",
       "      <td>0.010</td>\n",
       "      <td>0.204</td>\n",
       "      <td>0.787</td>\n",
       "      <td>United States</td>\n",
       "      <td>NORTHERN AMERICA</td>\n",
       "    </tr>\n",
       "    <tr>\n",
       "      <th>215</th>\n",
       "      <td>3431932</td>\n",
       "      <td>176220</td>\n",
       "      <td>19.5</td>\n",
       "      <td>0.37</td>\n",
       "      <td>-0.32</td>\n",
       "      <td>11.95</td>\n",
       "      <td>12800.0</td>\n",
       "      <td>98.0</td>\n",
       "      <td>291.4</td>\n",
       "      <td>7.43</td>\n",
       "      <td>0.23</td>\n",
       "      <td>92.34</td>\n",
       "      <td>3.0</td>\n",
       "      <td>13.91</td>\n",
       "      <td>9.05</td>\n",
       "      <td>0.093</td>\n",
       "      <td>0.311</td>\n",
       "      <td>0.596</td>\n",
       "      <td>Uruguay</td>\n",
       "      <td>LATIN AMER. &amp; CARIB</td>\n",
       "    </tr>\n",
       "    <tr>\n",
       "      <th>216</th>\n",
       "      <td>27307134</td>\n",
       "      <td>447400</td>\n",
       "      <td>61.0</td>\n",
       "      <td>0.00</td>\n",
       "      <td>-1.72</td>\n",
       "      <td>71.10</td>\n",
       "      <td>1700.0</td>\n",
       "      <td>99.3</td>\n",
       "      <td>62.9</td>\n",
       "      <td>10.83</td>\n",
       "      <td>0.83</td>\n",
       "      <td>88.34</td>\n",
       "      <td>1.0</td>\n",
       "      <td>26.36</td>\n",
       "      <td>7.84</td>\n",
       "      <td>0.342</td>\n",
       "      <td>0.229</td>\n",
       "      <td>0.430</td>\n",
       "      <td>Uzbekistan</td>\n",
       "      <td>C.W. OF IND. STATES</td>\n",
       "    </tr>\n",
       "    <tr>\n",
       "      <th>217</th>\n",
       "      <td>208869</td>\n",
       "      <td>12200</td>\n",
       "      <td>17.1</td>\n",
       "      <td>20.72</td>\n",
       "      <td>0.00</td>\n",
       "      <td>55.16</td>\n",
       "      <td>2900.0</td>\n",
       "      <td>53.0</td>\n",
       "      <td>32.6</td>\n",
       "      <td>2.46</td>\n",
       "      <td>7.38</td>\n",
       "      <td>90.16</td>\n",
       "      <td>2.0</td>\n",
       "      <td>22.72</td>\n",
       "      <td>7.82</td>\n",
       "      <td>0.260</td>\n",
       "      <td>0.120</td>\n",
       "      <td>0.620</td>\n",
       "      <td>Vanuatu</td>\n",
       "      <td>OCEANIA</td>\n",
       "    </tr>\n",
       "    <tr>\n",
       "      <th>218</th>\n",
       "      <td>25730435</td>\n",
       "      <td>912050</td>\n",
       "      <td>28.2</td>\n",
       "      <td>0.31</td>\n",
       "      <td>-0.04</td>\n",
       "      <td>22.20</td>\n",
       "      <td>4800.0</td>\n",
       "      <td>93.4</td>\n",
       "      <td>140.1</td>\n",
       "      <td>2.95</td>\n",
       "      <td>0.92</td>\n",
       "      <td>96.13</td>\n",
       "      <td>2.0</td>\n",
       "      <td>18.71</td>\n",
       "      <td>4.92</td>\n",
       "      <td>0.040</td>\n",
       "      <td>0.419</td>\n",
       "      <td>0.541</td>\n",
       "      <td>Venezuela</td>\n",
       "      <td>LATIN AMER. &amp; CARIB</td>\n",
       "    </tr>\n",
       "    <tr>\n",
       "      <th>219</th>\n",
       "      <td>84402966</td>\n",
       "      <td>329560</td>\n",
       "      <td>256.1</td>\n",
       "      <td>1.05</td>\n",
       "      <td>-0.45</td>\n",
       "      <td>25.95</td>\n",
       "      <td>2500.0</td>\n",
       "      <td>90.3</td>\n",
       "      <td>187.7</td>\n",
       "      <td>19.97</td>\n",
       "      <td>5.95</td>\n",
       "      <td>74.08</td>\n",
       "      <td>2.0</td>\n",
       "      <td>16.86</td>\n",
       "      <td>6.22</td>\n",
       "      <td>0.209</td>\n",
       "      <td>0.410</td>\n",
       "      <td>0.381</td>\n",
       "      <td>Vietnam</td>\n",
       "      <td>ASIA (EX. NEAR EAST)</td>\n",
       "    </tr>\n",
       "    <tr>\n",
       "      <th>224</th>\n",
       "      <td>21456188</td>\n",
       "      <td>527970</td>\n",
       "      <td>40.6</td>\n",
       "      <td>0.36</td>\n",
       "      <td>0.00</td>\n",
       "      <td>61.50</td>\n",
       "      <td>800.0</td>\n",
       "      <td>50.2</td>\n",
       "      <td>37.2</td>\n",
       "      <td>2.78</td>\n",
       "      <td>0.24</td>\n",
       "      <td>96.98</td>\n",
       "      <td>1.0</td>\n",
       "      <td>42.89</td>\n",
       "      <td>8.30</td>\n",
       "      <td>0.135</td>\n",
       "      <td>0.472</td>\n",
       "      <td>0.393</td>\n",
       "      <td>Yemen</td>\n",
       "      <td>NEAR EAST</td>\n",
       "    </tr>\n",
       "    <tr>\n",
       "      <th>225</th>\n",
       "      <td>11502010</td>\n",
       "      <td>752614</td>\n",
       "      <td>15.3</td>\n",
       "      <td>0.00</td>\n",
       "      <td>0.00</td>\n",
       "      <td>88.29</td>\n",
       "      <td>800.0</td>\n",
       "      <td>80.6</td>\n",
       "      <td>8.2</td>\n",
       "      <td>7.08</td>\n",
       "      <td>0.03</td>\n",
       "      <td>92.90</td>\n",
       "      <td>2.0</td>\n",
       "      <td>41.00</td>\n",
       "      <td>19.93</td>\n",
       "      <td>0.220</td>\n",
       "      <td>0.290</td>\n",
       "      <td>0.489</td>\n",
       "      <td>Zambia</td>\n",
       "      <td>SUB-SAHARAN AFRICA</td>\n",
       "    </tr>\n",
       "    <tr>\n",
       "      <th>226</th>\n",
       "      <td>12236805</td>\n",
       "      <td>390580</td>\n",
       "      <td>31.3</td>\n",
       "      <td>0.00</td>\n",
       "      <td>0.00</td>\n",
       "      <td>67.69</td>\n",
       "      <td>1900.0</td>\n",
       "      <td>90.7</td>\n",
       "      <td>26.8</td>\n",
       "      <td>8.32</td>\n",
       "      <td>0.34</td>\n",
       "      <td>91.34</td>\n",
       "      <td>2.0</td>\n",
       "      <td>28.01</td>\n",
       "      <td>21.84</td>\n",
       "      <td>0.179</td>\n",
       "      <td>0.243</td>\n",
       "      <td>0.579</td>\n",
       "      <td>Zimbabwe</td>\n",
       "      <td>SUB-SAHARAN AFRICA</td>\n",
       "    </tr>\n",
       "  </tbody>\n",
       "</table>\n",
       "</div>"
      ],
      "text/plain": [
       "     Population  Area (sq. mi.)  Pop. Density (per sq. mi.)  \\\n",
       "201    64631595          514000                       125.7   \n",
       "202     5548702           56785                        97.7   \n",
       "203      114689             748                       153.3   \n",
       "204     1065842            5128                       207.9   \n",
       "205    10175014          163610                        62.2   \n",
       "206    70413958          780580                        90.2   \n",
       "207     5042920          488100                        10.3   \n",
       "210    28195754          236040                       119.5   \n",
       "211    46710816          603700                        77.4   \n",
       "212     2602713           82880                        31.4   \n",
       "213    60609153          244820                       247.6   \n",
       "214   298444215         9631420                        31.0   \n",
       "215     3431932          176220                        19.5   \n",
       "216    27307134          447400                        61.0   \n",
       "217      208869           12200                        17.1   \n",
       "218    25730435          912050                        28.2   \n",
       "219    84402966          329560                       256.1   \n",
       "224    21456188          527970                        40.6   \n",
       "225    11502010          752614                        15.3   \n",
       "226    12236805          390580                        31.3   \n",
       "\n",
       "     Coastline (coast/area ratio)  Net migration  \\\n",
       "201                          0.63           0.00   \n",
       "202                          0.10           0.00   \n",
       "203                         56.02           0.00   \n",
       "204                          7.06         -10.83   \n",
       "205                          0.70          -0.57   \n",
       "206                          0.92           0.00   \n",
       "207                          0.00          -0.86   \n",
       "210                          0.00           0.00   \n",
       "211                          0.46          -0.39   \n",
       "212                          1.59           1.03   \n",
       "213                          5.08           2.19   \n",
       "214                          0.21           3.41   \n",
       "215                          0.37          -0.32   \n",
       "216                          0.00          -1.72   \n",
       "217                         20.72           0.00   \n",
       "218                          0.31          -0.04   \n",
       "219                          1.05          -0.45   \n",
       "224                          0.36           0.00   \n",
       "225                          0.00           0.00   \n",
       "226                          0.00           0.00   \n",
       "\n",
       "     Infant mortality (per 1000 births)  GDP ($ per capita)  Literacy (%)  \\\n",
       "201                               20.48              7400.0          92.6   \n",
       "202                               66.61              1500.0          60.9   \n",
       "203                               12.62              2200.0          98.5   \n",
       "204                               24.31              9500.0          98.6   \n",
       "205                               24.77              6900.0          74.2   \n",
       "206                               41.04              6700.0          86.5   \n",
       "207                               73.08              5800.0          98.0   \n",
       "210                               67.83              1400.0          69.9   \n",
       "211                               20.34              5400.0          99.7   \n",
       "212                               14.51             23200.0          77.9   \n",
       "213                                5.16             27700.0          99.0   \n",
       "214                                6.50             37800.0          97.0   \n",
       "215                               11.95             12800.0          98.0   \n",
       "216                               71.10              1700.0          99.3   \n",
       "217                               55.16              2900.0          53.0   \n",
       "218                               22.20              4800.0          93.4   \n",
       "219                               25.95              2500.0          90.3   \n",
       "224                               61.50               800.0          50.2   \n",
       "225                               88.29               800.0          80.6   \n",
       "226                               67.69              1900.0          90.7   \n",
       "\n",
       "     Phones (per 1000)  Arable (%)  Crops (%)  Other (%)  Climate  Birthrate  \\\n",
       "201              108.9       29.36       6.46      64.18      2.0      13.87   \n",
       "202               10.6       46.15       2.21      51.64      2.0      37.01   \n",
       "203               97.7       23.61      43.06      33.33      2.0      25.37   \n",
       "204              303.5       14.62       9.16      76.22      2.0      12.90   \n",
       "205              123.6       17.86      13.74      68.40      3.0      15.52   \n",
       "206              269.5       30.93       3.31      65.76      3.0      16.62   \n",
       "207               74.6        3.72       0.14      96.14      1.0      27.61   \n",
       "210                3.6       25.88      10.65      63.47      2.0      47.35   \n",
       "211              259.9       56.21       1.61      42.18      3.0       8.82   \n",
       "212              475.3        0.60       2.25      97.15      1.0      18.96   \n",
       "213              543.5       23.46       0.21      76.33      3.0      10.71   \n",
       "214              898.0       19.13       0.22      80.65      3.0      14.14   \n",
       "215              291.4        7.43       0.23      92.34      3.0      13.91   \n",
       "216               62.9       10.83       0.83      88.34      1.0      26.36   \n",
       "217               32.6        2.46       7.38      90.16      2.0      22.72   \n",
       "218              140.1        2.95       0.92      96.13      2.0      18.71   \n",
       "219              187.7       19.97       5.95      74.08      2.0      16.86   \n",
       "224               37.2        2.78       0.24      96.98      1.0      42.89   \n",
       "225                8.2        7.08       0.03      92.90      2.0      41.00   \n",
       "226               26.8        8.32       0.34      91.34      2.0      28.01   \n",
       "\n",
       "     Deathrate  Agriculture  Industry  Service                Country  \\\n",
       "201       7.04        0.099     0.441    0.460              Thailand    \n",
       "202       9.83        0.395     0.204    0.401                  Togo    \n",
       "203       5.28        0.230     0.270    0.500                 Tonga    \n",
       "204      10.57        0.007     0.570    0.423     Trinidad & Tobago    \n",
       "205       5.13        0.132     0.318    0.550               Tunisia    \n",
       "206       5.97        0.117     0.298    0.585                Turkey    \n",
       "207       8.60        0.209     0.380    0.411          Turkmenistan    \n",
       "210      12.24        0.311     0.222    0.469                Uganda    \n",
       "211      14.39        0.187     0.452    0.361               Ukraine    \n",
       "212       4.40        0.040     0.585    0.375  United Arab Emirates    \n",
       "213      10.13        0.005     0.237    0.758        United Kingdom    \n",
       "214       8.26        0.010     0.204    0.787         United States    \n",
       "215       9.05        0.093     0.311    0.596               Uruguay    \n",
       "216       7.84        0.342     0.229    0.430            Uzbekistan    \n",
       "217       7.82        0.260     0.120    0.620               Vanuatu    \n",
       "218       4.92        0.040     0.419    0.541             Venezuela    \n",
       "219       6.22        0.209     0.410    0.381               Vietnam    \n",
       "224       8.30        0.135     0.472    0.393                 Yemen    \n",
       "225      19.93        0.220     0.290    0.489                Zambia    \n",
       "226      21.84        0.179     0.243    0.579              Zimbabwe    \n",
       "\n",
       "                                  Region  \n",
       "201        ASIA (EX. NEAR EAST)           \n",
       "202  SUB-SAHARAN AFRICA                   \n",
       "203  OCEANIA                              \n",
       "204              LATIN AMER. & CARIB      \n",
       "205  NORTHERN AFRICA                      \n",
       "206  NEAR EAST                            \n",
       "207                 C.W. OF IND. STATES   \n",
       "210  SUB-SAHARAN AFRICA                   \n",
       "211                 C.W. OF IND. STATES   \n",
       "212  NEAR EAST                            \n",
       "213  WESTERN EUROPE                       \n",
       "214  NORTHERN AMERICA                     \n",
       "215              LATIN AMER. & CARIB      \n",
       "216                 C.W. OF IND. STATES   \n",
       "217  OCEANIA                              \n",
       "218              LATIN AMER. & CARIB      \n",
       "219        ASIA (EX. NEAR EAST)           \n",
       "224  NEAR EAST                            \n",
       "225  SUB-SAHARAN AFRICA                   \n",
       "226  SUB-SAHARAN AFRICA                   "
      ]
     },
     "execution_count": 7,
     "metadata": {},
     "output_type": "execute_result"
    }
   ],
   "source": [
    "countries.tail(20)"
   ]
  },
  {
   "cell_type": "code",
   "execution_count": 8,
   "metadata": {
    "ExecuteTime": {
     "end_time": "2019-04-14T00:14:01.119722Z",
     "start_time": "2019-04-14T00:14:01.111493Z"
    },
    "scrolled": true
   },
   "outputs": [
    {
     "name": "stdout",
     "output_type": "stream",
     "text": [
      "<class 'pandas.core.frame.DataFrame'>\n",
      "Int64Index: 179 entries, 0 to 226\n",
      "Data columns (total 20 columns):\n",
      "Population                            179 non-null int64\n",
      "Area (sq. mi.)                        179 non-null int64\n",
      "Pop. Density (per sq. mi.)            179 non-null float64\n",
      "Coastline (coast/area ratio)          179 non-null float64\n",
      "Net migration                         179 non-null float64\n",
      "Infant mortality (per 1000 births)    179 non-null float64\n",
      "GDP ($ per capita)                    179 non-null float64\n",
      "Literacy (%)                          179 non-null float64\n",
      "Phones (per 1000)                     179 non-null float64\n",
      "Arable (%)                            179 non-null float64\n",
      "Crops (%)                             179 non-null float64\n",
      "Other (%)                             179 non-null float64\n",
      "Climate                               179 non-null float64\n",
      "Birthrate                             179 non-null float64\n",
      "Deathrate                             179 non-null float64\n",
      "Agriculture                           179 non-null float64\n",
      "Industry                              179 non-null float64\n",
      "Service                               179 non-null float64\n",
      "Country                               179 non-null object\n",
      "Region                                179 non-null object\n",
      "dtypes: float64(16), int64(2), object(2)\n",
      "memory usage: 29.4+ KB\n"
     ]
    }
   ],
   "source": [
    "countries.info()"
   ]
  },
  {
   "cell_type": "code",
   "execution_count": 9,
   "metadata": {
    "ExecuteTime": {
     "end_time": "2019-04-14T00:14:01.790206Z",
     "start_time": "2019-04-14T00:14:01.121879Z"
    }
   },
   "outputs": [
    {
     "name": "stdout",
     "output_type": "stream",
     "text": [
      "                                    Population  Area (sq. mi.)  \\\n",
      "Population                            1.000000        0.610850   \n",
      "Area (sq. mi.)                        0.610850        1.000000   \n",
      "Pop. Density (per sq. mi.)           -0.019010       -0.069010   \n",
      "Coastline (coast/area ratio)         -0.054617       -0.088162   \n",
      "Net migration                         0.010332        0.052730   \n",
      "Infant mortality (per 1000 births)    0.002438        0.002924   \n",
      "GDP ($ per capita)                   -0.033618        0.068356   \n",
      "Literacy (%)                         -0.038162        0.000682   \n",
      "Phones (per 1000)                    -0.003942        0.077864   \n",
      "Arable (%)                            0.206667       -0.053747   \n",
      "Crops (%)                            -0.062567       -0.160433   \n",
      "Other (%)                            -0.137345        0.124528   \n",
      "Climate                              -0.018471       -0.094852   \n",
      "Birthrate                            -0.064719       -0.037473   \n",
      "Deathrate                            -0.050578       -0.024266   \n",
      "Agriculture                          -0.007401       -0.017035   \n",
      "Industry                              0.092468        0.103225   \n",
      "Service                              -0.070320       -0.070204   \n",
      "\n",
      "                                    Pop. Density (per sq. mi.)  \\\n",
      "Population                                           -0.019010   \n",
      "Area (sq. mi.)                                       -0.069010   \n",
      "Pop. Density (per sq. mi.)                            1.000000   \n",
      "Coastline (coast/area ratio)                          0.164036   \n",
      "Net migration                                         0.161705   \n",
      "Infant mortality (per 1000 births)                   -0.143214   \n",
      "GDP ($ per capita)                                    0.190122   \n",
      "Literacy (%)                                          0.086090   \n",
      "Phones (per 1000)                                     0.157072   \n",
      "Arable (%)                                           -0.059223   \n",
      "Crops (%)                                            -0.036580   \n",
      "Other (%)                                             0.066753   \n",
      "Climate                                              -0.012370   \n",
      "Birthrate                                            -0.174565   \n",
      "Deathrate                                            -0.130624   \n",
      "Agriculture                                          -0.144315   \n",
      "Industry                                             -0.145370   \n",
      "Service                                               0.255477   \n",
      "\n",
      "                                    Coastline (coast/area ratio)  \\\n",
      "Population                                             -0.054617   \n",
      "Area (sq. mi.)                                         -0.088162   \n",
      "Pop. Density (per sq. mi.)                              0.164036   \n",
      "Coastline (coast/area ratio)                            1.000000   \n",
      "Net migration                                          -0.241629   \n",
      "Infant mortality (per 1000 births)                     -0.105956   \n",
      "GDP ($ per capita)                                      0.035815   \n",
      "Literacy (%)                                            0.099605   \n",
      "Phones (per 1000)                                       0.098367   \n",
      "Arable (%)                                             -0.077800   \n",
      "Crops (%)                                               0.399358   \n",
      "Other (%)                                              -0.137085   \n",
      "Climate                                                -0.027063   \n",
      "Birthrate                                              -0.063464   \n",
      "Deathrate                                              -0.148592   \n",
      "Agriculture                                            -0.032327   \n",
      "Industry                                               -0.188972   \n",
      "Service                                                 0.190004   \n",
      "\n",
      "                                    Net migration  \\\n",
      "Population                               0.010332   \n",
      "Area (sq. mi.)                           0.052730   \n",
      "Pop. Density (per sq. mi.)               0.161705   \n",
      "Coastline (coast/area ratio)            -0.241629   \n",
      "Net migration                            1.000000   \n",
      "Infant mortality (per 1000 births)       0.013053   \n",
      "GDP ($ per capita)                       0.378790   \n",
      "Literacy (%)                            -0.053788   \n",
      "Phones (per 1000)                        0.232446   \n",
      "Arable (%)                              -0.065846   \n",
      "Crops (%)                               -0.405355   \n",
      "Other (%)                                0.257420   \n",
      "Climate                                 -0.070413   \n",
      "Birthrate                               -0.035102   \n",
      "Deathrate                                0.042805   \n",
      "Agriculture                             -0.096617   \n",
      "Industry                                -0.004402   \n",
      "Service                                  0.091498   \n",
      "\n",
      "                                    Infant mortality (per 1000 births)  \\\n",
      "Population                                                    0.002438   \n",
      "Area (sq. mi.)                                                0.002924   \n",
      "Pop. Density (per sq. mi.)                                   -0.143214   \n",
      "Coastline (coast/area ratio)                                 -0.105956   \n",
      "Net migration                                                 0.013053   \n",
      "Infant mortality (per 1000 births)                            1.000000   \n",
      "GDP ($ per capita)                                           -0.639090   \n",
      "Literacy (%)                                                 -0.761224   \n",
      "Phones (per 1000)                                            -0.699199   \n",
      "Arable (%)                                                   -0.123033   \n",
      "Crops (%)                                                    -0.095712   \n",
      "Other (%)                                                     0.148600   \n",
      "Climate                                                      -0.366672   \n",
      "Birthrate                                                     0.862113   \n",
      "Deathrate                                                     0.665729   \n",
      "Agriculture                                                   0.758537   \n",
      "Industry                                                     -0.085310   \n",
      "Service                                                      -0.618259   \n",
      "\n",
      "                                    GDP ($ per capita)  Literacy (%)  \\\n",
      "Population                                   -0.033618     -0.038162   \n",
      "Area (sq. mi.)                                0.068356      0.000682   \n",
      "Pop. Density (per sq. mi.)                    0.190122      0.086090   \n",
      "Coastline (coast/area ratio)                  0.035815      0.099605   \n",
      "Net migration                                 0.378790     -0.053788   \n",
      "Infant mortality (per 1000 births)           -0.639090     -0.761224   \n",
      "GDP ($ per capita)                            1.000000      0.522880   \n",
      "Literacy (%)                                  0.522880      1.000000   \n",
      "Phones (per 1000)                             0.883520      0.592042   \n",
      "Arable (%)                                    0.046465      0.086519   \n",
      "Crops (%)                                    -0.207844      0.060741   \n",
      "Other (%)                                     0.066445     -0.101167   \n",
      "Climate                                       0.360567      0.395194   \n",
      "Birthrate                                    -0.658795     -0.788349   \n",
      "Deathrate                                    -0.247562     -0.401696   \n",
      "Agriculture                                  -0.616919     -0.620514   \n",
      "Industry                                      0.032855      0.105703   \n",
      "Service                                       0.536551      0.474395   \n",
      "\n",
      "                                    Phones (per 1000)  Arable (%)  Crops (%)  \\\n",
      "Population                                  -0.003942    0.206667  -0.062567   \n",
      "Area (sq. mi.)                               0.077864   -0.053747  -0.160433   \n",
      "Pop. Density (per sq. mi.)                   0.157072   -0.059223  -0.036580   \n",
      "Coastline (coast/area ratio)                 0.098367   -0.077800   0.399358   \n",
      "Net migration                                0.232446   -0.065846  -0.405355   \n",
      "Infant mortality (per 1000 births)          -0.699199   -0.123033  -0.095712   \n",
      "GDP ($ per capita)                           0.883520    0.046465  -0.207844   \n",
      "Literacy (%)                                 0.592042    0.086519   0.060741   \n",
      "Phones (per 1000)                            1.000000    0.124116  -0.124819   \n",
      "Arable (%)                                   0.124116    1.000000   0.098265   \n",
      "Crops (%)                                   -0.124819    0.098265   1.000000   \n",
      "Other (%)                                   -0.038643   -0.866058  -0.582627   \n",
      "Climate                                      0.410691    0.392914  -0.003734   \n",
      "Birthrate                                   -0.732985   -0.198438   0.075813   \n",
      "Deathrate                                   -0.317530    0.047770  -0.208984   \n",
      "Agriculture                                 -0.631578   -0.018610   0.084289   \n",
      "Industry                                    -0.084247   -0.073380  -0.124211   \n",
      "Service                                      0.649638    0.081982   0.029020   \n",
      "\n",
      "                                    Other (%)   Climate  Birthrate  Deathrate  \\\n",
      "Population                          -0.137345 -0.018471  -0.064719  -0.050578   \n",
      "Area (sq. mi.)                       0.124528 -0.094852  -0.037473  -0.024266   \n",
      "Pop. Density (per sq. mi.)           0.066753 -0.012370  -0.174565  -0.130624   \n",
      "Coastline (coast/area ratio)        -0.137085 -0.027063  -0.063464  -0.148592   \n",
      "Net migration                        0.257420 -0.070413  -0.035102   0.042805   \n",
      "Infant mortality (per 1000 births)   0.148600 -0.366672   0.862113   0.665729   \n",
      "GDP ($ per capita)                   0.066445  0.360567  -0.658795  -0.247562   \n",
      "Literacy (%)                        -0.101167  0.395194  -0.788349  -0.401696   \n",
      "Phones (per 1000)                   -0.038643  0.410691  -0.732985  -0.317530   \n",
      "Arable (%)                          -0.866058  0.392914  -0.198438   0.047770   \n",
      "Crops (%)                           -0.582627 -0.003734   0.075813  -0.208984   \n",
      "Other (%)                            1.000000 -0.318964   0.123943   0.066027   \n",
      "Climate                             -0.318964  1.000000  -0.456312   0.021979   \n",
      "Birthrate                            0.123943 -0.456312   1.000000   0.446220   \n",
      "Deathrate                            0.066027  0.021979   0.446220   1.000000   \n",
      "Agriculture                         -0.027108 -0.187472   0.703979   0.416409   \n",
      "Industry                             0.122303 -0.077286  -0.120518  -0.012611   \n",
      "Service                             -0.081546  0.237414  -0.541710  -0.366187   \n",
      "\n",
      "                                    Agriculture  Industry   Service  \n",
      "Population                            -0.007401  0.092468 -0.070320  \n",
      "Area (sq. mi.)                        -0.017035  0.103225 -0.070204  \n",
      "Pop. Density (per sq. mi.)            -0.144315 -0.145370  0.255477  \n",
      "Coastline (coast/area ratio)          -0.032327 -0.188972  0.190004  \n",
      "Net migration                         -0.096617 -0.004402  0.091498  \n",
      "Infant mortality (per 1000 births)     0.758537 -0.085310 -0.618259  \n",
      "GDP ($ per capita)                    -0.616919  0.032855  0.536551  \n",
      "Literacy (%)                          -0.620514  0.105703  0.474395  \n",
      "Phones (per 1000)                     -0.631578 -0.084247  0.649638  \n",
      "Arable (%)                            -0.018610 -0.073380  0.081982  \n",
      "Crops (%)                              0.084289 -0.124211  0.029020  \n",
      "Other (%)                             -0.027108  0.122303 -0.081546  \n",
      "Climate                               -0.187472 -0.077286  0.237414  \n",
      "Birthrate                              0.703979 -0.120518 -0.541710  \n",
      "Deathrate                              0.416409 -0.012611 -0.366187  \n",
      "Agriculture                            1.000000 -0.352785 -0.613489  \n",
      "Industry                              -0.352785  1.000000 -0.521413  \n",
      "Service                               -0.613489 -0.521413  1.000000  \n"
     ]
    },
    {
     "data": {
      "image/png": "[encoded data removed]",
      "text/plain": [
       "<Figure size 864x648 with 2 Axes>"
      ]
     },
     "metadata": {
      "needs_background": "light"
     },
     "output_type": "display_data"
    }
   ],
   "source": [
    "# Make the correlation matrix.\n",
    "corrmat = countries.corr()\n",
    "print(corrmat)\n",
    "\n",
    "# Set up the matplotlib figure.\n",
    "f, ax = plt.subplots(figsize=(12, 9))\n",
    "\n",
    "# Draw the heatmap using seaborn.\n",
    "sns.heatmap(corrmat, vmax=.8, square=True)\n",
    "plt.show()\n"
   ]
  },
  {
   "cell_type": "code",
   "execution_count": 10,
   "metadata": {
    "ExecuteTime": {
     "end_time": "2019-04-14T00:14:01.799829Z",
     "start_time": "2019-04-14T00:14:01.792532Z"
    }
   },
   "outputs": [],
   "source": [
    "#Clean up the column titles for quick acces and itteration\n",
    "countries.columns = countries.columns.str.strip().str.lower().str.replace('%','').str.replace('(', '').str.replace(')','').str.replace('/', '_').str.replace('\\n', '_').str.replace('.', '').str.replace('$', '').str.replace(' ','_')\n"
   ]
  },
  {
   "cell_type": "code",
   "execution_count": 11,
   "metadata": {
    "ExecuteTime": {
     "end_time": "2019-04-14T00:14:01.812084Z",
     "start_time": "2019-04-14T00:14:01.802316Z"
    }
   },
   "outputs": [
    {
     "name": "stdout",
     "output_type": "stream",
     "text": [
      "<class 'pandas.core.frame.DataFrame'>\n",
      "Int64Index: 179 entries, 0 to 226\n",
      "Data columns (total 20 columns):\n",
      "population                          179 non-null int64\n",
      "area_sq_mi                          179 non-null int64\n",
      "pop_density_per_sq_mi               179 non-null float64\n",
      "coastline_coast_area_ratio          179 non-null float64\n",
      "net_migration                       179 non-null float64\n",
      "infant_mortality_per_1000_births    179 non-null float64\n",
      "gdp__per_capita                     179 non-null float64\n",
      "literacy_                           179 non-null float64\n",
      "phones_per_1000                     179 non-null float64\n",
      "arable_                             179 non-null float64\n",
      "crops_                              179 non-null float64\n",
      "other_                              179 non-null float64\n",
      "climate                             179 non-null float64\n",
      "birthrate                           179 non-null float64\n",
      "deathrate                           179 non-null float64\n",
      "agriculture                         179 non-null float64\n",
      "industry                            179 non-null float64\n",
      "service                             179 non-null float64\n",
      "country                             179 non-null object\n",
      "region                              179 non-null object\n",
      "dtypes: float64(16), int64(2), object(2)\n",
      "memory usage: 29.4+ KB\n"
     ]
    }
   ],
   "source": [
    "#countries.columns= countries.columns\n",
    "countries.info()"
   ]
  },
  {
   "cell_type": "markdown",
   "metadata": {},
   "source": [
    "## Select Features and Target"
   ]
  },
  {
   "cell_type": "code",
   "execution_count": 12,
   "metadata": {
    "ExecuteTime": {
     "end_time": "2019-04-14T00:14:01.819965Z",
     "start_time": "2019-04-14T00:14:01.814087Z"
    }
   },
   "outputs": [],
   "source": [
    "features = pd.DataFrame(countries[['pop_density_per_sq_mi', 'net_migration', 'arable_', 'agriculture', 'industry', 'literacy_' ]].dropna())\n"
   ]
  },
  {
   "cell_type": "code",
   "execution_count": 13,
   "metadata": {
    "ExecuteTime": {
     "end_time": "2019-04-14T00:14:01.830505Z",
     "start_time": "2019-04-14T00:14:01.821665Z"
    }
   },
   "outputs": [
    {
     "name": "stdout",
     "output_type": "stream",
     "text": [
      "<class 'pandas.core.frame.DataFrame'>\n",
      "Int64Index: 179 entries, 0 to 226\n",
      "Data columns (total 6 columns):\n",
      "pop_density_per_sq_mi    179 non-null float64\n",
      "net_migration            179 non-null float64\n",
      "arable_                  179 non-null float64\n",
      "agriculture              179 non-null float64\n",
      "industry                 179 non-null float64\n",
      "literacy_                179 non-null float64\n",
      "dtypes: float64(6)\n",
      "memory usage: 9.8 KB\n"
     ]
    }
   ],
   "source": [
    "features.info()"
   ]
  },
  {
   "cell_type": "code",
   "execution_count": 14,
   "metadata": {
    "ExecuteTime": {
     "end_time": "2019-04-14T00:14:01.835722Z",
     "start_time": "2019-04-14T00:14:01.832785Z"
    }
   },
   "outputs": [],
   "source": [
    "target = countries['gdp__per_capita']"
   ]
  },
  {
   "cell_type": "code",
   "execution_count": 15,
   "metadata": {
    "ExecuteTime": {
     "end_time": "2019-04-14T00:14:02.272805Z",
     "start_time": "2019-04-14T00:14:01.837655Z"
    },
    "scrolled": true
   },
   "outputs": [
    {
     "name": "stdout",
     "output_type": "stream",
     "text": [
      "                       pop_density_per_sq_mi  net_migration   arable_  \\\n",
      "pop_density_per_sq_mi               1.000000       0.161705 -0.059223   \n",
      "net_migration                       0.161705       1.000000 -0.065846   \n",
      "arable_                            -0.059223      -0.065846  1.000000   \n",
      "agriculture                        -0.144315      -0.096617 -0.018610   \n",
      "industry                           -0.145370      -0.004402 -0.073380   \n",
      "literacy_                           0.086090      -0.053788  0.086519   \n",
      "\n",
      "                       agriculture  industry  literacy_  \n",
      "pop_density_per_sq_mi    -0.144315 -0.145370   0.086090  \n",
      "net_migration            -0.096617 -0.004402  -0.053788  \n",
      "arable_                  -0.018610 -0.073380   0.086519  \n",
      "agriculture               1.000000 -0.352785  -0.620514  \n",
      "industry                 -0.352785  1.000000   0.105703  \n",
      "literacy_                -0.620514  0.105703   1.000000  \n"
     ]
    },
    {
     "data": {
      "image/png": "[encoded data removed]",
      "text/plain": [
       "<Figure size 864x648 with 2 Axes>"
      ]
     },
     "metadata": {
      "needs_background": "light"
     },
     "output_type": "display_data"
    }
   ],
   "source": [
    "# Make the correlation matrix.\n",
    "corrmat2 = features.corr()\n",
    "print(corrmat2)\n",
    "\n",
    "# Set up the matplotlib figure.\n",
    "f, ax = plt.subplots(figsize=(12, 9))\n",
    "\n",
    "# Draw the heatmap using seaborn.\n",
    "sns.heatmap(corrmat2, vmax=.8, square=True)\n",
    "plt.show()"
   ]
  },
  {
   "cell_type": "code",
   "execution_count": 16,
   "metadata": {
    "ExecuteTime": {
     "end_time": "2019-04-14T00:14:02.291274Z",
     "start_time": "2019-04-14T00:14:02.275765Z"
    }
   },
   "outputs": [
    {
     "data": {
      "text/html": [
       "<div>\n",
       "<style scoped>\n",
       "    .dataframe tbody tr th:only-of-type {\n",
       "        vertical-align: middle;\n",
       "    }\n",
       "\n",
       "    .dataframe tbody tr th {\n",
       "        vertical-align: top;\n",
       "    }\n",
       "\n",
       "    .dataframe thead th {\n",
       "        text-align: right;\n",
       "    }\n",
       "</style>\n",
       "<table border=\"1\" class=\"dataframe\">\n",
       "  <thead>\n",
       "    <tr style=\"text-align: right;\">\n",
       "      <th></th>\n",
       "      <th>pop_density_per_sq_mi</th>\n",
       "      <th>net_migration</th>\n",
       "      <th>arable_</th>\n",
       "      <th>agriculture</th>\n",
       "      <th>industry</th>\n",
       "      <th>literacy_</th>\n",
       "    </tr>\n",
       "  </thead>\n",
       "  <tbody>\n",
       "    <tr>\n",
       "      <th>pop_density_per_sq_mi</th>\n",
       "      <td>1.000000</td>\n",
       "      <td>0.161705</td>\n",
       "      <td>-0.059223</td>\n",
       "      <td>-0.144315</td>\n",
       "      <td>-0.145370</td>\n",
       "      <td>0.086090</td>\n",
       "    </tr>\n",
       "    <tr>\n",
       "      <th>net_migration</th>\n",
       "      <td>0.161705</td>\n",
       "      <td>1.000000</td>\n",
       "      <td>-0.065846</td>\n",
       "      <td>-0.096617</td>\n",
       "      <td>-0.004402</td>\n",
       "      <td>-0.053788</td>\n",
       "    </tr>\n",
       "    <tr>\n",
       "      <th>arable_</th>\n",
       "      <td>-0.059223</td>\n",
       "      <td>-0.065846</td>\n",
       "      <td>1.000000</td>\n",
       "      <td>-0.018610</td>\n",
       "      <td>-0.073380</td>\n",
       "      <td>0.086519</td>\n",
       "    </tr>\n",
       "    <tr>\n",
       "      <th>agriculture</th>\n",
       "      <td>-0.144315</td>\n",
       "      <td>-0.096617</td>\n",
       "      <td>-0.018610</td>\n",
       "      <td>1.000000</td>\n",
       "      <td>-0.352785</td>\n",
       "      <td>-0.620514</td>\n",
       "    </tr>\n",
       "    <tr>\n",
       "      <th>industry</th>\n",
       "      <td>-0.145370</td>\n",
       "      <td>-0.004402</td>\n",
       "      <td>-0.073380</td>\n",
       "      <td>-0.352785</td>\n",
       "      <td>1.000000</td>\n",
       "      <td>0.105703</td>\n",
       "    </tr>\n",
       "    <tr>\n",
       "      <th>literacy_</th>\n",
       "      <td>0.086090</td>\n",
       "      <td>-0.053788</td>\n",
       "      <td>0.086519</td>\n",
       "      <td>-0.620514</td>\n",
       "      <td>0.105703</td>\n",
       "      <td>1.000000</td>\n",
       "    </tr>\n",
       "  </tbody>\n",
       "</table>\n",
       "</div>"
      ],
      "text/plain": [
       "                       pop_density_per_sq_mi  net_migration   arable_  \\\n",
       "pop_density_per_sq_mi               1.000000       0.161705 -0.059223   \n",
       "net_migration                       0.161705       1.000000 -0.065846   \n",
       "arable_                            -0.059223      -0.065846  1.000000   \n",
       "agriculture                        -0.144315      -0.096617 -0.018610   \n",
       "industry                           -0.145370      -0.004402 -0.073380   \n",
       "literacy_                           0.086090      -0.053788  0.086519   \n",
       "\n",
       "                       agriculture  industry  literacy_  \n",
       "pop_density_per_sq_mi    -0.144315 -0.145370   0.086090  \n",
       "net_migration            -0.096617 -0.004402  -0.053788  \n",
       "arable_                  -0.018610 -0.073380   0.086519  \n",
       "agriculture               1.000000 -0.352785  -0.620514  \n",
       "industry                 -0.352785  1.000000   0.105703  \n",
       "literacy_                -0.620514  0.105703   1.000000  "
      ]
     },
     "execution_count": 16,
     "metadata": {},
     "output_type": "execute_result"
    }
   ],
   "source": [
    "features.corr()"
   ]
  },
  {
   "cell_type": "markdown",
   "metadata": {},
   "source": [
    "## Create KNN Regression"
   ]
  },
  {
   "cell_type": "code",
   "execution_count": 17,
   "metadata": {
    "ExecuteTime": {
     "end_time": "2019-04-14T00:14:02.298012Z",
     "start_time": "2019-04-14T00:14:02.294292Z"
    }
   },
   "outputs": [],
   "source": [
    "# Build our model.\n",
    "knn = KNeighborsRegressor(n_neighbors=3)\n",
    "X = features\n",
    "Y = target\n"
   ]
  },
  {
   "cell_type": "code",
   "execution_count": 18,
   "metadata": {
    "ExecuteTime": {
     "end_time": "2019-04-14T00:14:02.307266Z",
     "start_time": "2019-04-14T00:14:02.302270Z"
    }
   },
   "outputs": [],
   "source": [
    "X_train, X_test, y_train, y_test = train_test_split(X, Y, test_size = 0.3, random_state=42)"
   ]
  },
  {
   "cell_type": "code",
   "execution_count": 19,
   "metadata": {
    "ExecuteTime": {
     "end_time": "2019-04-14T00:14:02.319624Z",
     "start_time": "2019-04-14T00:14:02.310551Z"
    }
   },
   "outputs": [
    {
     "data": {
      "text/plain": [
       "0.01719256250765333"
      ]
     },
     "execution_count": 19,
     "metadata": {},
     "output_type": "execute_result"
    }
   ],
   "source": [
    "knn.fit(X_train, y_train)\n",
    "knn.score(X_test, y_test)"
   ]
  },
  {
   "cell_type": "code",
   "execution_count": 20,
   "metadata": {
    "ExecuteTime": {
     "end_time": "2019-04-14T00:14:02.349192Z",
     "start_time": "2019-04-14T00:14:02.322667Z"
    }
   },
   "outputs": [
    {
     "data": {
      "text/plain": [
       "array([-1.45364916, -0.1788137 , -0.09668675, -2.29060388, -1.52924626])"
      ]
     },
     "execution_count": 20,
     "metadata": {},
     "output_type": "execute_result"
    }
   ],
   "source": [
    "from sklearn.model_selection import cross_val_score\n",
    "cross_val_score(knn, X_test, y_test, cv=5)"
   ]
  },
  {
   "cell_type": "code",
   "execution_count": null,
   "metadata": {},
   "outputs": [],
   "source": []
  },
  {
   "cell_type": "markdown",
   "metadata": {},
   "source": [
    "## Create Linear Regression"
   ]
  },
  {
   "cell_type": "code",
   "execution_count": 21,
   "metadata": {
    "ExecuteTime": {
     "end_time": "2019-04-14T00:14:02.356804Z",
     "start_time": "2019-04-14T00:14:02.352202Z"
    }
   },
   "outputs": [],
   "source": [
    "from sklearn.metrics import mean_squared_error\n",
    "\n",
    "# Create training and test sets\n",
    "X2_train, X2_test, y2_train, y2_test = train_test_split(X, Y, test_size = 0.30, random_state=42)"
   ]
  },
  {
   "cell_type": "code",
   "execution_count": 22,
   "metadata": {
    "ExecuteTime": {
     "end_time": "2019-04-14T00:14:02.371247Z",
     "start_time": "2019-04-14T00:14:02.360275Z"
    },
    "scrolled": true
   },
   "outputs": [
    {
     "name": "stdout",
     "output_type": "stream",
     "text": [
      "\n",
      "Coefficients: \n",
      " [-1.40395334e-02  6.08830928e+02  9.08593751e+00 -2.53050679e+04\n",
      " -9.66543995e+03  1.55519981e+02]\n",
      "\n",
      "Intercept: \n",
      " 2695.4107981071975\n",
      "\n",
      "R-squared:\n",
      "0.5627834789805376\n"
     ]
    }
   ],
   "source": [
    "regr = LinearRegression()\n",
    "\n",
    "regr.fit(X2_train, y2_train)\n",
    "\n",
    "# Inspect the results.\n",
    "print('\\nCoefficients: \\n', regr.coef_)\n",
    "print('\\nIntercept: \\n', regr.intercept_)\n",
    "print('\\nR-squared:')\n",
    "print(regr.score(X2_test, y2_test))"
   ]
  },
  {
   "cell_type": "markdown",
   "metadata": {},
   "source": [
    "## Summary"
   ]
  },
  {
   "cell_type": "markdown",
   "metadata": {},
   "source": [
    "I picked this set and hoped I could predict GDP with a few features.\n",
    "\n",
    "It looks like after trying several different features, that it will not be easy to predict as it doesn’t have a high accuracy.\n",
    "\n",
    "Between the two models the Linear Regression model seems to paint a clearer picture since the data seems linear. K-Nearest Neighbor isn’t great for this data set because the variables are too similar.\n",
    "\n",
    "All in all, I think we can get a picture of how the features and GDP correlate."
   ]
  },
  {
   "cell_type": "code",
   "execution_count": null,
   "metadata": {},
   "outputs": [],
   "source": []
  }
 ],
 "metadata": {
  "kernelspec": {
   "display_name": "Python 3",
   "language": "python",
   "name": "python3"
  },
  "language_info": {
   "codemirror_mode": {
    "name": "ipython",
    "version": 3
   },
   "file_extension": ".py",
   "mimetype": "text/x-python",
   "name": "python",
   "nbconvert_exporter": "python",
   "pygments_lexer": "ipython3",
   "version": "3.7.1"
  },
  "toc": {
   "base_numbering": 1,
   "nav_menu": {},
   "number_sections": true,
   "sideBar": true,
   "skip_h1_title": false,
   "title_cell": "Table of Contents",
   "title_sidebar": "Contents",
   "toc_cell": false,
   "toc_position": {},
   "toc_section_display": true,
   "toc_window_display": false
  }
 },
 "nbformat": 4,
 "nbformat_minor": 2
}
