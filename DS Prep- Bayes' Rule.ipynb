{
 "cells": [
  {
   "cell_type": "markdown",
   "metadata": {},
   "source": [
    "Question 1:\n",
    "\n",
    "Thripshaw's Disease-\n",
    "\n",
    "A diagnostic test has 98% probability of giving positive results and 10% probabilty of giving false positive when applied to non-sufferer. It is estimated 0.5% of the population are sufferes. \n",
    "\n",
    "Calculate the probability that the test will:\n",
    "\n",
    "1 Be positive\n",
    "    P(POSITIVE)= P(Sufferers) * P(Positive Tests) + P(Not Sufferer) * P(False Positive)\n",
    "    P(POSITIVE)= .005 * .98 + .995 * .1 = .1044 = 10.44%\n",
    "\n",
    "2 Correctly Diagnose a suffere of Thripshaw's\n",
    "    98% positive results?\n",
    "\n",
    "3 Correctly identify a non-sufferer of Thripshaw's\n",
    "   90% chance (10% probability of false positve - 100%)?\n",
    "\n",
    "4 Misclassify the person\n",
    "    ???\n"
   ]
  }
 ],
 "metadata": {
  "kernelspec": {
   "display_name": "Python 3",
   "language": "python",
   "name": "python3"
  },
  "language_info": {
   "codemirror_mode": {
    "name": "ipython",
    "version": 3
   },
   "file_extension": ".py",
   "mimetype": "text/x-python",
   "name": "python",
   "nbconvert_exporter": "python",
   "pygments_lexer": "ipython3",
   "version": "3.7.1"
  }
 },
 "nbformat": 4,
 "nbformat_minor": 2
}
