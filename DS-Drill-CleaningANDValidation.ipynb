{
 "cells": [
  {
   "cell_type": "code",
   "execution_count": 1,
   "metadata": {},
   "outputs": [],
   "source": [
    "import pandas as pd\n",
    "import numpy as np\n",
    "import matplotlib.pyplot as plt\n",
    "import seaborn as sns\n",
    "\n",
    "pd.options.display.max_rows = 3000\n",
    "%matplotlib inline"
   ]
  },
  {
   "cell_type": "code",
   "execution_count": 2,
   "metadata": {},
   "outputs": [],
   "source": [
    "#add encoding to load csv properly\n",
    "data= pd.read_csv('WELLCOME_APCspend2013_forThinkful.csv', encoding = \"ISO-8859-1\")\n",
    "j = data"
   ]
  },
  {
   "cell_type": "code",
   "execution_count": 3,
   "metadata": {},
   "outputs": [
    {
     "data": {
      "text/plain": [
       "['PMID/PMCID',\n",
       " 'Publisher',\n",
       " 'Journal title',\n",
       " 'Article title',\n",
       " 'COST (£) charged to Wellcome (inc VAT when charged)']"
      ]
     },
     "execution_count": 3,
     "metadata": {},
     "output_type": "execute_result"
    }
   ],
   "source": [
    "#the dataframe has columun names that will be hard to use\n",
    "list(j)"
   ]
  },
  {
   "cell_type": "code",
   "execution_count": 4,
   "metadata": {},
   "outputs": [
    {
     "data": {
      "text/plain": [
       "['pmid_pmcid', 'publisher', 'journal_title', 'article_title', 'cost']"
      ]
     },
     "execution_count": 4,
     "metadata": {},
     "output_type": "execute_result"
    }
   ],
   "source": [
    "#clean up column names for a more useable format\n",
    "j.columns = j.columns.str.strip().str.lower().str.replace(' ', '_').str.replace('(', '').str.replace(')', '').str.replace('/', '').str.replace('£', '')\n",
    "j= j.rename(columns = {'cost__charged_to_wellcome_inc_vat_when_charged':'cost', 'pmidpmcid': 'pmid_pmcid'})\n",
    "list(j)"
   ]
  },
  {
   "cell_type": "code",
   "execution_count": 5,
   "metadata": {},
   "outputs": [
    {
     "data": {
      "text/html": [
       "<div>\n",
       "<style scoped>\n",
       "    .dataframe tbody tr th:only-of-type {\n",
       "        vertical-align: middle;\n",
       "    }\n",
       "\n",
       "    .dataframe tbody tr th {\n",
       "        vertical-align: top;\n",
       "    }\n",
       "\n",
       "    .dataframe thead th {\n",
       "        text-align: right;\n",
       "    }\n",
       "</style>\n",
       "<table border=\"1\" class=\"dataframe\">\n",
       "  <thead>\n",
       "    <tr style=\"text-align: right;\">\n",
       "      <th></th>\n",
       "      <th>pmid_pmcid</th>\n",
       "      <th>publisher</th>\n",
       "      <th>journal_title</th>\n",
       "      <th>article_title</th>\n",
       "      <th>cost</th>\n",
       "    </tr>\n",
       "  </thead>\n",
       "  <tbody>\n",
       "    <tr>\n",
       "      <th>count</th>\n",
       "      <td>1928</td>\n",
       "      <td>2127</td>\n",
       "      <td>2126</td>\n",
       "      <td>2127</td>\n",
       "      <td>2127</td>\n",
       "    </tr>\n",
       "    <tr>\n",
       "      <th>unique</th>\n",
       "      <td>1880</td>\n",
       "      <td>299</td>\n",
       "      <td>984</td>\n",
       "      <td>2126</td>\n",
       "      <td>1402</td>\n",
       "    </tr>\n",
       "    <tr>\n",
       "      <th>top</th>\n",
       "      <td>Not yet available</td>\n",
       "      <td>Elsevier</td>\n",
       "      <td>PLoS One</td>\n",
       "      <td>Exclusive breastfeeding, diarrhoel morbidity a...</td>\n",
       "      <td>£2040.00</td>\n",
       "    </tr>\n",
       "    <tr>\n",
       "      <th>freq</th>\n",
       "      <td>7</td>\n",
       "      <td>387</td>\n",
       "      <td>92</td>\n",
       "      <td>2</td>\n",
       "      <td>94</td>\n",
       "    </tr>\n",
       "  </tbody>\n",
       "</table>\n",
       "</div>"
      ],
      "text/plain": [
       "               pmid_pmcid publisher journal_title  \\\n",
       "count                1928      2127          2126   \n",
       "unique               1880       299           984   \n",
       "top     Not yet available  Elsevier      PLoS One   \n",
       "freq                    7       387            92   \n",
       "\n",
       "                                            article_title      cost  \n",
       "count                                                2127      2127  \n",
       "unique                                               2126      1402  \n",
       "top     Exclusive breastfeeding, diarrhoel morbidity a...  £2040.00  \n",
       "freq                                                    2        94  "
      ]
     },
     "execution_count": 5,
     "metadata": {},
     "output_type": "execute_result"
    }
   ],
   "source": [
    "j.describe()"
   ]
  },
  {
   "cell_type": "code",
   "execution_count": 6,
   "metadata": {},
   "outputs": [],
   "source": [
    "#remove missing values (NaN)\n",
    "j.loc[j['journal_title'].isna(),'journal_title'] = 'Unknown'\n",
    "j.loc[j['pmid_pmcid'].isna(),'pmid_pmcid'] = 'Unknown'"
   ]
  },
  {
   "cell_type": "code",
   "execution_count": 7,
   "metadata": {},
   "outputs": [],
   "source": [
    "#removed the currecny symbols from cost and made sure it was numeric/float\n",
    "j['cost']=j.cost.str.replace('£','').str.replace('$', '')\n",
    "j['cost']=pd.to_numeric(j['cost'])"
   ]
  },
  {
   "cell_type": "code",
   "execution_count": 8,
   "metadata": {},
   "outputs": [],
   "source": [
    "#update journal_title column to lower case for cleaner results\n",
    "j['journal_title']=j.journal_title.str.lower().str.strip().str.replace('&', 'and').str.replace('.', '')"
   ]
  },
  {
   "cell_type": "code",
   "execution_count": 9,
   "metadata": {},
   "outputs": [
    {
     "data": {
      "text/plain": [
       "plos one                                                   190\n",
       "journal of biological chemistry                             53\n",
       "neuroimage                                                  29\n",
       "nucleic acids research                                      26\n",
       "plos genetics                                               24\n",
       "plos pathogens                                              24\n",
       "proceedings of the national academy of sciences             22\n",
       "plos neglected tropical diseases                            20\n",
       "human molecular genetics                                    19\n",
       "nature communications                                       19\n",
       "movement disorders                                          15\n",
       "brain                                                       14\n",
       "bmc public health                                           14\n",
       "journal of neuroscience                                     13\n",
       "developmental cell                                          12\n",
       "biochemical journal                                         12\n",
       "journal of general virology                                 11\n",
       "current biology                                             11\n",
       "bmj                                                         10\n",
       "malaria journal                                             10\n",
       "neuron                                                       9\n",
       "plos computational biology                                   9\n",
       "plosone                                                      9\n",
       "cell reports                                                 9\n",
       "development                                                  9\n",
       "bmj open                                                     9\n",
       "journal of virology                                          9\n",
       "hepatology                                                   8\n",
       "journal of physiology                                        8\n",
       "neurobiology of aging                                        8\n",
       "european journal of immunology                               8\n",
       "journal of structural biology                                8\n",
       "journal of clinical endocrinology and metabolism             8\n",
       "molecular microbiology                                       8\n",
       "proceedings of the royal society b: biological sciences      8\n",
       "journal of cell science                                      8\n",
       "cerebral cortex                                              7\n",
       "the journal of biological chemistry                          7\n",
       "journal of infectious diseases                               7\n",
       "social science and medicine                                  7\n",
       "blood                                                        7\n",
       "plos 1                                                       7\n",
       "structure                                                    7\n",
       "neuropsychologia                                             7\n",
       "elsevier                                                     7\n",
       "embo journal                                                 7\n",
       "journal of medicinal chemistry                               7\n",
       "faseb journal                                                7\n",
       "journal of neurology, neurosurgery and psychiatry            6\n",
       "tropical medicine and international health                   6\n",
       "cortex                                                       6\n",
       "j med chem                                                   6\n",
       "traffic                                                      6\n",
       "parasitology                                                 6\n",
       "cell cycle                                                   6\n",
       "journal of neurophysiology                                   6\n",
       "preventive medicine                                          6\n",
       "journal of the royal society interface                       6\n",
       "endocrinology                                                6\n",
       "pnas                                                         6\n",
       "Name: journal_title, dtype: int64"
      ]
     },
     "execution_count": 9,
     "metadata": {},
     "output_type": "execute_result"
    }
   ],
   "source": [
    "j.journal_title.value_counts().head(60)"
   ]
  },
  {
   "cell_type": "code",
   "execution_count": 10,
   "metadata": {},
   "outputs": [],
   "source": [
    "#clean-up some journal titles\n",
    "j.loc[j['journal_title'].str.startswith('acta'),'journal_title'] = 'acta' \n",
    "j.loc[j['journal_title'].str.contains('journal of biological checmistry'),'journal_title'] = 'journal of biological checmistry' \n",
    "j.loc[j['journal_title'].str.contains('antimicobial' and 'chemotherapy'), 'journal_title']= 'antimicobial agents and chemotherapy'\n",
    "j.loc[j['journal_title'].str.contains('pnas' or 'proceedings of the national academy of sciences' or 'proc natl acad sci u s a' ), 'journal_title']='proceedings of the national academy of sciences'\n",
    "j.loc[j['journal_title'].str.contains('embo'), 'journal_title']='embo'\n",
    "j.loc[j['journal_title'].str.contains('j med chem' or 'journal of medicinal chemistry'), 'journal_title']= 'journal of medicinal chemistry'\n",
    "j.loc[j['journal_title'].str.contains('journal of biol chem' or 'j biol chem' or 'j biol chemistry' or 'jnl biological chemistry' or 'journal of biological chemistry'), 'journal_title']='journal of biological chemistry'\n",
    "j.loc[j['journal_title'].str.contains('j infect dis' or 'journal of infectious diseases'), 'journal_title']='journal of infectious diseases'\n",
    "j.loc[j['journal_title'].str.contains('jaids' or 'journal of acquired immune deficiency syndromes' or 'journal of aids' or 'journal of acquired immune deficiency syndromes (jaids)'), 'journal_title'] = 'journal of acquired immune deficiency syndromes'\n",
    "j.loc[j['journal_title'].str.contains('neuroimage: clinical' or 'neuroimage' or 'neurolmage'), 'journal_title']= 'neuroimage'\n",
    "j.loc[j['journal_title'].str.contains('lancet'),'journal_title'] = 'lancet' \n",
    "j.loc[j['journal_title'].str.contains('tissue engineering: part a' or'tissue engineering'), 'journal_title']= 'tissue engineering'\n",
    "j.loc[j['journal_title'].str.contains('human mutation: variation, informatics, and disease'or'human mutation'), 'journal_title']= 'human mutation'\n"
   ]
  },
  {
   "cell_type": "code",
   "execution_count": 11,
   "metadata": {},
   "outputs": [],
   "source": [
    "#j.journal_title.value_counts().head(60)"
   ]
  },
  {
   "cell_type": "code",
   "execution_count": 12,
   "metadata": {},
   "outputs": [],
   "source": [
    "# clean up various mispelled words and characters in journal_title\n",
    "j['journal_title'] = j['journal_title'].str.replace('americal','american')\n",
    "j['journal_title'] = j['journal_title'].str.replace('biochem','biochemical')\n",
    "j['journal_title'] = j['journal_title'].str.replace('journals','journal')\n",
    "j['journal_title'] = j['journal_title'].str.replace('ophthalmology','opthalmology')\n",
    "j['journal_title'] = j['journal_title'].str.replace('part a','')\n",
    "j['journal_title'] = j['journal_title'].str.replace('jrn','journal')\n",
    "j['journal_title'] = j['journal_title'].str.replace('epidemology','epidemiology')\n",
    "j['journal_title'] = j['journal_title'].str.replace('heptology','hepatology')\n",
    "j['journal_title'] = j['journal_title'].str.replace(',','')\n",
    "j['journal_title'] = j['journal_title'].str.replace('sciences','science')\n",
    "j['journal_title'] = j['journal_title'].str.replace('experiements','experiments')\n",
    "j['journal_title'] = j['journal_title'].str.replace('expermiments','experiments')\n",
    "j['journal_title'] = j['journal_title'].str.replace('epidemiology','epidemiol')\n",
    "j['journal_title'] = j['journal_title'].str.replace('epidemiol','epidemiology')\n",
    "j['journal_title'] = j['journal_title'].str.replace('virology','virol')\n",
    "j['journal_title'] = j['journal_title'].str.replace('virol','virology')\n",
    "j['journal_title'] = j['journal_title'].str.replace('virological methods','virology')\n",
    "j['journal_title'] = j['journal_title'].str.replace('mol biol','molecular biology')\n",
    "j['journal_title'] = j['journal_title'].str.replace('molecular biology and evolution','molecular biology')\n",
    "j['journal_title'] = j['journal_title'].str.replace('.','')\n",
    "j['journal_title'] = j['journal_title'].str.replace('behaviour','behavior')\n",
    "j['journal_title'] = j['journal_title'].str.replace('opinions','opinion')\n",
    "j['journal_title'] = j['journal_title'].str.replace('psychiatty','psychiatry')\n",
    "j['journal_title'] = j['journal_title'].str.replace('mol ','molecular')\n",
    "j['journal_title'] = j['journal_title'].str.replace('am j ','american journal of ')\n",
    "j['journal_title'] = j['journal_title'].str.replace('int j ','international journal of ')\n",
    "j['journal_title'] = j['journal_title'].str.replace('visul ','visual')\n",
    "j['journal_title'] = j['journal_title'].str.replace('jnl ','journal')\n",
    "j['journal_title'] = j['journal_title'].str.replace('virology journal','virology')\n",
    "j['journal_title'] = j['journal_title'].str.replace('gentics','genetics')\n",
    "j['journal_title'] = j['journal_title'].str.replace('biological chemistry','biol chem')\n",
    "j['journal_title'] = j['journal_title'].str.replace('biol chem','biological chemistry')\n",
    "j['journal_title'] = j['journal_title'].str.replace('plosone','plos one')\n",
    "j['journal_title'] = j['journal_title'].str.replace('negected','neglected')"
   ]
  },
  {
   "cell_type": "code",
   "execution_count": 26,
   "metadata": {},
   "outputs": [],
   "source": [
    "#j.journal_title.value_counts().head(60)"
   ]
  },
  {
   "cell_type": "code",
   "execution_count": 25,
   "metadata": {},
   "outputs": [],
   "source": [
    "#j.journal_title.value_counts().sort_index(ascending=True)"
   ]
  },
  {
   "cell_type": "code",
   "execution_count": 15,
   "metadata": {},
   "outputs": [
    {
     "data": {
      "text/plain": [
       "count      2127.000000\n",
       "mean      24067.339972\n",
       "std      146860.665559\n",
       "min           0.000000\n",
       "25%        1280.000000\n",
       "50%        1884.010000\n",
       "75%        2321.305000\n",
       "max      999999.000000\n",
       "Name: cost, dtype: float64"
      ]
     },
     "execution_count": 15,
     "metadata": {},
     "output_type": "execute_result"
    }
   ],
   "source": [
    "j.cost.describe()"
   ]
  },
  {
   "cell_type": "code",
   "execution_count": 16,
   "metadata": {},
   "outputs": [],
   "source": [
    "#define cost mean and max to clean some outliers\n",
    "cost_mean =j.cost.mean()\n",
    "cost_median =j.cost.median()"
   ]
  },
  {
   "cell_type": "code",
   "execution_count": 17,
   "metadata": {},
   "outputs": [],
   "source": [
    "#define cost mean and max to clean some outliers\n",
    "cost_mean =j.cost.mean()\n",
    "cost_median =j.cost.median()\n",
    "cost_std =j.cost.std()\n",
    "cost_max= j.cost.max()"
   ]
  },
  {
   "cell_type": "code",
   "execution_count": 18,
   "metadata": {},
   "outputs": [],
   "source": [
    "#update high cost outliers with mean\n",
    "j.loc[j['cost'] == cost_max, 'cost'] = cost_mean"
   ]
  },
  {
   "cell_type": "code",
   "execution_count": 19,
   "metadata": {},
   "outputs": [
    {
     "data": {
      "text/plain": [
       "count      2127.000000\n",
       "mean       2502.324447\n",
       "std        6848.774881\n",
       "min           0.000000\n",
       "25%        1280.000000\n",
       "50%        1884.010000\n",
       "75%        2321.305000\n",
       "max      201024.000000\n",
       "Name: cost, dtype: float64"
      ]
     },
     "execution_count": 19,
     "metadata": {},
     "output_type": "execute_result"
    }
   ],
   "source": [
    "j.cost.describe()"
   ]
  },
  {
   "cell_type": "code",
   "execution_count": 20,
   "metadata": {},
   "outputs": [],
   "source": [
    "#clean additional outliers\n",
    "j.loc[j['cost'] > 6000, 'cost'] = 6000"
   ]
  },
  {
   "cell_type": "code",
   "execution_count": 21,
   "metadata": {},
   "outputs": [
    {
     "data": {
      "text/plain": [
       "count    2127.000000\n",
       "mean     1920.268039\n",
       "std       988.113310\n",
       "min         0.000000\n",
       "25%      1280.000000\n",
       "50%      1884.010000\n",
       "75%      2321.305000\n",
       "max      6000.000000\n",
       "Name: cost, dtype: float64"
      ]
     },
     "execution_count": 21,
     "metadata": {},
     "output_type": "execute_result"
    }
   ],
   "source": [
    "j.cost.describe()"
   ]
  },
  {
   "cell_type": "code",
   "execution_count": 22,
   "metadata": {},
   "outputs": [
    {
     "data": {
      "text/plain": [
       "''"
      ]
     },
     "execution_count": 22,
     "metadata": {},
     "output_type": "execute_result"
    },
    {
     "data": {
      "image/png": "[encoded data removed]",
      "text/plain": [
       "<Figure size 360x360 with 1 Axes>"
      ]
     },
     "metadata": {
      "needs_background": "light"
     },
     "output_type": "display_data"
    }
   ],
   "source": [
    "sns.catplot(x=\"cost\",\n",
    "            kind=\"box\", dodge=False, data=j)\n",
    "plt.title('cost per article')\n",
    ";"
   ]
  },
  {
   "cell_type": "code",
   "execution_count": 23,
   "metadata": {},
   "outputs": [
    {
     "data": {
      "image/png": "[encoded data removed]",
      "text/plain": [
       "<Figure size 432x288 with 1 Axes>"
      ]
     },
     "metadata": {
      "needs_background": "light"
     },
     "output_type": "display_data"
    },
    {
     "name": "stdout",
     "output_type": "stream",
     "text": [
      "avg cost:  24067.34\n",
      "median cost:  1884.01\n",
      "std of cost:  146860.67\n"
     ]
    }
   ],
   "source": [
    "plt.hist(j.cost, bins='auto')\n",
    "plt.title('Journal Costs')\n",
    "plt.xlabel('costs')\n",
    "plt.show()\n",
    "print(\"avg cost: \", round((cost_mean),2))\n",
    "print(\"median cost: \", round((cost_median),2))\n",
    "print(\"std of cost: \", round((cost_std),2));"
   ]
  },
  {
   "cell_type": "code",
   "execution_count": 24,
   "metadata": {},
   "outputs": [
    {
     "data": {
      "text/html": [
       "<div>\n",
       "<style scoped>\n",
       "    .dataframe tbody tr th:only-of-type {\n",
       "        vertical-align: middle;\n",
       "    }\n",
       "\n",
       "    .dataframe tbody tr th {\n",
       "        vertical-align: top;\n",
       "    }\n",
       "\n",
       "    .dataframe thead th {\n",
       "        text-align: right;\n",
       "    }\n",
       "</style>\n",
       "<table border=\"1\" class=\"dataframe\">\n",
       "  <thead>\n",
       "    <tr style=\"text-align: right;\">\n",
       "      <th></th>\n",
       "      <th>count</th>\n",
       "      <th>mean</th>\n",
       "      <th>std</th>\n",
       "      <th>min</th>\n",
       "      <th>25%</th>\n",
       "      <th>50%</th>\n",
       "      <th>75%</th>\n",
       "      <th>max</th>\n",
       "    </tr>\n",
       "    <tr>\n",
       "      <th>journal_title</th>\n",
       "      <th></th>\n",
       "      <th></th>\n",
       "      <th></th>\n",
       "      <th></th>\n",
       "      <th></th>\n",
       "      <th></th>\n",
       "      <th></th>\n",
       "      <th></th>\n",
       "    </tr>\n",
       "  </thead>\n",
       "  <tbody>\n",
       "    <tr>\n",
       "      <th>plos one</th>\n",
       "      <td>199.0</td>\n",
       "      <td>1161.117940</td>\n",
       "      <td>1073.382212</td>\n",
       "      <td>122.31</td>\n",
       "      <td>851.655</td>\n",
       "      <td>897.190</td>\n",
       "      <td>1044.6400</td>\n",
       "      <td>6000.00</td>\n",
       "    </tr>\n",
       "    <tr>\n",
       "      <th>journal of biological chemistry</th>\n",
       "      <td>54.0</td>\n",
       "      <td>1501.512407</td>\n",
       "      <td>744.875308</td>\n",
       "      <td>265.67</td>\n",
       "      <td>1151.130</td>\n",
       "      <td>1301.140</td>\n",
       "      <td>1610.1475</td>\n",
       "      <td>6000.00</td>\n",
       "    </tr>\n",
       "    <tr>\n",
       "      <th>neuroimage</th>\n",
       "      <td>34.0</td>\n",
       "      <td>2050.756176</td>\n",
       "      <td>472.211498</td>\n",
       "      <td>987.75</td>\n",
       "      <td>1762.690</td>\n",
       "      <td>2289.245</td>\n",
       "      <td>2395.7600</td>\n",
       "      <td>2503.34</td>\n",
       "    </tr>\n",
       "    <tr>\n",
       "      <th>proceedings of the national academy of science</th>\n",
       "      <td>31.0</td>\n",
       "      <td>954.984516</td>\n",
       "      <td>1016.195995</td>\n",
       "      <td>206.32</td>\n",
       "      <td>656.085</td>\n",
       "      <td>734.000</td>\n",
       "      <td>792.5100</td>\n",
       "      <td>6000.00</td>\n",
       "    </tr>\n",
       "    <tr>\n",
       "      <th>nucleic acids research</th>\n",
       "      <td>26.0</td>\n",
       "      <td>1149.000000</td>\n",
       "      <td>442.940447</td>\n",
       "      <td>710.00</td>\n",
       "      <td>852.000</td>\n",
       "      <td>852.000</td>\n",
       "      <td>1704.0000</td>\n",
       "      <td>2184.00</td>\n",
       "    </tr>\n",
       "  </tbody>\n",
       "</table>\n",
       "</div>"
      ],
      "text/plain": [
       "                                                count         mean  \\\n",
       "journal_title                                                        \n",
       "plos one                                        199.0  1161.117940   \n",
       "journal of biological chemistry                  54.0  1501.512407   \n",
       "neuroimage                                       34.0  2050.756176   \n",
       "proceedings of the national academy of science   31.0   954.984516   \n",
       "nucleic acids research                           26.0  1149.000000   \n",
       "\n",
       "                                                        std     min       25%  \\\n",
       "journal_title                                                                   \n",
       "plos one                                        1073.382212  122.31   851.655   \n",
       "journal of biological chemistry                  744.875308  265.67  1151.130   \n",
       "neuroimage                                       472.211498  987.75  1762.690   \n",
       "proceedings of the national academy of science  1016.195995  206.32   656.085   \n",
       "nucleic acids research                           442.940447  710.00   852.000   \n",
       "\n",
       "                                                     50%        75%      max  \n",
       "journal_title                                                                 \n",
       "plos one                                         897.190  1044.6400  6000.00  \n",
       "journal of biological chemistry                 1301.140  1610.1475  6000.00  \n",
       "neuroimage                                      2289.245  2395.7600  2503.34  \n",
       "proceedings of the national academy of science   734.000   792.5100  6000.00  \n",
       "nucleic acids research                           852.000  1704.0000  2184.00  "
      ]
     },
     "execution_count": 24,
     "metadata": {},
     "output_type": "execute_result"
    }
   ],
   "source": [
    "j.groupby(['journal_title'])['cost'].describe().sort_values(by='count', ascending=False).head(5)"
   ]
  }
 ],
 "metadata": {
  "kernelspec": {
   "display_name": "Python 3",
   "language": "python",
   "name": "python3"
  },
  "language_info": {
   "codemirror_mode": {
    "name": "ipython",
    "version": 3
   },
   "file_extension": ".py",
   "mimetype": "text/x-python",
   "name": "python",
   "nbconvert_exporter": "python",
   "pygments_lexer": "ipython3",
   "version": "3.7.1"
  }
 },
 "nbformat": 4,
 "nbformat_minor": 2
}
