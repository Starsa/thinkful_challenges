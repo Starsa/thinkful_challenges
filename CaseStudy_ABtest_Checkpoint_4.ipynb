{
  "nbformat": 4,
  "nbformat_minor": 0,
  "metadata": {
    "colab": {
      "name": "CaseStudy-ABtest-Checkpoint-4.ipynb",
      "provenance": []
    },
    "kernelspec": {
      "name": "python3",
      "display_name": "Python 3"
    }
  },
  "cells": [
    {
      "cell_type": "markdown",
      "metadata": {
        "id": "09vJPFowE-cz",
        "colab_type": "text"
      },
      "source": [
        "## Assignment\n",
        "This data contains the results of an A/B test.\n",
        "\n",
        "For this analysis:\n",
        "\n",
        "*  Check for adequate sample sizes.\n",
        "*  Check for changes over time in results.\n",
        "*  Formally test for a significant difference in conversions between treatment and control groups."
      ]
    },
    {
      "cell_type": "code",
      "metadata": {
        "id": "U-lFof5VETjh",
        "colab_type": "code",
        "outputId": "5e2c59dd-3a75-49ea-a086-a4cf8f46d997",
        "colab": {
          "base_uri": "https://localhost:8080/",
          "height": 71
        }
      },
      "source": [
        "#import libraries\n",
        "import pandas as pd\n",
        "import numpy as np\n",
        "import seaborn as sns\n",
        "import matplotlib.pyplot as plt\n",
        "from scipy import stats"
      ],
      "execution_count": 0,
      "outputs": [
        {
          "output_type": "stream",
          "text": [
            "/usr/local/lib/python3.6/dist-packages/statsmodels/tools/_testing.py:19: FutureWarning: pandas.util.testing is deprecated. Use the functions in the public API at pandas.testing instead.\n",
            "  import pandas.util.testing as tm\n"
          ],
          "name": "stderr"
        }
      ]
    },
    {
      "cell_type": "code",
      "metadata": {
        "id": "wDajpq8vEhjH",
        "colab_type": "code",
        "colab": {}
      },
      "source": [
        "#load dataset\n",
        "data = pd.read_csv('https://tf-assets-prod.s3.amazonaws.com/tf-curric/data-science/ab_edited.csv')"
      ],
      "execution_count": 0,
      "outputs": []
    },
    {
      "cell_type": "code",
      "metadata": {
        "id": "DE5MRDsyEqFV",
        "colab_type": "code",
        "outputId": "19b59fa5-605e-4cb0-c139-03d8a9a923d8",
        "colab": {
          "base_uri": "https://localhost:8080/",
          "height": 408
        }
      },
      "source": [
        "#review data\n",
        "data.info()\n",
        "data.head()"
      ],
      "execution_count": 0,
      "outputs": [
        {
          "output_type": "stream",
          "text": [
            "<class 'pandas.core.frame.DataFrame'>\n",
            "RangeIndex: 290585 entries, 0 to 290584\n",
            "Data columns (total 5 columns):\n",
            " #   Column        Non-Null Count   Dtype \n",
            "---  ------        --------------   ----- \n",
            " 0   user_id       290585 non-null  int64 \n",
            " 1   timestamp     290585 non-null  object\n",
            " 2   group         290585 non-null  object\n",
            " 3   landing_page  290585 non-null  object\n",
            " 4   converted     290585 non-null  int64 \n",
            "dtypes: int64(2), object(3)\n",
            "memory usage: 11.1+ MB\n"
          ],
          "name": "stdout"
        },
        {
          "output_type": "execute_result",
          "data": {
            "text/html": [
              "<div>\n",
              "<style scoped>\n",
              "    .dataframe tbody tr th:only-of-type {\n",
              "        vertical-align: middle;\n",
              "    }\n",
              "\n",
              "    .dataframe tbody tr th {\n",
              "        vertical-align: top;\n",
              "    }\n",
              "\n",
              "    .dataframe thead th {\n",
              "        text-align: right;\n",
              "    }\n",
              "</style>\n",
              "<table border=\"1\" class=\"dataframe\">\n",
              "  <thead>\n",
              "    <tr style=\"text-align: right;\">\n",
              "      <th></th>\n",
              "      <th>user_id</th>\n",
              "      <th>timestamp</th>\n",
              "      <th>group</th>\n",
              "      <th>landing_page</th>\n",
              "      <th>converted</th>\n",
              "    </tr>\n",
              "  </thead>\n",
              "  <tbody>\n",
              "    <tr>\n",
              "      <th>0</th>\n",
              "      <td>851104</td>\n",
              "      <td>2017-01-21 22:11:48.556739</td>\n",
              "      <td>control</td>\n",
              "      <td>old_page</td>\n",
              "      <td>0</td>\n",
              "    </tr>\n",
              "    <tr>\n",
              "      <th>1</th>\n",
              "      <td>804228</td>\n",
              "      <td>2017-01-12 08:01:45.159739</td>\n",
              "      <td>control</td>\n",
              "      <td>old_page</td>\n",
              "      <td>0</td>\n",
              "    </tr>\n",
              "    <tr>\n",
              "      <th>2</th>\n",
              "      <td>661590</td>\n",
              "      <td>2017-01-11 16:55:06.154213</td>\n",
              "      <td>treatment</td>\n",
              "      <td>new_page</td>\n",
              "      <td>0</td>\n",
              "    </tr>\n",
              "    <tr>\n",
              "      <th>3</th>\n",
              "      <td>853541</td>\n",
              "      <td>2017-01-08 18:28:03.143765</td>\n",
              "      <td>treatment</td>\n",
              "      <td>new_page</td>\n",
              "      <td>0</td>\n",
              "    </tr>\n",
              "    <tr>\n",
              "      <th>4</th>\n",
              "      <td>864975</td>\n",
              "      <td>2017-01-21 01:52:26.210827</td>\n",
              "      <td>control</td>\n",
              "      <td>old_page</td>\n",
              "      <td>1</td>\n",
              "    </tr>\n",
              "  </tbody>\n",
              "</table>\n",
              "</div>"
            ],
            "text/plain": [
              "   user_id                   timestamp      group landing_page  converted\n",
              "0   851104  2017-01-21 22:11:48.556739    control     old_page          0\n",
              "1   804228  2017-01-12 08:01:45.159739    control     old_page          0\n",
              "2   661590  2017-01-11 16:55:06.154213  treatment     new_page          0\n",
              "3   853541  2017-01-08 18:28:03.143765  treatment     new_page          0\n",
              "4   864975  2017-01-21 01:52:26.210827    control     old_page          1"
            ]
          },
          "metadata": {
            "tags": []
          },
          "execution_count": 3
        }
      ]
    },
    {
      "cell_type": "code",
      "metadata": {
        "id": "SIdy2dqJH5SO",
        "colab_type": "code",
        "outputId": "5116d056-2bbf-472d-84b9-cce75c6a80e3",
        "colab": {
          "base_uri": "https://localhost:8080/",
          "height": 221
        }
      },
      "source": [
        "data['date'] = pd.DatetimeIndex(data['timestamp']).date\n",
        "print(data.date.unique())"
      ],
      "execution_count": 0,
      "outputs": [
        {
          "output_type": "stream",
          "text": [
            "[datetime.date(2017, 1, 21) datetime.date(2017, 1, 12)\n",
            " datetime.date(2017, 1, 11) datetime.date(2017, 1, 8)\n",
            " datetime.date(2017, 1, 10) datetime.date(2017, 1, 19)\n",
            " datetime.date(2017, 1, 17) datetime.date(2017, 1, 4)\n",
            " datetime.date(2017, 1, 15) datetime.date(2017, 1, 18)\n",
            " datetime.date(2017, 1, 9) datetime.date(2017, 1, 22)\n",
            " datetime.date(2017, 1, 24) datetime.date(2017, 1, 23)\n",
            " datetime.date(2017, 1, 20) datetime.date(2017, 1, 5)\n",
            " datetime.date(2017, 1, 6) datetime.date(2017, 1, 13)\n",
            " datetime.date(2017, 1, 7) datetime.date(2017, 1, 3)\n",
            " datetime.date(2017, 1, 2) datetime.date(2017, 1, 16)\n",
            " datetime.date(2017, 1, 14)]\n"
          ],
          "name": "stdout"
        }
      ]
    },
    {
      "cell_type": "code",
      "metadata": {
        "id": "gJZ5z602EsJE",
        "colab_type": "code",
        "colab": {}
      },
      "source": [
        "control = data[data['group'] == 'control']\n",
        "treatment = data[data['group']== 'treatment']"
      ],
      "execution_count": 0,
      "outputs": []
    },
    {
      "cell_type": "code",
      "metadata": {
        "id": "bCFkqzTJFj7_",
        "colab_type": "code",
        "outputId": "626ff93b-35cd-4991-bb93-a2a2c69f0f44",
        "colab": {
          "base_uri": "https://localhost:8080/",
          "height": 102
        }
      },
      "source": [
        "print(\"Treatment Groupd: \", len(treatment))\n",
        "print(\"Control Group: \", len(control))\n",
        "print('Test proportion: ', data.converted.mean())\n",
        "\n",
        "print('Sign-up Rate Treatment: ', treatment.converted.mean())\n",
        "print('Sign-up Rate Control: ', control.converted.mean())\n"
      ],
      "execution_count": 0,
      "outputs": [
        {
          "output_type": "stream",
          "text": [
            "Treatment Groupd:  145311\n",
            "Control Group:  145274\n",
            "Test proportion:  0.11959667567149027\n",
            "Sign-up Rate Treatment:  0.11880724790277405\n",
            "Sign-up Rate Control:  0.1203863045004612\n"
          ],
          "name": "stdout"
        }
      ]
    },
    {
      "cell_type": "code",
      "metadata": {
        "id": "fh3pMonmHETI",
        "colab_type": "code",
        "outputId": "4a581722-d191-41e3-d20c-2ae4b73b2088",
        "colab": {
          "base_uri": "https://localhost:8080/",
          "height": 34
        }
      },
      "source": [
        "#perform t-test\n",
        "stats.ttest_ind(treatment.converted, control.converted)"
      ],
      "execution_count": 0,
      "outputs": [
        {
          "output_type": "execute_result",
          "data": {
            "text/plain": [
              "Ttest_indResult(statistic=-1.3116069027036805, pvalue=0.18965383906859376)"
            ]
          },
          "metadata": {
            "tags": []
          },
          "execution_count": 7
        }
      ]
    },
    {
      "cell_type": "markdown",
      "metadata": {
        "id": "sdiR9G1uFo-e",
        "colab_type": "text"
      },
      "source": [
        "The groups seems to be pretty evenly split"
      ]
    },
    {
      "cell_type": "code",
      "metadata": {
        "id": "5oIigmWCFixn",
        "colab_type": "code",
        "outputId": "81e37c50-a3cb-4800-92f3-bf7ae0508c1a",
        "colab": {
          "base_uri": "https://localhost:8080/",
          "height": 703
        }
      },
      "source": [
        "fig = treatment[['date', 'converted']].groupby('date').mean().plot()\n",
        "control[['date', 'converted']].groupby('date').mean().plot(ax=fig)\n",
        "\n",
        "plt.legend(['treatment','control'])\n",
        "plt.title('Comparing Conversion Rates by Treatment Date')\n",
        "plt.show()\n",
        "\n",
        "\n",
        "# Generate a test statistic comparing test and control on treatment date\n",
        "print('T-Test Results by Date')\n",
        "\n",
        "for day in data.date.unique():\n",
        "    dated_data = data[data.date == day]\n",
        "    print(stats.ttest_ind(dated_data[dated_data.group == 'treatment'].converted,\n",
        "                          dated_data[dated_data.group == 'control'].converted))"
      ],
      "execution_count": 0,
      "outputs": [
        {
          "output_type": "display_data",
          "data": {
            "image/png": "[encoded data removed]",
            "text/plain": [
              "<Figure size 432x288 with 1 Axes>"
            ]
          },
          "metadata": {
            "tags": [],
            "needs_background": "light"
          }
        },
        {
          "output_type": "stream",
          "text": [
            "T-Test Results by Date\n",
            "Ttest_indResult(statistic=-1.8123288054674913, pvalue=0.0699579338988825)\n",
            "Ttest_indResult(statistic=0.05182821974845549, pvalue=0.9586663564605943)\n",
            "Ttest_indResult(statistic=-0.6795024407954999, pvalue=0.49683133482307695)\n",
            "Ttest_indResult(statistic=0.33111903181744556, pvalue=0.7405597598504309)\n",
            "Ttest_indResult(statistic=2.3999515991310387, pvalue=0.01641085244784032)\n",
            "Ttest_indResult(statistic=-0.4836129647924235, pvalue=0.628668638020595)\n",
            "Ttest_indResult(statistic=0.7611804663738991, pvalue=0.446562930057432)\n",
            "Ttest_indResult(statistic=-0.9315635899845935, pvalue=0.3515792521983202)\n",
            "Ttest_indResult(statistic=-1.261388402374626, pvalue=0.20719113309271808)\n",
            "Ttest_indResult(statistic=-0.0026642818202597274, pvalue=0.9978742538059032)\n",
            "Ttest_indResult(statistic=-0.28071255594768935, pvalue=0.7789352633524722)\n",
            "Ttest_indResult(statistic=-0.2056136446252576, pvalue=0.837095874040602)\n",
            "Ttest_indResult(statistic=0.4909032980527966, pvalue=0.6235093367111435)\n",
            "Ttest_indResult(statistic=-0.8094922831773846, pvalue=0.41824647028626705)\n",
            "Ttest_indResult(statistic=0.4369071658956722, pvalue=0.6621858156795764)\n",
            "Ttest_indResult(statistic=-1.4468255388280735, pvalue=0.14797003344175097)\n",
            "Ttest_indResult(statistic=1.445201350915974, pvalue=0.14842480715695958)\n",
            "Ttest_indResult(statistic=-1.0178087858982594, pvalue=0.3087876929639064)\n",
            "Ttest_indResult(statistic=-0.8500557494800433, pvalue=0.3953094968293003)\n",
            "Ttest_indResult(statistic=-0.005102928348269819, pvalue=0.9959285470042827)\n",
            "Ttest_indResult(statistic=-0.6557398855583756, pvalue=0.5120179205036728)\n",
            "Ttest_indResult(statistic=-0.4678178596106672, pvalue=0.6399226098635871)\n",
            "Ttest_indResult(statistic=-1.311670708102873, pvalue=0.18965417024438827)\n"
          ],
          "name": "stdout"
        }
      ]
    },
    {
      "cell_type": "code",
      "metadata": {
        "id": "v2ZiekARHwFW",
        "colab_type": "code",
        "colab": {}
      },
      "source": [
        ""
      ],
      "execution_count": 0,
      "outputs": []
    }
  ]
}